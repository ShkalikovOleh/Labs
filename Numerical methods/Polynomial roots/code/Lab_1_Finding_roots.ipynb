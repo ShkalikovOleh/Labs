{
  "nbformat": 4,
  "nbformat_minor": 0,
  "metadata": {
    "colab": {
      "name": "Lab 1 Finding roots.ipynb",
      "provenance": [],
      "collapsed_sections": []
    },
    "kernelspec": {
      "name": "python3",
      "display_name": "Python 3"
    }
  },
  "cells": [
    {
      "cell_type": "markdown",
      "metadata": {
        "id": "o9_bBCRK-A_l"
      },
      "source": [
        "# Розв'язання нелінійних рівнянь\n",
        "Комп’ютерний практикум №1\n",
        "\n",
        "*Шкаліков Олег*"
      ]
    },
    {
      "cell_type": "code",
      "metadata": {
        "id": "cIU1v5JLABno"
      },
      "source": [
        "import numpy as np\n",
        "from numpy.polynomial.polynomial import Polynomial\n",
        "\n",
        "from matplotlib import pyplot as plt\n",
        "from matplotlib import animation\n",
        "\n",
        "from IPython.display import HTML"
      ],
      "execution_count": null,
      "outputs": []
    },
    {
      "cell_type": "markdown",
      "metadata": {
        "id": "e0T9VjLF63jd"
      },
      "source": [
        "Основна задача даного лабораторного практикуму полягає у тому,\n",
        "щоб дослідити методи розв'язання нелінійних рівнянь:\n",
        "\n",
        "$$\n",
        "    f(x) = 0\n",
        "$$\n",
        ", де $f(x)$ - неперервна, та для деяких методів дифференційовна функція.\n",
        "Розв'язання даної задачі вимагає виконання 2 етапів:\n",
        "\n",
        "1. Відокремлення коренів - визначення проміжків $[a_i, b_i]$, у\n",
        "яких знаходиться лише 1 корінь.\n",
        "2. Уточнення кореня у кожному з проміжків, знайденних на попередному етапі.\n",
        "\n",
        "Для поліномів, тобто функції вигляду:\n",
        "$$  f(x) = \\sum\\limits_{i=0}^n a_n x^n = a_0 + a_1x + \\dots + a_nx^n $$\n",
        "задача значно спрощується, бо мають місце теореми, які дозволяють\n",
        "оцінити значення коренів рівняння та відділити їх.\n",
        "\n",
        "У 6 варіанті пропунується знайти корені наступного рівняння:\n",
        "\n",
        "$$ P(x) = 2x^3 - 4x^2 - x + 2 = 0 $$"
      ]
    },
    {
      "cell_type": "code",
      "metadata": {
        "id": "zwGlCtkcAe4G"
      },
      "source": [
        "poly = Polynomial([2,-1,-4,2])"
      ],
      "execution_count": null,
      "outputs": []
    },
    {
      "cell_type": "markdown",
      "metadata": {
        "id": "Tjtn_L2399Wg"
      },
      "source": [
        "## Відокремлення коренів"
      ]
    },
    {
      "cell_type": "markdown",
      "metadata": {
        "id": "vBABd74q9JrB"
      },
      "source": [
        "**Теорема** (про границі усіх коренів рівняння)\n",
        "\n",
        "Нехай $A = \\max |a_i|, i = \\overline{0, n-1}$ та\n",
        "$A = \\max |a_i|, i = \\overline{1, n}$.\n",
        "Тоді всі корені рівняння лежать у кільці:\n",
        "\n",
        "$$ \\frac{|a_0|}{B + |a_0|} \\leq |x| \\leq \\frac{|a_n|+A}{|a_n|} $$"
      ]
    },
    {
      "cell_type": "code",
      "metadata": {
        "id": "ksl--BoiHwkX"
      },
      "source": [
        "def roots_module_bounds(polynomial):\n",
        "    coeffs = polynomial.coef\n",
        "\n",
        "    A = np.max(np.abs(coeffs[:-1]))\n",
        "    B = np.max(np.abs(coeffs[1:]))\n",
        "    a0 = np.abs(coeffs[0])\n",
        "    an = np.abs(coeffs[-1])\n",
        "\n",
        "    return a0 / (B + a0), (an + A) / an"
      ],
      "execution_count": null,
      "outputs": []
    },
    {
      "cell_type": "code",
      "metadata": {
        "colab": {
          "base_uri": "https://localhost:8080/"
        },
        "id": "UxsmDFLi5yQh",
        "outputId": "835b00f9-1f0e-4b4a-d903-dd3482feb68c"
      },
      "source": [
        "roots_module_bounds(poly)"
      ],
      "execution_count": null,
      "outputs": [
        {
          "output_type": "execute_result",
          "data": {
            "text/plain": [
              "(0.3333333333333333, 3.0)"
            ]
          },
          "metadata": {
            "tags": []
          },
          "execution_count": 4
        }
      ]
    },
    {
      "cell_type": "markdown",
      "metadata": {
        "id": "ECJUPDUD8rgy"
      },
      "source": [
        "**Теорема** (Гюа)\n",
        "Якщо\n",
        "$ \\exists k \\in \\overline{1, n-1} \\; : a^2_k < a_{k-1} a_{k+1} $\n",
        ",то рівняння має хоча б одну пару комплексноспряжених коренів."
      ]
    },
    {
      "cell_type": "code",
      "metadata": {
        "id": "fdD2G8C-EP_I"
      },
      "source": [
        "def is_gua_satisfied(polynomial):\n",
        "    coeffs = polynomial.coef    \n",
        "        \n",
        "    for i in range(1, len(coeffs)-1):\n",
        "        if coeffs[i]**2 < coeffs[i-1] * coeffs[i+1]:\n",
        "            return True\n",
        "\n",
        "    return False"
      ],
      "execution_count": null,
      "outputs": []
    },
    {
      "cell_type": "code",
      "metadata": {
        "colab": {
          "base_uri": "https://localhost:8080/"
        },
        "id": "vqYHWObh9eSN",
        "outputId": "bac69f6d-7940-49f4-befc-bd6f46dccdce"
      },
      "source": [
        "is_gua_satisfied(poly)"
      ],
      "execution_count": null,
      "outputs": [
        {
          "output_type": "execute_result",
          "data": {
            "text/plain": [
              "False"
            ]
          },
          "metadata": {
            "tags": []
          },
          "execution_count": 6
        }
      ]
    },
    {
      "cell_type": "markdown",
      "metadata": {
        "id": "iHGU_zK18yT-"
      },
      "source": [
        "**Теорема** (про верхню межу додатніх коренів)\n",
        "\n",
        "Нехай $B = \\max |a_i|, a_i < 0$ та\n",
        "$m = \\max i, a_i < 0 $.\n",
        "Тоді верхня межа додатніх коренів рівняння:\n",
        "\n",
        "$$ R = 1 + \\sqrt[n-m]{\\frac{B}{a_n}} $$\n",
        "\n",
        "Очевидно що, якщо обрахувати значення $R_1$, $R_2$, $R_3$ та $R_4$,\n",
        "вважаючи за аргумент вирази $x$, $\\dfrac{1}{y}$, $-\\dfrac{1}{y}$, $-y$, то\n",
        "будуть мати місце наступні оцінки:\n",
        "\n",
        "$$\n",
        "    \\frac{1}{R_2} \\leq x^{+} \\leq R_1 \\hspace{1cm}\n",
        "    -R_4 \\leq x^{-} \\leq -\\frac{1}{R_3}\n",
        "$$"
      ]
    },
    {
      "cell_type": "code",
      "metadata": {
        "id": "9gmJ_IV9JGs_"
      },
      "source": [
        "def real_roots_bounds(polynomial):\n",
        "    coeff = polynomial.coef.copy()\n",
        "    deg = polynomial.degree()    \n",
        "\n",
        "    def lagrange_bound(coeffs):\n",
        "        if coeffs[-1] < 0:\n",
        "            coeffs = -coeffs\n",
        "        n = len(coeffs) - 1               \n",
        "\n",
        "        for i, c in enumerate(coeffs[::-1]):\n",
        "            if c < 0:\n",
        "                m = n - i\n",
        "                break               \n",
        "        \n",
        "        B = np.max(-coeffs)\n",
        "        return 1 + (B/coeffs[-1])**(1/(n-m))\n",
        "    \n",
        "    pos_upper = lagrange_bound(coeff)\n",
        "    pos_lower = 1 / lagrange_bound(coeff[::-1])\n",
        "    \n",
        "    neg_ind = range(0, deg, 2)\n",
        "    neg_coeffs = coeff\n",
        "    neg_coeffs[neg_ind] = -coeff[neg_ind]    \n",
        "    neg_lower = -lagrange_bound(neg_coeffs)\n",
        "    neg_upper = -1 / lagrange_bound(neg_coeffs[::-1])\n",
        "    \n",
        "    return neg_lower, neg_upper, pos_lower, pos_upper"
      ],
      "execution_count": null,
      "outputs": []
    },
    {
      "cell_type": "code",
      "metadata": {
        "colab": {
          "base_uri": "https://localhost:8080/"
        },
        "id": "QkSLNNhvPr4w",
        "outputId": "b218dbe5-c61d-4bae-fb92-56d12a0ce0f7"
      },
      "source": [
        "real_roots_bounds(poly)"
      ],
      "execution_count": null,
      "outputs": [
        {
          "output_type": "execute_result",
          "data": {
            "text/plain": [
              "(-2.0, -0.4142135623730951, 0.3333333333333333, 3.0)"
            ]
          },
          "metadata": {
            "tags": []
          },
          "execution_count": 8
        }
      ]
    },
    {
      "cell_type": "markdown",
      "metadata": {
        "id": "qWMg-AWh4ybg"
      },
      "source": [
        "**Наслідок** (Спосіб Лагранжа)\n",
        "\n",
        "Нехай $f(x) = F(x) + H(x)$, причому $F(x)$ містить усі поспіль старші члени $f$ з $a_i > 0$, а також усі члени, для яких $a_i < 0$, а $H(x)$ усі інші члени. Тоді, якщо існує таке $\\alpha>0$, що $F(\\alpha) > 0$, то для коренів $x_r$ рівняння $f$ виконується: $x_r < \\alpha$"
      ]
    },
    {
      "cell_type": "code",
      "metadata": {
        "id": "nQrswv0z47Kw"
      },
      "source": [
        "def lagrange(polynomial):\n",
        "    coeffs = polynomial.coef\n",
        "    mask = coeffs > 0\n",
        "    for i, c in enumerate(mask[::-1]):\n",
        "        if c == True:\n",
        "            mask[coeffs.shape[0] - i - 1] = False\n",
        "        else:\n",
        "            break\n",
        "    H_coeffs = np.zeros(coeffs.shape)\n",
        "    H_coeffs[mask] = coeffs[mask]    \n",
        "    H = Polynomial(H_coeffs)\n",
        "\n",
        "    F_coeffs = coeffs.copy()\n",
        "    F_coeffs[mask] = 0\n",
        "    F = Polynomial(F_coeffs)\n",
        "    return F, H"
      ],
      "execution_count": null,
      "outputs": []
    },
    {
      "cell_type": "code",
      "metadata": {
        "colab": {
          "base_uri": "https://localhost:8080/",
          "height": 77
        },
        "id": "n8ZtrnvR6mPr",
        "outputId": "f05c5854-fd2b-4887-8761-fd35026baa11"
      },
      "source": [
        "F, H = lagrange(poly)\n",
        "display(F)\n",
        "display(H)\n",
        "\n",
        "F(2.5)"
      ],
      "execution_count": null,
      "outputs": [
        {
          "output_type": "display_data",
          "data": {
            "text/latex": "$x \\mapsto \\color{LightGray}{\\text{0.0}} - \\text{1.0}\\,x - \\text{4.0}\\,x^{2} + \\text{2.0}\\,x^{3}$",
            "text/plain": [
              "Polynomial([ 0., -1., -4.,  2.], domain=[-1,  1], window=[-1,  1])"
            ]
          },
          "metadata": {
            "tags": []
          }
        },
        {
          "output_type": "display_data",
          "data": {
            "text/latex": "$x \\mapsto \\text{2.0}\\color{LightGray}{ + \\text{0.0}\\,x}\\color{LightGray}{ + \\text{0.0}\\,x^{2}}\\color{LightGray}{ + \\text{0.0}\\,x^{3}}$",
            "text/plain": [
              "Polynomial([2., 0., 0., 0.], domain=[-1,  1], window=[-1,  1])"
            ]
          },
          "metadata": {
            "tags": []
          }
        },
        {
          "output_type": "execute_result",
          "data": {
            "text/plain": [
              "3.75"
            ]
          },
          "metadata": {
            "tags": []
          },
          "execution_count": 10
        }
      ]
    },
    {
      "cell_type": "markdown",
      "metadata": {
        "id": "zHO32157838L"
      },
      "source": [
        "**Теорема** (Штурма)\n",
        "\n",
        "Нехай $f(x) = P_n(x)$ поліном без кратних коренів. Утворимо послідовність\n",
        "многочленів:\n",
        "\n",
        "$$\n",
        "    p_0(x) = f(x) \\hspace{1cm}\n",
        "    p_1(x) = f^{'}(x) \\hspace{1cm}\n",
        "    p_{i+1} = - (p_{i-1} \\mod{p_i})\n",
        "$$\n",
        "\n",
        "Тоді кількість дійсних коренів полінома $f(x)$ на довільному відрізку $[a, b]$\n",
        "дорівнює різниці між кількістю змін знаку у цій послідовності при $x=a$ та $x=b$.\n",
        "\n",
        "**Наслідок**\n",
        "\n",
        "Всі корені рівняння $f(х)=0$ є дійсними тоді і тільки тоді, коли\n",
        "1. Коли система поліномів Штурма має максимальну кількість елементів.\n",
        "2. Виконано нерівність $p_k (\\infty)>0$ для всіх $k$"
      ]
    },
    {
      "cell_type": "code",
      "metadata": {
        "id": "O-ecwx5j-74r"
      },
      "source": [
        "def sturm_seq(polynomial):\n",
        "    series = []\n",
        "    series.append(polynomial)\n",
        "    series.append(polynomial.deriv())\n",
        "\n",
        "    while series[-1].degree() > 0:\n",
        "        pk = -(series[-2] % series[-1])\n",
        "        series.append(pk)\n",
        "\n",
        "    return series"
      ],
      "execution_count": null,
      "outputs": []
    },
    {
      "cell_type": "code",
      "metadata": {
        "id": "BYZlZp9u_rHU"
      },
      "source": [
        "def calculate_sign_change(sturm_series, x):\n",
        "    p_values = [p(x) for p in sturm_series]\n",
        "    counter = 0\n",
        "\n",
        "    for i in range(1, len(p_values)):\n",
        "        if p_values[i]*p_values[i-1] < 0:\n",
        "            counter += 1\n",
        "\n",
        "    return counter"
      ],
      "execution_count": null,
      "outputs": []
    },
    {
      "cell_type": "code",
      "metadata": {
        "id": "A9ROdPq9CLoz"
      },
      "source": [
        "def calculate_roots(polynomial, a, b):\n",
        "    assert a < b\n",
        "    st_seq = sturm_seq(polynomial)\n",
        "    schg_a = calculate_sign_change(st_seq, a)\n",
        "    schg_b = calculate_sign_change(st_seq, b)\n",
        "    return np.abs(schg_a - schg_b)"
      ],
      "execution_count": null,
      "outputs": []
    },
    {
      "cell_type": "markdown",
      "metadata": {
        "id": "oZB7KpQy2z5P"
      },
      "source": [
        "Побудуємо послідовність Штурма для нашого полінома."
      ]
    },
    {
      "cell_type": "code",
      "metadata": {
        "colab": {
          "base_uri": "https://localhost:8080/",
          "height": 102
        },
        "id": "NmsN-PE10ui2",
        "outputId": "dade9879-a48e-45c5-c606-545a2a7f0210"
      },
      "source": [
        "for p in sturm_seq(poly):     \n",
        "    display(p)"
      ],
      "execution_count": null,
      "outputs": [
        {
          "output_type": "display_data",
          "data": {
            "text/latex": "$x \\mapsto \\text{2.0} - \\text{1.0}\\,x - \\text{4.0}\\,x^{2} + \\text{2.0}\\,x^{3}$",
            "text/plain": [
              "Polynomial([ 2., -1., -4.,  2.], domain=[-1,  1], window=[-1,  1])"
            ]
          },
          "metadata": {
            "tags": []
          }
        },
        {
          "output_type": "display_data",
          "data": {
            "text/latex": "$x \\mapsto \\text{-1.0} - \\text{8.0}\\,x + \\text{6.0}\\,x^{2}$",
            "text/plain": [
              "Polynomial([-1., -8.,  6.], domain=[-1.,  1.], window=[-1.,  1.])"
            ]
          },
          "metadata": {
            "tags": []
          }
        },
        {
          "output_type": "display_data",
          "data": {
            "text/latex": "$x \\mapsto \\text{-1.7777777777777777} + \\text{2.4444444444444446}\\,x$",
            "text/plain": [
              "Polynomial([-1.77777778,  2.44444444], domain=[-1.,  1.], window=[-1.,  1.])"
            ]
          },
          "metadata": {
            "tags": []
          }
        },
        {
          "output_type": "display_data",
          "data": {
            "text/latex": "$x \\mapsto \\text{3.644628099173554}$",
            "text/plain": [
              "Polynomial([3.6446281], domain=[-1.,  1.], window=[-1.,  1.])"
            ]
          },
          "metadata": {
            "tags": []
          }
        }
      ]
    },
    {
      "cell_type": "markdown",
      "metadata": {
        "id": "IumfTWHZ276R"
      },
      "source": [
        "Отримали послідовність з максимальною кількістю елементів, причому \n",
        "$\\forall k \\in \\overline{0, 3} \\;\\;\\; p_k(\\infty)>0$. А отже, за наслідком з теореми Штурма, усі корені полінома дійсні. Тепер визначимо проміжки, на яких буде лише один корінь."
      ]
    },
    {
      "cell_type": "code",
      "metadata": {
        "colab": {
          "base_uri": "https://localhost:8080/"
        },
        "id": "jG3RMmdN9p70",
        "outputId": "ef0ea431-0e53-423c-e8c3-f530421877da"
      },
      "source": [
        "calculate_roots(poly, -2, -0.4)"
      ],
      "execution_count": null,
      "outputs": [
        {
          "output_type": "execute_result",
          "data": {
            "text/plain": [
              "1"
            ]
          },
          "metadata": {
            "tags": []
          },
          "execution_count": 15
        }
      ]
    },
    {
      "cell_type": "code",
      "metadata": {
        "colab": {
          "base_uri": "https://localhost:8080/"
        },
        "id": "LOfwDMa59t-8",
        "outputId": "f4e92d29-00c0-49b7-d69c-f32d0279abce"
      },
      "source": [
        "calculate_roots(poly, 0.3, 2.5)"
      ],
      "execution_count": null,
      "outputs": [
        {
          "output_type": "execute_result",
          "data": {
            "text/plain": [
              "2"
            ]
          },
          "metadata": {
            "tags": []
          },
          "execution_count": 16
        }
      ]
    },
    {
      "cell_type": "code",
      "metadata": {
        "colab": {
          "base_uri": "https://localhost:8080/"
        },
        "id": "51nvjNZh9x8m",
        "outputId": "4606cb6c-9881-464b-c0cb-5a99cb0f2e92"
      },
      "source": [
        "calculate_roots(poly, 0.3, 1.5)"
      ],
      "execution_count": null,
      "outputs": [
        {
          "output_type": "execute_result",
          "data": {
            "text/plain": [
              "1"
            ]
          },
          "metadata": {
            "tags": []
          },
          "execution_count": 17
        }
      ]
    },
    {
      "cell_type": "code",
      "metadata": {
        "colab": {
          "base_uri": "https://localhost:8080/"
        },
        "id": "J66QZC654J6C",
        "outputId": "12a543a9-0c95-4bf6-9180-201cf2fa93b0"
      },
      "source": [
        "calculate_roots(poly, 1.5, 2.5)"
      ],
      "execution_count": null,
      "outputs": [
        {
          "output_type": "execute_result",
          "data": {
            "text/plain": [
              "1"
            ]
          },
          "metadata": {
            "tags": []
          },
          "execution_count": 18
        }
      ]
    },
    {
      "cell_type": "markdown",
      "metadata": {
        "id": "00r3IyrO93mj"
      },
      "source": [
        "## Уточнення коренів"
      ]
    },
    {
      "cell_type": "code",
      "metadata": {
        "id": "pqcydPk0QMZR"
      },
      "source": [
        "def create_anim(hist):\n",
        "    def tick(i):\n",
        "        points.set_data(hist[i], poly(hist[i]))\n",
        "        text.set_text(i)\n",
        "        return points,\n",
        "    \n",
        "    return animation.FuncAnimation(fig, tick, frames=len(hist), interval=400)"
      ],
      "execution_count": null,
      "outputs": []
    },
    {
      "cell_type": "code",
      "metadata": {
        "colab": {
          "base_uri": "https://localhost:8080/",
          "height": 374
        },
        "id": "HZxVrIEDPrJz",
        "outputId": "59d51fce-3cdb-4ea2-be02-f83972c95b92"
      },
      "source": [
        "fig, ax = plt.subplots(figsize=(10, 6))\n",
        "t = np.linspace(-2, 3)\n",
        "ax.plot(t, poly(t))\n",
        "\n",
        "xnum = poly.roots()\n",
        "ax.plot(xnum, poly(xnum), 'X', c='red', markersize=10)\n",
        "plt.grid()\n",
        "\n",
        "text = ax.text(-2, 15,'', fontsize=18)\n",
        "points, = ax.plot([], [], 'o', markersize=8)"
      ],
      "execution_count": null,
      "outputs": [
        {
          "output_type": "display_data",
          "data": {
            "image/png": "[encoded data removed]",
            "text/plain": [
              "<Figure size 720x432 with 1 Axes>"
            ]
          },
          "metadata": {
            "tags": [],
            "needs_background": "light"
          }
        }
      ]
    },
    {
      "cell_type": "code",
      "metadata": {
        "id": "6blDks7EAuSU"
      },
      "source": [
        "def bisection(f, a, b, epsilon=10**-5):\n",
        "    assert f(a)*f(b) <= 0\n",
        "    assert epsilon > 0\n",
        "\n",
        "    range_hist = [(a, b)]\n",
        "    while not np.abs(b-a) <= epsilon:\n",
        "        c = (a + b) / 2\n",
        "        fc = f(c)\n",
        "        if fc * f(a) > 0:\n",
        "            a = c\n",
        "        else:\n",
        "            b = c\n",
        "        range_hist.append((a, b))\n",
        "    \n",
        "    c = (a + b) / 2\n",
        "    hist = np.asarray(range_hist)\n",
        "    return c, hist"
      ],
      "execution_count": null,
      "outputs": []
    },
    {
      "cell_type": "code",
      "metadata": {
        "colab": {
          "base_uri": "https://localhost:8080/"
        },
        "id": "707Zzge7_2vi",
        "outputId": "003802cf-91c8-44ea-b671-01f6baec48ec"
      },
      "source": [
        "x, hist = bisection(poly, -2, -0.4)\n",
        "print(f\"x = {x}\")"
      ],
      "execution_count": null,
      "outputs": [
        {
          "output_type": "stream",
          "text": [
            "x = -0.7071075439453125\n"
          ],
          "name": "stdout"
        }
      ]
    },
    {
      "cell_type": "code",
      "metadata": {
        "colab": {
          "base_uri": "https://localhost:8080/",
          "height": 453
        },
        "id": "Gs5D8Uc4RBHM",
        "outputId": "a8eff4c7-6536-40b8-9fbe-8d3c8f10a8be"
      },
      "source": [
        "HTML(create_anim(hist).to_html5_video())"
      ],
      "execution_count": null,
      "outputs": [
        {
          "output_type": "execute_result",
          "data": {
            "text/html": [
              "<video width=\"720\" height=\"432\" controls autoplay loop>\n",
              "  <source type=\"video/mp4\" src=\"data:video/mp4;base64,AAAAHGZ0eXBNNFYgAAACAGlzb21pc28yYXZjMQAAAAhmcmVlAAAt1W1kYXQAAAKtBgX//6ncRem9\n",
              "5tlIt5Ys2CDZI+7veDI2NCAtIGNvcmUgMTUyIHIyODU0IGU5YTU5MDMgLSBILjI2NC9NUEVHLTQg\n",
              "QVZDIGNvZGVjIC0gQ29weWxlZnQgMjAwMy0yMDE3IC0gaHR0cDovL3d3dy52aWRlb2xhbi5vcmcv\n",
              "eDI2NC5odG1sIC0gb3B0aW9uczogY2FiYWM9MSByZWY9MyBkZWJsb2NrPTE6MDowIGFuYWx5c2U9\n",
              "MHgzOjB4MTEzIG1lPWhleCBzdWJtZT03IHBzeT0xIHBzeV9yZD0xLjAwOjAuMDAgbWl4ZWRfcmVm\n",
              "PTEgbWVfcmFuZ2U9MTYgY2hyb21hX21lPTEgdHJlbGxpcz0xIDh4OGRjdD0xIGNxbT0wIGRlYWR6\n",
              "b25lPTIxLDExIGZhc3RfcHNraXA9MSBjaHJvbWFfcXBfb2Zmc2V0PS0yIHRocmVhZHM9MyBsb29r\n",
              "YWhlYWRfdGhyZWFkcz0xIHNsaWNlZF90aHJlYWRzPTAgbnI9MCBkZWNpbWF0ZT0xIGludGVybGFj\n",
              "ZWQ9MCBibHVyYXlfY29tcGF0PTAgY29uc3RyYWluZWRfaW50cmE9MCBiZnJhbWVzPTMgYl9weXJh\n",
              "bWlkPTIgYl9hZGFwdD0xIGJfYmlhcz0wIGRpcmVjdD0xIHdlaWdodGI9MSBvcGVuX2dvcD0wIHdl\n",
              "aWdodHA9MiBrZXlpbnQ9MjUwIGtleWludF9taW49MiBzY2VuZWN1dD00MCBpbnRyYV9yZWZyZXNo\n",
              "PTAgcmNfbG9va2FoZWFkPTQwIHJjPWNyZiBtYnRyZWU9MSBjcmY9MjMuMCBxY29tcD0wLjYwIHFw\n",
              "bWluPTAgcXBtYXg9NjkgcXBzdGVwPTQgaXBfcmF0aW89MS40MCBhcT0xOjEuMDAAgAAAHPRliIQA\n",
              "Fv/+99M/zLLr9zm146j3op4mX0N1JQGblsTtOoAAAAMAAAMAAAMA6USCYrovq4uMtAAAAwBTgAsw\n",
              "HfjjFD68ABW+sSx8j3IrdV+InUcrEMevlH4z/VzAlPz4zCxiDJKXHsP8YBf1Z/NGqyzX2JhprSVF\n",
              "baHzFG8OVQNLY+cxS0GQdVUdTMbJulrV4gSSqnFRcXz5PqEgYv6vCvAYJk0JTWATpJikJ8o+FZq7\n",
              "Sqa90fXgXH1qfLS2NFs6Vz/p2186fWBxDgzm10P9+vwIU27Tt4oz2TWsjuRQ23RND6lp4T55AM/U\n",
              "6sTOXdU+cuP6vJwwkpJfntVdpvtq8va7qBoB3Vo1GktOaqFS6LR2f4HbP5btTekMWhqOFQYWA/kI\n",
              "sY9x/lNwaAEuPaxdqVLae0sIgZijkWpZxnnCt5wIy9I0L+erDiAbvcyh3xBtcd8QSMle8lclQ5oJ\n",
              "9m8bf89K9sihIz+eFET+vd1CyLY74x055G4V8tGpYl6cK71WKp7B/wvM8i8/ykqRtwIwmM/KLXOl\n",
              "OEttBR/UZxjeFjr9DZQocn7LX8BmvAnlAgtB3WrNe1spMiEuhNyfDZ1KIqcoLGSfim4ciE7k4YMM\n",
              "oZZmIYmJZjH9exZRPLo6+L4UJLSF49y3LoBM8MEbC/tTbJYWgHnvc97F6qQTaa9AGdzdbgYaCcok\n",
              "efnxu1dKH0Fux5/C/ZM5fPdwZgvCOX+E96i6yuZkLOS3/+VW407G6T52HE8EyqPQiIh2MLI8AujF\n",
              "R411M30NZDzwc4MKL740q1EH9qIZZk8mkcpEJEPkcZrb7B2Vl+dg+Vn7K9GwLNvfSp2CsQAbmO8Q\n",
              "XjxOXe5JDzRTnBwy/D/qYujfVpdxTzbnykzy9lkQP8t10NvnAc2wUt9hc/+mw5aR9B/+gQnJhZFC\n",
              "1P0AI25Nzud2Xn48sbRSFY5Ynx8rXv3LVHW4qOFG13b0DkC4SXRnvkkqV68IzJa2ABAG0l7tMtWu\n",
              "WhKsY1OLfc8NgscBhsQCV4pjU0xVglA1KN//jjCdDtNFf1F4UGUi/NXEeUu4jxqZjWUMzCvaWkAO\n",
              "kvTphGKMhTk5VR55BXGeYZz3tV3uCQ+slXMj6uRBnhx9xjkSvefRe7/1xQnUwCLPhquZaRDcQbFi\n",
              "WA96x4tl/DCQXhqow6bTz1t5xCI55uIGXvbAEeniE19+0sXOU4tYw+lGEoE0nbkS6VTYKorNSQjb\n",
              "OAC4PLFmMz/lDzRUgZphSsP/8NG6yKvGQtAM3Rusm4Dfh5VeIpBbTmLlk+E9SuLl+Xbr6XnFIn2l\n",
              "X17/WAPsIX23ccn588znogE67LpLKKWty0KyBYgrqzD7hvGVhFWFwnVYO69FRrwbBoQWpFvRHfGv\n",
              "1SVK4252W8ldJxDEEI45PA7lwYvy5XV2eiUWKaUbhk/rPLdRReGol33TeLbzBAMv+Ju6yPb7l2Tl\n",
              "72Qw+7Zzlcbt1WVD1swGBFVw7ldPmTuxDWywVfEsA0eY/cx2OMQxxCWjnvu+pAv85Mivae2xjIHM\n",
              "a39ep7iAOHt2onjv/uCRDicI4i4z7D6RhVM+gVZl8qLvC2M8Ju5/IXPgt6e7U1kd2FgtCXfoO5Zd\n",
              "FwLSfk9Bz/Wrycvgq1ucj6TjTQAQ4ZoFelLuAuidirSgqSb2KY/dD8rw/Hi9rA+TvAU7Ohu8z3eT\n",
              "9OMp7eJs4P3lq3gNtKvU8FsKB0oRcpPpbh7Iv6dvH7YtTYHRPVlEuk6GaHD8KVw/qikfqg/p0xIA\n",
              "uKjaAk7BWU5Wch2Qj0c21m+Z45lbUA4bcB+8PhCWo1/wZQCLuV5OOAfxjr+dFApdik9nZhM/OGg1\n",
              "AhWV3RJhAFyLS4iJ1yx1wfNRwMx26m/Myui6UHzt9uJexme1RO7UPtKM/77iyXS5NvedUVAUnpd1\n",
              "e3zFW0ZSkHKsPGEF0ZLBj0kmsetROjdstwR+eO83feaRx3Y349PGYMI1yOic0+DfM7XnAP8AEydZ\n",
              "a6PwUcBGNiOvVlVx0ZgpaNSxEgCBnVRaZtxpzIwwU1RKo1TiYj721RC7QK0jqh3KrSWTUGD30+9h\n",
              "STfQlGEUcydl6kDc7M7UXAYFEb/UkucpnAFHI/gWwdQICdtBQ8RxXkqT5cw1J2tv37K8KA1rLtIm\n",
              "DA5yerjNSwG7Gz6bTeHPHRQ6Ane76/7/f9HrUXZKM7Sy8kZKk7Qg3MZXfOusAopYr0DeICf0112+\n",
              "Pel+MQE1vGVmjCGrtbz082CRXSmYxUPVqGaF7RTk/SGEiK9XGM9iAqV06s+3ntQIya7+Au1FeXrK\n",
              "EnG50wttLlF94RG3/LQAtnDBAq9i5wjIQV0mFFFh8K4gnTia45DokS9jPuq7Mn99ohpsYctmqaCu\n",
              "shsct8JvLTRglwgn9I1QjwVcZqCqFATp5GPYpBDSbyBANO95BupWRuIZ59IbCiu/0tViQDdcpTQt\n",
              "+F7Fsow1RBoK4PQV/mJujmOilGVRKAx75b4BzxYGJkpdPSk6Hs1nwtGhtPu2VUm+WUleKmbuOSST\n",
              "RbAoyDfW64n1KJFryeNxz128x16ASv2wf8T+XtMoOMTgfdlfAH9JWZ56/+LdOWWDXlniS3iXIk9Q\n",
              "MWEdWCYfE7SbAQNKykz7QQMKOXKDWBEDjTwwa4ZdxZHb+mrNGSuu1K+fuU20RP/46G3wmjtgg1op\n",
              "8vzrMtC867ocT1w/qp3DGA4Nj71zOB20Zf5Tdt5NB7ZyKHkXOZ8MQ3UW6064NKqigt8ZTq++QpeA\n",
              "tfHRbcwB/L8AXn1EYkXs2xX2P3r6m4T7wxiHQ6SoBHhblCIrgkuDdHFtwrFHkwzrR9w3MDHnkBP7\n",
              "DCc+dxQZFhUz/E5jycFDvKYHwF6KQ1QcTmQJMktuyxLkimadxp6vGhKflknGNTPBuyDIw3+X0+YQ\n",
              "Vw4Z/vaGULbsjlg2/B5htj4jLtsoDKS/iN7ZsFwK3vtVv54biRjdJTSLEkUblvBtdn4ZHfk6ruSR\n",
              "98KqGDuIrDMSa1nRVeGjV6qf5BJXSwuQXxzZLdkkCdq8N6pTl9suY0m8xj9ALfjysIi7l19zyEBR\n",
              "Ox1xOcOvtQCRynV3P7YeFBeR3Nf+BLiNBgj5cYPqTtOJfbIVjJdgdFHEaDPQSRR5+Toav4u3+sXr\n",
              "v/MD+XAFdgYDh1/ruYMyPvTDalOoFWbuudquOmrRs1Kj4HsfRqKhpviQ4Kam2kXpEHXONNLHkB8S\n",
              "qRYpoTV46uueJGIFPmzBQg8LoPnpqM+PBYQOw1CzjPl3sGKailpU0tryqs+2c2VGX7eRh4dxoyfI\n",
              "NUfzPag2jNme1M4/AcsVyhGxB2PzHmPKvpJ+g59a1m5myYd/T8KjCupsYm6Voc/CMeLCDqZ6U/O9\n",
              "Kz+0ZziuhlJu9yTeYmXT/046JipfNkF5Z0qdQ3xtFYrX1Kbdemi5XJ8953drz3C/nlU2VEIgyVJ+\n",
              "hIGuxvEB9pnZ/vpDJjL4v8ce69aQFVfAgjGZ4/R0Y0CvZWHyG8+XZvYikMnhH3pVOfkDKGopdy3K\n",
              "zPIHFSOJSdXdeAueWL7bx3g/V599+nPjIdZBTeYqcLgmtynDbZGni5eECp98FDqZ0FInuHXhinN9\n",
              "qfUf0cpWr2UgVnFNZ4kdQzlXfJlrhUDP0V+MQWIfmTp/+rOtVs80MVYl1UlEGqz7cgwb1n4tLz/Y\n",
              "xPRgcWrmN7QhFOJlsQfI1zUrF6qsdcjjRIlwxBbEkNtUYYn/lF6xLplz+z9AjJTr7YF3kkRr/DtL\n",
              "kFe0Wp0gV/50SzTnGj0qZwodVpzgpzvP8OTz5B7/Nt7CREtgjizvUrL6UzT+9YFveHsp8v63v1vp\n",
              "GBR0rZCwJYybwBLewa7hcYD+rbfM2F+vrCCNk5Y09eargik0F7I6uZ0/JR+YoUzOjTIJyJPylZ3C\n",
              "8jz9Bl21Gr1vJs1GAW19Y3QzCbfqGT7njK9xc86P/KTUICv3jKOxbvA+Vw3nzf2ImAlZC9iK5tQN\n",
              "PCynA9JxUt70U4vf+dCg5wGDKGSIQtL9hlgw9efjpSX4imsrO1ma60fbmfSrUSQOdrsCmxEI1Cyd\n",
              "14bFwaddJYBst2MxzIEob0uoPxzl7/v+J6z/LdoBqFgOq0XSlrlpB0occGmi+c8pM4BR+Vw6zzpj\n",
              "d/y4IOO7rFSfVIP7NrNb+j/Xdur47mH/F8RWix3hnzK7r25ZcqIdaWirmTLDS7bkN5ds1hu8mT+h\n",
              "HfaR6buKkNQGAxk9+L7VHwpJ037LP7KT5vOOFLReIoLf8O7XDYaxvUGlGovddXGz8dE749dVKNiu\n",
              "WZr6A+BYWlVpCRhgcNfz/APN52i0KGu4PuLYxZlxQYPxXA3pUSdK5k7cTOJSBVS80urJqgRxuuJn\n",
              "F5u5qU00PErGpmaGbMWUV5CIhQicAPh3Uy0vxtvtCtL/VseI6uyek3yZMGMIKmO8iDkYVR+gLGS+\n",
              "fau3D7evgq5Uh+Ly55wpWbyz03GzLRcDFxLPitdYv4ZOAuvpfO+NgSz5ETG/iHle4hhQ8/g3Mno2\n",
              "30RQQJhR05kLcwS+42AJj72v0lEW7K10/vJCCDy5UDvWmapusPiZXZ7gKWwfdwDVOta9lLB9zgES\n",
              "8s/ilnNIO+ZLhCkN1PFiX1XzLgno3QTguV9y+P4Jgwoo2+/CjzSdJCCjjWT5AebFnN5Q82RUwZ2u\n",
              "hRE1p/6hKYzTOEkUNJjRde6DDwvK7bCuIBM99UoL7isDtf3smIavuhVPkv+b1UzylLfbA4xuBBXN\n",
              "1+kx2mcofkUFsKkjpRTfsw8SgO2yXR5l9TLDtAXMhPM/GZ8Kg/RzQ1mNw4IB+1N4OQVwpzYjEFQV\n",
              "qQtNArpJq1oPvvZgOpQMuiSQw8KTURw7kimxkvtP9WacOM2nyQfa1VmUYgwcpFDUW7elVasHY6Yb\n",
              "mN8Vrtv542DsW+FDyZb9jCGvf73znA76jPfwavefAl1muRKfj5GtaJ91a/xqaFzGpXnr1Imj3U1/\n",
              "n4/3DIvWyy2NY1nDFvZuyY5mvgVdbUY7h3g+7epkutqUvX2zKSFwtleoixOXDKBN7dxCh6eO8/L7\n",
              "nMA/uktdtIgfnEz7BojyD2ZAL7aDp1sMScf6ZFE3Au7xhu55R0pO/zwxj9+goNieXrPgZo24j6g5\n",
              "6QZaSpmTzxUBiomC204T8BLll4kA3F7mUwQp6w0EWc4B11f8/YPyDUnQnIHBPrvoM/XBusXVxrC+\n",
              "6aFBCU5/xPOfC2mw3vnh6WQqDP1MBv3IITAVkxnsuoa6QVkNxQQX4eIfoZT+zOo30SHKEqrczwcp\n",
              "0r1Zw90tN0VR8d6M2T+f6cc0EgLlYMx7rHnhqK8n8EkK1HCn9UedtmY1Q2NrcAQQYtby+7KzCbP3\n",
              "AMITaHNJrB/EjOWX0082zAuNYCNXv/zrLMjqzsEEFcjbLTkPSQEvqoQkw3ERmrxgRdiFwc70cGyF\n",
              "fiN/Wn1bbUT28nOAHLpv7GbRHLoT7xY11v02Kcc0ROxVvZm25FWtis9HtHGEh8ip2hUDkv3vOoJf\n",
              "HzGZ18Ic1mNKLxYRRp6JU9AHgw38cGqDVrxps+Hhqlt8bikWKnHEBtf5b4nfWuUIDDEb7r8jxFvu\n",
              "ts4LhPw3V1Iy/bnZX+bRMUygbkoFIB/aNUPOYECekRjQjUVAjaAMdj424dwLJL4eTQq9TPA1hTT+\n",
              "Nk2TY43U0hnrvLYtF4zBjZIuHlyWLMuqW4gdyfPvG/rbjR7rG7Vmobe0+evbRmZZkur7ToD96vMN\n",
              "Ajv0zbSZ2b7Rl0gwelFFo+YdlMamYU9sj1WvUduZYz6O5/7Gy1lgzJ2+LPiH2dBcfK7jfqEdTTsc\n",
              "PiZ0iLMutj7+UZg3xD5vW0X/PNeTtwTEi3xEvRvjP7dPDAQ/nqPLepjdCSN1gcI+T1ds2GKEIjML\n",
              "/gTaWpyfO/ldDmBmweXIQB+05DZhy5K7BXgUBUNv3ZiMT94V4XAXnZ+V4Z1A0XTwFbkCSXg03/Tq\n",
              "D1LvT3PiEV/RIdsHQKNoVqc5Q0xtZQxL7YHid3Mg+xDnqf9WiPqIWPkHU6F/5Cag+BmS6DfEUe69\n",
              "nQCegc70DlMz5xcqQAAr3nqJDRxTY3ElQVIVOvUnYuyl+iQaciFs6xvcRl+1TrQD26ml/JLC+2R/\n",
              "168asxpscyfrywreYFUwxITVo2dTZvVsCpdA6IiNa1i5DvkW9sYKsQGkdhB4w2vQG57HzvAB6s+6\n",
              "nUI0IEDYUlsm1GfjE6RH4CeKksAxJBSZ6h7CPwH62XbmQNzQ+8oWnoi+aVPjbvA2zm4Ew7Bfi4rE\n",
              "sBJ6rfQJrlzCUkyaxDhEcDVBaKzsBOaMgN3GOgCzbXPcUUUbn1ILwaNXtdIaAIXUt44v7Je3kvuX\n",
              "Ln+Dudvo158J+QbHo+a16JAAVcMxtpvTnY99zTwu8/QoB6gQSuZ408Y6Tm9818QUQ985TzohwABw\n",
              "WifOseVUEFk5nnplH/AbkOtym/VwuGqYImOaLJ+ZbNCfth8MbTNyrRdaeKOXcNzQ9D1QgUArIr6B\n",
              "g8sOfJ/0RjGooKVEKrcyOr3sn07AgNBqagRrrKRxE2YXpbQh95omxNqitiHicwT23uVLQLWt3I2s\n",
              "JzLAUCmsHLYHdui/AUXzRloiW1qvUAdPhz1BGZzNh1jXyaqBr0bO668qfBosRCE6pW8Ccqa3zKQm\n",
              "3D/fp0UVxzrDhJOIMn/RQ0OrE6kFOcPC38YPRcVOo3EOPjtnGxBZ5OzagqFMy4HPLIW+nTQ6PRed\n",
              "reFug3r/Gd5k+gzN9lqqewf2DEyeD+DRA6rQMyrmdBQeXvb1YYhgSqPBr4pQM517mzixpg7LxpvZ\n",
              "mFCxCE83pVnKMsAEG9BeZ0hd8T8oaaEmXuSZogU0GLpzxrSvnVmDQzp9AKsOucLO7efSwGhOqPrc\n",
              "dbqq/10Wtw05C0m/frmVGTrTIC81UIGOTfGyKcTQnJTkCSRjjzCkZ4Zx4yGAhYFqCVMNNrORHtHs\n",
              "X2X/wFXwKpmPOqbdwOsfD8vjCcnGVfdSKI6/4TdZLcLuyG81zciyF8YDPHeYuVwJlNfEOf7zIAiQ\n",
              "nQUrHxQ4E1Z5l68IidoafnhoByvhuH5Q4S7JIwre/OUKeeseFvacmk20V067I7rD/hKoWcx0VYNC\n",
              "P75/JHNMSmgsGf6WzCjN0XMB7IA8awaRKkInFTQ1VGgF8MVFlpD2mjdxzQACuuEXGKgEUmyQjA3U\n",
              "p5h2Y8pudkcFj/R02OnwwgAAAwA8sr/qNJ3n237ZGh9dIZveNw8rJf2bWDadGb8stFgLjH26mjqU\n",
              "uLk/ThqA4V3n9u9N/teFC3xFWgUaIU+I6zLmXLqqMrfq8Qtm+Q6OnreB4lH9/MLZop6J8CjMho8E\n",
              "8mhpL371XSQtW9cQptW3Jgnntgug3dRFaHUmEn9zAi39rxo54oAZTc5RLP7gKaTCAWoPQgOx9YVR\n",
              "cVeA8NK2uP2CBMDG2uimDFffVOV9BDY1SdXoKk96rE094e8nt627jOcZ26/pzrFmUkYn0TB+P/Tk\n",
              "dSiKs6RNkl2r7C4bBfj9vUVSnWfBTLOxY81lnsChTaOH+ZJ6eJI5NLGODQLLlhgAEoyytdZACYLY\n",
              "0mytAg0q6ZzsDbKljX+4WZsDj4KxynehQCnXTmDF1mpaZwpA/71u1EAAjR7E44zMK6rTckyjNpZZ\n",
              "LbFuXts6fLsiHtfSLulaP+KFwVRi2Gz9zHFR2QKyu6cXgLrJHUxpVbUZrFRX8Fh3JZpnDAKU95wj\n",
              "4cFbnt+PaQAgDNGDDhlzBsg+STlzV0pKyOu+8LiRASgI1C3urHE0IiK2Fk8x/cWnvtvYln5ky5Xw\n",
              "Fqi/hSkTT1r3zHnrMsTWs+O80pprYzmZAwlEjtQP07EeXbRmBR+W5c0qaGWYdqD/ym3gKAqABsw1\n",
              "e8Qa2AWosc/p+vIJ0mygZb0w7bmAhOiTGIUAAwIfuzF5/vOclhcOy9V0uJB4qR5z+PHLiZ6nRu0v\n",
              "052CPQMIbq1/ye8DostSlN+xtqGPqtMmghddNd0mJvZjXGeWX2uyGmeM1DiS+X7BXYjKJviA3AsX\n",
              "HzEBq//yYYBa3/z6rBRaUy/2R28xNmxzQ8wDyEUc2wia2BU0D94mbffI1EoN8XDBfBC5Z3E4XBET\n",
              "wTVYSbThgRdsDPG2dwT7DeeHXfN52pr+S/+4590QHR7EapnfmdIivjuxCSxw8VPdFtD9ypkTsh7e\n",
              "txXStKZF5NzcXl/u4rSsQoAAGAhPmQ/riSbprVgUPKwkSBza/DGQXQ/AUBabycNPHQMYkapqchER\n",
              "rws3RT5BKOOaYNV5iQgjEu3xX1onN6ho6BSLvf6hOa0v5o2DASszU6grIKdyvn//ezpTpDHYOTCS\n",
              "eFffOc8RzHsArSPycyz2J6BGB29WJH/oYIAAAA+AxbUZ/UWTkWRVF0IRswGBEAZyjXIACkCLbR79\n",
              "PVCZ4kxxkXn8RN4DfrH6/IGk+MWl3jO2o15m3sM03HHUdmuka2Q7u3jc2l+ZK4tfvWZl9CGDtCdH\n",
              "JK/62GYToaguhy9o6+/xxuJ5GKk6YAxEc/13ZdwaXJAP3kVWTbrPFewJN9PharL98/0DC4wwX1GK\n",
              "uzfwILNVklsP6F8EaESuBa3ALZkjz2+Dbi1CT1VyctAStvxyby1mwm+0eix+QP3lcX96nIGrhiv6\n",
              "McU8A9V7rNmgdzMZofU3X1upUxOo5TYtVwtyO9hRxJwYMn/cIjUdwnDhU10FKMylQ81AAX0VUNjF\n",
              "+JBTAtVWCMxcv0lLCrfmAGkUQyiGQ8fmeEgrGWYKWC9eBPqDlPUwSk45jsMgFBRXsMBefrgk3zNQ\n",
              "3BYbPkI7/B7vDxIM7DNf+nyFQjwHPguQx3ZjNLDXFQgdKxdujhgWufbhTg5lMStGV6EX85SFylr8\n",
              "lEL3kEP3K8JeGVqoSCcyV2X95C+BUz7O7BgchCBdnxN+CmiuDaBcKpa+ZnswYngzt2iXXTJMHRzN\n",
              "n3667ywkWXd9N78nuNWDd4RN7+4Fh2PMEXNoezX+dSdJ6TEXR/mdTinVkfb7vW9PrgB0iWkTtXL1\n",
              "fgbUD1o7IhPv4TnlXf1BOhdXynTuNAYVrBdKD7hupVrwAqSYifxKtxROZjv0ZJY9c5miZjLAfQXq\n",
              "AtEpZ676dUXH0Y+VlApOxVmThtcduNpuqHPKO0zGfaP3EJrSJaRFVNnxNzAEv5Q+NGI036RZ9qx4\n",
              "PFccS4hJfOTMebJEgireJcHeX2trglKsdPiSo7tvRcudRj7NB//hMfKhmRZpUsVBqvrHOQ2o1xOn\n",
              "HdUozC43jLHtRHTfJ/IlsNKFcL5t6PT/TaMyeRw+VWD+0q3M9RxuJRRRPzYdsV78grgEBiGmeNXV\n",
              "S3U5er4cvCzluaU4zZmrF7AMphPz2FAkZpX6QZSfAkkUWef9IkHpoMSjbdY8N1MnrXzniVXRN1iV\n",
              "OkvYUQOWGPkGMZ2UPVmDHb4//eK4wegalyeCgrOnRXBxdWP0iDJ3uPnXQqP2KS2MprCybWIWW6an\n",
              "jX5iXohBw27EqeC/q6Xf5jA1D0KS8lydmUTFQ8Vf2PXv1d/r0i8CncomFG7Wxn1VYPa9/tnmMPbz\n",
              "ka5XgNTk4S/Se7o+R05e9zYxY76V/7XDLlCdDpwOY4IKFY+iE15hctriV/zGBmrTSZFI5FKzwjGW\n",
              "lKTcn0i3zDfvKzJY4NT+OzHcFz3heRQL+4+T7UQgTf8HJFjeZBTfGm84c8NNGW9J1ABKZdToynRu\n",
              "u8dbMZVgDtSnLxP7Gaz/37tQ+syEugDCsjzT3YnD/wiM5hOvZ0RRVJcN+5qmDDYrOHH9HpOlchWO\n",
              "p1TTY8XHdZR3WYL+oCOkOFi5rhyKcliJ/2ZCnvYp57hnpVD/zLRm2bJyxmZYKH0pWz9d33+1v4YS\n",
              "3/0WTHPSUVtizsNYH5+bBVJKCxFGyK9/UXAWIqUwNqMXJ8BgSSsiOQcvHgfH/VA0AAADAABQwQAA\n",
              "AuZBmiRsQW/+1qVQAGo2VnkAKzt2NvJq3fqaCwQOoJKu33GlaqhQY3KSSTbEDJqqjB7HBM6m6aly\n",
              "vtvNQJ0UlLnP6UuzP99S/FqvuTOMVA3IZ3yEtM/FV+tU243zvO8GFJcjRxb5JHSB1Ar+bd9oH5we\n",
              "LyCf4IQg4SlX4X3/Mg+PcILEow8w0Ge/tarLpJlquXiVcMLIeC6Ki1im1LZ3v0IM4IR7hx3iP/hP\n",
              "tN6H0GpB9VjslwXA7pV/SIx2z5bXcx6htbP4Bmzh37UzTLTwgEB2DtROvHSQV1cU/pEFXDmTZypY\n",
              "boNKaIsaWh1w+pnSXJNc5lIkPIUhQ4h/tpKM9bekptZP5xZOYVErxe/QZLsvp3y11JZZpSyc2GVa\n",
              "d+D06Izm6GNcpDAcaN+z/cSgDElwtgeCKwZo8cVxgOxAtYwNRsJE8IOYTA7JUsLUdmjBUifSfbz1\n",
              "tAxUXYEUrdzJ6goOgAc5ju5v1QBiUfeQDE3uexsnyBdfmKKnNbDqu5Y7sFdeWjD0QCisi5bevkWL\n",
              "yc+JXPa2WwLRh+AgsAyLPKIis/oI+JMQXV/SO6FVSXwd6FmEa/4VINoJob4qhAnSreN37d/kXhBI\n",
              "cKwymH7vcln72kQ0GMaD414bM189L7/073kWFv5+i7CpgkmyGVaLln0AIfzFSCIXy0BW+XeIS6N/\n",
              "KBsESdusIvEri1y+0YNCtCtZubLj+M1OlqzC6AVU2r3Gkld+1FOB3XAIca3g85AoUJ6cgHMSEfG+\n",
              "x9xRYXvRJCFMyuPfYC0raGp563AGm2gAjJ7tOhZCpJO4C7Tzmluwn7hdFIA2QzXVyrhq8NwyggVe\n",
              "1SAPnvFjadMnk5jj5JhwZCpMO1+KBI9lv/oM4YGSk6rN2AZZI2DWfNmRwZqrya2uhfFAktAPXJ+F\n",
              "a+r3ywpgSdPQSvSxHlgpVSLJuVFvSWwgijjLfyxUUpenAkQBuc4iRWQaDngNvalb+xBHEDWifkjL\n",
              "FamgAAAAoUGeQniCfwABD+HfXL6gyCzEzOAA5eA2LH6Mdad6ZBvJbSji26ba0SPoxYV9M7BCUa8R\n",
              "DC00btdqYExu5WtZQLTIrvINGBgUD/9DdDiKItv9ajXUWetDHCPEX7fo0Zo5ahB6M/T06XQKrRMu\n",
              "XSddolSHchrjOZlQOu/cs3iHbPtFHGLdwFb5z6LSGXIUwRP4gmXQ5eCToPhVugx4qB/1piXhAAAB\n",
              "AgGeYXRBLwAAfYIsTgKiq3uDf3WIKWADNwHg9pESmQgwhemPAfW+CUXy8vFiJ/ENkyogemJGPsAf\n",
              "78OVIPFPm/mU7C/tPcc3UvUYLKVWkQk4HB6ApSlW5Xah6lcP4KkNvwbcvFaGopwO0AqnEtWCM2h6\n",
              "x8YR7nX6QolXq5zKJ6Xwa1bKXSU5xan7E9tLblJi1hgbzogw0RYGE9KP0RQ3SZtPzmgXBZ/p1yvT\n",
              "2b81SN5I2nkgR1d4iXegs3dSbX40sIRkDxHMUX7JchWGe6aTi62ZLP8iPSCtJJ2NewX/SGzALi6f\n",
              "G1qifrnL9F3pmB7sTUXOATJnG+UZ+BJOMaPFnuRnwAAAARkBnmNqQS8AAH6jWlnbUgAhwmsQ7H66\n",
              "1uz/5tBOOv6voWJf1CIijOmZyb0/OWqhAQw/tPt2qLN6s9Vi65vCsfRAmER8/Waw2v0k6yfg5Km/\n",
              "pdOP6z0wYn6/dz/evS7VNYoRKupT6HEeJ7OmofxRhHaBYYWACtmBSIbayZsGTBmzysbgaiJdcgAR\n",
              "fShD7EEyLWqU0hHd6gSxlt+cf2TXYMWwxcz6Z6LW2lsQD9do0Cq8FlD1OArxScjzq77hw7VG7m5X\n",
              "fsHCmq5mWCgoLe05nxqcuIxGEqRtl9/vfEAJdrqHBqk/xHXTv6JBR+W9wlEHsXOAGAnYPO912Xg8\n",
              "ZxBzYT1v75cZNOiGXjea83yiGNjN1Q1MKiIMvAABWwAAARdBmmhJqEFomUwIK//+1qVQACEI7MzI\n",
              "GoN8giACoWNdNAy1T32/TUItnDR+JMgeiqaLAWeGg7tfPJlF5cQBrXZiIRftN/eyfr2qrqfHPmOg\n",
              "c48x1BZC2KR1fqlC9tpfsNN5hmmNl/D+gX3d/rGHtHdI/K8VTVKYrHhQWzGr1gwJ2hKLwmT6lDHJ\n",
              "8bq8iuQaRA7GmnzyvvRy+6wwWlcnusOp7/4j/wxwdCUckmoySl3eHE0glH+pYu1YHjNM8uNZwoyF\n",
              "RNbdZl00QXoIuNTHA7Wh4YLfsrBjdXdAlLrYRrHIn0ZuD/HOL7b6NNeKC5OhllgU78tEXetPrzKg\n",
              "Oq8OkilOqgC642CdRXC+VPnvmtFI2TAunIAAHdEAAACjQZ6GRREsE/8AAFZIZ9BYWs4ADdvf+ooA\n",
              "L0yj+Pvv36kIoo5tTJ1fBCMFLU0udYEgmRftWwuITWQ/u2CMYCu1LQS8/T+aqQoGfK1/KKOzzcJC\n",
              "rXaQwHn9Z2ys62EGEZy4QqF8+6RIQudzV2RgSqoqQcnpzpnk1Ppg+wlPeNjv1KtECgKMozOcuxMw\n",
              "qDeBYXl5mchY/0UHYMOPVuMy+AAAAwDVgQAAAMgBnqV0QS8AAH2CK71UMR2llFYAL0YUgCqU3edq\n",
              "p5G7e2rWM7ohcO5Y0u64q8Zdtmlbxc4huzyzTMct1z/or6dflK/qHDaqx9hx1jThuw7277gV2aI5\n",
              "USdQYWKJ8QB3zo9qT8icPvfEBMH7hW44oppE1d3Hp/aNkFotawfzckdElTgOUsvz3jo2vwlw0GgQ\n",
              "wR/JJPdSHe8ggF0l1vCIXiRnatnzpc4rl1KvG/x7jv2urbi335lcuQNjOQ6Am0DPtE28uYYIwgAB\n",
              "EwAAAG8BnqdqQS8AAH3ZNbe6288JVQAg5yy9uoUEBJuQiOgm7mHXv6sRmszFMv1ksPm9wgAnFWez\n",
              "pKJGrSyl+t86uMo0pHLjPkwEL3m8egMpcMWSSMAWtsKSH/Rr69Cyu0MO+fhcQgJg/Zsc7/0MQgAA\n",
              "d0AAAAD+QZqqSahBbJlMFEwV//7WpVAAaDrtAByEP0VE+bHozxtDQL/vTtZwUnPJkmP+fS/67PGk\n",
              "DQM+rd4V3ejMeFunOgSfwpG/f2ijXs2YrZEejGbKTHTYSstePDsJ14VHusGiQiAYCBTJklepir/c\n",
              "WnK4+lK42CNJELRa1X8pMmSNk2QnOwlVgi+SUMc5B6hMQ2ovDDEo9QxXBlt3v2ZtXimXciSn2Qf5\n",
              "NGXT1bjWkS2Ku/+PKRYDjeFeriQJMRF/19eHRPYTNptlyd6uWC9rMKTDt/04rDvzhBCh1/RdVo7e\n",
              "b7dkrScp1Qx+26d0dPu/y7Qx/z2t/SawzyD56EAAEzAAAABtAZ7JakEvAAB9UCx4bsX8BFFaOLcA\n",
              "A4fB/5Nmd1uW+/JWL3x3iaLOOBz6zccPlWKJ532xbXjtYJtToCSkYTcnn3QD2XR8Js/DpGE3cTI3\n",
              "Dgik3jLE9SiKikNl8OlW+g/+GuJ7AxYcLRW8IAABBwAAAMVBms5J4QpSZTAgp//+1oywAEIc+xAB\n",
              "LW/A2pp7ItlGry89NUfV9yz4WRkQJWO9bySKg4YnuR/2znK2Hw88onsrw95lXCAU3S0FC1EV8rue\n",
              "mgvD0m1rPA0bICynbjQO98FkBR3aUqa8Ux36eeVL6kUMPnCzralRVKleoDVePQ6gxviGGiyGloAg\n",
              "GJ7VA/sQBTwvfH2duACKMZHHY+o4tHjZwPLHNe9ceMIABOIVPoNU9w0e9NLb6EisWpdubtgF8u9l\n",
              "cAAE7AAAAItBnuxFNEwT/wAAWSeTezlzACWt50zJI18SZpxqwVmtKg12zuQvPG8JpVA27yLlpFhj\n",
              "2GmmLsJZHpdROIcFlfIXM7hA1fYNZmmRyYZRqpbIlJHnk/sRtFCWuv2OiEr8DssZVemlOsSsZ53a\n",
              "Tvb9bCJLIw13X+thAeFp96Lt/iDbinzO9+bvioSoAASMAAAAXgGfC3RBLwAAftT+2ADatpfs3bvy\n",
              "j9NUjJ70RkO81oapouqo4h3m6uD9ZIXFJBNj3iT0CFXCrrwbRPJO7Z+m67uXqoebCj6jPoPijSn3\n",
              "PDmvGklVfJW38PgUwAAAd0EAAABrAZ8NakEvAAB+rsJIACFUbZiRF121Zx0SCPf4oDOMRXf4Ontb\n",
              "DYi/IGDrQOg9KyUIm22LrFxuSRApO8dtu++lqm9TkEuL0MwwpvaoxvcyI/yatEzSZeKcw4IsUeNl\n",
              "f35hg6/vvxfy23AAAXEAAACIQZsSSahBaJlMCCX//rUqgAEAb3EABCK3I2ka1PkiBMdKCjiQUWkM\n",
              "p1J73DCHFJ63VzQsnByF/1JbxXuNGbhJOLXDO9PGiOSg/use3SMeBHX3DqNi+HZsnbm2qZ+FCmzG\n",
              "21uH6tDmmgH8p3jEwZ519l2T7e7zg28JUTLjBxD8p4DQYAAAAwBFwQAAAHNBnzBFESwT/wAAWSeT\n",
              "kKDOYAP5y/ESSKDHWz19KJ8XmV9dNfyU3aUHV1RtIGp5owH2/kHre8nmnH0Q/0/npsZxHaK/DhFj\n",
              "h6ao0k46pRlSs6IcHUvBvVox2w1f1Zb7++QxyfV2RrHRB+4VWS6lAAADABTQAAAAbQGfT3RBLwAA\n",
              "frkMnQAQ5v89zcnjOT+c2LaowfC4FeL24mkrr0H9aI2sMacgRreJUY89jQYacrTvgBJ31WNRwbrE\n",
              "z9n7JthQ2kW2aqLOtOOtyVvXm2wPorAuNTzOZdNFIxXifqrRXqAAAAMAyoAAAABdAZ9RakEvAAB+\n",
              "rsJIACEN/nubk8bX7NWoS9//2w1L/l4Buw36maYrRCrLrJ8VmOZUtHqoGvSi55AOCn+G/H+XzVbt\n",
              "/Pf55XLduKSJfoLSkbU+BVTPtXtfJ4AAAASdAAAEEm1vb3YAAABsbXZoZAAAAAAAAAAAAAAAAAAA\n",
              "A+gAAB2wAAEAAAEAAAAAAAAAAAAAAAABAAAAAAAAAAAAAAAAAAAAAQAAAAAAAAAAAAAAAAAAQAAA\n",
              "AAAAAAAAAAAAAAAAAAAAAAAAAAAAAAAAAAAAAAIAAAM8dHJhawAAAFx0a2hkAAAAAwAAAAAAAAAA\n",
              "AAAAAQAAAAAAAB2wAAAAAAAAAAAAAAAAAAAAAAABAAAAAAAAAAAAAAAAAAAAAQAAAAAAAAAAAAAA\n",
              "AAAAQAAAAALQAAABsAAAAAAAJGVkdHMAAAAcZWxzdAAAAAAAAAABAAAdsAAAIAAAAQAAAAACtG1k\n",
              "aWEAAAAgbWRoZAAAAAAAAAAAAAAAAAAAKAAAATAAVcQAAAAAAC1oZGxyAAAAAAAAAAB2aWRlAAAA\n",
              "AAAAAAAAAAAAVmlkZW9IYW5kbGVyAAAAAl9taW5mAAAAFHZtaGQAAAABAAAAAAAAAAAAAAAkZGlu\n",
              "ZgAAABxkcmVmAAAAAAAAAAEAAAAMdXJsIAAAAAEAAAIfc3RibAAAALNzdHNkAAAAAAAAAAEAAACj\n",
              "YXZjMQAAAAAAAAABAAAAAAAAAAAAAAAAAAAAAALQAbAASAAAAEgAAAAAAAAAAQAAAAAAAAAAAAAA\n",
              "AAAAAAAAAAAAAAAAAAAAAAAAAAAAABj//wAAADFhdmNDAWQAFv/hABhnZAAWrNlAtDehAAADAAIA\n",
              "AAMACg8WLZYBAAZo6+PLIsAAAAAcdXVpZGtoQPJfJE/FujmlG88DI/MAAAAAAAAAGHN0dHMAAAAA\n",
              "AAAAAQAAABMAABAAAAAAFHN0c3MAAAAAAAAAAQAAAAEAAACoY3R0cwAAAAAAAAATAAAAAQAAIAAA\n",
              "AAABAABQAAAAAAEAACAAAAAAAQAAAAAAAAABAAAQAAAAAAEAAFAAAAAAAQAAIAAAAAABAAAAAAAA\n",
              "AAEAABAAAAAAAQAAMAAAAAABAAAQAAAAAAEAAFAAAAAAAQAAIAAAAAABAAAAAAAAAAEAABAAAAAA\n",
              "AQAAUAAAAAABAAAgAAAAAAEAAAAAAAAAAQAAEAAAAAAcc3RzYwAAAAAAAAABAAAAAQAAABMAAAAB\n",
              "AAAAYHN0c3oAAAAAAAAAAAAAABMAAB+pAAAC6gAAAKUAAAEGAAABHQAAARsAAACnAAAAzAAAAHMA\n",
              "AAECAAAAcQAAAMkAAACPAAAAYgAAAG8AAACMAAAAdwAAAHEAAABhAAAAFHN0Y28AAAAAAAAAAQAA\n",
              "ACwAAABidWR0YQAAAFptZXRhAAAAAAAAACFoZGxyAAAAAAAAAABtZGlyYXBwbAAAAAAAAAAAAAAA\n",
              "AC1pbHN0AAAAJal0b28AAAAdZGF0YQAAAAEAAAAATGF2ZjU3LjgzLjEwMA==\n",
              "\">\n",
              "  Your browser does not support the video tag.\n",
              "</video>"
            ],
            "text/plain": [
              "<IPython.core.display.HTML object>"
            ]
          },
          "metadata": {
            "tags": []
          },
          "execution_count": 23
        }
      ]
    },
    {
      "cell_type": "code",
      "metadata": {
        "id": "ReyGVCawE9_f"
      },
      "source": [
        "def newton(f, x0, df, epsilon=10**-5, c=1):\n",
        "    assert epsilon > 0\n",
        "\n",
        "    xk = x0\n",
        "    fk = f(x0)\n",
        "    x_hist = [x0]\n",
        "\n",
        "    while not np.abs(fk) <= epsilon:\n",
        "        xk = xk - c * fk / df(xk)\n",
        "        fk = f(xk)\n",
        "        x_hist.append(xk)\n",
        "\n",
        "    return xk, np.asarray(x_hist)\n",
        "\n",
        "def df(f, x, delta=10**-6):\n",
        "    return (f(x + delta) - f(x))/delta"
      ],
      "execution_count": null,
      "outputs": []
    },
    {
      "cell_type": "code",
      "metadata": {
        "colab": {
          "base_uri": "https://localhost:8080/"
        },
        "id": "mRHDbC1BAIl0",
        "outputId": "84708f63-e8e8-42b8-c266-0e0f5d59aee8"
      },
      "source": [
        "x, hist = newton(poly, 0.3, lambda x: poly.deriv()(x))\n",
        "print(f\"x = {x}\")"
      ],
      "execution_count": null,
      "outputs": [
        {
          "output_type": "stream",
          "text": [
            "x = 0.7071067138532653\n"
          ],
          "name": "stdout"
        }
      ]
    },
    {
      "cell_type": "code",
      "metadata": {
        "colab": {
          "base_uri": "https://localhost:8080/",
          "height": 453
        },
        "id": "A9IqyB2lAQSj",
        "outputId": "8f8d0d26-0e65-4978-fc08-54701dd434d5"
      },
      "source": [
        "HTML(create_anim(hist).to_html5_video())"
      ],
      "execution_count": null,
      "outputs": [
        {
          "output_type": "execute_result",
          "data": {
            "text/html": [
              "<video width=\"720\" height=\"432\" controls autoplay loop>\n",
              "  <source type=\"video/mp4\" src=\"data:video/mp4;base64,AAAAHGZ0eXBNNFYgAAACAGlzb21pc28yYXZjMQAAAAhmcmVlAAAf8W1kYXQAAAKtBgX//6ncRem9\n",
              "5tlIt5Ys2CDZI+7veDI2NCAtIGNvcmUgMTUyIHIyODU0IGU5YTU5MDMgLSBILjI2NC9NUEVHLTQg\n",
              "QVZDIGNvZGVjIC0gQ29weWxlZnQgMjAwMy0yMDE3IC0gaHR0cDovL3d3dy52aWRlb2xhbi5vcmcv\n",
              "eDI2NC5odG1sIC0gb3B0aW9uczogY2FiYWM9MSByZWY9MyBkZWJsb2NrPTE6MDowIGFuYWx5c2U9\n",
              "MHgzOjB4MTEzIG1lPWhleCBzdWJtZT03IHBzeT0xIHBzeV9yZD0xLjAwOjAuMDAgbWl4ZWRfcmVm\n",
              "PTEgbWVfcmFuZ2U9MTYgY2hyb21hX21lPTEgdHJlbGxpcz0xIDh4OGRjdD0xIGNxbT0wIGRlYWR6\n",
              "b25lPTIxLDExIGZhc3RfcHNraXA9MSBjaHJvbWFfcXBfb2Zmc2V0PS0yIHRocmVhZHM9MyBsb29r\n",
              "YWhlYWRfdGhyZWFkcz0xIHNsaWNlZF90aHJlYWRzPTAgbnI9MCBkZWNpbWF0ZT0xIGludGVybGFj\n",
              "ZWQ9MCBibHVyYXlfY29tcGF0PTAgY29uc3RyYWluZWRfaW50cmE9MCBiZnJhbWVzPTMgYl9weXJh\n",
              "bWlkPTIgYl9hZGFwdD0xIGJfYmlhcz0wIGRpcmVjdD0xIHdlaWdodGI9MSBvcGVuX2dvcD0wIHdl\n",
              "aWdodHA9MiBrZXlpbnQ9MjUwIGtleWludF9taW49MiBzY2VuZWN1dD00MCBpbnRyYV9yZWZyZXNo\n",
              "PTAgcmNfbG9va2FoZWFkPTQwIHJjPWNyZiBtYnRyZWU9MSBjcmY9MjMuMCBxY29tcD0wLjYwIHFw\n",
              "bWluPTAgcXBtYXg9NjkgcXBzdGVwPTQgaXBfcmF0aW89MS40MCBhcT0xOjEuMDAAgAAAGVNliIQA\n",
              "FP/+98dPwKbo+WbLnUU9ITCK2PpIKL1Y7NAydQAAAwAAAwAAAwAIR0OUf/RbTkZ8wAAABTwAzzQ/\n",
              "NUvMnMAOB0UTL68Y2E87rgtCK6SEp5p01k/kCX/Mzu6xWSd6uBRr0Wj+ysls+qs5dky25jRio0fO\n",
              "YLV88xfNfucTpb766iRCwGEykQVefbKxblzjwrsgKPWtR4AGhOuX9X98kZ7JD/938IgpmnEQq+N/\n",
              "XFD7LBhGJKrEARY+gxGFxTdUNsoB/jmaEl54GjPMJ0mYiCxUtPIp9FWlrFckEK/LCZkyUJj4SYZZ\n",
              "x+2H1IYh1W71/1TgDnaxp1qhBmY1l0E9H8+u5hk0fhJ4sJR0OqMqJe5/xgYNK3yXB24ZmfUwqbwR\n",
              "JqxMn4rn/2NTm/8v8ZSnzffs2QypeoLrvsVDBNX0hBZg2+sRdLQrD6PYcAI8drRYgh+A84ilnfDU\n",
              "Ti7sap0tAN6IUApHT/KFZQfqdL2hw5gfGVi56iHuwDCIkhe5Hqj/bkOjgdxkWk4jO5a7Xh4YJ+H0\n",
              "3bSOcg+ojS0rhpHu6QDN/R/EBpYMk8pMHaozHg02Ni5Rdc+4zdmLDAUhhhdzgD/rJi2nP33pF4Ci\n",
              "7+7iV8OlXIwb33Jc2aSFQKm1ws6WdQbgZh7BfNa3wXg3zGV0BOmJAvScOh5POulV+Jbw/9f0ItlP\n",
              "g2/4FgJnavgpRPN6ZjIfFjB+oyLnI6hYeBoEHxrfGfSDXwYI11IABRcy0273Qjlh76lyse6PqtfU\n",
              "BMUtEv0MzwnsnpUGvJQA7WE3JyL0BRIKytuLoHDJCwha/HiueRQ5Iauac43YpKSeGdF12o7N1Ryn\n",
              "L5Umz9mbfIj94L5LtOOA5IZNQzJml+afJ2ssle2Ui+M1RRW82ea38fLqngT9foHMVCFeUfjyuVoS\n",
              "1gjTuoDiZC8YLou4DW1sRYQy9BWw8aJzyMxhB3M/Au0voNqLD+qXh79BdIcv6bQBgmwIeENGE02L\n",
              "EYk3ABuZz4vUOqzb6D0I75QMI9gh6c9N9qnEgMU5kGdOPFikXmsty3Q7QhIjMyeSHNxi5e7kCqeL\n",
              "AMuUti1zTKzyMzyaH3u+QngzkUw10kkIevZ2kao/Z9xqGOHQ8564Pwm/VeeOnlYk9p6oQdnO5shh\n",
              "jS1YBCOdhCvqqA8BppL//pTpQxM0zRUaRhG9X3lM9Sxnf3vVb97flVAJTLCSqCsgb1JWAb9xzGC9\n",
              "bm4N/cih4jmDblccJmUrBPPwkwiV7aBd1Hig20hqqf48LMvplQitLV70v4W/Miqh4ChUC/U5QBEM\n",
              "YGaSvG0r9L4EvkXKU9x5a+r1B+eSmdL6lGRlrl9itQ26VBJOt1n32KKua3RrYLKiw9D5bIM59m99\n",
              "iEJSa77R/Tz3/N0huF+K7egMzaCAevl4vwqecqYKsmrjjS4+sxeUTQBl+f//5AD4tUce57xOMj0m\n",
              "/f9lcFAIUm0mhxV19/hwVleYjvJzZe8DLEVYyStFzWNovU/10sgb9fK+/x6RFuq39pzm4KXa/PVs\n",
              "9XWzX+i8QASCPDLPrbfWS3JC1K2AcRvzAz+1Ube12Cvzxe64tJSRZGrXGuXh0TvbieWotZk+HWsp\n",
              "95DT/1sOVqYNqOdt6nzR8mUYZF2p70uTLr0kRmarGvdLb5eNDnlAv/VPP7UbP7AyMmwyRqt//9HA\n",
              "Q837AkQa+jl3ZHjsrHJe7XWzAJAN+7euIfOfTrSORv+C8UB0t0g/BbcQRm58viJzMudpe4h6U/K1\n",
              "ZjhEUdvI/tVO+D0OZQczxYC7V0ip39zAkXkZ72dxyukD30Ye8J6qR0xJbpXscSg/oVoL9ffUw9aC\n",
              "kQfSQMrWvmAEvE2Z9sVB2ytTvpbcGNaU24N/+SE5LcR5hCMrB2MLLVkJYXeMFu32hdn6gL9EJvBB\n",
              "FLQs1cBr2b6UEWESXAW2xOc84DEACtOIN8VO5K0p6fPsZFQdb7SY0UM8xRy+s4y41cEIXH9QwtHs\n",
              "tTI2EslA844e7zj5beKGhDjrKPHeN+4KEZmiLKYSkcHr9SJJUJBuctAi5NdN18j4uyMM5nXQJnvF\n",
              "5LjMsIShUYXKFwe6unaqxYj/ABXQV+qxjjpcMx5MaqAfVvz6Yv9wRQsq62z/QiyHLw2X5pc+JmJF\n",
              "3qZYhr9P3ezG7Mw19vsE3MjqwcoZ+1oEtrQ7OCWl17pvSoKrYCBrpGXwGbKnLgq9GNYcSfl4cQac\n",
              "10/M7xeyrbeLCOA9mWyub/D4/bgnWFNO17tJj7H8xTj+cZWrdPcWQNyDfkDerEbznFD2XvqNk+23\n",
              "BCGv03eDcYbFcHpB49HTUtGm/BjPsHbLjYDhgvSvngKCPn7+3e2zrut+elJIctFqIAJwqhvMW7Ki\n",
              "8x7K7Pi/8w6pb8Tx9YNXl5oJm3Iq3Io9vbKjHJ+K6lJ/YP5VxwrbP3zXBsFT/7Ni4ttGMgTw53Mv\n",
              "F27kvqM2KCGAZ1tFJxmaqdqY8MzNbBrLva3kyk4SHb7xtWaTfbxJS4W1Vp0VnQQgePA/ljhR5kmg\n",
              "rfOzvQLWqS2WfhbGQvlmFMFfKd6mnznQDqSVsppMY70mdHP5P9y5A2z9k348F06v0ieC4g69N/9k\n",
              "ZLZSiztJpBPSTzwKZnM4cu80h1h8yMGu0nzu5EB648nSZnV1QOKYTK8JALoaPC2cEqNByEjiSQG7\n",
              "lPodteypK/RARrE7MgzrfeUZGHit2La/z91Zy6pOM5yDp1xPsytoZgsccl4n3ePefafWSHZ2caLE\n",
              "qPpB/NbnLbb4QPp53s0bz8RAMldAat7alMahJ2p8xNonCEvjsYMg+9Tmw13VBQ/zDUvOkwmikP9l\n",
              "t66eYn+8PtW01R/R7C3j0autSCllDLZstZ426gTxfKHXut+A/7UbaUboa4yTnuD9fOdM1Js41N+H\n",
              "j7NjXB77s8WYsKB21zD1AOmoh/Y2nlLqoEjXuGK6kOcjSnqcpmHwOV/s9LJy4TvFm6kquDH90uy6\n",
              "AwFdUU1YncST0fDYQQKMIBUKAnDvdGECmqYzzro7jhrcWNKpHR/+9JZCzwOcImCiF5e7SJ+EowI7\n",
              "gTLfjUEUsTIrarj5khXBlJKD5UOAwawgAHkzuKbGIDaI5zjwYgqK7XskC1K+LwVzq/Jp9+WgYcsT\n",
              "YZgeubAlpGPh7K9Iks9hKrcXWL2nbdb76a9Htmgk8QLU+YXamEf/u1d1x9NL+PMvAcsuEiSflmQ3\n",
              "e9iH+H2fZTgCHm86PXICps3M0hgNpFF0ey9ijVf15o/bOttAke1j1fNdFb1I6k7UxWorLOPokE3X\n",
              "oPdw7ZEPBGmOL9vtyzdSVu2toooeO5Hdh3jlBtwuKjzU+5eHPdl0h6NRIGf7H7L7lwO/nwFF7nBq\n",
              "Jhed+f47VVAYmRttNQWptSva5H9fFA+rxODmhDMetnnhqmZsq8pSzLf1Xe365uu8O8gxhQ6Gt7X/\n",
              "bQELikiwXMT9i8zvYPChSHDwrHThE4eSL19WOqqUiVjenKu+ffOrxUkDTUPEc3IODJYTTRr9P+w1\n",
              "Kv9bi9BXlvaN0Lcxyx1uITJwuKPi/0+QRZQG6XFPQQJ7C9udkE0G90QlB4Zng4CLoFSWh8+Z7jiz\n",
              "DA/UBCj3tR1ilJi2umHozFlQnBj44j68WGR3LZA7kS/EVT9jTgOdIhsfffuxbT8gz2BkjYbxCW7+\n",
              "DgYr/idctfFQPi909Xc2uUOz/L4vUP/rMyxOZStSyNj4UHcdiYSJ7EmMVcwsKLdQBrhyv8HpPP2j\n",
              "2//k237+eHQf5lvy+GxTiWS5YID9QzYXgaR0DoiiM0crA9aSf/09Zg3DbY9oHGPLAr4zKUI/qDAx\n",
              "1z73ZFlIKk+h65fszjeBoh03jHrrXcKtM5TrdiY0qLXI2MLSz3kXcbeS658mWooHqN7rPyOVZMze\n",
              "cyW6ZhnLp7yh2T8FNqgJjuohnoeYrTS4MM7QU0VY9S2wyEZY4eJJ3HlsmTtG0ijuIn8PUuWRoukE\n",
              "ljbwP+GTBSjzcdyOi0wqf5z+R0Y3fjr+M55rS2LN2Jqfe0xtbA334/ZxquTsMX+uOZWgy27UTUHp\n",
              "IkeTBTAq7Fv7i+XJTjAhcnUgSP2P4myy4dOwQBSnuVVNMxpV4AOokMeR4nx8KKqrDVBNYJJ0+YQ2\n",
              "SFhOeiDbSO9d3KTCUKAW59KIfwYiL9pOWMoNziBoQ6gPbBpk6QiSuG4/MtCo+Kx7YMiqFRx2VggU\n",
              "tl7Qa9RgwcpgamyAPC07gJga8xt+M1RqQ/aUNFal840OSqS/H5W5HRO7LXT4H+PUE7Ea4NxMGnEy\n",
              "KwZHthqDjNRlNKKuywtw0gzc/T0PWx+TimkdZNLRYuIyY6Ci22Cii5NHOgeaWzXMLKTU1zXJR/te\n",
              "jdCAuNTCmE22SDdwtcbZ7pNWS7FCtdPuNrbHMHHMhLzX/wse1FWvHOCCHdKtcXvyN8z1z1zEo6ZY\n",
              "2mt22ggn0jRZY967IadBB/DJX1tDWi+2xzWoDgrOsSxDKQqLCCtsF1se8bsEuNJDMl6AuzCcTx5z\n",
              "hhyALwSjfzM39qy5qYySq6pHked/sxuz3rY2YCg0NI4A5kXIJeB2DpgoI3H/Ph63Jy8XUqgrJ0TE\n",
              "lzzcRZ5PtkHomS12zVnsqVdpM9u2D5xZdy6Nz5PWoxo3dEo7SLjdegoo93mNNQOrdEGHAJqE6wGH\n",
              "TFHwPytm+ZJZ+HXyIf2Fo+NKOsMy+0CSM7NV8rFhHJeGr6OKv6xuNOBDMib5ehN+k4JfBIGR+iF9\n",
              "cqmwEtI1vyRxCzDAVhivjD3c3JXPKOKhoGq2fyAoSFMAN5o813kibDbIJp9fASXhTGKB8zJA3w/j\n",
              "Zg51W5NjpqpftbQ5Pw2hfHC4X8HNGfn4MHqO+XyZ/UNo8DURsqWDI2NVCDbPRJLhS+1EFWxQUFQG\n",
              "QfvIkxQjGAvJfCZkOp3sElx12d4PjvHPcQu7tdADm87QNLloRHRfKEWcmOmOxG5sFtfjQbOaFu5H\n",
              "t+PwjeUZHY0GkYz5LSLoqJl37BS/6upopIuuOktWQ4dqVnT8pEJL1Pp4LaElzxhHhr1rauR89fwl\n",
              "qqwTWPsksgBjS8R2wJzKkliqYqu/TKHiUcDinmYaHO+mfXKmoqo9SD8eVISe9ZHqKIj6LJGs6Gb1\n",
              "F+qrri8mR24Ar0OlQ85ijFg19SyOprpgmYByEGpe4ofm0qG5yFo4m+oJX7b4HxvogNs85LCUgGEM\n",
              "J0vYsw6mxWCdVrNFQ/jFjKk8FBOL7RUE7a5Ahj9dBUEoLt9zVPLpxmOj8gOoZog3UHIm70A2AnNf\n",
              "W0xNMOUGP836RBXNjHnTNhyHeE07uorF33CGLxN5Lk8VEXJ7yNwW48Q0cuosE+4kp6Z3vA9Kqo7e\n",
              "qZsAO2QeCjZVf94MJpaxqzh6HewqGQYQi8nIGW5Rz1RBjyEvW83YX3f5TuQtvIA8QeAqdd6EYvuz\n",
              "Ny5ZEebz+dykyd9YqKOryL1bDvuxGJMLOPsAemrq5bid8zFUA0yxDmttdGYdRpZGT6WO49ggFppJ\n",
              "UEJchG+Tiyq6iGNpnxqwbHBxZqw0BVJi1bitJOsWXBB+rbP/PID5xa35Rjg2E2POZKrPpBkTJYOz\n",
              "/XGGMpoiGTmhBPNW+9CzpSCqIavVn1Gz59/dfj3k1fPd78B6koBxqWeXHDmoGFvw7FG5GAbMhDIq\n",
              "d2fyjfjiuT09S1jsHeDkohzvsQD1bjO+XiWi1GJufRIrzdK1dBIuS/yTS/nOH+v1IUMsPbQt0fjy\n",
              "oo95zFmqUc+4JXYB8KdWhu4GBK9hA3HQQfuGGeIYMif5AidcgALV5J6gp4FU4q/0EbYtCpTrzKae\n",
              "q8Ox51O4Jm8fPH8lyKky0KVd3DzRF4wBpZDlJzRv+5gsq/P0Ne9pRoJhyrvxlbLc/7gfewe9xmMT\n",
              "PRFz35/w5gQLavVwSfwRCgeRBQUFHL2igLPWPIIGEDDmKVWEmI1VISVLadzTxaGIIQWC6lzcSjME\n",
              "wmRQlqczUEZW8jzInxCuM1NjK/x3R0hajp4ndTYZqgt7BTdZTqUkwVada4nI01+TqN8ky8snLmCj\n",
              "S0rPH+11mZvg2el8H+n/e52zYucDyCsEiVf3IOtGfINzRZ+mQPqx6/m4iEH32v4MVBh9Iv9GEGu7\n",
              "S4+em5fh3QBNIwWOTUyf/CgH7k986OPk70R91Px/h+Q+0jvJ7sQpEjOkl8mWlJMLseq7VB44l0rM\n",
              "ycE7dUns6hbfE6HY9Kq9frjMiPk0ky5pGMXazcAlAmZJwsg63vvt8WyAHCepMNn8idPw2peLowAg\n",
              "9HzE3X4MbOpnKIlLmW8nWKuVQQF0ieR13YMwVac7E4FMkWOfGLyWlnBZH32c5ApXJC0LSaZkJBLZ\n",
              "ipu4WwCTTxE/XlMaSVqjXzMtqMgdi2UzLZpxlNN6o0Zj1Ikp78qrN+CZZn9N4a71PGjSJWIqDlwD\n",
              "wTUr1VNT1DGV3JYolu7qXI8U8EkqAC22Ztna+L//BbqM0ZYVE6FAr2gALdj+6nFmtv9eyh0Tj9QK\n",
              "VGdWoDClKzLTQBO3H3DQb4tbSY7/s5L1UPJGOQ1lgNcQcfNoo+C+anxBThaRgmMQeyCT3Voio1a6\n",
              "hynkfF/4ZH0HXjkJEBOCyEG6xbgVsnu8+EvSU9inA6R2fQZl6iyj5mbrW4AVNjc3vxvGU+/p6+vA\n",
              "iALd3VgiuI8i/oWqfzEriNL+cSO0rPvTv+NQZH9ywDtwtjWd+5ozAYqlwuU4pQidqW78lq0t0WHE\n",
              "ELnd5IWt6ENKTqbTazTWSOKTiy9CnHT8mhJXSoUznA9qeSnW1xb/nVsFF20jJRucvsSPh9wHoBoR\n",
              "WvyPxGTI4ITAAKmmrDa5ttEUuG/z/cskMu9VrHL9Pg7hGpLXbhVbCgWjVm6biBc87XUB/AwlePK4\n",
              "OHNv6ve+T/jYRK1Avfkw/24SbLQGQe/QG261oldVFjmMlWkJf3jNQl+NE1stLs5sRdcEne3dgfrX\n",
              "qwoO8dHqUJuMA0kTPJIJEEwyyuE7Dn4+HipS9s2Ec8wtITpn122L9cIXEgPyJHphEULxFcsuc+46\n",
              "XLupYWLpm0R7kd2pOO3AwW/a/1/xktOan2+9HbMfYS5NfGA6XVPnPFs814EjSKN3RVCofqLOfyBl\n",
              "VPU89D4+wh6ycscV6IHp8l7KDLlXk2Vi8GHgPKAAApLpnDsx8f7YhDxqo1Rw4bzg/vPUHbbpW8Ty\n",
              "R5AfRyIt5hmJS934QhkF/uyEOw1aUQi7e4taZ4BcrMniNZ8DZf6/BhPPHVpFQQQ/UHSznfWDLaL1\n",
              "MmAl3sDKjTVHqSmt06itGI+IhCgiH04jVZ9hZqgUva6fqmp+EZLuUZ5WrmolccTC1739Bno+YZ8t\n",
              "VDqywGbAB8o06lyRnrJFIgBooQdSoSMVAStP98UNOGP9k+fSwOchXIleyDqrqqOUQqQnnpTW9KHr\n",
              "8jYZeseBf3nJ0LCmrZG1c8W66vOmISywABiXNPDEMr+gaM+BckNVEHFK2GjMLk4v4Ofz5R7nB2zo\n",
              "2+29fjMO5eh5jDYOCAEJJn/X9wncTTwh3My8ph7U6uYodSHnauphMeC2sxljd7CrRylf5Bjb56Dl\n",
              "hVTDCyoL3U5mDpy29EBI50443W2163b210U3U+/L5PP5ZcTouzX2f2+KkJenwBG9tHHCq5uzqbB8\n",
              "kGK0X4iQ6HxSIyRpeFYYflBtJfgqHeoSVIhonKsW+kqZGUCIqAMeuCMzJ+o6nEEZPIg33By4F4QV\n",
              "+260IF6wKqqUbaNRT2gPC4B/+n7Vdvv3W7qfbfDIi0zkyJgExQsxLkJxTy9Krcbo0EkqPGR08Uln\n",
              "F/2qShuODLUV8Ul4ZLt/JDgjqSeEYQcoOo3rIiXdv/s2QFFh7t3lmdB6seDzBu39eMPo5yn9HfY+\n",
              "ohpCgZHjqDZjtdR3namvG/c2G6cZ9ZdI9ZMUOHUu5IU0QbIdiwHx9DZpMfY0/Jbm1Xio1pkzLYWC\n",
              "c2AOhbwDdQPkn2/sIsTuec9BWKHe4jAbYaIcejedmg7d8qWhGUyItri5beiwHQ8z1g6dtZTCz5hX\n",
              "sPnsWcexry6rjTl4Z4pSN60X/J0z4//jFLuEswHWVMtH9/4nzwSf1sr7vzZDVQdHwCkvOEMBB7GC\n",
              "7k/Z/QhIksasqsly4c499WV0jzbFBdmzA9vFuJpDiWPTHGwflCOBRhZUjE8ONP+fQ2cWqvMz57wb\n",
              "0MyyV/XFF1TrCQAK/lua3OJh7PcYDrBnNMlggBzyEl9YwHNxmVX+Zq/6chAO1WGMVMfBa7bcMbXM\n",
              "kndQ5QgFohv0dTk/hTwSTu+F3uYImdWZnXJylHUV8nBvlSjDums3y5OkHAOZnhrKbU+PA/yVs+Bg\n",
              "4JbSFFd692WNJF8uffEiK6aJ5amfl35hqw6YbvNuG+Ho6NgLSPTvNW5QpHbUlwe8v68XxQInq3tw\n",
              "bf+Zqg25L4vDhNjnsLJbKatOt0XD16u2aO9Dphr+6osTFE+yhIUti7gYTmgiwXrA82CD4WvnaB30\n",
              "ncjVYLVl1GePopsk+80SgSqFj9SjyW+7sON7Rob1cSbUIyxtp3gnbwVzLrEeTl/armL7TFnUCTlD\n",
              "j6r8iLwXa9d2vWyOuWMHZx2OwgJVP0EmLTjz3O8s53mp24OmlLw5jlIRdjwoFk2TaplQVNfkA4YV\n",
              "kLR63YqxusJqQUPH826xJwbrye7P/QYxQljtLY/XI31AkAAAqYEAAAHkQZojbEEv/rUqgAEB0dq+\n",
              "XIxlLlUAIRVRF6TbAQHCGeZQAgkH+d6KaRHgpcuZpgCk+2z6+cxhKLiK1uYM8D9bxEQoVv3ZrcAY\n",
              "35v4/sM8U42wF2H+xdopXSd89PgGDh0JMYmXXxjyZiuADONvqR5KuKzcXO9/Jm5DC3U87o+03z3x\n",
              "fGZSpK2DpYHyMFDBU21TyRCGX+s2T76WNOvOe9a5p0dBcqbN0geYdc6+7uubJZq6F7MmZcal81w4\n",
              "aUmIlC9IpY/nhyaGvvkx2cpm4wsAATZVwCE8gZHpW2EXDJIJHR2sog2w+YgYWSagOFYyLa64Xklo\n",
              "Ih69rmRjOgSJU1eSu7exsvVBZNlH6Kt2vpzqlFhB9zGugCKDMFlxzyjJy728vsg7yUFSaCzNLKC3\n",
              "foLVCUmHnu5KvtoBjH+/Hosn4wgbVOpwLkxKhTNx8uUCpdpldQWvYAgEQKIxKevbo5xPFmQqzJjB\n",
              "/+ijoYvhhxZ+SAVOtEGGIGFQPGUBhkcP6MbHgK5C6v8OQ0Lql+3KGUwYhAPiMDIAexzNCcI/YwZl\n",
              "rJhKLKYt63M+55KaBN1Ez8SFH0au46p8QYU8oui0xlX4+6gBa05yh3b/yZ2i5TNSzxhzQxjAIbU3\n",
              "Uswateu8S0OfnbblTAAAAUtBnkF4gl8AAH5u7RASDTsgAIRW2ytdLhFeg5Am0f7x5jiwIoHLrQGR\n",
              "m6VKUi0JD2mcE3ILLuSaX9LCqgtBMDXJpwtwJ9fMRw130IwncG6sRKCwj3Nx43vlxoLTE3indLJP\n",
              "ljNsiZNXMNk6GvkB7JJO5irb/WfPk1lTX00TZTn2LraNF1E6BhWrWvnOoLKD+oc2ivX73Zq6dOs0\n",
              "Pkx6w+wYVWoKYJsX8JJCxQlT+nE1ufinytYVfTA5KOGvRiuSsCin+C5uGtigLqAIMhgNCOOEUc3n\n",
              "h6xpwfYKBdvXNOZYFrRxauMWBcwAYgB+DUyFD5mBUU8MP8IQkttCYzgMpf5+aZ0NNfnvhqy0/09b\n",
              "wzqpBNmXQvuPR9hxHyAT1pRzdDihzxXV4govdl6n9m3R/JSxq5xMMhkikt59AnYhpU9o3hKB1aQE\n",
              "9A0hcxxxAAAApgGeYmpBLwAAfVAgHOBZAuWQAEKL9Tx3WA6v18mlijsKbywR9Fl1ZhfyM8WSdJ8e\n",
              "9dAYXxUO+edIMnLD7ACTmdcvcj0dg7g8o479kkJYI3TvEz/TOkVmlMjxaK04bs8T2fe2EsKgZtVa\n",
              "dNiCscc/J0LZu8G/kBSKUdMfMic8KTavar/W/2v/CVX8902VkRRpQasK+YXZ5RNa65i64aTWPZqf\n",
              "QAAAMWAAAANWbW9vdgAAAGxtdmhkAAAAAAAAAAAAAAAAAAAD6AAABkAAAQAAAQAAAAAAAAAAAAAA\n",
              "AAEAAAAAAAAAAAAAAAAAAAABAAAAAAAAAAAAAAAAAABAAAAAAAAAAAAAAAAAAAAAAAAAAAAAAAAA\n",
              "AAAAAAAAAgAAAoB0cmFrAAAAXHRraGQAAAADAAAAAAAAAAAAAAABAAAAAAAABkAAAAAAAAAAAAAA\n",
              "AAAAAAAAAAEAAAAAAAAAAAAAAAAAAAABAAAAAAAAAAAAAAAAAABAAAAAAtAAAAGwAAAAAAAkZWR0\n",
              "cwAAABxlbHN0AAAAAAAAAAEAAAZAAAAgAAABAAAAAAH4bWRpYQAAACBtZGhkAAAAAAAAAAAAAAAA\n",
              "AAAoAAAAQABVxAAAAAAALWhkbHIAAAAAAAAAAHZpZGUAAAAAAAAAAAAAAABWaWRlb0hhbmRsZXIA\n",
              "AAABo21pbmYAAAAUdm1oZAAAAAEAAAAAAAAAAAAAACRkaW5mAAAAHGRyZWYAAAAAAAAAAQAAAAx1\n",
              "cmwgAAAAAQAAAWNzdGJsAAAAs3N0c2QAAAAAAAAAAQAAAKNhdmMxAAAAAAAAAAEAAAAAAAAAAAAA\n",
              "AAAAAAAAAtABsABIAAAASAAAAAAAAAABAAAAAAAAAAAAAAAAAAAAAAAAAAAAAAAAAAAAAAAAAAAA\n",
              "GP//AAAAMWF2Y0MBZAAW/+EAGGdkABas2UC0N6EAAAMAAgAAAwAKDxYtlgEABmjr48siwAAAABx1\n",
              "dWlka2hA8l8kT8W6OaUbzwMj8wAAAAAAAAAYc3R0cwAAAAAAAAABAAAABAAAEAAAAAAUc3RzcwAA\n",
              "AAAAAAABAAAAAQAAAChjdHRzAAAAAAAAAAMAAAABAAAgAAAAAAEAAEAAAAAAAgAAEAAAAAAcc3Rz\n",
              "YwAAAAAAAAABAAAAAQAAAAQAAAABAAAAJHN0c3oAAAAAAAAAAAAAAAQAABwIAAAB6AAAAU8AAACq\n",
              "AAAAFHN0Y28AAAAAAAAAAQAAACwAAABidWR0YQAAAFptZXRhAAAAAAAAACFoZGxyAAAAAAAAAABt\n",
              "ZGlyYXBwbAAAAAAAAAAAAAAAAC1pbHN0AAAAJal0b28AAAAdZGF0YQAAAAEAAAAATGF2ZjU3Ljgz\n",
              "LjEwMA==\n",
              "\">\n",
              "  Your browser does not support the video tag.\n",
              "</video>"
            ],
            "text/plain": [
              "<IPython.core.display.HTML object>"
            ]
          },
          "metadata": {
            "tags": []
          },
          "execution_count": 26
        }
      ]
    },
    {
      "cell_type": "code",
      "metadata": {
        "id": "SZ9wZ_spITq3"
      },
      "source": [
        "def secant(f, a, b, epsilon=10**-5):\n",
        "    assert epsilon > 0\n",
        "    assert f(a)*f(b) <= 0\n",
        "\n",
        "    range_hist = [(a, b)]\n",
        "    fc = epsilon + 1 #for first check\n",
        "\n",
        "    while not np.abs(fc) <= epsilon:\n",
        "        fa = f(a)\n",
        "        fb = f(b)\n",
        "        \n",
        "        c = (a*fb - b*fa) / (fb-fa)\n",
        "        fc = f(c)        \n",
        "        \n",
        "        if fc * fa > 0:\n",
        "            a = c\n",
        "        else:\n",
        "            b = c\n",
        "        \n",
        "        range_hist.append((a, b))\n",
        "    \n",
        "    hist = np.asarray(range_hist[:-1])\n",
        "    return c, hist"
      ],
      "execution_count": null,
      "outputs": []
    },
    {
      "cell_type": "code",
      "metadata": {
        "colab": {
          "base_uri": "https://localhost:8080/"
        },
        "id": "O6NWBe5lAclf",
        "outputId": "0a595dbc-fbb0-4cce-e5ea-8d339bfe988a"
      },
      "source": [
        "x, hist = secant(poly, 1.5, 2.5)\n",
        "print(f\"x = {x}\")"
      ],
      "execution_count": null,
      "outputs": [
        {
          "output_type": "stream",
          "text": [
            "x = 1.9999993066836033\n"
          ],
          "name": "stdout"
        }
      ]
    },
    {
      "cell_type": "code",
      "metadata": {
        "colab": {
          "base_uri": "https://localhost:8080/",
          "height": 453
        },
        "id": "SI8HfWO_AerQ",
        "outputId": "272dde99-8e6a-4c86-d4fe-a2c434f7b2a1"
      },
      "source": [
        "HTML(create_anim(hist).to_html5_video())"
      ],
      "execution_count": null,
      "outputs": [
        {
          "output_type": "execute_result",
          "data": {
            "text/html": [
              "<video width=\"720\" height=\"432\" controls autoplay loop>\n",
              "  <source type=\"video/mp4\" src=\"data:video/mp4;base64,AAAAHGZ0eXBNNFYgAAACAGlzb21pc28yYXZjMQAAAAhmcmVlAAApvW1kYXQAAAKtBgX//6ncRem9\n",
              "5tlIt5Ys2CDZI+7veDI2NCAtIGNvcmUgMTUyIHIyODU0IGU5YTU5MDMgLSBILjI2NC9NUEVHLTQg\n",
              "QVZDIGNvZGVjIC0gQ29weWxlZnQgMjAwMy0yMDE3IC0gaHR0cDovL3d3dy52aWRlb2xhbi5vcmcv\n",
              "eDI2NC5odG1sIC0gb3B0aW9uczogY2FiYWM9MSByZWY9MyBkZWJsb2NrPTE6MDowIGFuYWx5c2U9\n",
              "MHgzOjB4MTEzIG1lPWhleCBzdWJtZT03IHBzeT0xIHBzeV9yZD0xLjAwOjAuMDAgbWl4ZWRfcmVm\n",
              "PTEgbWVfcmFuZ2U9MTYgY2hyb21hX21lPTEgdHJlbGxpcz0xIDh4OGRjdD0xIGNxbT0wIGRlYWR6\n",
              "b25lPTIxLDExIGZhc3RfcHNraXA9MSBjaHJvbWFfcXBfb2Zmc2V0PS0yIHRocmVhZHM9MyBsb29r\n",
              "YWhlYWRfdGhyZWFkcz0xIHNsaWNlZF90aHJlYWRzPTAgbnI9MCBkZWNpbWF0ZT0xIGludGVybGFj\n",
              "ZWQ9MCBibHVyYXlfY29tcGF0PTAgY29uc3RyYWluZWRfaW50cmE9MCBiZnJhbWVzPTMgYl9weXJh\n",
              "bWlkPTIgYl9hZGFwdD0xIGJfYmlhcz0wIGRpcmVjdD0xIHdlaWdodGI9MSBvcGVuX2dvcD0wIHdl\n",
              "aWdodHA9MiBrZXlpbnQ9MjUwIGtleWludF9taW49MiBzY2VuZWN1dD00MCBpbnRyYV9yZWZyZXNo\n",
              "PTAgcmNfbG9va2FoZWFkPTQwIHJjPWNyZiBtYnRyZWU9MSBjcmY9MjMuMCBxY29tcD0wLjYwIHFw\n",
              "bWluPTAgcXBtYXg9NjkgcXBzdGVwPTQgaXBfcmF0aW89MS40MCBhcT0xOjEuMDAAgAAAHLlliIQA\n",
              "Fv/+99M/zLLr9zm146j3op4mX0N1JQGblsTtOoAAAAMAAAMAAAMA6USCYrovq4uMtAAAAwBTgAsw\n",
              "HfjjFD68ABW+sSx8j3IrdV+InUcrEMevlH4z/VzAlPz4zCxiDJKXHsP8YBf1Z/NGqyzX2JhprSVF\n",
              "baHzFG8OVQNLY+cxS0GQdVUdTMbJulrV4gSSqnFRcXz5PqEgYv6vCvAYJk0JTWATpJikJ8o+FZq7\n",
              "Sqa90fXgXH1qfLS2NFs6Vz/p2186fWBxDgzm10P9+vwIU27Tt4oz2TWsjuRQ23RND6lp4T55AM/U\n",
              "6sTOXdU+cuP6vJwwkpJfntVdpvtq8va7qBoB3Vo1GktOaqFS6LR2f4HbP5btTekMWhqOFQYWA/kI\n",
              "sY9x/lNwaAEuPaxdqVLae0sIgZijkWpZxnnCt5wIy9I0L+erDiAbvcyh3xBtcd+PgJ1axjHW8mUL\n",
              "X5X0d20lQXdg4OCUlR4tudiXJmItJzgTBbrWQgGZQyiVDvsD3ZTGaNAMxrt/s5VzZNB9DYg32VFe\n",
              "EKWzTN/9/jOLFzkv9yvXRhm0sSKMJSnCypl7W0kg0jWEUgaaL13t+WvQqtG553EY0hhZPrsi1dWi\n",
              "t68y9vrWklv9fFPGYKlzCE+icCARKZLm0MtNCBrrH92hBSIsXHTS45Fdk4lgBpyOSdGW+b5aqwrX\n",
              "pKd3z/Cw72Vdl15okKfMiF+M0FkTW6rSjRKwFY5S0TFza4F+/imCPpj+r4LKIEn6eGGpIQaxcsEK\n",
              "wYk715ZXCanzts10X6D3WCjze4VD2ISKcQCHrqUzB9lRfD1mf9tsXyTokaliH7FUdyrCaV7ELP7r\n",
              "Cy0pSd81tjsPbhYT0BlAOr+d6UNYXjIULqdhqfMO43F3NX3PlKpgx8FlTUt2T4AasJUb1GaMOtKe\n",
              "E/4FuHe2l6Dfas68WpLFKAzVUkOcigXOtBLvVZ55vxcaZ250XkqSKIz8PFxTrvcrIk+J9vjDe3d3\n",
              "tytQ+rtEeWzR2WNGhTDonlFJSkvwMLrd+cX2fK7l3ufIeuHwAAYTlZAbkPSCxUfI+ixx8RGfKfZY\n",
              "ABIUdBKicPd5UYqd6gYqzOLMbFHsC96dTAIs+Gq5lpENugMWJYD3rHi2X8MJCrrCjgRos2MQyz9C\n",
              "wHcjFlVgJNGvVtRlqgli5ynFrGHxZTMmu8mr3TAA/bcQdQgOXVIyKGIAyBjuxljcAWC0SP/9DFFF\n",
              "uQzGZ3RyCfSF8TSRU48SUwxtnm0/5fx3Jr2+PuRLfv3vEDIUeCI9TMHEuLaZbKxCr3UpK44PWm39\n",
              "t86UyKvX3AkT3gApwT2en5fpD6+pJtYQ/+pPZG7BzcviwgrKOR9AekKKg530AON0qXmOtozgDpZX\n",
              "1cGGJuMRyGj9BrtmYgUDM/45upAI31KZEXDN3WtkZqrjbTB1gOq0V57dvZtQ78GUts5Jw/4Nn4ei\n",
              "kz8ooBpA4NET1sDGHNPc6q9lRMcwUHaADYHCQfuPs+J4jiGkR/zGR+D5RUzukfMGi0cXNtXtSgkq\n",
              "PLOWOIvxpYiQZVhGl7/UdR76//3GIPXjjqLouHtJ3932W4YmTdJxS3DkEMJ55uWuaNWCnliVFACl\n",
              "lMBDg0vpUZP+rYeswQjUzWNeVMDYeBs1nLruxuDf10r+xXTlTO0c2VwePdVnYsOGWNFRX2gkwiib\n",
              "LANXLu/dJeTwgvJGnhL0Zf0xndV18juyctstk6s6bCffvDTsx8Nmlljka39cICnuuKoLyy9LS2uL\n",
              "2z+muNOvRuH4rqEJi7WDJZT72Zn+6yGscUPn8OSkBP/WUn3/MnsIufqfvbeOh0eT3lXXyLRzE1/v\n",
              "K+tNOjKNQz3gUiQpUTtYWFOD5qtPLj+zn3UK4QLOE3HrRAbvMXtExF7OqWmVZhyWl+Hg4KjAdNBk\n",
              "21C+e9rQ1CIRaVoWCGPXACt3r/ve8cA1ymacPVJvalWfDbfdjJ0gjvdiUdt9jxOXs7DU3BiyZ3y5\n",
              "eM/7EkMdUwI18kK0ecBEs4jXrUIVP7xIlsehD5eCg+QAc99UZecNkSpJXKzVLzLc1uaknyLNhkXh\n",
              "8/h/Iq+vQlib1UVpR0N714YTjHwyaUtwcYY8Ija7yhAhQe0RrCp2QKKA3qloVc0EN7hoojvr0BRO\n",
              "ryH9lc6tfd3fU9EShYC8cbTMu35E8+LBOU9gLM1O2w2peNAGDFwIjs9q1VKnOmF2ijIULMhXtJIm\n",
              "aCkT9H5aoKBRwe5ZecDyTWbOS+Npa2OPS1RrmidxVKrVBIH7sxyq7ghx0tPWgKzH5iVxz72wpzXP\n",
              "46E5k0h6ZXA8l1J2Wuc3mtgfhsXhbqCzt0dTxV88BZhDtijQ7LYFI3u1QSMWFWf7kOhlU+tRL9eg\n",
              "gQuVbZFgFgfL0kIHo7+VqbrlnhBRqHFtCgTnk/ifRWBrVSD9A/AE4Wo8N0TQLyD5J1FvTWvdboY2\n",
              "+aZWcnKczMgRYWUogrbN+eiMVFaw/Ap93SzX+kp4EfeX/U8dL4iT0BvRttC8njbxUZ538CGYC04c\n",
              "9FE9NhmTjVPqLTVWwzZmuKtMsJc6yzkbsTcXle6NS5Ne+TfeDfW+c9mtRauejmPXCOPKbQv9iz08\n",
              "RLzCkuuG3bzNlsO7HzY1CZtrysF/b+fNF9z5OaYug+8FB37ocloM/r541RXm3uFJQW0SG7zjq2CH\n",
              "6Fza0Efh0ffqvFUUyt+u0+rz1L1BUw1CnrXp/rwP/y0+BXtWuDvQs0lus7jApj7Yf7Q6l0fPNkgM\n",
              "GTWR2M00b+j1QMaJ9XpPqjanvU7PEc+GVEPk5D/A5hBe616se7nXBaqcPqpv6Xk/fAA/nZKfzbh+\n",
              "Ec/FET3GzY/ka46PIYsXcdE7KY+q+884fYVZtUpLbsvZHvFdRVteNyoarQTMTJFNfH2eNszvSgd1\n",
              "iwftu+C+s0XQ5hari2ZalF9T+EZYBU1FQynwsKdEvwnIZ1y+O3KK0Tr6PL9gLWoFJwRDvIJAVeX9\n",
              "E/0S+G53thcR808v8s9DTjVKvKg4m9FSOOkP5kv0GDzZOc0foXVkrljW3xXyz8OkPiyV2lRE5Nbp\n",
              "vl41JdK4gajPix/j5h+hEaWmPJ92R9VlLf+uXBUA7CTXxYDKWaMe8rlAoLGTq/sZ5pfyX1Zpr1lj\n",
              "In0zLR8Ov9dzBoara0foqPmPzdxztVxDu7NBMetA1RsdJt+mAi18wJKvS91rvlUGOfSrgbTSP5Jv\n",
              "L+OrrniRiDx2VFxCMgKVCPFV6HhZO5kI7tDva9Ay5TqWKu2yARVJBn69yMAD4tV4FF2iwC1maJAJ\n",
              "GGvHPHuwKjsYGBuxVGJEHY/MeY8q+kodVf5XxwKSYG39P0Zd1IslHH5RjzUwMmtlkNkKwgWvnZby\n",
              "SFZ4i6RZ5Qd/Dd8lH9r+H5AnN/gI1Z5J0QZ2HkqAuy+69NFyuT58vRDrDmWZsQal19UkrQmzSl18\n",
              "uQiDVKw/ixQ71+6/9Y1JqYL+qvgQR4c7olqMaB0LxE3V2JuiO2wN4ynTiv5t7MdIpKFx/Xwn+Hjy\n",
              "zHZoxbTFenPsdntcobnrqzfvxaDQxInAOeUy91bkjdy7ZZ9vfPyhEqAekDqZ0FInsEcLVOb7U+o/\n",
              "f6mBCgYtxmX9Q4nKx86xar/92EzdAGD3cnkrYqCptE9oCYKzQXYHCr9b+ItQ7WR/74UYQ+L4y/Z2\n",
              "RELZ2mkipyaqOijS/AWiZ3I4dbTKfRC/HeD/npf65AI8QOV7X6uX71MGSrHJ2/wXmAi6RD/EmngD\n",
              "Wc3sf/CFCSOVR1/O/6Rn1IzjpHcK2UcfxkVy/qJcVzFPrXce+zu613Ycc+Hsn6a3z7YUGpYtYg8G\n",
              "eQnD2qPyT49eicUU7NhwzL6mCVVY5TTvigMTZx2LytKpXUlw11MHAaALv1RhMZ7Zp4QPcVvcCXXs\n",
              "2i2l1u99+emcUTxprtge4iwe7J0OpyG9GFWyGIZFdKiV3XPrNqPQRBSHEQ+3TbPSOs5DCICHLImQ\n",
              "dB7sCMiB7eIQgp5OYMWpznHJPUwpeoZ1vWQMVmQCQ4oEU7IC4LW1eSzFiFyVphSANcMAivcc3l7r\n",
              "N8mTsj4+hzayMtBRq80mPKHhh02Vs1v+yFaOoeIiadAnENNyc7utDD3Jme92yy1QOi5ZpTxGRIeF\n",
              "xjitk+JjdnAZcaIPbRIGpBeOZBNu0QWO7ymlxds6DPotfwNw0VrztPR3NBAC2kNIw+gugMXgT4+s\n",
              "VrXivPU7buGRV/oEfXR1VZmVAJO5RsUsOYeAeltC8kJTnqNtiUjwXQb133V9b/+qtkANMXOk/2zd\n",
              "cRlbm7cDz8Rg99b7m7TYCxuGaukKuO7cG9xrc4x1LSk2yewKCEVPlLjCZw5QmIp13fYKUnuwYAB4\n",
              "XxGQ8ASbUveZ7779sqV0nD69fdEfMOEle3irJmVhc+NHEBY8BaDLEqhv8usVqzLEAhXKo8iwwPPJ\n",
              "rWXRl1+HjRdtYO4lss8GitJdMMnWCPs5OFL1IPNkVanrc/RRHDomtUcqHzLPG1TOKt+rxuYW3EhL\n",
              "8tqiu4cEJLSBD7DSAe7RE1ut/v4uTAJKZ/bHpWbsjjptCjlUR3MHu6SJzscHD5J+mjSjnTouFnuY\n",
              "2Po++x1mj3A0vyA69KKkrqcfOuTmRRYdy5NecXpkqkPjwJ4CEbv7b/TqASHKcj/0ZD+m+guW1Feu\n",
              "x+VEaKN0WJPlPUa+g4yAkO5E042bZCn2eWHlNPS8lEsKVWS9SoFM/Jkf7RYd1EbdaoZuEQ31QU6f\n",
              "2BDbGJy8pTbAJRwr4QjXLHGN61l66isjq9aDrHzJLfENVHqcFqgOQlCBBSNK1gv3cO//ciO2IQdY\n",
              "khe/hk4O+Xj80Y/ucy/0OkdeBIf5mQ57wGWVlZwBj5Tj36uHzTAuOYNykv6I4S3pe/FIlb4wQdTE\n",
              "7pHlnA7zdIZpnkSOCmsfuru3Ohh56XmNmYyNCk1Fq1CL8xBZBeJjeW9SZ2H+NaD76+LEpyQj1dKs\n",
              "UpwqrEAtRpq+eED86Qo5/08u3VzG7XhlDR4CTjCgQ1U6ujkzLjOA+7ee7362m8+EEKOl9qAOmhm8\n",
              "5dRBHHNxB91OTn89yuz2Z8TtmV2wFOBo+Gmfl2j3OjGgfQ+LWoFlbqNkBvHaU7Pway/uuP/aiJPG\n",
              "/jyU4WU6+5eVosE8pz7ke8a24fGP3NObdnAyol2JzpUkEqH1l6C+reilTINcrfwprsid5UGDTGCR\n",
              "DazEhEdX/piKZsQ/38fj+wMzh1bzEcDzfzf+1ITay55evb2Dmnqa7yG7A+1ZMZ8sxeoMgWTHuqRT\n",
              "4Eb70eTZhuuAJo2jXUDxGhI2ytVrQle6qB8O1TpMwfLcNUTHwWhEhpCTIQZxc6tfasOD6KcjTuT8\n",
              "6lYuXuY7jMAo3uCD/byEjshs7U0KkzO/+OO14rqnT7YJan23EHS9mT27koRmp/nt9VlRNrCHxuhL\n",
              "XM7A2K62tcLYr/VCArcHcImCAwf/7mC9AApwM5Qpakiqlo4J+1SxlQF5ir2jQTf46xNzDQOzjEhM\n",
              "omNWqwaQ+YActBL9kArJKlEALDqk0a2f5MRNrNKwqCjd9aywsLwJbmqdz/5euJWTooaGKhs49rjR\n",
              "8aOqSiLCXyc2u1P838GCdU3N8StiP/6behDDO9nYblgPZOTkOkeTipicmqKeDkjLffX95ObiaSef\n",
              "ZbKnYd3db7sTKO/7hI2VG+3JnLu+LB42lo4NoN4mMDyrw3jsCZ26XrtCCY+sm5evQtL+AX8ntLYz\n",
              "MGdlX6m/VxxNzZu/K7SBP9bHOMpx36jdSTPZ3xGmUp22rAnhxUOtE9HlgCEuiYhEnxQSLZ8qqgfC\n",
              "E7buok9e2woWj4V/nrEnXETx8Bn2TX0VV0cvwsHC4j4buXh7jEmIXNFnc2wAjt35hIZ/sC0B426p\n",
              "8nBfJKwVRBjgNzorQn/ApCGGJBAIi9qmFdEnz97+tx06YndtGk7Oi9XJIUTQwaNANLFtUfVvuavi\n",
              "5CjDpoyoQpNupz4pLSb3OHQenwIi0tmfTOmPosIAFM1qVESxBu1nGp2wOzSxty7nXszzdqJuKkUN\n",
              "VZ+nj8Q9EZXMgFv1wUH13RQn5Ony7m54ML36zBO2pG50u3u/JwAKJ+G5VmHnnNfUrpRfxFxCFf/j\n",
              "2khP92y06jI5JYLW/SXgy4ja67acnYJSK5vFgIi1w9/kr4FAR0uP5TElmuiqPLG2LCT6i87QqN53\n",
              "y7VB5nKx3gcXYEPueHhvfavscor+aAAHAviZDR7x5qIkMyTYY4ZGKk4it/FD+Buqmbs+K+IeEjX8\n",
              "AoWPc1lKAr7mYJ7dh77xjlhpcic/fDVeIaZrMEQSnEHWDT8x3euQjQ45i34sTAVlzVJbYf++Mkz8\n",
              "AVLg8AE/wSb6cw1nWNzjZhl+BUOBTAgBCn3XWWYUUCkCX96tUftrCwAYPcBcBonD3uX+IjB2NIcA\n",
              "YmKBQh912kJfSyCsAa7+RVMcZQwyhwZu7t70zUqX9YJ54ER/8MPscWQctbcx26bp8LbfW73wq/HH\n",
              "5Yy4nm5PdvsmhtBJ19/IAW4idUXRk9t/Sd/3ovBcrpi0rAU2pG7679CTaOpCyqrSQm4gKhVYxouK\n",
              "BjUSYkW9ioptdls16eDD8hoCmLKfHt/bN8eG+JsYRcvz5uBkiqLiRKil6GizC83KW9YQ6Gu8SAoN\n",
              "H4FGLw4odSVChapO/RGjGI/KrdP9IRBF8kJLvnttDv1Xyx/bPDO05aTU+13Xw5AtwDfxIvXTPX+F\n",
              "VGhTRhsru9XV0dwLZOemUW2o0teJGbeKn/sKVlQvumbAza6SDfZqZjYGgFUSUjILOU0xT89KbH9r\n",
              "is7H2o2a+jET0ducfvWJJgi0rq8OamZJhAAwdsykPZiBaWSNkEkMLuxvC2lyehc2R/BzMKsCF/pF\n",
              "uoi6m9wnQoW0Uyu+ZF5s/+KE5KTZ7KQIP+BEZMsBdTe/hJKFeT4kW4mRtKJI3/41Vd89l6ZT6dm7\n",
              "gdU1oYTo5accO4oASR2NDTcfBTB2DPGXy6fz44BX8ukSe//1oYYpJpLiam1k87NqFTkyYGfRwohc\n",
              "7hzSTnJo4PEvWVQ2FMTjoVy437FZuuCkZE9pDAFA9MJ3Rq7txM3wFP9Qm42/Fiil/MQnBe1KbXDd\n",
              "4IqVu+YFy2xsOlWii63xrEhGsLsvxQjyx73JaVaM3zhiLRM4iOwZlUcNtFDi9pPXZqHZ/SYDoU1a\n",
              "16ncuxMoAAs0t8l/6gjMvsiGpIX1pUHK+C+cLLRir3rio6bgAAB2GNtyN4VR3P6e/C7qFcq97NOG\n",
              "1x5mB0qaQuXrw1cn/UJPqffD4qhFb5gFbgYP4srJYW7/QmESSIO9ytK8ZNPsonVpfqz/IOqQ5qXb\n",
              "HxbkH25NdNnPjtaihc9A+Fzy0+tN5ZgRrvOhNYo52UXn2rvcsA/n1/vxkyih85G/4IMHp6Mr1bRA\n",
              "FqOtd3m4T/HNC0OjJK0knyIMVsJ+pb/yGnb8zmwKzL8hGo3ec/JzN+DWTvWGxZeYjy5Myz30FIPk\n",
              "VsUGhqXHbD8TXgfXg8FEUO2MGTrE8JqQ3erfrR9btXZMnxHEEirMCSVKcqiTz3SZRXUnfWWjwTcM\n",
              "ssmNx/z35gTgu4aeQYU4mTa7WEQSKP6anRBT0d63PUgbXuCRIjtwcDt6OFY9S6+I29f1/9numPgj\n",
              "ivu9g13qbjT6jM+Z6gsdcBY2Y6fleznPPHicQ7/mTxqJUMyIMIn3G79VMsrPRc2Ie3mqG+anZZFx\n",
              "9OzC5cV//0jw95a1eFJ5KPdelbuohRtmUYKdVcIXv9WQR9jaH/OgK4JhxGGANKJ2SH9pDjf2u2H4\n",
              "rNskKMNwmotgMNHzw4QKzIwAFIHcIrSl9XVGPq87ezE2JcfDbjX5TkHe6TNbY686VPdjJyGsZvUA\n",
              "/7O1Oxh6ZTNDP130QCgNXOOwHLa8UwaPB3jmGtsF+7V+gIWHqcbYwCP7RT0aPmaINU0hlKxHiG7w\n",
              "13JGXRrRDDavXCs9uVlWmdH8QV5PfcQnIPLZZNyyvkqCWNyVap6r3YgJnEdLLaD8cSuvXI2n59bV\n",
              "6dcLBvJBeOkQxLAUsGXMtWPh0MMtBHbXMoqBSpwVqxAShjfcPFzO+Yqaf1/H2fBGul88qI4nBZ9u\n",
              "AsJIt0RmgNlSuEBFYAFwcLL9urNTeck2O3P6dJbUc95pJOMDRRm434/1ZTzZi7p83SwPQ4dLMQNm\n",
              "WzS65/mpS2ExPF8XGTZEMxbAWTnpyZqa9x8B+PAi8uuwzxaZDfr/A2J4amXwb21t3Pb0YoZollR+\n",
              "6ok1CZS3Ch9XnKIad1rR1MRX0FDDcS0EKOOeXljGlVPQUeq7w3p6xLHemSVLdGBcsMPQkLkT2jZI\n",
              "lPnwzVrdgguPlJPLBX96XDX2QDw+U376XQgOZYPXCXe/iEcWmZYAAAMAAlXT6X076jn9Ai/G3TiZ\n",
              "R9OgOn/qHdxXwop1TnuM8ot0vKrIF70HaCf+tDHgBQSSVMs1QLFrYDvVgs6QFwHDA6L7pURAmg90\n",
              "NyaHoIKvsz0t6f4klcPLEbteNVN/OcAJwhgaDaUYyw/CT/S43YYJSNL/tmEf8uD7w8xMQBQE0mYQ\n",
              "F/8dQ7uT9FECL+kSAGNmdSN0n20xurMUHS2vi22SuoY6jnnE7gS2gfW9fyxt70bpuXIdrjQ5w1pm\n",
              "XKqU9kIhuZ4s4vawqompbluOWbzisYj9iud2gRXMIro0IDQ1vIkVAAdgWpNjh3g4K6WOR4vI6TKT\n",
              "gkOrrSxT0ENZXijMMTZ3TioqN1WFFkf854IxW26bCDR6KR4+ylxpiKaOFP4LLJFyi//PbnD56VXI\n",
              "GPxSdasM4V4GvremBCpzWGxFfng4xjTT/taazHtTGrMp1+LreqwEU3ix/7JWj5u5eayU8ah+epoh\n",
              "yMFnukk79KuJ4wrPXwdVw4gs2d0axzeoQ6bYWC8va5zGSar6VkB3GFbfEOJYFd7/y7xxVyTC5cjl\n",
              "J6lQAtxRXRcrCjj3GzDuABrVB2+D8AorbfeZUKhZUZ3mXzrmQ5IuREXo7xYsTukD3LFcDG/5ld8q\n",
              "aI06hLv36LwWbDmZIxty0myl8jdUhxecNXGPllNemNomG11YZn97atRelrMtWZRaAusxfJofbjA0\n",
              "wVn9tmOCxgoLEfweVgChyBqzLHUv9Ks4MTNN3+uETo701ZoH8UNrY9bsj8IDZ6/+eo0rcTCJhWva\n",
              "AUXwvM7nOg1nbTB36aV2iwuaLUTSbktfVZN2IPbq0W6TG69TXbVwK+l+HpRbwaKFFFE/Nh2xXv6u\n",
              "KOiZVZxidNUwyVxHYwUCKumwqMwfpp+mJqjEfBtdHPjif6QTVLwqbKdP2lelUqQkp917a7dUwxvq\n",
              "+c8RHoLtFdfmkNWHSqAucgxjOyh6swY8bCf+YRhK7mUnHbjem6dFcHF1hPCjkSXZCo0lfcX34Mcv\n",
              "mw8A1GcGd2wN7V2s1K/tMH/EVGfWWf/MYGoehSXkuTtCfQysf2Afzw8XhqKstNGVzXqdzmOl4u4m\n",
              "7GWvX+ebR892JtFu2RZSEc8v5O5e1kGdvIpt9DkDO0wXazm5u00PmoK3y9Jd7h7vywwesYYa7Lsg\n",
              "So0WwrQbQBKet2zRT55hM58K4X48Rv45xujVt1dJOQuTl8pwROV74nS3AMMpKsNQZO6WpaAlwV9h\n",
              "rpors+sDz5XfPjGjEqF9i+yV0rk9x7KHuTaYTlcYXjBzscFuVZV7LLrSOuV8uhfaQ04STdeqw7J8\n",
              "n6Icjr5sKkp2i9Bs/HX+ipVknB9ar/cWGM0aaKnctXdP/TNJp5qFXPibO/6W6cgOVbYdaJQVpX0B\n",
              "IYOTTIBssYm+W4OBA1lT5mbcp3V/pzTB3IfbBdL5Mm0WQx33Ab8OnNUPj/qi6AAAAwAAh4EAAAHP\n",
              "QZokbEFf/talUABqNZwKACv57GDv6vex6jizc1Ku3zm5BCugXywr4z/X42+AjcMqYjpZIcNh0ABj\n",
              "pMUUsNj4iFfsLp7DOMTT7NNGI2EWayxdUzG9ojw4o0+bI9ozbRVkWE/OqqgnjVnkaIJbaaSe3arb\n",
              "VsqNaUdDw7KRHTZzLi8a0wJm0UoreTwPaiMIPnnUS+RhDLJWN4iXUkJM4gZgJLbpUu/M8d/Bdtn0\n",
              "XQHCbDJCRCGgw3cvJ1FX+4wczwqcRPZeW6hzUqjF1iPOWCNYEf+ugOnuBpWIaT4qQTV9Pn+rL7a0\n",
              "JGi34oZOrqN7TpPeoTv9pU6OdBx98G+DW0b6gviQowxilQm6Y9kXV0iURWkh+hiK7rItoc7tkJvS\n",
              "/yLG4u0DbDLcocRA2J2/uq1Y6lhrg/IM3zkDhM+Atf9LPrO7qxvNlfPoXyJoixeI4Bz9wZJ5qB94\n",
              "g8VkN24KQnusdLH0kQTPy/G8UWmxlWiM9OWSoJSnwF/PXEjnM2SFNxGNuAAO0MTH7sWdv6QPaSuX\n",
              "xR92+LYYPOIxT6L76c0zVUQmASHDWKnpuSNXsYOZ0XYuyOO0mdo7FXJV+Y2q0Pw71CFeQIrCyYr2\n",
              "fTKDnLEHVAAAAP9BnkJ4gn8AAQ/h31y+oMgsxMzgAOXgNix+jHWnemQbyW0o4tum2tEj6MWFfTOw\n",
              "QlGvEQwshOPjAgjaJg3KklznrlRCGs8CixSij+NfIFuLLx92kmK4bN4DECR0tBecsYCMGEH9Ol0C\n",
              "q0q22iV3xmFJOtc7w/Gyf/iQIh8PetMT0mJpb6wZBTP5zEh3a6lJjHsMAAHKWoagifTDNIE5qxvl\n",
              "mwLV40YknN9lOcpFKxgZRd1Fa/djG3qMIA9LOkk14pj7oOuzgEEIgiatZNMkVRTmBJ86q3JAfFXn\n",
              "6I85V4CPOErjB5GLeuhNqy8oIE9CPHnxciFRC/Um0Jo3DB3wDekAAAD4AZ5hdEEvAAGbWMJSFzeF\n",
              "R6gB1AQvFqpAA/nB4PWZJTK6BC+CeCNZ8y8oxubFGn6rZQBl+9MSMfZ0DvzrnyseLdqF0g1rY23A\n",
              "ioCTtZMody3NOPKmbGi9i8FbQvwyQ34vsmWyilW7FsydmYUz4iV6Y2sQWJ1bVAxYvDhzY1lHWdkO\n",
              "Br3c1I4Hdy/51H6VAWTY7wpBAUqc98DMNuCRPmEsehCDBVtkQt711cdn1ceEQRo7C/WSLGPKHqqX\n",
              "zsyo0ssZi2KlEByCwzTyIoOzT7oRK2rI+nnV0r+PSq8tFgO8NuWqEBvKRAFiAHnYeuRTbcHmDalV\n",
              "qAnIBgQAAAC1AZ5jakEvAAB+o1pZ21IAIcMOiHiOklJto1ghucdf1fQsOfqERFGdMyk3p+aQP2+D\n",
              "D+0+3a1qbJZbhK5gjyqGOty/GGqP4diRSX3Gg9oyn3RatNYK+zclV+7n+9hxQoaxQiVdSn0OI8T2\n",
              "dJAXNOlKcAsOFS/7z1Hw02NyV8mpGFK89CtcDD83j9GgA1eVWFUW6jVz49XXDWi/3I2vnXUwj3ob\n",
              "F+4uuTSmxtSidHEjcdco6ogK2QAAAQRBmmhJqEFomUwIK//+1qVQACEI7MzIGoN8giACXMkQ9Fk6\n",
              "dvtL9zQGND1twgBuRKwFm8b6zhQmpJEiEOdC8+0V/Q3rDTTWjjd0+fcg2cDhEv6hu1XsVfshE2b9\n",
              "Rb556IedBNApXiUdkYb6lCs3JgrcXZ1bccPFCDMbpy8KE+TkxKTylOY/tCbm8DsgRJQq81yymG/7\n",
              "PU8mjdkiV2nw6UVDtlpw6fCogvpFgkD4knWxEl/bj/EY8r0GLOkshKRvl63id4ct6LwH9Ew6U2mD\n",
              "hRf45rUTFs1BEEPCeROB0590oxmVHMicXCM8tjzS+qx4PPBY/M/PA0u3ZBXc6dKzWuvqAACZgQAA\n",
              "AHdBnoZFESwT/wAAVcBjPqBzb9hwmfJHauAA5yMaysZk8Nil6n3OZ2HRTnncDa/CXyVyux2oFttm\n",
              "Cv+Lh+qt+5OJjFPWQDpJv7rzt8NGxncQcfrY0K4HuNFR+cCOVE+rLalXlQyU7fwlKt3We7MOII+4\n",
              "fZmzYAAXEQAAAJkBnqV0QS8AAH2CK71UWzWJdKkADr4ckKREtg1cctk7cG9xGnhmeNK/vRQcstjq\n",
              "BA1P13VqLw2Xfow0ZUodWFTZVF0oK0eWItKC1uMMdrFTXzIvmK4zrfCBS4ddZbGzrEF1rwo85D2E\n",
              "cZ6jNC/RPhe9YPGlzCshUNmzGgHkFsksbgrqkLSVTByxxXgEAEVyZYlRvQZxnyAAFlEAAABtAZ6n\n",
              "akEvAAB92TW3utvPCVUAIOcswbYbHmcPAkHEE3cqqWhK+sH0HH5AewvYnza9r5lB0+Pw7ayjgDH8\n",
              "J5ZcdQEyrMCUnDKVnz9qK73IRevkyDgLuUA8mZClCKkrgEFP97XEIBrrKgAAAwAMqAAAAPBBmqpJ\n",
              "qEFsmUwUTBT//taMsABCEM8SX+98/113oyAAscv026bG3qi5zPg4LXwUOZZqQvpoHlremTgyZafw\n",
              "ie6iX40HtfcyDq6LHWgX/8KWeaMOhcQezmkcXcfBjfRtpazsCGWQKYtSt+fUN4/+l7Lm4ZLDZA2i\n",
              "AI/iLKBMLtQbxvu4Ocy8/JACNWtwJnRtXimXay2/v/zuHGsa3m4ZicqsiUBTG3gShmSvVxIEmIit\n",
              "7SyQQqgQEZ5/mW9LvcXepO2X1rP8Vhlpvhbfyg8CmR1xT/8oKqXJKHkm6qg1h9ZCWMMKnz2t/ths\n",
              "E1FUxGgAAsoAAABlAZ7JakEvAAB9gizyPxFvwwUoKQAOfvynRrZbHvrug7AXMaghgEYBKKLDcmww\n",
              "I8t48C1t9E1dKQCY+qtTaCWjPwYMcxSBOBRDb7WRNBIMLppmeLhyv2vZqx/N0g9gVgqAAAADAysA\n",
              "AACDQZrOSeEKUmUwIJf//rUqgAEAcXbABtW8MyNR9dSJssrbOqNVGcsmiog5X5FV1nR6HFWrPPaN\n",
              "pfxtG1Cr3wv0tZrqIjDvXy+dKRkxqhhiurUbO8UEOjN4mTYMWYXfYQT3QCuJnwDz87N2tcw025RU\n",
              "+OH6qL/OHVu/wLsNedEAAAMAAvIAAAB4QZ7sRTRME/8AAFcsLACWglM+YYh7Df0pT0ESCKuYEmPr\n",
              "Mt+VMp5OJuoVry2poyMVgMqRlX8hqMIUE2ljUm2phBkpcWJHx0pkhaTXXSKcil+FOQsnnyTLL/U1\n",
              "Ciu4K8OGk4ZNS/eHPHZy6aJtWOfkH7GFAAADAAZUAAAAWQGfC3RBLwAAftT+2ADamQmYxRyr+Syn\n",
              "Wv2GEdMP07yjTXDkXaQnWqmPrKa8vGlp33u9Ah0htsmS93qqG3fwKUty8Kci2S+T45UVzv53puBr\n",
              "xpJUAAADABlRAAAAagGfDWpBLwAAfq7CSAAhUdKF2FfCiuEj5rIn1dYMTl00G1kVweZBgD0hAuUy\n",
              "ITCvn9J5mnqD52dE5h348Z53+Z+V4jCVJ5g7Hbx6nLhTsrE5yvXxagpqPWUKk6/r/CVG+R7YOv4A\n",
              "AAMAEnEAAAPibW9vdgAAAGxtdmhkAAAAAAAAAAAAAAAAAAAD6AAAF3AAAQAAAQAAAAAAAAAAAAAA\n",
              "AAEAAAAAAAAAAAAAAAAAAAABAAAAAAAAAAAAAAAAAABAAAAAAAAAAAAAAAAAAAAAAAAAAAAAAAAA\n",
              "AAAAAAAAAgAAAwx0cmFrAAAAXHRraGQAAAADAAAAAAAAAAAAAAABAAAAAAAAF3AAAAAAAAAAAAAA\n",
              "AAAAAAAAAAEAAAAAAAAAAAAAAAAAAAABAAAAAAAAAAAAAAAAAABAAAAAAtAAAAGwAAAAAAAkZWR0\n",
              "cwAAABxlbHN0AAAAAAAAAAEAABdwAAAgAAABAAAAAAKEbWRpYQAAACBtZGhkAAAAAAAAAAAAAAAA\n",
              "AAAoAAAA8ABVxAAAAAAALWhkbHIAAAAAAAAAAHZpZGUAAAAAAAAAAAAAAABWaWRlb0hhbmRsZXIA\n",
              "AAACL21pbmYAAAAUdm1oZAAAAAEAAAAAAAAAAAAAACRkaW5mAAAAHGRyZWYAAAAAAAAAAQAAAAx1\n",
              "cmwgAAAAAQAAAe9zdGJsAAAAs3N0c2QAAAAAAAAAAQAAAKNhdmMxAAAAAAAAAAEAAAAAAAAAAAAA\n",
              "AAAAAAAAAtABsABIAAAASAAAAAAAAAABAAAAAAAAAAAAAAAAAAAAAAAAAAAAAAAAAAAAAAAAAAAA\n",
              "GP//AAAAMWF2Y0MBZAAW/+EAGGdkABas2UC0N6EAAAMAAgAAAwAKDxYtlgEABmjr48siwAAAABx1\n",
              "dWlka2hA8l8kT8W6OaUbzwMj8wAAAAAAAAAYc3R0cwAAAAAAAAABAAAADwAAEAAAAAAUc3RzcwAA\n",
              "AAAAAAABAAAAAQAAAIhjdHRzAAAAAAAAAA8AAAABAAAgAAAAAAEAAFAAAAAAAQAAIAAAAAABAAAA\n",
              "AAAAAAEAABAAAAAAAQAAUAAAAAABAAAgAAAAAAEAAAAAAAAAAQAAEAAAAAABAAAwAAAAAAEAABAA\n",
              "AAAAAQAAUAAAAAABAAAgAAAAAAEAAAAAAAAAAQAAEAAAAAAcc3RzYwAAAAAAAAABAAAAAQAAAA8A\n",
              "AAABAAAAUHN0c3oAAAAAAAAAAAAAAA8AAB9uAAAB0wAAAQMAAAD8AAAAuQAAAQgAAAB7AAAAnQAA\n",
              "AHEAAAD0AAAAaQAAAIcAAAB8AAAAXQAAAG4AAAAUc3RjbwAAAAAAAAABAAAALAAAAGJ1ZHRhAAAA\n",
              "Wm1ldGEAAAAAAAAAIWhkbHIAAAAAAAAAAG1kaXJhcHBsAAAAAAAAAAAAAAAALWlsc3QAAAAlqXRv\n",
              "bwAAAB1kYXRhAAAAAQAAAABMYXZmNTcuODMuMTAw\n",
              "\">\n",
              "  Your browser does not support the video tag.\n",
              "</video>"
            ],
            "text/plain": [
              "<IPython.core.display.HTML object>"
            ]
          },
          "metadata": {
            "tags": []
          },
          "execution_count": 29
        }
      ]
    }
  ]
}