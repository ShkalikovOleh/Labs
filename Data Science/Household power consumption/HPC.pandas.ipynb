{
 "cells": [
  {
   "cell_type": "code",
   "execution_count": 3,
   "metadata": {},
   "outputs": [],
   "source": [
    "import numpy as np\n",
    "import pandas as pd\n",
    "\n",
    "pd.set_option('precision', 3)"
   ]
  },
  {
   "cell_type": "markdown",
   "metadata": {},
   "source": [
    "# Household power consumption\n",
    "## Pandas implementation\n",
    "[Data source](https://archive.ics.uci.edu/ml/datasets/individual+household+electric+power+consumption)"
   ]
  },
  {
   "cell_type": "code",
   "execution_count": 4,
   "metadata": {},
   "outputs": [],
   "source": [
    "#if you dont have data locally \n",
    "\n",
    "#import data\n",
    "#data.download_power_ds()"
   ]
  },
  {
   "cell_type": "code",
   "execution_count": 5,
   "metadata": {},
   "outputs": [
    {
     "output_type": "stream",
     "name": "stdout",
     "text": "CPU times: user 2.5 s, sys: 287 ms, total: 2.79 s\nWall time: 3.27 s\n"
    }
   ],
   "source": [
    "%%time\n",
    "power = pd.read_csv(\"data/household_power_consumption.txt\", delimiter=';')\n",
    "power.columns = ['Date', 'Time', 'Active', 'Reactive', 'Voltage', 'Intensity', 'met1', 'met2', 'met3']"
   ]
  },
  {
   "cell_type": "code",
   "execution_count": 6,
   "metadata": {},
   "outputs": [
    {
     "output_type": "stream",
     "name": "stdout",
     "text": "<class 'pandas.core.frame.DataFrame'>\nRangeIndex: 2075259 entries, 0 to 2075258\nData columns (total 9 columns):\n #   Column     Dtype  \n---  ------     -----  \n 0   Date       object \n 1   Time       object \n 2   Active     object \n 3   Reactive   object \n 4   Voltage    object \n 5   Intensity  object \n 6   met1       object \n 7   met2       object \n 8   met3       float64\ndtypes: float64(1), object(8)\nmemory usage: 142.5+ MB\n"
    }
   ],
   "source": [
    "power.info()"
   ]
  },
  {
   "cell_type": "code",
   "execution_count": 7,
   "metadata": {},
   "outputs": [
    {
     "output_type": "stream",
     "name": "stdout",
     "text": "CPU times: user 10.6 s, sys: 135 ms, total: 10.8 s\nWall time: 10.8 s\n"
    }
   ],
   "source": [
    "%%time\n",
    "\n",
    "power['DateTime'] = pd.to_datetime(power['Date'] + '-' + power['Time'], format=\"%d/%m/%Y-%H:%M:%S\")\n",
    "power.drop(columns = ['Date', 'Time'], inplace=True)\n",
    "power.set_index('DateTime', inplace=True)"
   ]
  },
  {
   "cell_type": "code",
   "execution_count": 8,
   "metadata": {},
   "outputs": [
    {
     "output_type": "stream",
     "name": "stdout",
     "text": "CPU times: user 1.21 s, sys: 64.3 ms, total: 1.27 s\nWall time: 1.27 s\n"
    }
   ],
   "source": [
    "%%time\n",
    "power.drop(power[power.isna().any(axis=1)].index, inplace=True) #drop because task required this"
   ]
  },
  {
   "cell_type": "code",
   "execution_count": 9,
   "metadata": {},
   "outputs": [
    {
     "output_type": "stream",
     "name": "stdout",
     "text": "CPU times: user 1.36 s, sys: 165 ms, total: 1.53 s\nWall time: 1.52 s\n"
    }
   ],
   "source": [
    "%%time\n",
    "\n",
    "for column in power.columns:\n",
    "    power[column] = power[column].astype('float32')"
   ]
  },
  {
   "cell_type": "code",
   "execution_count": 10,
   "metadata": {},
   "outputs": [
    {
     "output_type": "execute_result",
     "data": {
      "text/plain": "                     Active  Reactive  Voltage  Intensity  met1  met2  met3\nDateTime                                                                   \n2006-12-16 17:24:00   4.216     0.418   234.84       18.4   0.0   1.0  17.0\n2006-12-16 17:25:00   5.360     0.436   233.63       23.0   0.0   1.0  16.0\n2006-12-16 17:26:00   5.374     0.498   233.29       23.0   0.0   2.0  17.0\n2006-12-16 17:27:00   5.388     0.502   233.74       23.0   0.0   1.0  17.0\n2006-12-16 17:28:00   3.666     0.528   235.68       15.8   0.0   1.0  17.0\n2006-12-16 17:29:00   3.520     0.522   235.02       15.0   0.0   2.0  17.0\n2006-12-16 17:30:00   3.702     0.520   235.09       15.8   0.0   1.0  17.0\n2006-12-16 17:31:00   3.700     0.520   235.22       15.8   0.0   1.0  17.0\n2006-12-16 17:32:00   3.668     0.510   233.99       15.8   0.0   1.0  17.0\n2006-12-16 17:33:00   3.662     0.510   233.86       15.8   0.0   2.0  16.0",
      "text/html": "<div>\n<style scoped>\n    .dataframe tbody tr th:only-of-type {\n        vertical-align: middle;\n    }\n\n    .dataframe tbody tr th {\n        vertical-align: top;\n    }\n\n    .dataframe thead th {\n        text-align: right;\n    }\n</style>\n<table border=\"1\" class=\"dataframe\">\n  <thead>\n    <tr style=\"text-align: right;\">\n      <th></th>\n      <th>Active</th>\n      <th>Reactive</th>\n      <th>Voltage</th>\n      <th>Intensity</th>\n      <th>met1</th>\n      <th>met2</th>\n      <th>met3</th>\n    </tr>\n    <tr>\n      <th>DateTime</th>\n      <th></th>\n      <th></th>\n      <th></th>\n      <th></th>\n      <th></th>\n      <th></th>\n      <th></th>\n    </tr>\n  </thead>\n  <tbody>\n    <tr>\n      <th>2006-12-16 17:24:00</th>\n      <td>4.216</td>\n      <td>0.418</td>\n      <td>234.84</td>\n      <td>18.4</td>\n      <td>0.0</td>\n      <td>1.0</td>\n      <td>17.0</td>\n    </tr>\n    <tr>\n      <th>2006-12-16 17:25:00</th>\n      <td>5.360</td>\n      <td>0.436</td>\n      <td>233.63</td>\n      <td>23.0</td>\n      <td>0.0</td>\n      <td>1.0</td>\n      <td>16.0</td>\n    </tr>\n    <tr>\n      <th>2006-12-16 17:26:00</th>\n      <td>5.374</td>\n      <td>0.498</td>\n      <td>233.29</td>\n      <td>23.0</td>\n      <td>0.0</td>\n      <td>2.0</td>\n      <td>17.0</td>\n    </tr>\n    <tr>\n      <th>2006-12-16 17:27:00</th>\n      <td>5.388</td>\n      <td>0.502</td>\n      <td>233.74</td>\n      <td>23.0</td>\n      <td>0.0</td>\n      <td>1.0</td>\n      <td>17.0</td>\n    </tr>\n    <tr>\n      <th>2006-12-16 17:28:00</th>\n      <td>3.666</td>\n      <td>0.528</td>\n      <td>235.68</td>\n      <td>15.8</td>\n      <td>0.0</td>\n      <td>1.0</td>\n      <td>17.0</td>\n    </tr>\n    <tr>\n      <th>2006-12-16 17:29:00</th>\n      <td>3.520</td>\n      <td>0.522</td>\n      <td>235.02</td>\n      <td>15.0</td>\n      <td>0.0</td>\n      <td>2.0</td>\n      <td>17.0</td>\n    </tr>\n    <tr>\n      <th>2006-12-16 17:30:00</th>\n      <td>3.702</td>\n      <td>0.520</td>\n      <td>235.09</td>\n      <td>15.8</td>\n      <td>0.0</td>\n      <td>1.0</td>\n      <td>17.0</td>\n    </tr>\n    <tr>\n      <th>2006-12-16 17:31:00</th>\n      <td>3.700</td>\n      <td>0.520</td>\n      <td>235.22</td>\n      <td>15.8</td>\n      <td>0.0</td>\n      <td>1.0</td>\n      <td>17.0</td>\n    </tr>\n    <tr>\n      <th>2006-12-16 17:32:00</th>\n      <td>3.668</td>\n      <td>0.510</td>\n      <td>233.99</td>\n      <td>15.8</td>\n      <td>0.0</td>\n      <td>1.0</td>\n      <td>17.0</td>\n    </tr>\n    <tr>\n      <th>2006-12-16 17:33:00</th>\n      <td>3.662</td>\n      <td>0.510</td>\n      <td>233.86</td>\n      <td>15.8</td>\n      <td>0.0</td>\n      <td>2.0</td>\n      <td>16.0</td>\n    </tr>\n  </tbody>\n</table>\n</div>"
     },
     "metadata": {},
     "execution_count": 10
    }
   ],
   "source": [
    "power.head(10)"
   ]
  },
  {
   "cell_type": "code",
   "execution_count": 11,
   "metadata": {},
   "outputs": [],
   "source": [
    "def is_integer_column(column):\n",
    "    return power[column].apply(float.is_integer).all()\n",
    "\n",
    "for column in power.columns:\n",
    "    if is_integer_column(column):\n",
    "        power[column] = power[column].astype('int32')"
   ]
  },
  {
   "cell_type": "code",
   "execution_count": 12,
   "metadata": {},
   "outputs": [
    {
     "output_type": "stream",
     "name": "stdout",
     "text": "<class 'pandas.core.frame.DataFrame'>\nDatetimeIndex: 2049280 entries, 2006-12-16 17:24:00 to 2010-11-26 21:02:00\nData columns (total 7 columns):\n #   Column     Dtype  \n---  ------     -----  \n 0   Active     float32\n 1   Reactive   float32\n 2   Voltage    float32\n 3   Intensity  float32\n 4   met1       int32  \n 5   met2       int32  \n 6   met3       int32  \ndtypes: float32(4), int32(3)\nmemory usage: 70.4 MB\n"
    }
   ],
   "source": [
    "power.info()"
   ]
  },
  {
   "cell_type": "code",
   "execution_count": 13,
   "metadata": {},
   "outputs": [
    {
     "output_type": "execute_result",
     "data": {
      "text/plain": "                     Active  Reactive  Voltage  Intensity  met1  met2  met3\nDateTime                                                                   \n2006-12-16 17:24:00   4.216     0.418   234.84       18.4     0     1    17\n2006-12-16 17:25:00   5.360     0.436   233.63       23.0     0     1    16\n2006-12-16 17:26:00   5.374     0.498   233.29       23.0     0     2    17\n2006-12-16 17:27:00   5.388     0.502   233.74       23.0     0     1    17\n2006-12-16 17:28:00   3.666     0.528   235.68       15.8     0     1    17\n2006-12-16 17:29:00   3.520     0.522   235.02       15.0     0     2    17\n2006-12-16 17:30:00   3.702     0.520   235.09       15.8     0     1    17\n2006-12-16 17:31:00   3.700     0.520   235.22       15.8     0     1    17\n2006-12-16 17:32:00   3.668     0.510   233.99       15.8     0     1    17\n2006-12-16 17:33:00   3.662     0.510   233.86       15.8     0     2    16",
      "text/html": "<div>\n<style scoped>\n    .dataframe tbody tr th:only-of-type {\n        vertical-align: middle;\n    }\n\n    .dataframe tbody tr th {\n        vertical-align: top;\n    }\n\n    .dataframe thead th {\n        text-align: right;\n    }\n</style>\n<table border=\"1\" class=\"dataframe\">\n  <thead>\n    <tr style=\"text-align: right;\">\n      <th></th>\n      <th>Active</th>\n      <th>Reactive</th>\n      <th>Voltage</th>\n      <th>Intensity</th>\n      <th>met1</th>\n      <th>met2</th>\n      <th>met3</th>\n    </tr>\n    <tr>\n      <th>DateTime</th>\n      <th></th>\n      <th></th>\n      <th></th>\n      <th></th>\n      <th></th>\n      <th></th>\n      <th></th>\n    </tr>\n  </thead>\n  <tbody>\n    <tr>\n      <th>2006-12-16 17:24:00</th>\n      <td>4.216</td>\n      <td>0.418</td>\n      <td>234.84</td>\n      <td>18.4</td>\n      <td>0</td>\n      <td>1</td>\n      <td>17</td>\n    </tr>\n    <tr>\n      <th>2006-12-16 17:25:00</th>\n      <td>5.360</td>\n      <td>0.436</td>\n      <td>233.63</td>\n      <td>23.0</td>\n      <td>0</td>\n      <td>1</td>\n      <td>16</td>\n    </tr>\n    <tr>\n      <th>2006-12-16 17:26:00</th>\n      <td>5.374</td>\n      <td>0.498</td>\n      <td>233.29</td>\n      <td>23.0</td>\n      <td>0</td>\n      <td>2</td>\n      <td>17</td>\n    </tr>\n    <tr>\n      <th>2006-12-16 17:27:00</th>\n      <td>5.388</td>\n      <td>0.502</td>\n      <td>233.74</td>\n      <td>23.0</td>\n      <td>0</td>\n      <td>1</td>\n      <td>17</td>\n    </tr>\n    <tr>\n      <th>2006-12-16 17:28:00</th>\n      <td>3.666</td>\n      <td>0.528</td>\n      <td>235.68</td>\n      <td>15.8</td>\n      <td>0</td>\n      <td>1</td>\n      <td>17</td>\n    </tr>\n    <tr>\n      <th>2006-12-16 17:29:00</th>\n      <td>3.520</td>\n      <td>0.522</td>\n      <td>235.02</td>\n      <td>15.0</td>\n      <td>0</td>\n      <td>2</td>\n      <td>17</td>\n    </tr>\n    <tr>\n      <th>2006-12-16 17:30:00</th>\n      <td>3.702</td>\n      <td>0.520</td>\n      <td>235.09</td>\n      <td>15.8</td>\n      <td>0</td>\n      <td>1</td>\n      <td>17</td>\n    </tr>\n    <tr>\n      <th>2006-12-16 17:31:00</th>\n      <td>3.700</td>\n      <td>0.520</td>\n      <td>235.22</td>\n      <td>15.8</td>\n      <td>0</td>\n      <td>1</td>\n      <td>17</td>\n    </tr>\n    <tr>\n      <th>2006-12-16 17:32:00</th>\n      <td>3.668</td>\n      <td>0.510</td>\n      <td>233.99</td>\n      <td>15.8</td>\n      <td>0</td>\n      <td>1</td>\n      <td>17</td>\n    </tr>\n    <tr>\n      <th>2006-12-16 17:33:00</th>\n      <td>3.662</td>\n      <td>0.510</td>\n      <td>233.86</td>\n      <td>15.8</td>\n      <td>0</td>\n      <td>2</td>\n      <td>16</td>\n    </tr>\n  </tbody>\n</table>\n</div>"
     },
     "metadata": {},
     "execution_count": 13
    }
   ],
   "source": [
    "power.head(10)"
   ]
  },
  {
   "cell_type": "markdown",
   "metadata": {},
   "source": [
    "## Task 1\n",
    "Select all rows where Active > 5 kW"
   ]
  },
  {
   "cell_type": "code",
   "execution_count": 14,
   "metadata": {},
   "outputs": [
    {
     "output_type": "execute_result",
     "data": {
      "text/plain": "                     Active  Reactive  Voltage  Intensity  met1  met2  met3\nDateTime                                                                   \n2006-12-16 17:25:00   5.360     0.436   233.63       23.0     0     1    16\n2006-12-16 17:26:00   5.374     0.498   233.29       23.0     0     2    17\n2006-12-16 17:27:00   5.388     0.502   233.74       23.0     0     1    17\n2006-12-16 17:35:00   5.412     0.470   232.78       23.2     0     1    17\n2006-12-16 17:36:00   5.224     0.478   232.99       22.4     0     1    16\n...                     ...       ...      ...        ...   ...   ...   ...\n2010-11-22 18:40:00   5.408     0.150   231.50       23.6    48     0     0\n2010-11-22 18:41:00   5.528     0.144   232.48       24.6    53     0     0\n2010-11-24 07:50:00   5.172     0.050   235.18       22.0     0    38    17\n2010-11-24 07:51:00   5.750     0.000   234.40       24.6     0    39    17\n2010-11-25 07:21:00   5.074     0.240   238.55       21.4     1     2    18\n\n[17547 rows x 7 columns]",
      "text/html": "<div>\n<style scoped>\n    .dataframe tbody tr th:only-of-type {\n        vertical-align: middle;\n    }\n\n    .dataframe tbody tr th {\n        vertical-align: top;\n    }\n\n    .dataframe thead th {\n        text-align: right;\n    }\n</style>\n<table border=\"1\" class=\"dataframe\">\n  <thead>\n    <tr style=\"text-align: right;\">\n      <th></th>\n      <th>Active</th>\n      <th>Reactive</th>\n      <th>Voltage</th>\n      <th>Intensity</th>\n      <th>met1</th>\n      <th>met2</th>\n      <th>met3</th>\n    </tr>\n    <tr>\n      <th>DateTime</th>\n      <th></th>\n      <th></th>\n      <th></th>\n      <th></th>\n      <th></th>\n      <th></th>\n      <th></th>\n    </tr>\n  </thead>\n  <tbody>\n    <tr>\n      <th>2006-12-16 17:25:00</th>\n      <td>5.360</td>\n      <td>0.436</td>\n      <td>233.63</td>\n      <td>23.0</td>\n      <td>0</td>\n      <td>1</td>\n      <td>16</td>\n    </tr>\n    <tr>\n      <th>2006-12-16 17:26:00</th>\n      <td>5.374</td>\n      <td>0.498</td>\n      <td>233.29</td>\n      <td>23.0</td>\n      <td>0</td>\n      <td>2</td>\n      <td>17</td>\n    </tr>\n    <tr>\n      <th>2006-12-16 17:27:00</th>\n      <td>5.388</td>\n      <td>0.502</td>\n      <td>233.74</td>\n      <td>23.0</td>\n      <td>0</td>\n      <td>1</td>\n      <td>17</td>\n    </tr>\n    <tr>\n      <th>2006-12-16 17:35:00</th>\n      <td>5.412</td>\n      <td>0.470</td>\n      <td>232.78</td>\n      <td>23.2</td>\n      <td>0</td>\n      <td>1</td>\n      <td>17</td>\n    </tr>\n    <tr>\n      <th>2006-12-16 17:36:00</th>\n      <td>5.224</td>\n      <td>0.478</td>\n      <td>232.99</td>\n      <td>22.4</td>\n      <td>0</td>\n      <td>1</td>\n      <td>16</td>\n    </tr>\n    <tr>\n      <th>...</th>\n      <td>...</td>\n      <td>...</td>\n      <td>...</td>\n      <td>...</td>\n      <td>...</td>\n      <td>...</td>\n      <td>...</td>\n    </tr>\n    <tr>\n      <th>2010-11-22 18:40:00</th>\n      <td>5.408</td>\n      <td>0.150</td>\n      <td>231.50</td>\n      <td>23.6</td>\n      <td>48</td>\n      <td>0</td>\n      <td>0</td>\n    </tr>\n    <tr>\n      <th>2010-11-22 18:41:00</th>\n      <td>5.528</td>\n      <td>0.144</td>\n      <td>232.48</td>\n      <td>24.6</td>\n      <td>53</td>\n      <td>0</td>\n      <td>0</td>\n    </tr>\n    <tr>\n      <th>2010-11-24 07:50:00</th>\n      <td>5.172</td>\n      <td>0.050</td>\n      <td>235.18</td>\n      <td>22.0</td>\n      <td>0</td>\n      <td>38</td>\n      <td>17</td>\n    </tr>\n    <tr>\n      <th>2010-11-24 07:51:00</th>\n      <td>5.750</td>\n      <td>0.000</td>\n      <td>234.40</td>\n      <td>24.6</td>\n      <td>0</td>\n      <td>39</td>\n      <td>17</td>\n    </tr>\n    <tr>\n      <th>2010-11-25 07:21:00</th>\n      <td>5.074</td>\n      <td>0.240</td>\n      <td>238.55</td>\n      <td>21.4</td>\n      <td>1</td>\n      <td>2</td>\n      <td>18</td>\n    </tr>\n  </tbody>\n</table>\n<p>17547 rows × 7 columns</p>\n</div>"
     },
     "metadata": {},
     "execution_count": 14
    }
   ],
   "source": [
    "power[power['Active'] > 5]"
   ]
  },
  {
   "cell_type": "markdown",
   "metadata": {},
   "source": [
    "## Task 2\n",
    "Select all rows where Voltage > 235 V"
   ]
  },
  {
   "cell_type": "code",
   "execution_count": 15,
   "metadata": {},
   "outputs": [
    {
     "output_type": "execute_result",
     "data": {
      "text/plain": "                     Active  Reactive  Voltage  Intensity  met1  met2  met3\nDateTime                                                                   \n2006-12-16 17:28:00   3.666     0.528   235.68       15.8     0     1    17\n2006-12-16 17:29:00   3.520     0.522   235.02       15.0     0     2    17\n2006-12-16 17:30:00   3.702     0.520   235.09       15.8     0     1    17\n2006-12-16 17:31:00   3.700     0.520   235.22       15.8     0     1    17\n2006-12-16 17:38:00   4.054     0.422   235.24       17.6     0     1    17\n...                     ...       ...      ...        ...   ...   ...   ...\n2010-11-26 20:58:00   0.946     0.000   240.43        4.0     0     0     0\n2010-11-26 20:59:00   0.944     0.000   240.00        4.0     0     0     0\n2010-11-26 21:00:00   0.938     0.000   239.82        3.8     0     0     0\n2010-11-26 21:01:00   0.934     0.000   239.70        3.8     0     0     0\n2010-11-26 21:02:00   0.932     0.000   239.55        3.8     0     0     0\n\n[1952491 rows x 7 columns]",
      "text/html": "<div>\n<style scoped>\n    .dataframe tbody tr th:only-of-type {\n        vertical-align: middle;\n    }\n\n    .dataframe tbody tr th {\n        vertical-align: top;\n    }\n\n    .dataframe thead th {\n        text-align: right;\n    }\n</style>\n<table border=\"1\" class=\"dataframe\">\n  <thead>\n    <tr style=\"text-align: right;\">\n      <th></th>\n      <th>Active</th>\n      <th>Reactive</th>\n      <th>Voltage</th>\n      <th>Intensity</th>\n      <th>met1</th>\n      <th>met2</th>\n      <th>met3</th>\n    </tr>\n    <tr>\n      <th>DateTime</th>\n      <th></th>\n      <th></th>\n      <th></th>\n      <th></th>\n      <th></th>\n      <th></th>\n      <th></th>\n    </tr>\n  </thead>\n  <tbody>\n    <tr>\n      <th>2006-12-16 17:28:00</th>\n      <td>3.666</td>\n      <td>0.528</td>\n      <td>235.68</td>\n      <td>15.8</td>\n      <td>0</td>\n      <td>1</td>\n      <td>17</td>\n    </tr>\n    <tr>\n      <th>2006-12-16 17:29:00</th>\n      <td>3.520</td>\n      <td>0.522</td>\n      <td>235.02</td>\n      <td>15.0</td>\n      <td>0</td>\n      <td>2</td>\n      <td>17</td>\n    </tr>\n    <tr>\n      <th>2006-12-16 17:30:00</th>\n      <td>3.702</td>\n      <td>0.520</td>\n      <td>235.09</td>\n      <td>15.8</td>\n      <td>0</td>\n      <td>1</td>\n      <td>17</td>\n    </tr>\n    <tr>\n      <th>2006-12-16 17:31:00</th>\n      <td>3.700</td>\n      <td>0.520</td>\n      <td>235.22</td>\n      <td>15.8</td>\n      <td>0</td>\n      <td>1</td>\n      <td>17</td>\n    </tr>\n    <tr>\n      <th>2006-12-16 17:38:00</th>\n      <td>4.054</td>\n      <td>0.422</td>\n      <td>235.24</td>\n      <td>17.6</td>\n      <td>0</td>\n      <td>1</td>\n      <td>17</td>\n    </tr>\n    <tr>\n      <th>...</th>\n      <td>...</td>\n      <td>...</td>\n      <td>...</td>\n      <td>...</td>\n      <td>...</td>\n      <td>...</td>\n      <td>...</td>\n    </tr>\n    <tr>\n      <th>2010-11-26 20:58:00</th>\n      <td>0.946</td>\n      <td>0.000</td>\n      <td>240.43</td>\n      <td>4.0</td>\n      <td>0</td>\n      <td>0</td>\n      <td>0</td>\n    </tr>\n    <tr>\n      <th>2010-11-26 20:59:00</th>\n      <td>0.944</td>\n      <td>0.000</td>\n      <td>240.00</td>\n      <td>4.0</td>\n      <td>0</td>\n      <td>0</td>\n      <td>0</td>\n    </tr>\n    <tr>\n      <th>2010-11-26 21:00:00</th>\n      <td>0.938</td>\n      <td>0.000</td>\n      <td>239.82</td>\n      <td>3.8</td>\n      <td>0</td>\n      <td>0</td>\n      <td>0</td>\n    </tr>\n    <tr>\n      <th>2010-11-26 21:01:00</th>\n      <td>0.934</td>\n      <td>0.000</td>\n      <td>239.70</td>\n      <td>3.8</td>\n      <td>0</td>\n      <td>0</td>\n      <td>0</td>\n    </tr>\n    <tr>\n      <th>2010-11-26 21:02:00</th>\n      <td>0.932</td>\n      <td>0.000</td>\n      <td>239.55</td>\n      <td>3.8</td>\n      <td>0</td>\n      <td>0</td>\n      <td>0</td>\n    </tr>\n  </tbody>\n</table>\n<p>1952491 rows × 7 columns</p>\n</div>"
     },
     "metadata": {},
     "execution_count": 15
    }
   ],
   "source": [
    "power[power['Voltage'] > 235]"
   ]
  },
  {
   "cell_type": "markdown",
   "metadata": {},
   "source": [
    "## Task 3\n",
    "Select all where met2 > met3 from rows where Intensity in \\[19,20\\]"
   ]
  },
  {
   "cell_type": "code",
   "execution_count": 16,
   "metadata": {},
   "outputs": [
    {
     "output_type": "execute_result",
     "data": {
      "text/plain": "                     Active  Reactive  Voltage  Intensity  met1  met2  met3\nDateTime                                                                   \n2006-12-16 17:34:00   4.448     0.498   232.86       19.6     0     1    17\n2006-12-16 17:48:00   4.474     0.000   234.96       19.4     0     0    17\n2006-12-16 17:57:00   4.512     0.000   233.62       19.2     0     0    17\n2006-12-16 18:09:00   4.464     0.136   234.66       19.0     0    37    16\n2006-12-16 18:16:00   4.524     0.076   234.20       19.6     0     9    17\n...                     ...       ...      ...        ...   ...   ...   ...\n2010-11-24 07:53:00   4.666     0.000   235.72       19.8     0    39    17\n2010-11-24 07:54:00   4.694     0.000   236.78       19.8     0    39    18\n2010-11-24 07:55:00   4.602     0.000   237.08       19.4     0    40    17\n2010-11-24 07:56:00   4.536     0.000   237.03       19.0     0    39    17\n2010-11-24 07:57:00   4.626     0.000   236.78       19.4     0    39    17\n\n[7021 rows x 7 columns]",
      "text/html": "<div>\n<style scoped>\n    .dataframe tbody tr th:only-of-type {\n        vertical-align: middle;\n    }\n\n    .dataframe tbody tr th {\n        vertical-align: top;\n    }\n\n    .dataframe thead th {\n        text-align: right;\n    }\n</style>\n<table border=\"1\" class=\"dataframe\">\n  <thead>\n    <tr style=\"text-align: right;\">\n      <th></th>\n      <th>Active</th>\n      <th>Reactive</th>\n      <th>Voltage</th>\n      <th>Intensity</th>\n      <th>met1</th>\n      <th>met2</th>\n      <th>met3</th>\n    </tr>\n    <tr>\n      <th>DateTime</th>\n      <th></th>\n      <th></th>\n      <th></th>\n      <th></th>\n      <th></th>\n      <th></th>\n      <th></th>\n    </tr>\n  </thead>\n  <tbody>\n    <tr>\n      <th>2006-12-16 17:34:00</th>\n      <td>4.448</td>\n      <td>0.498</td>\n      <td>232.86</td>\n      <td>19.6</td>\n      <td>0</td>\n      <td>1</td>\n      <td>17</td>\n    </tr>\n    <tr>\n      <th>2006-12-16 17:48:00</th>\n      <td>4.474</td>\n      <td>0.000</td>\n      <td>234.96</td>\n      <td>19.4</td>\n      <td>0</td>\n      <td>0</td>\n      <td>17</td>\n    </tr>\n    <tr>\n      <th>2006-12-16 17:57:00</th>\n      <td>4.512</td>\n      <td>0.000</td>\n      <td>233.62</td>\n      <td>19.2</td>\n      <td>0</td>\n      <td>0</td>\n      <td>17</td>\n    </tr>\n    <tr>\n      <th>2006-12-16 18:09:00</th>\n      <td>4.464</td>\n      <td>0.136</td>\n      <td>234.66</td>\n      <td>19.0</td>\n      <td>0</td>\n      <td>37</td>\n      <td>16</td>\n    </tr>\n    <tr>\n      <th>2006-12-16 18:16:00</th>\n      <td>4.524</td>\n      <td>0.076</td>\n      <td>234.20</td>\n      <td>19.6</td>\n      <td>0</td>\n      <td>9</td>\n      <td>17</td>\n    </tr>\n    <tr>\n      <th>...</th>\n      <td>...</td>\n      <td>...</td>\n      <td>...</td>\n      <td>...</td>\n      <td>...</td>\n      <td>...</td>\n      <td>...</td>\n    </tr>\n    <tr>\n      <th>2010-11-24 07:53:00</th>\n      <td>4.666</td>\n      <td>0.000</td>\n      <td>235.72</td>\n      <td>19.8</td>\n      <td>0</td>\n      <td>39</td>\n      <td>17</td>\n    </tr>\n    <tr>\n      <th>2010-11-24 07:54:00</th>\n      <td>4.694</td>\n      <td>0.000</td>\n      <td>236.78</td>\n      <td>19.8</td>\n      <td>0</td>\n      <td>39</td>\n      <td>18</td>\n    </tr>\n    <tr>\n      <th>2010-11-24 07:55:00</th>\n      <td>4.602</td>\n      <td>0.000</td>\n      <td>237.08</td>\n      <td>19.4</td>\n      <td>0</td>\n      <td>40</td>\n      <td>17</td>\n    </tr>\n    <tr>\n      <th>2010-11-24 07:56:00</th>\n      <td>4.536</td>\n      <td>0.000</td>\n      <td>237.03</td>\n      <td>19.0</td>\n      <td>0</td>\n      <td>39</td>\n      <td>17</td>\n    </tr>\n    <tr>\n      <th>2010-11-24 07:57:00</th>\n      <td>4.626</td>\n      <td>0.000</td>\n      <td>236.78</td>\n      <td>19.4</td>\n      <td>0</td>\n      <td>39</td>\n      <td>17</td>\n    </tr>\n  </tbody>\n</table>\n<p>7021 rows × 7 columns</p>\n</div>"
     },
     "metadata": {},
     "execution_count": 16
    }
   ],
   "source": [
    "i_condition = (power['Intensity'] >= 19) & (power['Intensity'] <= 20)\n",
    "i_subset = power[i_condition]\n",
    "i_subset"
   ]
  },
  {
   "cell_type": "code",
   "execution_count": 17,
   "metadata": {},
   "outputs": [
    {
     "output_type": "execute_result",
     "data": {
      "text/plain": "                     Active  Reactive  Voltage  Intensity  met1  met2  met3\nDateTime                                                                   \n2006-12-16 18:09:00   4.464     0.136   234.66       19.0     0    37    16\n2006-12-17 01:04:00   4.582     0.258   238.08       19.6     0    13     0\n2006-12-17 01:08:00   4.618     0.104   239.61       19.6     0    27     0\n2006-12-17 01:19:00   4.636     0.140   237.37       19.4     0    36     0\n2006-12-17 01:20:00   4.634     0.152   237.17       19.4     0    35     0\n...                     ...       ...      ...        ...   ...   ...   ...\n2010-11-24 07:53:00   4.666     0.000   235.72       19.8     0    39    17\n2010-11-24 07:54:00   4.694     0.000   236.78       19.8     0    39    18\n2010-11-24 07:55:00   4.602     0.000   237.08       19.4     0    40    17\n2010-11-24 07:56:00   4.536     0.000   237.03       19.0     0    39    17\n2010-11-24 07:57:00   4.626     0.000   236.78       19.4     0    39    17\n\n[2509 rows x 7 columns]",
      "text/html": "<div>\n<style scoped>\n    .dataframe tbody tr th:only-of-type {\n        vertical-align: middle;\n    }\n\n    .dataframe tbody tr th {\n        vertical-align: top;\n    }\n\n    .dataframe thead th {\n        text-align: right;\n    }\n</style>\n<table border=\"1\" class=\"dataframe\">\n  <thead>\n    <tr style=\"text-align: right;\">\n      <th></th>\n      <th>Active</th>\n      <th>Reactive</th>\n      <th>Voltage</th>\n      <th>Intensity</th>\n      <th>met1</th>\n      <th>met2</th>\n      <th>met3</th>\n    </tr>\n    <tr>\n      <th>DateTime</th>\n      <th></th>\n      <th></th>\n      <th></th>\n      <th></th>\n      <th></th>\n      <th></th>\n      <th></th>\n    </tr>\n  </thead>\n  <tbody>\n    <tr>\n      <th>2006-12-16 18:09:00</th>\n      <td>4.464</td>\n      <td>0.136</td>\n      <td>234.66</td>\n      <td>19.0</td>\n      <td>0</td>\n      <td>37</td>\n      <td>16</td>\n    </tr>\n    <tr>\n      <th>2006-12-17 01:04:00</th>\n      <td>4.582</td>\n      <td>0.258</td>\n      <td>238.08</td>\n      <td>19.6</td>\n      <td>0</td>\n      <td>13</td>\n      <td>0</td>\n    </tr>\n    <tr>\n      <th>2006-12-17 01:08:00</th>\n      <td>4.618</td>\n      <td>0.104</td>\n      <td>239.61</td>\n      <td>19.6</td>\n      <td>0</td>\n      <td>27</td>\n      <td>0</td>\n    </tr>\n    <tr>\n      <th>2006-12-17 01:19:00</th>\n      <td>4.636</td>\n      <td>0.140</td>\n      <td>237.37</td>\n      <td>19.4</td>\n      <td>0</td>\n      <td>36</td>\n      <td>0</td>\n    </tr>\n    <tr>\n      <th>2006-12-17 01:20:00</th>\n      <td>4.634</td>\n      <td>0.152</td>\n      <td>237.17</td>\n      <td>19.4</td>\n      <td>0</td>\n      <td>35</td>\n      <td>0</td>\n    </tr>\n    <tr>\n      <th>...</th>\n      <td>...</td>\n      <td>...</td>\n      <td>...</td>\n      <td>...</td>\n      <td>...</td>\n      <td>...</td>\n      <td>...</td>\n    </tr>\n    <tr>\n      <th>2010-11-24 07:53:00</th>\n      <td>4.666</td>\n      <td>0.000</td>\n      <td>235.72</td>\n      <td>19.8</td>\n      <td>0</td>\n      <td>39</td>\n      <td>17</td>\n    </tr>\n    <tr>\n      <th>2010-11-24 07:54:00</th>\n      <td>4.694</td>\n      <td>0.000</td>\n      <td>236.78</td>\n      <td>19.8</td>\n      <td>0</td>\n      <td>39</td>\n      <td>18</td>\n    </tr>\n    <tr>\n      <th>2010-11-24 07:55:00</th>\n      <td>4.602</td>\n      <td>0.000</td>\n      <td>237.08</td>\n      <td>19.4</td>\n      <td>0</td>\n      <td>40</td>\n      <td>17</td>\n    </tr>\n    <tr>\n      <th>2010-11-24 07:56:00</th>\n      <td>4.536</td>\n      <td>0.000</td>\n      <td>237.03</td>\n      <td>19.0</td>\n      <td>0</td>\n      <td>39</td>\n      <td>17</td>\n    </tr>\n    <tr>\n      <th>2010-11-24 07:57:00</th>\n      <td>4.626</td>\n      <td>0.000</td>\n      <td>236.78</td>\n      <td>19.4</td>\n      <td>0</td>\n      <td>39</td>\n      <td>17</td>\n    </tr>\n  </tbody>\n</table>\n<p>2509 rows × 7 columns</p>\n</div>"
     },
     "metadata": {},
     "execution_count": 17
    }
   ],
   "source": [
    "i_subset[i_subset['met2'] > i_subset['met3']]"
   ]
  },
  {
   "cell_type": "markdown",
   "metadata": {},
   "source": [
    "## Task 4\n",
    "Select 500000 random unique rows. Calculate mean of all mets."
   ]
  },
  {
   "cell_type": "code",
   "execution_count": 18,
   "metadata": {},
   "outputs": [
    {
     "output_type": "execute_result",
     "data": {
      "text/plain": "                     Active  Reactive  Voltage  Intensity  met1  met2  met3\nDateTime                                                                   \n2010-02-01 05:09:00   0.240     0.000   246.67        1.0     0     0     1\n2007-01-07 22:50:00   2.042     0.000   244.08        8.2     0     0    18\n2007-03-18 09:58:00   1.900     0.212   242.07        7.8     0     7    17\n2008-08-21 21:56:00   0.080     0.000   239.72        0.2     0     0     1\n2008-03-28 05:06:00   0.330     0.116   244.66        1.4     0     0     0\n...                     ...       ...      ...        ...   ...   ...   ...\n2010-05-28 00:35:00   0.338     0.000   241.94        1.4     0     0     0\n2009-02-10 07:56:00   2.630     0.080   241.74       10.8     0     0    18\n2010-09-02 06:45:00   1.998     0.304   241.70        8.4     0     2    30\n2010-08-23 15:43:00   0.254     0.096   242.88        1.2     0     1     1\n2010-01-22 10:47:00   1.404     0.108   240.61        5.8     0     0    19\n\n[500000 rows x 7 columns]",
      "text/html": "<div>\n<style scoped>\n    .dataframe tbody tr th:only-of-type {\n        vertical-align: middle;\n    }\n\n    .dataframe tbody tr th {\n        vertical-align: top;\n    }\n\n    .dataframe thead th {\n        text-align: right;\n    }\n</style>\n<table border=\"1\" class=\"dataframe\">\n  <thead>\n    <tr style=\"text-align: right;\">\n      <th></th>\n      <th>Active</th>\n      <th>Reactive</th>\n      <th>Voltage</th>\n      <th>Intensity</th>\n      <th>met1</th>\n      <th>met2</th>\n      <th>met3</th>\n    </tr>\n    <tr>\n      <th>DateTime</th>\n      <th></th>\n      <th></th>\n      <th></th>\n      <th></th>\n      <th></th>\n      <th></th>\n      <th></th>\n    </tr>\n  </thead>\n  <tbody>\n    <tr>\n      <th>2010-02-01 05:09:00</th>\n      <td>0.240</td>\n      <td>0.000</td>\n      <td>246.67</td>\n      <td>1.0</td>\n      <td>0</td>\n      <td>0</td>\n      <td>1</td>\n    </tr>\n    <tr>\n      <th>2007-01-07 22:50:00</th>\n      <td>2.042</td>\n      <td>0.000</td>\n      <td>244.08</td>\n      <td>8.2</td>\n      <td>0</td>\n      <td>0</td>\n      <td>18</td>\n    </tr>\n    <tr>\n      <th>2007-03-18 09:58:00</th>\n      <td>1.900</td>\n      <td>0.212</td>\n      <td>242.07</td>\n      <td>7.8</td>\n      <td>0</td>\n      <td>7</td>\n      <td>17</td>\n    </tr>\n    <tr>\n      <th>2008-08-21 21:56:00</th>\n      <td>0.080</td>\n      <td>0.000</td>\n      <td>239.72</td>\n      <td>0.2</td>\n      <td>0</td>\n      <td>0</td>\n      <td>1</td>\n    </tr>\n    <tr>\n      <th>2008-03-28 05:06:00</th>\n      <td>0.330</td>\n      <td>0.116</td>\n      <td>244.66</td>\n      <td>1.4</td>\n      <td>0</td>\n      <td>0</td>\n      <td>0</td>\n    </tr>\n    <tr>\n      <th>...</th>\n      <td>...</td>\n      <td>...</td>\n      <td>...</td>\n      <td>...</td>\n      <td>...</td>\n      <td>...</td>\n      <td>...</td>\n    </tr>\n    <tr>\n      <th>2010-05-28 00:35:00</th>\n      <td>0.338</td>\n      <td>0.000</td>\n      <td>241.94</td>\n      <td>1.4</td>\n      <td>0</td>\n      <td>0</td>\n      <td>0</td>\n    </tr>\n    <tr>\n      <th>2009-02-10 07:56:00</th>\n      <td>2.630</td>\n      <td>0.080</td>\n      <td>241.74</td>\n      <td>10.8</td>\n      <td>0</td>\n      <td>0</td>\n      <td>18</td>\n    </tr>\n    <tr>\n      <th>2010-09-02 06:45:00</th>\n      <td>1.998</td>\n      <td>0.304</td>\n      <td>241.70</td>\n      <td>8.4</td>\n      <td>0</td>\n      <td>2</td>\n      <td>30</td>\n    </tr>\n    <tr>\n      <th>2010-08-23 15:43:00</th>\n      <td>0.254</td>\n      <td>0.096</td>\n      <td>242.88</td>\n      <td>1.2</td>\n      <td>0</td>\n      <td>1</td>\n      <td>1</td>\n    </tr>\n    <tr>\n      <th>2010-01-22 10:47:00</th>\n      <td>1.404</td>\n      <td>0.108</td>\n      <td>240.61</td>\n      <td>5.8</td>\n      <td>0</td>\n      <td>0</td>\n      <td>19</td>\n    </tr>\n  </tbody>\n</table>\n<p>500000 rows × 7 columns</p>\n</div>"
     },
     "metadata": {},
     "execution_count": 18
    }
   ],
   "source": [
    "rnd_row_index = np.random.choice(power.index, 500000, replace=False)\n",
    "rnd_subset = power.loc[rnd_row_index]\n",
    "rnd_subset"
   ]
  },
  {
   "cell_type": "code",
   "execution_count": 19,
   "metadata": {},
   "outputs": [
    {
     "output_type": "stream",
     "name": "stdout",
     "text": "Mean of met1: 1.124806\nMean of met2: 1.281062\nMean of met3: 6.452264\n"
    }
   ],
   "source": [
    "def print_mean(df : pd.DataFrame, column : str):\n",
    "    mean = df[column].mean()\n",
    "    print(f\"Mean of {column}: {mean}\")\n",
    "\n",
    "print_mean(rnd_subset, 'met1')\n",
    "print_mean(rnd_subset, 'met2')\n",
    "print_mean(rnd_subset, 'met3')"
   ]
  },
  {
   "cell_type": "markdown",
   "metadata": {},
   "source": [
    "## Task 5\n",
    "From night(>=18:00) rows select all where minute consumption > 6kW\n",
    "\n",
    "Split this subset by max met and for each select every third from 1 part and every_fourth from 2 part"
   ]
  },
  {
   "cell_type": "code",
   "execution_count": 20,
   "metadata": {},
   "outputs": [
    {
     "output_type": "execute_result",
     "data": {
      "text/plain": "                     Active  Reactive  Voltage  Intensity  met1  met2  met3\nDateTime                                                                   \n2006-12-16 18:00:00   2.790     0.180   237.52       11.8     0     0    18\n2006-12-16 18:01:00   2.624     0.144   238.20       11.0     0     0    17\n2006-12-16 18:02:00   2.772     0.118   238.28       11.6     0     0    17\n2006-12-16 18:03:00   3.740     0.108   236.93       16.4     0    16    18\n2006-12-16 18:04:00   4.928     0.202   235.01       21.0     0    37    16\n...                     ...       ...      ...        ...   ...   ...   ...\n2010-11-26 20:58:00   0.946     0.000   240.43        4.0     0     0     0\n2010-11-26 20:59:00   0.944     0.000   240.00        4.0     0     0     0\n2010-11-26 21:00:00   0.938     0.000   239.82        3.8     0     0     0\n2010-11-26 21:01:00   0.934     0.000   239.70        3.8     0     0     0\n2010-11-26 21:02:00   0.932     0.000   239.55        3.8     0     0     0\n\n[513146 rows x 7 columns]",
      "text/html": "<div>\n<style scoped>\n    .dataframe tbody tr th:only-of-type {\n        vertical-align: middle;\n    }\n\n    .dataframe tbody tr th {\n        vertical-align: top;\n    }\n\n    .dataframe thead th {\n        text-align: right;\n    }\n</style>\n<table border=\"1\" class=\"dataframe\">\n  <thead>\n    <tr style=\"text-align: right;\">\n      <th></th>\n      <th>Active</th>\n      <th>Reactive</th>\n      <th>Voltage</th>\n      <th>Intensity</th>\n      <th>met1</th>\n      <th>met2</th>\n      <th>met3</th>\n    </tr>\n    <tr>\n      <th>DateTime</th>\n      <th></th>\n      <th></th>\n      <th></th>\n      <th></th>\n      <th></th>\n      <th></th>\n      <th></th>\n    </tr>\n  </thead>\n  <tbody>\n    <tr>\n      <th>2006-12-16 18:00:00</th>\n      <td>2.790</td>\n      <td>0.180</td>\n      <td>237.52</td>\n      <td>11.8</td>\n      <td>0</td>\n      <td>0</td>\n      <td>18</td>\n    </tr>\n    <tr>\n      <th>2006-12-16 18:01:00</th>\n      <td>2.624</td>\n      <td>0.144</td>\n      <td>238.20</td>\n      <td>11.0</td>\n      <td>0</td>\n      <td>0</td>\n      <td>17</td>\n    </tr>\n    <tr>\n      <th>2006-12-16 18:02:00</th>\n      <td>2.772</td>\n      <td>0.118</td>\n      <td>238.28</td>\n      <td>11.6</td>\n      <td>0</td>\n      <td>0</td>\n      <td>17</td>\n    </tr>\n    <tr>\n      <th>2006-12-16 18:03:00</th>\n      <td>3.740</td>\n      <td>0.108</td>\n      <td>236.93</td>\n      <td>16.4</td>\n      <td>0</td>\n      <td>16</td>\n      <td>18</td>\n    </tr>\n    <tr>\n      <th>2006-12-16 18:04:00</th>\n      <td>4.928</td>\n      <td>0.202</td>\n      <td>235.01</td>\n      <td>21.0</td>\n      <td>0</td>\n      <td>37</td>\n      <td>16</td>\n    </tr>\n    <tr>\n      <th>...</th>\n      <td>...</td>\n      <td>...</td>\n      <td>...</td>\n      <td>...</td>\n      <td>...</td>\n      <td>...</td>\n      <td>...</td>\n    </tr>\n    <tr>\n      <th>2010-11-26 20:58:00</th>\n      <td>0.946</td>\n      <td>0.000</td>\n      <td>240.43</td>\n      <td>4.0</td>\n      <td>0</td>\n      <td>0</td>\n      <td>0</td>\n    </tr>\n    <tr>\n      <th>2010-11-26 20:59:00</th>\n      <td>0.944</td>\n      <td>0.000</td>\n      <td>240.00</td>\n      <td>4.0</td>\n      <td>0</td>\n      <td>0</td>\n      <td>0</td>\n    </tr>\n    <tr>\n      <th>2010-11-26 21:00:00</th>\n      <td>0.938</td>\n      <td>0.000</td>\n      <td>239.82</td>\n      <td>3.8</td>\n      <td>0</td>\n      <td>0</td>\n      <td>0</td>\n    </tr>\n    <tr>\n      <th>2010-11-26 21:01:00</th>\n      <td>0.934</td>\n      <td>0.000</td>\n      <td>239.70</td>\n      <td>3.8</td>\n      <td>0</td>\n      <td>0</td>\n      <td>0</td>\n    </tr>\n    <tr>\n      <th>2010-11-26 21:02:00</th>\n      <td>0.932</td>\n      <td>0.000</td>\n      <td>239.55</td>\n      <td>3.8</td>\n      <td>0</td>\n      <td>0</td>\n      <td>0</td>\n    </tr>\n  </tbody>\n</table>\n<p>513146 rows × 7 columns</p>\n</div>"
     },
     "metadata": {},
     "execution_count": 20
    }
   ],
   "source": [
    "nigth_subset = power[power.index.hour >= 18]\n",
    "nigth_subset"
   ]
  },
  {
   "cell_type": "code",
   "execution_count": 21,
   "metadata": {},
   "outputs": [
    {
     "output_type": "execute_result",
     "data": {
      "text/plain": "Active       False\nReactive     False\nVoltage      False\nIntensity    False\nmet1         False\nmet2         False\nmet3         False\ndtype: bool"
     },
     "metadata": {},
     "execution_count": 21
    }
   ],
   "source": [
    "night_subset = nigth_subset.resample('Min').sum() #probably several minute is not exists\n",
    "nigth_subset.isna().all()"
   ]
  },
  {
   "cell_type": "code",
   "execution_count": 22,
   "metadata": {},
   "outputs": [
    {
     "output_type": "execute_result",
     "data": {
      "text/plain": "                     Active  Reactive  Voltage  Intensity  met1  met2  met3\nDateTime                                                                   \n2006-12-16 18:05:00   6.052     0.192   232.93       26.2     0    37    17\n2006-12-16 18:06:00   6.752     0.186   232.12       29.0     0    36    17\n2006-12-16 18:07:00   6.474     0.144   231.85       27.8     0    37    16\n2006-12-16 18:08:00   6.308     0.116   232.25       27.0     0    36    17\n2006-12-16 18:35:00   6.072     0.000   232.48       26.4     0    27    17\n...                     ...       ...      ...        ...   ...   ...   ...\n2010-11-20 18:44:00   6.374     0.392   228.52       28.2    15    36    16\n2010-11-20 18:45:00   6.564     0.430   228.43       29.0    13    40    16\n2010-11-20 18:46:00   6.438     0.308   229.26       28.4    13    39    16\n2010-11-20 18:49:00   6.210     0.174   228.82       27.4    21    34    17\n2010-11-20 18:52:00   6.364     0.126   229.38       28.2    17    34    16\n\n[2882 rows x 7 columns]",
      "text/html": "<div>\n<style scoped>\n    .dataframe tbody tr th:only-of-type {\n        vertical-align: middle;\n    }\n\n    .dataframe tbody tr th {\n        vertical-align: top;\n    }\n\n    .dataframe thead th {\n        text-align: right;\n    }\n</style>\n<table border=\"1\" class=\"dataframe\">\n  <thead>\n    <tr style=\"text-align: right;\">\n      <th></th>\n      <th>Active</th>\n      <th>Reactive</th>\n      <th>Voltage</th>\n      <th>Intensity</th>\n      <th>met1</th>\n      <th>met2</th>\n      <th>met3</th>\n    </tr>\n    <tr>\n      <th>DateTime</th>\n      <th></th>\n      <th></th>\n      <th></th>\n      <th></th>\n      <th></th>\n      <th></th>\n      <th></th>\n    </tr>\n  </thead>\n  <tbody>\n    <tr>\n      <th>2006-12-16 18:05:00</th>\n      <td>6.052</td>\n      <td>0.192</td>\n      <td>232.93</td>\n      <td>26.2</td>\n      <td>0</td>\n      <td>37</td>\n      <td>17</td>\n    </tr>\n    <tr>\n      <th>2006-12-16 18:06:00</th>\n      <td>6.752</td>\n      <td>0.186</td>\n      <td>232.12</td>\n      <td>29.0</td>\n      <td>0</td>\n      <td>36</td>\n      <td>17</td>\n    </tr>\n    <tr>\n      <th>2006-12-16 18:07:00</th>\n      <td>6.474</td>\n      <td>0.144</td>\n      <td>231.85</td>\n      <td>27.8</td>\n      <td>0</td>\n      <td>37</td>\n      <td>16</td>\n    </tr>\n    <tr>\n      <th>2006-12-16 18:08:00</th>\n      <td>6.308</td>\n      <td>0.116</td>\n      <td>232.25</td>\n      <td>27.0</td>\n      <td>0</td>\n      <td>36</td>\n      <td>17</td>\n    </tr>\n    <tr>\n      <th>2006-12-16 18:35:00</th>\n      <td>6.072</td>\n      <td>0.000</td>\n      <td>232.48</td>\n      <td>26.4</td>\n      <td>0</td>\n      <td>27</td>\n      <td>17</td>\n    </tr>\n    <tr>\n      <th>...</th>\n      <td>...</td>\n      <td>...</td>\n      <td>...</td>\n      <td>...</td>\n      <td>...</td>\n      <td>...</td>\n      <td>...</td>\n    </tr>\n    <tr>\n      <th>2010-11-20 18:44:00</th>\n      <td>6.374</td>\n      <td>0.392</td>\n      <td>228.52</td>\n      <td>28.2</td>\n      <td>15</td>\n      <td>36</td>\n      <td>16</td>\n    </tr>\n    <tr>\n      <th>2010-11-20 18:45:00</th>\n      <td>6.564</td>\n      <td>0.430</td>\n      <td>228.43</td>\n      <td>29.0</td>\n      <td>13</td>\n      <td>40</td>\n      <td>16</td>\n    </tr>\n    <tr>\n      <th>2010-11-20 18:46:00</th>\n      <td>6.438</td>\n      <td>0.308</td>\n      <td>229.26</td>\n      <td>28.4</td>\n      <td>13</td>\n      <td>39</td>\n      <td>16</td>\n    </tr>\n    <tr>\n      <th>2010-11-20 18:49:00</th>\n      <td>6.210</td>\n      <td>0.174</td>\n      <td>228.82</td>\n      <td>27.4</td>\n      <td>21</td>\n      <td>34</td>\n      <td>17</td>\n    </tr>\n    <tr>\n      <th>2010-11-20 18:52:00</th>\n      <td>6.364</td>\n      <td>0.126</td>\n      <td>229.38</td>\n      <td>28.2</td>\n      <td>17</td>\n      <td>34</td>\n      <td>16</td>\n    </tr>\n  </tbody>\n</table>\n<p>2882 rows × 7 columns</p>\n</div>"
     },
     "metadata": {},
     "execution_count": 22
    }
   ],
   "source": [
    "nigth_gt6_subset = nigth_subset[nigth_subset['Active'] > 6]\n",
    "nigth_gt6_subset"
   ]
  },
  {
   "cell_type": "code",
   "execution_count": 23,
   "metadata": {},
   "outputs": [
    {
     "output_type": "stream",
     "name": "stdout",
     "text": "Count of classes\n"
    },
    {
     "output_type": "execute_result",
     "data": {
      "text/plain": "array([1740, 1062,   80])"
     },
     "metadata": {},
     "execution_count": 23
    }
   ],
   "source": [
    "indexer = lambda row: np.argmax([row['met1'], row['met2'], row['met3']]) + 1\n",
    "classes = nigth_gt6_subset.apply(indexer, axis = 1)\n",
    "\n",
    "print(\"Count of classes\")\n",
    "np.unique(classes, return_counts=True)[1]"
   ]
  },
  {
   "cell_type": "code",
   "execution_count": 24,
   "metadata": {},
   "outputs": [],
   "source": [
    "def get_split_group(df : pd.DataFrame, n: int, classes):\n",
    "    return df.loc[classes[classes == n].index]\n",
    "\n",
    "met1_subset = get_split_group(nigth_gt6_subset, 1, classes)\n",
    "met2_subset = get_split_group(nigth_gt6_subset, 2, classes)\n",
    "met3_subset = get_split_group(nigth_gt6_subset, 3, classes)"
   ]
  },
  {
   "cell_type": "code",
   "execution_count": 25,
   "metadata": {},
   "outputs": [],
   "source": [
    "def nth(df : pd.DataFrame, n : int, start : int, end : int):\n",
    "    indexes = np.arange(start, end, n)      \n",
    "    return df.iloc[indexes]\n",
    "\n",
    "def fourth_from_tail(df : pd.DataFrame):\n",
    "    start = np.floor(len(df) / 2)\n",
    "    end = len(df)\n",
    "    return nth(df, 4, start, end)\n",
    "\n",
    "def third_from_head(df : pd.DataFrame):\n",
    "    start = 0\n",
    "    end = np.ceil(len(df) / 2)\n",
    "    return nth(df, 3, start, end)"
   ]
  },
  {
   "cell_type": "code",
   "execution_count": 26,
   "metadata": {},
   "outputs": [
    {
     "output_type": "execute_result",
     "data": {
      "text/plain": "                     Active  Reactive  Voltage  Intensity  met1  met2  met3\nDateTime                                                                   \n2006-12-16 18:05:00   6.052     0.192   232.93       26.2     0    37    17\n2006-12-16 18:08:00   6.308     0.116   232.25       27.0     0    36    17\n2006-12-28 20:58:00   6.386     0.374   236.63       27.0     1    36    17\n2006-12-28 21:02:00   8.088     0.262   235.50       34.4     1    72    17\n2006-12-28 21:05:00   7.230     0.152   235.22       30.6     1    73    17\n...                     ...       ...      ...        ...   ...   ...   ...\n2008-03-23 20:27:00   7.222     0.208   233.36       30.8     0    73    16\n2008-03-23 20:30:00   6.952     0.178   234.24       29.6     0    72    17\n2008-03-23 20:33:00   6.490     0.196   234.04       27.6     0    72    17\n2008-03-23 20:36:00   6.708     0.180   234.10       28.6     0    73    16\n2008-04-20 21:00:00   8.268     0.312   232.30       35.6     1    72    17\n\n[177 rows x 7 columns]",
      "text/html": "<div>\n<style scoped>\n    .dataframe tbody tr th:only-of-type {\n        vertical-align: middle;\n    }\n\n    .dataframe tbody tr th {\n        vertical-align: top;\n    }\n\n    .dataframe thead th {\n        text-align: right;\n    }\n</style>\n<table border=\"1\" class=\"dataframe\">\n  <thead>\n    <tr style=\"text-align: right;\">\n      <th></th>\n      <th>Active</th>\n      <th>Reactive</th>\n      <th>Voltage</th>\n      <th>Intensity</th>\n      <th>met1</th>\n      <th>met2</th>\n      <th>met3</th>\n    </tr>\n    <tr>\n      <th>DateTime</th>\n      <th></th>\n      <th></th>\n      <th></th>\n      <th></th>\n      <th></th>\n      <th></th>\n      <th></th>\n    </tr>\n  </thead>\n  <tbody>\n    <tr>\n      <th>2006-12-16 18:05:00</th>\n      <td>6.052</td>\n      <td>0.192</td>\n      <td>232.93</td>\n      <td>26.2</td>\n      <td>0</td>\n      <td>37</td>\n      <td>17</td>\n    </tr>\n    <tr>\n      <th>2006-12-16 18:08:00</th>\n      <td>6.308</td>\n      <td>0.116</td>\n      <td>232.25</td>\n      <td>27.0</td>\n      <td>0</td>\n      <td>36</td>\n      <td>17</td>\n    </tr>\n    <tr>\n      <th>2006-12-28 20:58:00</th>\n      <td>6.386</td>\n      <td>0.374</td>\n      <td>236.63</td>\n      <td>27.0</td>\n      <td>1</td>\n      <td>36</td>\n      <td>17</td>\n    </tr>\n    <tr>\n      <th>2006-12-28 21:02:00</th>\n      <td>8.088</td>\n      <td>0.262</td>\n      <td>235.50</td>\n      <td>34.4</td>\n      <td>1</td>\n      <td>72</td>\n      <td>17</td>\n    </tr>\n    <tr>\n      <th>2006-12-28 21:05:00</th>\n      <td>7.230</td>\n      <td>0.152</td>\n      <td>235.22</td>\n      <td>30.6</td>\n      <td>1</td>\n      <td>73</td>\n      <td>17</td>\n    </tr>\n    <tr>\n      <th>...</th>\n      <td>...</td>\n      <td>...</td>\n      <td>...</td>\n      <td>...</td>\n      <td>...</td>\n      <td>...</td>\n      <td>...</td>\n    </tr>\n    <tr>\n      <th>2008-03-23 20:27:00</th>\n      <td>7.222</td>\n      <td>0.208</td>\n      <td>233.36</td>\n      <td>30.8</td>\n      <td>0</td>\n      <td>73</td>\n      <td>16</td>\n    </tr>\n    <tr>\n      <th>2008-03-23 20:30:00</th>\n      <td>6.952</td>\n      <td>0.178</td>\n      <td>234.24</td>\n      <td>29.6</td>\n      <td>0</td>\n      <td>72</td>\n      <td>17</td>\n    </tr>\n    <tr>\n      <th>2008-03-23 20:33:00</th>\n      <td>6.490</td>\n      <td>0.196</td>\n      <td>234.04</td>\n      <td>27.6</td>\n      <td>0</td>\n      <td>72</td>\n      <td>17</td>\n    </tr>\n    <tr>\n      <th>2008-03-23 20:36:00</th>\n      <td>6.708</td>\n      <td>0.180</td>\n      <td>234.10</td>\n      <td>28.6</td>\n      <td>0</td>\n      <td>73</td>\n      <td>16</td>\n    </tr>\n    <tr>\n      <th>2008-04-20 21:00:00</th>\n      <td>8.268</td>\n      <td>0.312</td>\n      <td>232.30</td>\n      <td>35.6</td>\n      <td>1</td>\n      <td>72</td>\n      <td>17</td>\n    </tr>\n  </tbody>\n</table>\n<p>177 rows × 7 columns</p>\n</div>"
     },
     "metadata": {},
     "execution_count": 26
    }
   ],
   "source": [
    "third_from_head(met2_subset)"
   ]
  },
  {
   "cell_type": "code",
   "execution_count": 27,
   "metadata": {},
   "outputs": [
    {
     "output_type": "execute_result",
     "data": {
      "text/plain": "                     Active  Reactive  Voltage  Intensity  met1  met2  met3\nDateTime                                                                   \n2008-04-20 21:03:00   7.798     0.328   231.76       33.6     1    71    17\n2008-04-20 21:07:00   7.452     0.346   232.31       32.2     1    68    17\n2008-04-20 21:11:00   6.436     0.382   232.10       27.6     1    37    17\n2008-04-20 21:15:00   6.200     0.216   232.51       26.6     1    37    17\n2008-05-18 20:30:00   6.760     0.236   234.90       29.8     2    52    28\n...                     ...       ...      ...        ...   ...   ...   ...\n2010-11-20 18:30:00   6.620     0.314   229.00       29.2    18    34    16\n2010-11-20 18:34:00   6.266     0.360   229.82       27.6    14    35    16\n2010-11-20 18:38:00   6.302     0.376   229.65       27.8    15    34    17\n2010-11-20 18:42:00   6.238     0.344   229.37       27.6    14    35    16\n2010-11-20 18:46:00   6.438     0.308   229.26       28.4    13    39    16\n\n[133 rows x 7 columns]",
      "text/html": "<div>\n<style scoped>\n    .dataframe tbody tr th:only-of-type {\n        vertical-align: middle;\n    }\n\n    .dataframe tbody tr th {\n        vertical-align: top;\n    }\n\n    .dataframe thead th {\n        text-align: right;\n    }\n</style>\n<table border=\"1\" class=\"dataframe\">\n  <thead>\n    <tr style=\"text-align: right;\">\n      <th></th>\n      <th>Active</th>\n      <th>Reactive</th>\n      <th>Voltage</th>\n      <th>Intensity</th>\n      <th>met1</th>\n      <th>met2</th>\n      <th>met3</th>\n    </tr>\n    <tr>\n      <th>DateTime</th>\n      <th></th>\n      <th></th>\n      <th></th>\n      <th></th>\n      <th></th>\n      <th></th>\n      <th></th>\n    </tr>\n  </thead>\n  <tbody>\n    <tr>\n      <th>2008-04-20 21:03:00</th>\n      <td>7.798</td>\n      <td>0.328</td>\n      <td>231.76</td>\n      <td>33.6</td>\n      <td>1</td>\n      <td>71</td>\n      <td>17</td>\n    </tr>\n    <tr>\n      <th>2008-04-20 21:07:00</th>\n      <td>7.452</td>\n      <td>0.346</td>\n      <td>232.31</td>\n      <td>32.2</td>\n      <td>1</td>\n      <td>68</td>\n      <td>17</td>\n    </tr>\n    <tr>\n      <th>2008-04-20 21:11:00</th>\n      <td>6.436</td>\n      <td>0.382</td>\n      <td>232.10</td>\n      <td>27.6</td>\n      <td>1</td>\n      <td>37</td>\n      <td>17</td>\n    </tr>\n    <tr>\n      <th>2008-04-20 21:15:00</th>\n      <td>6.200</td>\n      <td>0.216</td>\n      <td>232.51</td>\n      <td>26.6</td>\n      <td>1</td>\n      <td>37</td>\n      <td>17</td>\n    </tr>\n    <tr>\n      <th>2008-05-18 20:30:00</th>\n      <td>6.760</td>\n      <td>0.236</td>\n      <td>234.90</td>\n      <td>29.8</td>\n      <td>2</td>\n      <td>52</td>\n      <td>28</td>\n    </tr>\n    <tr>\n      <th>...</th>\n      <td>...</td>\n      <td>...</td>\n      <td>...</td>\n      <td>...</td>\n      <td>...</td>\n      <td>...</td>\n      <td>...</td>\n    </tr>\n    <tr>\n      <th>2010-11-20 18:30:00</th>\n      <td>6.620</td>\n      <td>0.314</td>\n      <td>229.00</td>\n      <td>29.2</td>\n      <td>18</td>\n      <td>34</td>\n      <td>16</td>\n    </tr>\n    <tr>\n      <th>2010-11-20 18:34:00</th>\n      <td>6.266</td>\n      <td>0.360</td>\n      <td>229.82</td>\n      <td>27.6</td>\n      <td>14</td>\n      <td>35</td>\n      <td>16</td>\n    </tr>\n    <tr>\n      <th>2010-11-20 18:38:00</th>\n      <td>6.302</td>\n      <td>0.376</td>\n      <td>229.65</td>\n      <td>27.8</td>\n      <td>15</td>\n      <td>34</td>\n      <td>17</td>\n    </tr>\n    <tr>\n      <th>2010-11-20 18:42:00</th>\n      <td>6.238</td>\n      <td>0.344</td>\n      <td>229.37</td>\n      <td>27.6</td>\n      <td>14</td>\n      <td>35</td>\n      <td>16</td>\n    </tr>\n    <tr>\n      <th>2010-11-20 18:46:00</th>\n      <td>6.438</td>\n      <td>0.308</td>\n      <td>229.26</td>\n      <td>28.4</td>\n      <td>13</td>\n      <td>39</td>\n      <td>16</td>\n    </tr>\n  </tbody>\n</table>\n<p>133 rows × 7 columns</p>\n</div>"
     },
     "metadata": {},
     "execution_count": 27
    }
   ],
   "source": [
    "fourth_from_tail(met2_subset)"
   ]
  }
 ],
 "metadata": {
  "language_info": {
   "name": "python",
   "codemirror_mode": {
    "name": "ipython",
    "version": 2
   },
   "version": "3.8.2-final"
  },
  "orig_nbformat": 2,
  "file_extension": ".py",
  "mimetype": "text/x-python",
  "name": "python",
  "npconvert_exporter": "python",
  "pygments_lexer": "ipython2",
  "version": 2,
  "kernelspec": {
   "name": "datascience",
   "display_name": "DataScience"
  }
 },
 "nbformat": 4,
 "nbformat_minor": 2
}