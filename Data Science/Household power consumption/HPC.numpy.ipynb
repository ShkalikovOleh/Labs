{
 "cells": [
  {
   "cell_type": "code",
   "execution_count": 18,
   "metadata": {},
   "outputs": [],
   "source": [
    "import numpy as np\n",
    "np.set_printoptions(suppress=True, precision=3)"
   ]
  },
  {
   "cell_type": "markdown",
   "metadata": {},
   "source": [
    "# Household power consumption\n",
    "## Numpy implementation\n",
    "[Data source](https://archive.ics.uci.edu/ml/datasets/individual+household+electric+power+consumption)"
   ]
  },
  {
   "cell_type": "code",
   "execution_count": 19,
   "metadata": {},
   "outputs": [],
   "source": [
    "#if you dont have data locally \n",
    "\n",
    "#import data\n",
    "#data.download_power_ds()"
   ]
  },
  {
   "cell_type": "code",
   "execution_count": 20,
   "metadata": {},
   "outputs": [
    {
     "output_type": "stream",
     "name": "stdout",
     "text": "CPU times: user 31.7 s, sys: 1.19 s, total: 32.9 s\nWall time: 33 s\n"
    }
   ],
   "source": [
    "%%time\n",
    "power_data = np.genfromtxt(\"data/household_power_consumption.txt\", delimiter=';', usecols=range(2, 9), skip_header=True)\n",
    "\n",
    "power_date = np.loadtxt(\"data/household_power_consumption.txt\", delimiter=';', dtype=str, usecols=range(0,2), skiprows=1)"
   ]
  },
  {
   "cell_type": "code",
   "execution_count": 21,
   "metadata": {},
   "outputs": [
    {
     "output_type": "stream",
     "name": "stdout",
     "text": "CPU times: user 45.4 s, sys: 1.05 s, total: 46.4 s\nWall time: 46.4 s\n"
    }
   ],
   "source": [
    "%%time\n",
    "\n",
    "def split_datetime(row):\n",
    "    result = []\n",
    "    for item in row[0].split('/'):\n",
    "        result.append(item)\n",
    "    for item in row[1].split(':')[:2]:\n",
    "        result.append(item)\n",
    "    return result\n",
    "\n",
    "dts = np.apply_along_axis(split_datetime, 1, power_date)\n",
    "power = np.concatenate((dts, power_data), axis=1).astype('float')"
   ]
  },
  {
   "cell_type": "code",
   "execution_count": 22,
   "metadata": {},
   "outputs": [],
   "source": [
    "power = power[~np.any(np.isnan(power), axis=1),:]"
   ]
  },
  {
   "cell_type": "markdown",
   "metadata": {},
   "source": [
    "## Task 1\n",
    "Select all rows where Active > 5 kW"
   ]
  },
  {
   "cell_type": "code",
   "execution_count": 23,
   "metadata": {},
   "outputs": [
    {
     "output_type": "execute_result",
     "data": {
      "text/plain": "array([[  16.,   12., 2006., ...,    0.,    1.,   16.],\n       [  16.,   12., 2006., ...,    0.,    2.,   17.],\n       [  16.,   12., 2006., ...,    0.,    1.,   17.],\n       ...,\n       [  24.,   11., 2010., ...,    0.,   38.,   17.],\n       [  24.,   11., 2010., ...,    0.,   39.,   17.],\n       [  25.,   11., 2010., ...,    1.,    2.,   18.]])"
     },
     "metadata": {},
     "execution_count": 23
    }
   ],
   "source": [
    "power[power[:,5] > 5,:]"
   ]
  },
  {
   "cell_type": "markdown",
   "metadata": {},
   "source": [
    "## Task 2\n",
    "Select all rows where Voltage > 235 V"
   ]
  },
  {
   "cell_type": "code",
   "execution_count": 24,
   "metadata": {},
   "outputs": [
    {
     "output_type": "execute_result",
     "data": {
      "text/plain": "array([[  16.,   12., 2006., ...,    0.,    1.,   17.],\n       [  16.,   12., 2006., ...,    0.,    2.,   17.],\n       [  16.,   12., 2006., ...,    0.,    1.,   17.],\n       ...,\n       [  26.,   11., 2010., ...,    0.,    0.,    0.],\n       [  26.,   11., 2010., ...,    0.,    0.,    0.],\n       [  26.,   11., 2010., ...,    0.,    0.,    0.]])"
     },
     "metadata": {},
     "execution_count": 24
    }
   ],
   "source": [
    "power[power[:,7] > 235,:]"
   ]
  },
  {
   "cell_type": "markdown",
   "metadata": {},
   "source": [
    "## Task 3\n",
    "Select all where met2 > met3 from rows where Intensity in \\[19,20\\]"
   ]
  },
  {
   "cell_type": "code",
   "execution_count": 25,
   "metadata": {},
   "outputs": [
    {
     "output_type": "execute_result",
     "data": {
      "text/plain": "array([[  16.,   12., 2006., ...,    0.,   37.,   16.],\n       [  17.,   12., 2006., ...,    0.,   13.,    0.],\n       [  17.,   12., 2006., ...,    0.,   27.,    0.],\n       ...,\n       [  24.,   11., 2010., ...,    0.,   40.,   17.],\n       [  24.,   11., 2010., ...,    0.,   39.,   17.],\n       [  24.,   11., 2010., ...,    0.,   39.,   17.]])"
     },
     "metadata": {},
     "execution_count": 25
    }
   ],
   "source": [
    "condition = np.logical_and.reduce([ power[:,8] >= 19, power[:,8] <= 20, power[:,10] > power[:,11] ])\n",
    "\n",
    "power[condition,:]"
   ]
  },
  {
   "cell_type": "markdown",
   "metadata": {},
   "source": [
    "## Task 4\n",
    "Select 500000 random unique rows. Calculate mean of all mets."
   ]
  },
  {
   "cell_type": "code",
   "execution_count": 26,
   "metadata": {},
   "outputs": [
    {
     "output_type": "execute_result",
     "data": {
      "text/plain": "array([[  24.,   12., 2006., ...,    0.,    2.,   18.],\n       [   1.,    2., 2009., ...,    0.,    0.,   18.],\n       [  26.,    4., 2008., ...,    0.,    0.,    1.],\n       ...,\n       [  11.,    7., 2008., ...,    0.,    0.,   13.],\n       [   5.,    2., 2008., ...,    0.,    0.,   17.],\n       [  21.,    5., 2009., ...,    0.,    0.,    1.]])"
     },
     "metadata": {},
     "execution_count": 26
    }
   ],
   "source": [
    "rnd_row_index = np.random.choice(np.arange(0,len(power)), 500000, replace=False)\n",
    "power[rnd_row_index,:]"
   ]
  },
  {
   "cell_type": "code",
   "execution_count": 27,
   "metadata": {},
   "outputs": [
    {
     "output_type": "stream",
     "name": "stdout",
     "text": "Column 9: 1.1219233096502186\nColumn 10: 1.2985199679887571\nColumn 11: 6.45844735712055\n"
    }
   ],
   "source": [
    "def print_mean(array : np.ndarray, column : int):\n",
    "    mean = np.mean(power[:,column])\n",
    "    print(f\"Column {column}: {mean}\")\n",
    "\n",
    "print_mean(power, 9)\n",
    "print_mean(power, 10)\n",
    "print_mean(power, 11)"
   ]
  },
  {
   "cell_type": "markdown",
   "metadata": {},
   "source": [
    "## Task 5\n",
    "From night(>=18:00) rows select all where minute consumption > 6kW\n",
    "\n",
    "Split this subset by max met and for each select every third from 1 part and every fourth from 2 part"
   ]
  },
  {
   "cell_type": "code",
   "execution_count": 28,
   "metadata": {},
   "outputs": [
    {
     "output_type": "execute_result",
     "data": {
      "text/plain": "array([[  16.,   12., 2006., ...,    0.,   37.,   17.],\n       [  16.,   12., 2006., ...,    0.,   36.,   17.],\n       [  16.,   12., 2006., ...,    0.,   37.,   16.],\n       ...,\n       [  20.,   11., 2010., ...,   13.,   39.,   16.],\n       [  20.,   11., 2010., ...,   21.,   34.,   17.],\n       [  20.,   11., 2010., ...,   17.,   34.,   16.]])"
     },
     "metadata": {},
     "execution_count": 28
    }
   ],
   "source": [
    "condition = (power[:,3] >= 18) & (power[:,5] > 6)\n",
    "\n",
    "power_night = power[condition,:]\n",
    "power_night"
   ]
  },
  {
   "cell_type": "code",
   "execution_count": 29,
   "metadata": {},
   "outputs": [],
   "source": [
    "met1_max_condition = (power_night[:,9] >= power_night[:,10]) & (power_night[:,9] >= power_night[:,11])\n",
    "met2_max_condition = (power_night[:,10] > power_night[:,9]) & (power_night[:,10] >= power_night[:,11])\n",
    "met3_max_condition = (power_night[:,11] > power_night[:,9]) & (power_night[:,11] > power_night[:,10])\n",
    "\n",
    "power_met1 = power_night[met1_max_condition,:]\n",
    "power_met2 = power_night[met2_max_condition,:]\n",
    "power_met3 = power_night[met3_max_condition,:]"
   ]
  },
  {
   "cell_type": "code",
   "execution_count": 30,
   "metadata": {},
   "outputs": [],
   "source": [
    "met1_first, met1_second = np.array_split(power_met1, 2)\n",
    "met2_first, met2_second = np.array_split(power_met2, 2)\n",
    "met3_first, met3_second = np.array_split(power_met3, 2)"
   ]
  },
  {
   "cell_type": "code",
   "execution_count": 31,
   "metadata": {},
   "outputs": [
    {
     "output_type": "execute_result",
     "data": {
      "text/plain": "array([[  22.,   12., 2006., ...,   20.,    0.,   16.],\n       [  22.,   12., 2006., ...,   36.,    0.,   16.],\n       [  22.,   12., 2006., ...,   36.,    0.,   17.],\n       ...,\n       [   2.,    2., 2008., ...,   36.,   34.,   16.],\n       [   2.,    2., 2008., ...,   36.,   34.,   17.],\n       [   2.,    2., 2008., ...,   37.,   34.,   17.]])"
     },
     "metadata": {},
     "execution_count": 31
    }
   ],
   "source": [
    "met1_first[::3]"
   ]
  },
  {
   "cell_type": "code",
   "execution_count": 32,
   "metadata": {},
   "outputs": [
    {
     "output_type": "execute_result",
     "data": {
      "text/plain": "array([[   2.,    2., 2008., ...,   36.,   34.,   16.],\n       [   2.,    2., 2008., ...,   35.,   35.,   16.],\n       [   2.,    2., 2008., ...,   35.,   34.,   15.],\n       ...,\n       [   4.,   11., 2010., ...,   40.,   35.,    0.],\n       [   4.,   11., 2010., ...,   80.,    0.,    1.],\n       [   4.,   11., 2010., ...,   80.,    0.,    1.]])"
     },
     "metadata": {},
     "execution_count": 32
    }
   ],
   "source": [
    "met1_second[::4]"
   ]
  }
 ],
 "metadata": {
  "language_info": {
   "codemirror_mode": {
    "name": "ipython",
    "version": 3
   },
   "file_extension": ".py",
   "mimetype": "text/x-python",
   "name": "python",
   "nbconvert_exporter": "python",
   "pygments_lexer": "ipython3",
   "version": "3.8.2-final"
  },
  "orig_nbformat": 2,
  "kernelspec": {
   "name": "datascience",
   "display_name": "DataScience"
  }
 },
 "nbformat": 4,
 "nbformat_minor": 2
}