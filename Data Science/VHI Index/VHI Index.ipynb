{
 "cells": [
  {
   "cell_type": "code",
   "execution_count": 692,
   "metadata": {},
   "outputs": [],
   "source": [
    "%matplotlib inline\n",
    "import pandas as pd\n",
    "import matplotlib.pyplot as plt\n",
    "import seaborn as sns\n",
    "import requests\n",
    "import glob\n",
    "import os\n",
    "from datetime import datetime\n",
    "\n",
    "sns.set(rc={'figure.figsize':(11,8)})\n",
    "sns.set_context(\"paper\", font_scale=1.6)   "
   ]
  },
  {
   "cell_type": "markdown",
   "metadata": {},
   "source": [
    "<img src=\"assets/Province.png\" width=\"550\"/>"
   ]
  },
  {
   "cell_type": "code",
   "execution_count": 693,
   "metadata": {},
   "outputs": [],
   "source": [
    "NOAAIndex = {\n",
    "        1:24,\n",
    "        2:25,\n",
    "        3:5,\n",
    "        4:6,\n",
    "        5:27,\n",
    "        6:23,\n",
    "        7:26,\n",
    "        8:7,\n",
    "        9:11,\n",
    "        10:13,\n",
    "        11:14,\n",
    "        12:15,\n",
    "        13:16,\n",
    "        14:17,\n",
    "        15:18,\n",
    "        16:19,\n",
    "        17:21,\n",
    "        18:22,\n",
    "        19:8,\n",
    "        20:9,\n",
    "        21:10,\n",
    "        22:1,\n",
    "        23:3,\n",
    "        24:2,\n",
    "        25:4, \n",
    "        26:12, #Kiev\n",
    "        27:20 #Sevastopol\n",
    "}"
   ]
  },
  {
   "cell_type": "code",
   "execution_count": 621,
   "metadata": {},
   "outputs": [],
   "source": [
    "def preprocess_raw_data(line):\n",
    "    if '/' in line:        \n",
    "        return ''    \n",
    "    line = line.replace(' ', ',',2)    \n",
    "    return (line + '\\n')"
   ]
  },
  {
   "cell_type": "code",
   "execution_count": 635,
   "metadata": {},
   "outputs": [],
   "source": [
    "def clear_dir(directory, index):\n",
    "    for file in glob.glob(os.path.join(directory, \"province-{}*.csv\".format(index))):\n",
    "        os.remove(file) #delete all previous data\n",
    "    \n",
    "def download_data(directory, index, minYear=1991, maxYear=2020):    \n",
    "    with requests.Session() as sess:\n",
    "        url = \"https://www.star.nesdis.noaa.gov/smcd/emb/vci/VH/get_provinceData.php?country=UKR&provinceID={}&year1={}&year2={}&type=Mean\".format(NOAAIndex[index], minYear, maxYear)\n",
    "        response = sess.get(url)\n",
    "                \n",
    "    path = os.path.join(directory, \"province-{}.{}.csv\".format(index, datetime.now().strftime(\"%d-%m-%Y_%H-%M\")))        \n",
    "            \n",
    "    with open(path, 'w') as file:\n",
    "        file.write(\"Year,Week,SMN,SMT,VCI,TCI,VHI\\n\")        \n",
    "        for line in response.iter_lines(chunk_size=512, decode_unicode=True):                                            \n",
    "            file.write(preprocess_raw_data(line)) #write line by line"
   ]
  },
  {
   "cell_type": "code",
   "execution_count": 636,
   "metadata": {},
   "outputs": [
    {
     "name": "stdout",
     "output_type": "stream",
     "text": [
      "Province 1 is downloaded\n",
      "Province 2 is downloaded\n",
      "Province 3 is downloaded\n",
      "Province 4 is downloaded\n",
      "Province 5 is downloaded\n",
      "Province 6 is downloaded\n",
      "Province 7 is downloaded\n",
      "Province 8 is downloaded\n",
      "Province 9 is downloaded\n",
      "Province 10 is downloaded\n",
      "Province 11 is downloaded\n",
      "Province 12 is downloaded\n",
      "Province 13 is downloaded\n",
      "Province 14 is downloaded\n",
      "Province 15 is downloaded\n",
      "Province 16 is downloaded\n",
      "Province 17 is downloaded\n",
      "Province 18 is downloaded\n",
      "Province 19 is downloaded\n",
      "Province 20 is downloaded\n",
      "Province 21 is downloaded\n",
      "Province 22 is downloaded\n",
      "Province 23 is downloaded\n",
      "Province 24 is downloaded\n",
      "Province 25 is downloaded\n",
      "Province 26 is downloaded\n",
      "Province 27 is downloaded\n"
     ]
    }
   ],
   "source": [
    "for i in range(1,28):\n",
    "    clear_dir(\"data\", i)\n",
    "    download_data(\"data\", i)\n",
    "    print(\"Province {} is downloaded\".format(i))"
   ]
  },
  {
   "cell_type": "code",
   "execution_count": 643,
   "metadata": {},
   "outputs": [],
   "source": [
    "def load_all_data_to_pd(path):\n",
    "    df = pd.DataFrame(columns=['Year','Week', 'SMN', 'SMT', 'VCI', 'TCI', 'VHI'])\n",
    "    for file in glob.glob(os.path.join(path,\"province-*.csv\")):        \n",
    "        temp = pd.read_csv(file, header=0)\n",
    "        temp['Province'] = file.split('-')[1].split('.')[0] #specify province\n",
    "        df = df.append(temp, ignore_index=True)\n",
    "    \n",
    "    #change types for memory saving\n",
    "    df['Province'] = df['Province'].astype(\"int32\")\n",
    "    \n",
    "    #generate datetime field\n",
    "    dt = df['Year'].astype('str') + \"-\" + df['Week'].astype('str') + \"-1\"\n",
    "    df['Period'] = pd.to_datetime(dt, format='%Y-%W-%w')\n",
    "    df.drop(['Year', 'Week'], axis=1, inplace=True)    \n",
    "    \n",
    "    #change columns order\n",
    "    old_columns = df.columns.tolist()\n",
    "    columns = [] \n",
    "    columns.append(old_columns[-1])\n",
    "    columns.append(old_columns[-2])\n",
    "    columns.extend(old_columns[:-2])    \n",
    "    df = df[columns]\n",
    "    \n",
    "    return df"
   ]
  },
  {
   "cell_type": "code",
   "execution_count": 644,
   "metadata": {},
   "outputs": [
    {
     "name": "stdout",
     "output_type": "stream",
     "text": [
      "<class 'pandas.core.frame.DataFrame'>\n",
      "Int64Index: 39879 entries, 13293 to 32493\n",
      "Data columns (total 7 columns):\n",
      " #   Column    Non-Null Count  Dtype         \n",
      "---  ------    --------------  -----         \n",
      " 0   Period    39879 non-null  datetime64[ns]\n",
      " 1   Province  39879 non-null  int32         \n",
      " 2   SMN       39879 non-null  float64       \n",
      " 3   SMT       39879 non-null  float64       \n",
      " 4   VCI       39879 non-null  float64       \n",
      " 5   TCI       39879 non-null  float64       \n",
      " 6   VHI       39879 non-null  float64       \n",
      "dtypes: datetime64[ns](1), float64(5), int32(1)\n",
      "memory usage: 2.3 MB\n"
     ]
    }
   ],
   "source": [
    "df = load_all_data_to_pd(\"data\")\n",
    "df.sort_values(['Province','Period'], inplace=True)\n",
    "df.info()"
   ]
  },
  {
   "cell_type": "code",
   "execution_count": 607,
   "metadata": {},
   "outputs": [
    {
     "data": {
      "text/html": [
       "<div>\n",
       "<style scoped>\n",
       "    .dataframe tbody tr th:only-of-type {\n",
       "        vertical-align: middle;\n",
       "    }\n",
       "\n",
       "    .dataframe tbody tr th {\n",
       "        vertical-align: top;\n",
       "    }\n",
       "\n",
       "    .dataframe thead th {\n",
       "        text-align: right;\n",
       "    }\n",
       "</style>\n",
       "<table border=\"1\" class=\"dataframe\">\n",
       "  <thead>\n",
       "    <tr style=\"text-align: right;\">\n",
       "      <th></th>\n",
       "      <th>Period</th>\n",
       "      <th>Province</th>\n",
       "      <th>SMN</th>\n",
       "      <th>SMT</th>\n",
       "      <th>VCI</th>\n",
       "      <th>TCI</th>\n",
       "      <th>VHI</th>\n",
       "    </tr>\n",
       "  </thead>\n",
       "  <tbody>\n",
       "    <tr>\n",
       "      <th>19201</th>\n",
       "      <td>1991-01-07</td>\n",
       "      <td>1</td>\n",
       "      <td>0.050</td>\n",
       "      <td>264.38</td>\n",
       "      <td>40.90</td>\n",
       "      <td>25.43</td>\n",
       "      <td>33.17</td>\n",
       "    </tr>\n",
       "    <tr>\n",
       "      <th>19202</th>\n",
       "      <td>1991-01-14</td>\n",
       "      <td>1</td>\n",
       "      <td>0.056</td>\n",
       "      <td>265.30</td>\n",
       "      <td>47.38</td>\n",
       "      <td>24.65</td>\n",
       "      <td>36.01</td>\n",
       "    </tr>\n",
       "    <tr>\n",
       "      <th>19203</th>\n",
       "      <td>1991-01-21</td>\n",
       "      <td>1</td>\n",
       "      <td>0.059</td>\n",
       "      <td>265.57</td>\n",
       "      <td>50.61</td>\n",
       "      <td>26.04</td>\n",
       "      <td>38.33</td>\n",
       "    </tr>\n",
       "    <tr>\n",
       "      <th>19204</th>\n",
       "      <td>1991-01-28</td>\n",
       "      <td>1</td>\n",
       "      <td>0.056</td>\n",
       "      <td>264.01</td>\n",
       "      <td>46.87</td>\n",
       "      <td>32.92</td>\n",
       "      <td>39.89</td>\n",
       "    </tr>\n",
       "    <tr>\n",
       "      <th>19205</th>\n",
       "      <td>1991-02-04</td>\n",
       "      <td>1</td>\n",
       "      <td>0.051</td>\n",
       "      <td>263.60</td>\n",
       "      <td>39.60</td>\n",
       "      <td>37.46</td>\n",
       "      <td>38.53</td>\n",
       "    </tr>\n",
       "    <tr>\n",
       "      <th>19206</th>\n",
       "      <td>1991-02-11</td>\n",
       "      <td>1</td>\n",
       "      <td>0.046</td>\n",
       "      <td>264.20</td>\n",
       "      <td>32.67</td>\n",
       "      <td>40.78</td>\n",
       "      <td>36.72</td>\n",
       "    </tr>\n",
       "    <tr>\n",
       "      <th>19207</th>\n",
       "      <td>1991-02-18</td>\n",
       "      <td>1</td>\n",
       "      <td>0.043</td>\n",
       "      <td>264.71</td>\n",
       "      <td>27.07</td>\n",
       "      <td>44.13</td>\n",
       "      <td>35.60</td>\n",
       "    </tr>\n",
       "    <tr>\n",
       "      <th>19208</th>\n",
       "      <td>1991-02-25</td>\n",
       "      <td>1</td>\n",
       "      <td>0.042</td>\n",
       "      <td>265.96</td>\n",
       "      <td>24.56</td>\n",
       "      <td>46.61</td>\n",
       "      <td>35.59</td>\n",
       "    </tr>\n",
       "    <tr>\n",
       "      <th>19209</th>\n",
       "      <td>1991-03-04</td>\n",
       "      <td>1</td>\n",
       "      <td>0.045</td>\n",
       "      <td>267.81</td>\n",
       "      <td>24.42</td>\n",
       "      <td>49.11</td>\n",
       "      <td>36.77</td>\n",
       "    </tr>\n",
       "    <tr>\n",
       "      <th>19210</th>\n",
       "      <td>1991-03-11</td>\n",
       "      <td>1</td>\n",
       "      <td>0.048</td>\n",
       "      <td>270.58</td>\n",
       "      <td>21.82</td>\n",
       "      <td>49.05</td>\n",
       "      <td>35.44</td>\n",
       "    </tr>\n",
       "  </tbody>\n",
       "</table>\n",
       "</div>"
      ],
      "text/plain": [
       "          Period  Province    SMN     SMT    VCI    TCI    VHI\n",
       "19201 1991-01-07         1  0.050  264.38  40.90  25.43  33.17\n",
       "19202 1991-01-14         1  0.056  265.30  47.38  24.65  36.01\n",
       "19203 1991-01-21         1  0.059  265.57  50.61  26.04  38.33\n",
       "19204 1991-01-28         1  0.056  264.01  46.87  32.92  39.89\n",
       "19205 1991-02-04         1  0.051  263.60  39.60  37.46  38.53\n",
       "19206 1991-02-11         1  0.046  264.20  32.67  40.78  36.72\n",
       "19207 1991-02-18         1  0.043  264.71  27.07  44.13  35.60\n",
       "19208 1991-02-25         1  0.042  265.96  24.56  46.61  35.59\n",
       "19209 1991-03-04         1  0.045  267.81  24.42  49.11  36.77\n",
       "19210 1991-03-11         1  0.048  270.58  21.82  49.05  35.44"
      ]
     },
     "execution_count": 607,
     "metadata": {},
     "output_type": "execute_result"
    }
   ],
   "source": [
    "df.head(10)"
   ]
  },
  {
   "cell_type": "code",
   "execution_count": 577,
   "metadata": {},
   "outputs": [
    {
     "data": {
      "text/html": [
       "<div>\n",
       "<style scoped>\n",
       "    .dataframe tbody tr th:only-of-type {\n",
       "        vertical-align: middle;\n",
       "    }\n",
       "\n",
       "    .dataframe tbody tr th {\n",
       "        vertical-align: top;\n",
       "    }\n",
       "\n",
       "    .dataframe thead th {\n",
       "        text-align: right;\n",
       "    }\n",
       "</style>\n",
       "<table border=\"1\" class=\"dataframe\">\n",
       "  <thead>\n",
       "    <tr style=\"text-align: right;\">\n",
       "      <th></th>\n",
       "      <th>SMN</th>\n",
       "      <th>SMT</th>\n",
       "      <th>VCI</th>\n",
       "      <th>TCI</th>\n",
       "      <th>VHI</th>\n",
       "    </tr>\n",
       "  </thead>\n",
       "  <tbody>\n",
       "    <tr>\n",
       "      <th>count</th>\n",
       "      <td>39879.000000</td>\n",
       "      <td>39879.000000</td>\n",
       "      <td>39879.000000</td>\n",
       "      <td>39879.000000</td>\n",
       "      <td>39879.000000</td>\n",
       "    </tr>\n",
       "    <tr>\n",
       "      <th>mean</th>\n",
       "      <td>0.237638</td>\n",
       "      <td>283.064331</td>\n",
       "      <td>54.615915</td>\n",
       "      <td>41.404532</td>\n",
       "      <td>48.009796</td>\n",
       "    </tr>\n",
       "    <tr>\n",
       "      <th>std</th>\n",
       "      <td>0.144877</td>\n",
       "      <td>14.390377</td>\n",
       "      <td>20.415539</td>\n",
       "      <td>21.503946</td>\n",
       "      <td>11.419106</td>\n",
       "    </tr>\n",
       "    <tr>\n",
       "      <th>min</th>\n",
       "      <td>-0.005000</td>\n",
       "      <td>231.710000</td>\n",
       "      <td>0.000000</td>\n",
       "      <td>0.010000</td>\n",
       "      <td>5.520000</td>\n",
       "    </tr>\n",
       "    <tr>\n",
       "      <th>25%</th>\n",
       "      <td>0.100000</td>\n",
       "      <td>270.910000</td>\n",
       "      <td>39.515000</td>\n",
       "      <td>24.580000</td>\n",
       "      <td>40.540000</td>\n",
       "    </tr>\n",
       "    <tr>\n",
       "      <th>50%</th>\n",
       "      <td>0.221000</td>\n",
       "      <td>286.690000</td>\n",
       "      <td>55.820000</td>\n",
       "      <td>40.090000</td>\n",
       "      <td>47.410000</td>\n",
       "    </tr>\n",
       "    <tr>\n",
       "      <th>75%</th>\n",
       "      <td>0.368000</td>\n",
       "      <td>295.220000</td>\n",
       "      <td>70.890000</td>\n",
       "      <td>56.385000</td>\n",
       "      <td>55.190000</td>\n",
       "    </tr>\n",
       "    <tr>\n",
       "      <th>max</th>\n",
       "      <td>0.568000</td>\n",
       "      <td>309.950000</td>\n",
       "      <td>99.520000</td>\n",
       "      <td>100.000000</td>\n",
       "      <td>96.690000</td>\n",
       "    </tr>\n",
       "  </tbody>\n",
       "</table>\n",
       "</div>"
      ],
      "text/plain": [
       "                SMN           SMT           VCI           TCI           VHI\n",
       "count  39879.000000  39879.000000  39879.000000  39879.000000  39879.000000\n",
       "mean       0.237638    283.064331     54.615915     41.404532     48.009796\n",
       "std        0.144877     14.390377     20.415539     21.503946     11.419106\n",
       "min       -0.005000    231.710000      0.000000      0.010000      5.520000\n",
       "25%        0.100000    270.910000     39.515000     24.580000     40.540000\n",
       "50%        0.221000    286.690000     55.820000     40.090000     47.410000\n",
       "75%        0.368000    295.220000     70.890000     56.385000     55.190000\n",
       "max        0.568000    309.950000     99.520000    100.000000     96.690000"
      ]
     },
     "execution_count": 577,
     "metadata": {},
     "output_type": "execute_result"
    }
   ],
   "source": [
    "df.describe(include=['float'])"
   ]
  },
  {
   "cell_type": "code",
   "execution_count": 605,
   "metadata": {},
   "outputs": [],
   "source": [
    "def vhi_by_year_and_province(df, year, province):  \n",
    "    return df[(df['Period'].dt.year == year) & (df['Province'] == province)].set_index('Period')['VHI']\n",
    "\n",
    "def vhi_by_province(df, province):\n",
    "    return df[df['Province'] == province].set_index('Period')['VHI']"
   ]
  },
  {
   "cell_type": "code",
   "execution_count": 645,
   "metadata": {},
   "outputs": [
    {
     "data": {
      "text/plain": [
       "Period\n",
       "1991-01-07    33.17\n",
       "1991-01-14    36.01\n",
       "1991-01-21    38.33\n",
       "1991-01-28    39.89\n",
       "1991-02-04    38.53\n",
       "              ...  \n",
       "2020-02-03    45.19\n",
       "2020-02-10    44.49\n",
       "2020-02-17    43.65\n",
       "2020-02-24    44.27\n",
       "2020-03-02    47.83\n",
       "Name: VHI, Length: 1477, dtype: float64"
      ]
     },
     "execution_count": 645,
     "metadata": {},
     "output_type": "execute_result"
    }
   ],
   "source": [
    "vhi_by_province(df, 1)"
   ]
  },
  {
   "cell_type": "code",
   "execution_count": 646,
   "metadata": {},
   "outputs": [
    {
     "data": {
      "text/plain": [
       "Period\n",
       "2001-01-01    36.50\n",
       "2001-01-08    39.49\n",
       "2001-01-15    43.40\n",
       "2001-01-22    42.84\n",
       "2001-01-29    41.60\n",
       "2001-02-05    41.90\n",
       "2001-02-12    41.91\n",
       "2001-02-19    41.87\n",
       "2001-02-26    43.17\n",
       "2001-03-05    45.12\n",
       "2001-03-12    46.20\n",
       "2001-03-19    48.84\n",
       "2001-03-26    48.75\n",
       "2001-04-02    49.02\n",
       "2001-04-09    51.67\n",
       "2001-04-16    53.22\n",
       "2001-04-23    55.06\n",
       "2001-04-30    60.34\n",
       "2001-05-07    65.01\n",
       "2001-05-14    67.69\n",
       "2001-05-21    69.84\n",
       "2001-05-28    71.31\n",
       "2001-06-04    72.03\n",
       "2001-06-11    71.94\n",
       "2001-06-18    70.20\n",
       "2001-06-25    68.09\n",
       "2001-07-02    66.56\n",
       "2001-07-09    63.59\n",
       "2001-07-16    60.43\n",
       "2001-07-23    55.68\n",
       "2001-07-30    50.90\n",
       "2001-08-06    47.38\n",
       "2001-08-13    43.52\n",
       "2001-08-20    41.63\n",
       "2001-08-27    42.63\n",
       "2001-09-03    44.37\n",
       "2001-09-10    45.74\n",
       "2001-09-17    45.04\n",
       "2001-09-24    46.07\n",
       "2001-10-01    48.23\n",
       "2001-10-08    51.53\n",
       "2001-10-15    56.89\n",
       "2001-10-22    62.87\n",
       "2001-10-29    64.44\n",
       "2001-11-05    63.71\n",
       "2001-11-12    62.88\n",
       "2001-11-19    62.88\n",
       "2001-11-26    62.86\n",
       "2001-12-03    62.81\n",
       "2001-12-10    59.61\n",
       "2001-12-17    57.62\n",
       "2001-12-24    56.18\n",
       "Name: VHI, dtype: float64"
      ]
     },
     "execution_count": 646,
     "metadata": {},
     "output_type": "execute_result"
    }
   ],
   "source": [
    "vhi_by_year_and_province(df, 2001, 1)"
   ]
  },
  {
   "cell_type": "code",
   "execution_count": 647,
   "metadata": {},
   "outputs": [],
   "source": [
    "def years_by_vhi_range_by_province(df, province, minVHI, maxVHI, procentByYear):\n",
    "    years = df[(df['Province'] == province)]['Period'].dt.year.unique()\n",
    "    results = []\n",
    "    for year in years:\n",
    "        series = vhi_by_year_and_province(df, year, province)\n",
    "        percent = series[(series >= minVHI) & (series <= maxVHI)].count() * 100 / series.count()\n",
    "        if percent >= procentByYear:\n",
    "            results.append(year)\n",
    "    return results"
   ]
  },
  {
   "cell_type": "code",
   "execution_count": 648,
   "metadata": {},
   "outputs": [
    {
     "data": {
      "text/plain": [
       "[2000]"
      ]
     },
     "execution_count": 648,
     "metadata": {},
     "output_type": "execute_result"
    }
   ],
   "source": [
    "years_by_vhi_range_by_province(df, 1, 0, 14, 7)"
   ]
  },
  {
   "cell_type": "code",
   "execution_count": 649,
   "metadata": {},
   "outputs": [
    {
     "data": {
      "text/plain": [
       "[1991,\n",
       " 1992,\n",
       " 1993,\n",
       " 1994,\n",
       " 1995,\n",
       " 1996,\n",
       " 1997,\n",
       " 1999,\n",
       " 2000,\n",
       " 2003,\n",
       " 2007,\n",
       " 2009,\n",
       " 2012,\n",
       " 2015,\n",
       " 2016,\n",
       " 2019]"
      ]
     },
     "execution_count": 649,
     "metadata": {},
     "output_type": "execute_result"
    }
   ],
   "source": [
    "years_by_vhi_range_by_province(df, 1, 15, 34, 7)"
   ]
  },
  {
   "cell_type": "code",
   "execution_count": 694,
   "metadata": {},
   "outputs": [
    {
     "data": {
      "image/png": "[encoded data removed]",
      "text/plain": [
       "<Figure size 792x576 with 1 Axes>"
      ]
     },
     "metadata": {},
     "output_type": "display_data"
    }
   ],
   "source": [
    "sns.lineplot(data=vhi_by_province(df,4));"
   ]
  },
  {
   "cell_type": "code",
   "execution_count": 695,
   "metadata": {},
   "outputs": [
    {
     "data": {
      "image/png": "[encoded data removed]",
      "text/plain": [
       "<Figure size 792x576 with 2 Axes>"
      ]
     },
     "metadata": {},
     "output_type": "display_data"
    }
   ],
   "source": [
    "sns.heatmap(df.drop('Province', axis=1).corr());"
   ]
  },
  {
   "cell_type": "code",
   "execution_count": null,
   "metadata": {},
   "outputs": [],
   "source": []
  }
 ],
 "metadata": {
  "kernelspec": {
   "display_name": "DataScience",
   "language": "python",
   "name": "datascience"
  },
  "language_info": {
   "codemirror_mode": {
    "name": "ipython",
    "version": 3
   },
   "file_extension": ".py",
   "mimetype": "text/x-python",
   "name": "python",
   "nbconvert_exporter": "python",
   "pygments_lexer": "ipython3",
   "version": "3.6.9"
  }
 },
 "nbformat": 4,
 "nbformat_minor": 2
}
