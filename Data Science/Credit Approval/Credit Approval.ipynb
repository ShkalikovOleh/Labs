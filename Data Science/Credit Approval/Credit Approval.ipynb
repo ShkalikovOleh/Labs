{
 "nbformat": 4,
 "nbformat_minor": 2,
 "metadata": {
  "language_info": {
   "name": "python",
   "codemirror_mode": {
    "name": "ipython",
    "version": 2
   },
   "version": "3.6.9-final"
  },
  "orig_nbformat": 2,
  "file_extension": ".py",
  "mimetype": "text/x-python",
  "name": "python",
  "npconvert_exporter": "python",
  "pygments_lexer": "ipython2",
  "version": 2,
  "kernelspec": {
   "name": "datascience",
   "display_name": "DataScience"
  }
 },
 "cells": [
  {
   "cell_type": "code",
   "execution_count": 18,
   "metadata": {},
   "outputs": [],
   "source": [
    "%matplotlib inline\n",
    "\n",
    "import pandas as pd\n",
    "import numpy as np\n",
    "import matplotlib.pyplot as plt\n",
    "import seaborn as sns\n",
    "import requests\n",
    "\n",
    "import os"
   ]
  },
  {
   "cell_type": "markdown",
   "metadata": {},
   "source": [
    "# Credit Approval Data Set (Part 2) \n",
    "[Data Source](https://archive.ics.uci.edu/ml/datasets/Credit+Approval)"
   ]
  },
  {
   "cell_type": "code",
   "execution_count": 19,
   "metadata": {},
   "outputs": [],
   "source": [
    "def download_credit_ds():\n",
    "    if not os.path.exists(\"data\"):\n",
    "        os.makedirs(\"data\")    \n",
    "\n",
    "    url = \"https://archive.ics.uci.edu/ml/machine-learning-databases/credit-screening/crx.data\"\n",
    "    response = requests.get(url)\n",
    "    if response.status_code != 200:\n",
    "        raise ValueError\n",
    "\n",
    "    with open(\"data/credit-approval.csv\", 'wb') as file:\n",
    "        for chunk in response:\n",
    "            file.write(chunk)"
   ]
  },
  {
   "cell_type": "code",
   "execution_count": 20,
   "metadata": {},
   "outputs": [
    {
     "output_type": "execute_result",
     "data": {
      "text/html": "<div>\n<style scoped>\n    .dataframe tbody tr th:only-of-type {\n        vertical-align: middle;\n    }\n\n    .dataframe tbody tr th {\n        vertical-align: top;\n    }\n\n    .dataframe thead th {\n        text-align: right;\n    }\n</style>\n<table border=\"1\" class=\"dataframe\">\n  <thead>\n    <tr style=\"text-align: right;\">\n      <th></th>\n      <th>0</th>\n      <th>1</th>\n      <th>2</th>\n      <th>3</th>\n      <th>4</th>\n      <th>5</th>\n      <th>6</th>\n      <th>7</th>\n      <th>8</th>\n      <th>9</th>\n      <th>10</th>\n      <th>11</th>\n      <th>12</th>\n      <th>13</th>\n      <th>14</th>\n      <th>15</th>\n    </tr>\n  </thead>\n  <tbody>\n    <tr>\n      <th>0</th>\n      <td>b</td>\n      <td>30.83</td>\n      <td>0.000</td>\n      <td>u</td>\n      <td>g</td>\n      <td>w</td>\n      <td>v</td>\n      <td>1.25</td>\n      <td>t</td>\n      <td>t</td>\n      <td>1</td>\n      <td>f</td>\n      <td>g</td>\n      <td>202.0</td>\n      <td>0</td>\n      <td>+</td>\n    </tr>\n    <tr>\n      <th>1</th>\n      <td>a</td>\n      <td>58.67</td>\n      <td>4.460</td>\n      <td>u</td>\n      <td>g</td>\n      <td>q</td>\n      <td>h</td>\n      <td>3.04</td>\n      <td>t</td>\n      <td>t</td>\n      <td>6</td>\n      <td>f</td>\n      <td>g</td>\n      <td>43.0</td>\n      <td>560</td>\n      <td>+</td>\n    </tr>\n    <tr>\n      <th>2</th>\n      <td>a</td>\n      <td>24.50</td>\n      <td>0.500</td>\n      <td>u</td>\n      <td>g</td>\n      <td>q</td>\n      <td>h</td>\n      <td>1.50</td>\n      <td>t</td>\n      <td>f</td>\n      <td>0</td>\n      <td>f</td>\n      <td>g</td>\n      <td>280.0</td>\n      <td>824</td>\n      <td>+</td>\n    </tr>\n    <tr>\n      <th>3</th>\n      <td>b</td>\n      <td>27.83</td>\n      <td>1.540</td>\n      <td>u</td>\n      <td>g</td>\n      <td>w</td>\n      <td>v</td>\n      <td>3.75</td>\n      <td>t</td>\n      <td>t</td>\n      <td>5</td>\n      <td>t</td>\n      <td>g</td>\n      <td>100.0</td>\n      <td>3</td>\n      <td>+</td>\n    </tr>\n    <tr>\n      <th>4</th>\n      <td>b</td>\n      <td>20.17</td>\n      <td>5.625</td>\n      <td>u</td>\n      <td>g</td>\n      <td>w</td>\n      <td>v</td>\n      <td>1.71</td>\n      <td>t</td>\n      <td>f</td>\n      <td>0</td>\n      <td>f</td>\n      <td>s</td>\n      <td>120.0</td>\n      <td>0</td>\n      <td>+</td>\n    </tr>\n  </tbody>\n</table>\n</div>",
      "text/plain": "  0      1      2  3  4  5  6     7  8  9   10 11 12     13   14 15\n0  b  30.83  0.000  u  g  w  v  1.25  t  t   1  f  g  202.0    0  +\n1  a  58.67  4.460  u  g  q  h  3.04  t  t   6  f  g   43.0  560  +\n2  a  24.50  0.500  u  g  q  h  1.50  t  f   0  f  g  280.0  824  +\n3  b  27.83  1.540  u  g  w  v  3.75  t  t   5  t  g  100.0    3  +\n4  b  20.17  5.625  u  g  w  v  1.71  t  f   0  f  s  120.0    0  +"
     },
     "metadata": {},
     "execution_count": 20
    }
   ],
   "source": [
    "#if you have not data locally, use this\n",
    "#download_credit_ds()\n",
    "\n",
    "credit = pd.read_csv(\"data/credit-approval.csv\", header=None, na_values=['?'])\n",
    "credit.head()"
   ]
  },
  {
   "cell_type": "code",
   "execution_count": 21,
   "metadata": {},
   "outputs": [],
   "source": [
    "bool_mask_ft = { 't' : True, 'f' : False }\n",
    "bool_mask_pm = { '+' : True, '-' : False }\n",
    "\n",
    "credit[8] = credit[8].map(bool_mask_ft).astype('bool')\n",
    "credit[9] = credit[9].map(bool_mask_ft).astype('bool')\n",
    "credit[11] = credit[11].map(bool_mask_ft).astype('bool')\n",
    "credit[15] = credit[15].map(bool_mask_pm).astype('bool')"
   ]
  },
  {
   "cell_type": "code",
   "execution_count": 22,
   "metadata": {},
   "outputs": [
    {
     "output_type": "stream",
     "name": "stdout",
     "text": "<class 'pandas.core.frame.DataFrame'>\nRangeIndex: 690 entries, 0 to 689\nData columns (total 16 columns):\n #   Column  Non-Null Count  Dtype  \n---  ------  --------------  -----  \n 0   0       678 non-null    object \n 1   1       678 non-null    float64\n 2   2       690 non-null    float64\n 3   3       684 non-null    object \n 4   4       684 non-null    object \n 5   5       681 non-null    object \n 6   6       681 non-null    object \n 7   7       690 non-null    float64\n 8   8       690 non-null    bool   \n 9   9       690 non-null    bool   \n 10  10      690 non-null    int64  \n 11  11      690 non-null    bool   \n 12  12      690 non-null    object \n 13  13      677 non-null    float64\n 14  14      690 non-null    int64  \n 15  15      690 non-null    bool   \ndtypes: bool(4), float64(4), int64(2), object(6)\nmemory usage: 67.5+ KB\n"
    }
   ],
   "source": [
    "credit.info()"
   ]
  },
  {
   "cell_type": "code",
   "execution_count": 23,
   "metadata": {},
   "outputs": [
    {
     "output_type": "stream",
     "name": "stdout",
     "text": "['b' 'a' nan]\n['u' 'y' nan 'l']\n['g' 'p' nan 'gg']\n['w' 'q' 'm' 'r' 'cc' 'k' 'c' 'd' 'x' 'i' 'e' 'aa' 'ff' 'j' nan]\n['g' 's' 'p']\n"
    }
   ],
   "source": [
    "print(credit[0].unique())\n",
    "print(credit[3].unique())\n",
    "print(credit[4].unique())\n",
    "print(credit[5].unique())\n",
    "print(credit[12].unique())"
   ]
  },
  {
   "cell_type": "code",
   "execution_count": 24,
   "metadata": {},
   "outputs": [],
   "source": [
    "credit[0] = credit[0].astype('category')\n",
    "credit[3] = credit[3].astype('category')\n",
    "credit[4] = credit[4].astype('category')\n",
    "credit[5] = credit[5].astype('category')\n",
    "credit[12] = credit[12].astype('category')"
   ]
  }
 ]
}