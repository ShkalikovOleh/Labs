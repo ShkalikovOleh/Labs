{
 "nbformat": 4,
 "nbformat_minor": 2,
 "metadata": {
  "language_info": {
   "name": "python",
   "codemirror_mode": {
    "name": "ipython",
    "version": 2
   },
   "version": "3.6.9-final"
  },
  "orig_nbformat": 2,
  "file_extension": ".py",
  "mimetype": "text/x-python",
  "name": "python",
  "npconvert_exporter": "python",
  "pygments_lexer": "ipython2",
  "version": 2,
  "kernelspec": {
   "name": "datascience",
   "display_name": "DataScience"
  }
 },
 "cells": [
  {
   "cell_type": "code",
   "execution_count": 14,
   "metadata": {},
   "outputs": [],
   "source": [
    "import numpy as np\n",
    "import pandas as pd\n",
    "import matplotlib.pyplot as plt\n",
    "import seaborn as sns\n",
    "import sklearn\n",
    "from sklearn.decomposition import PCA as PCA\n",
    "\n",
    "import os\n",
    "import requests\n",
    "from zipfile import ZipFile\n",
    "\n",
    "pd.set_option('precision', 3)"
   ]
  },
  {
   "cell_type": "markdown",
   "metadata": {},
   "source": [
    "# Household power consumption (Part 1)\n",
    "[Data source](https://archive.ics.uci.edu/ml/datasets/individual+household+electric+power+consumption)"
   ]
  },
  {
   "cell_type": "code",
   "execution_count": 26,
   "metadata": {},
   "outputs": [],
   "source": [
    "def download_power_ds():\n",
    "    if not os.path.exists(\"data\"):\n",
    "        os.makedirs(\"data\")    \n",
    "\n",
    "    url = \"https://archive.ics.uci.edu/ml/machine-learning-databases/00235/household_power_consumption.zip\"\n",
    "    response = requests.get(url)\n",
    "    if response.status_code != 200:\n",
    "        raise ValueError\n",
    "\n",
    "    with open(\"data/household_power_consumption.zip\", 'wb') as file:\n",
    "        for chunk in response:\n",
    "            file.write(chunk)\n",
    "\n",
    "    with ZipFile(\"data/household_power_consumption.zip\") as zipFile:\n",
    "        zipFile.extractall(\"data\")"
   ]
  },
  {
   "cell_type": "code",
   "execution_count": 21,
   "metadata": {},
   "outputs": [
    {
     "output_type": "stream",
     "name": "stdout",
     "text": "CPU times: user 2.42 s, sys: 236 ms, total: 2.65 s\nWall time: 2.66 s\n"
    }
   ],
   "source": [
    "%%time\n",
    "\n",
    "#if you have not data locally:\n",
    "#download_power_ds(\"data\")\n",
    "\n",
    "power = pd.read_csv(\"data/household_power_consumption.txt\", delimiter=';')\n",
    "power.columns = ['Date', 'Time', 'Active', 'Reactive', 'Voltage', 'Intensity', 'met1', 'met2', 'met3']"
   ]
  },
  {
   "cell_type": "code",
   "execution_count": 4,
   "metadata": {},
   "outputs": [
    {
     "output_type": "stream",
     "name": "stdout",
     "text": "<class 'pandas.core.frame.DataFrame'>\nRangeIndex: 2075259 entries, 0 to 2075258\nData columns (total 9 columns):\n #   Column     Dtype  \n---  ------     -----  \n 0   Date       object \n 1   Time       object \n 2   Active     object \n 3   Reactive   object \n 4   Voltage    object \n 5   Intensity  object \n 6   met1       object \n 7   met2       object \n 8   met3       float64\ndtypes: float64(1), object(8)\nmemory usage: 142.5+ MB\n"
    }
   ],
   "source": [
    "power.info()"
   ]
  },
  {
   "cell_type": "code",
   "execution_count": 5,
   "metadata": {},
   "outputs": [
    {
     "output_type": "stream",
     "name": "stdout",
     "text": "CPU times: user 12 s, sys: 155 ms, total: 12.2 s\nWall time: 12.2 s\n"
    }
   ],
   "source": [
    "%%time\n",
    "\n",
    "power['DateTime'] = pd.to_datetime(power['Date'] + '-' + power['Time'], format=\"%d/%m/%Y-%H:%M:%S\")\n",
    "power.drop(columns = ['Date', 'Time'], inplace=True)\n",
    "power.set_index('DateTime', inplace=True)"
   ]
  },
  {
   "cell_type": "code",
   "execution_count": 6,
   "metadata": {},
   "outputs": [
    {
     "output_type": "stream",
     "name": "stdout",
     "text": "CPU times: user 1.21 s, sys: 62.6 ms, total: 1.27 s\nWall time: 1.33 s\n"
    }
   ],
   "source": [
    "%%time\n",
    "power.drop(power[power.isna().any(axis=1)].index, inplace=True) #drop because task required this"
   ]
  },
  {
   "cell_type": "code",
   "execution_count": 7,
   "metadata": {},
   "outputs": [
    {
     "output_type": "stream",
     "name": "stdout",
     "text": "CPU times: user 1.3 s, sys: 133 ms, total: 1.43 s\nWall time: 1.44 s\n"
    }
   ],
   "source": [
    "%%time\n",
    "\n",
    "for column in power.columns:\n",
    "    power[column] = power[column].astype('float32')"
   ]
  },
  {
   "cell_type": "code",
   "execution_count": 8,
   "metadata": {},
   "outputs": [
    {
     "output_type": "execute_result",
     "data": {
      "text/html": "<div>\n<style scoped>\n    .dataframe tbody tr th:only-of-type {\n        vertical-align: middle;\n    }\n\n    .dataframe tbody tr th {\n        vertical-align: top;\n    }\n\n    .dataframe thead th {\n        text-align: right;\n    }\n</style>\n<table border=\"1\" class=\"dataframe\">\n  <thead>\n    <tr style=\"text-align: right;\">\n      <th></th>\n      <th>Active</th>\n      <th>Reactive</th>\n      <th>Voltage</th>\n      <th>Intensity</th>\n      <th>met1</th>\n      <th>met2</th>\n      <th>met3</th>\n    </tr>\n    <tr>\n      <th>DateTime</th>\n      <th></th>\n      <th></th>\n      <th></th>\n      <th></th>\n      <th></th>\n      <th></th>\n      <th></th>\n    </tr>\n  </thead>\n  <tbody>\n    <tr>\n      <th>2006-12-16 17:24:00</th>\n      <td>4.216</td>\n      <td>0.418</td>\n      <td>234.84</td>\n      <td>18.4</td>\n      <td>0.0</td>\n      <td>1.0</td>\n      <td>17.0</td>\n    </tr>\n    <tr>\n      <th>2006-12-16 17:25:00</th>\n      <td>5.360</td>\n      <td>0.436</td>\n      <td>233.63</td>\n      <td>23.0</td>\n      <td>0.0</td>\n      <td>1.0</td>\n      <td>16.0</td>\n    </tr>\n    <tr>\n      <th>2006-12-16 17:26:00</th>\n      <td>5.374</td>\n      <td>0.498</td>\n      <td>233.29</td>\n      <td>23.0</td>\n      <td>0.0</td>\n      <td>2.0</td>\n      <td>17.0</td>\n    </tr>\n    <tr>\n      <th>2006-12-16 17:27:00</th>\n      <td>5.388</td>\n      <td>0.502</td>\n      <td>233.74</td>\n      <td>23.0</td>\n      <td>0.0</td>\n      <td>1.0</td>\n      <td>17.0</td>\n    </tr>\n    <tr>\n      <th>2006-12-16 17:28:00</th>\n      <td>3.666</td>\n      <td>0.528</td>\n      <td>235.68</td>\n      <td>15.8</td>\n      <td>0.0</td>\n      <td>1.0</td>\n      <td>17.0</td>\n    </tr>\n    <tr>\n      <th>2006-12-16 17:29:00</th>\n      <td>3.520</td>\n      <td>0.522</td>\n      <td>235.02</td>\n      <td>15.0</td>\n      <td>0.0</td>\n      <td>2.0</td>\n      <td>17.0</td>\n    </tr>\n    <tr>\n      <th>2006-12-16 17:30:00</th>\n      <td>3.702</td>\n      <td>0.520</td>\n      <td>235.09</td>\n      <td>15.8</td>\n      <td>0.0</td>\n      <td>1.0</td>\n      <td>17.0</td>\n    </tr>\n    <tr>\n      <th>2006-12-16 17:31:00</th>\n      <td>3.700</td>\n      <td>0.520</td>\n      <td>235.22</td>\n      <td>15.8</td>\n      <td>0.0</td>\n      <td>1.0</td>\n      <td>17.0</td>\n    </tr>\n    <tr>\n      <th>2006-12-16 17:32:00</th>\n      <td>3.668</td>\n      <td>0.510</td>\n      <td>233.99</td>\n      <td>15.8</td>\n      <td>0.0</td>\n      <td>1.0</td>\n      <td>17.0</td>\n    </tr>\n    <tr>\n      <th>2006-12-16 17:33:00</th>\n      <td>3.662</td>\n      <td>0.510</td>\n      <td>233.86</td>\n      <td>15.8</td>\n      <td>0.0</td>\n      <td>2.0</td>\n      <td>16.0</td>\n    </tr>\n  </tbody>\n</table>\n</div>",
      "text/plain": "                     Active  Reactive  Voltage  Intensity  met1  met2  met3\nDateTime                                                                   \n2006-12-16 17:24:00   4.216     0.418   234.84       18.4   0.0   1.0  17.0\n2006-12-16 17:25:00   5.360     0.436   233.63       23.0   0.0   1.0  16.0\n2006-12-16 17:26:00   5.374     0.498   233.29       23.0   0.0   2.0  17.0\n2006-12-16 17:27:00   5.388     0.502   233.74       23.0   0.0   1.0  17.0\n2006-12-16 17:28:00   3.666     0.528   235.68       15.8   0.0   1.0  17.0\n2006-12-16 17:29:00   3.520     0.522   235.02       15.0   0.0   2.0  17.0\n2006-12-16 17:30:00   3.702     0.520   235.09       15.8   0.0   1.0  17.0\n2006-12-16 17:31:00   3.700     0.520   235.22       15.8   0.0   1.0  17.0\n2006-12-16 17:32:00   3.668     0.510   233.99       15.8   0.0   1.0  17.0\n2006-12-16 17:33:00   3.662     0.510   233.86       15.8   0.0   2.0  16.0"
     },
     "metadata": {},
     "execution_count": 8
    }
   ],
   "source": [
    "power.head(10)"
   ]
  },
  {
   "cell_type": "code",
   "execution_count": 9,
   "metadata": {},
   "outputs": [],
   "source": [
    "def is_integer_column(column):\n",
    "    return power[column].apply(float.is_integer).all()\n",
    "\n",
    "for column in power.columns:\n",
    "    if is_integer_column(column):\n",
    "        power[column] = power[column].astype('int32')"
   ]
  },
  {
   "cell_type": "code",
   "execution_count": 10,
   "metadata": {},
   "outputs": [
    {
     "output_type": "stream",
     "name": "stdout",
     "text": "<class 'pandas.core.frame.DataFrame'>\nDatetimeIndex: 2049280 entries, 2006-12-16 17:24:00 to 2010-11-26 21:02:00\nData columns (total 7 columns):\n #   Column     Dtype  \n---  ------     -----  \n 0   Active     float32\n 1   Reactive   float32\n 2   Voltage    float32\n 3   Intensity  float32\n 4   met1       int32  \n 5   met2       int32  \n 6   met3       int32  \ndtypes: float32(4), int32(3)\nmemory usage: 70.4 MB\n"
    }
   ],
   "source": [
    "power.info()"
   ]
  },
  {
   "cell_type": "code",
   "execution_count": 11,
   "metadata": {},
   "outputs": [
    {
     "output_type": "execute_result",
     "data": {
      "text/html": "<div>\n<style scoped>\n    .dataframe tbody tr th:only-of-type {\n        vertical-align: middle;\n    }\n\n    .dataframe tbody tr th {\n        vertical-align: top;\n    }\n\n    .dataframe thead th {\n        text-align: right;\n    }\n</style>\n<table border=\"1\" class=\"dataframe\">\n  <thead>\n    <tr style=\"text-align: right;\">\n      <th></th>\n      <th>Active</th>\n      <th>Reactive</th>\n      <th>Voltage</th>\n      <th>Intensity</th>\n      <th>met1</th>\n      <th>met2</th>\n      <th>met3</th>\n    </tr>\n    <tr>\n      <th>DateTime</th>\n      <th></th>\n      <th></th>\n      <th></th>\n      <th></th>\n      <th></th>\n      <th></th>\n      <th></th>\n    </tr>\n  </thead>\n  <tbody>\n    <tr>\n      <th>2006-12-16 17:24:00</th>\n      <td>4.216</td>\n      <td>0.418</td>\n      <td>234.84</td>\n      <td>18.4</td>\n      <td>0</td>\n      <td>1</td>\n      <td>17</td>\n    </tr>\n    <tr>\n      <th>2006-12-16 17:25:00</th>\n      <td>5.360</td>\n      <td>0.436</td>\n      <td>233.63</td>\n      <td>23.0</td>\n      <td>0</td>\n      <td>1</td>\n      <td>16</td>\n    </tr>\n    <tr>\n      <th>2006-12-16 17:26:00</th>\n      <td>5.374</td>\n      <td>0.498</td>\n      <td>233.29</td>\n      <td>23.0</td>\n      <td>0</td>\n      <td>2</td>\n      <td>17</td>\n    </tr>\n    <tr>\n      <th>2006-12-16 17:27:00</th>\n      <td>5.388</td>\n      <td>0.502</td>\n      <td>233.74</td>\n      <td>23.0</td>\n      <td>0</td>\n      <td>1</td>\n      <td>17</td>\n    </tr>\n    <tr>\n      <th>2006-12-16 17:28:00</th>\n      <td>3.666</td>\n      <td>0.528</td>\n      <td>235.68</td>\n      <td>15.8</td>\n      <td>0</td>\n      <td>1</td>\n      <td>17</td>\n    </tr>\n    <tr>\n      <th>2006-12-16 17:29:00</th>\n      <td>3.520</td>\n      <td>0.522</td>\n      <td>235.02</td>\n      <td>15.0</td>\n      <td>0</td>\n      <td>2</td>\n      <td>17</td>\n    </tr>\n    <tr>\n      <th>2006-12-16 17:30:00</th>\n      <td>3.702</td>\n      <td>0.520</td>\n      <td>235.09</td>\n      <td>15.8</td>\n      <td>0</td>\n      <td>1</td>\n      <td>17</td>\n    </tr>\n    <tr>\n      <th>2006-12-16 17:31:00</th>\n      <td>3.700</td>\n      <td>0.520</td>\n      <td>235.22</td>\n      <td>15.8</td>\n      <td>0</td>\n      <td>1</td>\n      <td>17</td>\n    </tr>\n    <tr>\n      <th>2006-12-16 17:32:00</th>\n      <td>3.668</td>\n      <td>0.510</td>\n      <td>233.99</td>\n      <td>15.8</td>\n      <td>0</td>\n      <td>1</td>\n      <td>17</td>\n    </tr>\n    <tr>\n      <th>2006-12-16 17:33:00</th>\n      <td>3.662</td>\n      <td>0.510</td>\n      <td>233.86</td>\n      <td>15.8</td>\n      <td>0</td>\n      <td>2</td>\n      <td>16</td>\n    </tr>\n  </tbody>\n</table>\n</div>",
      "text/plain": "                     Active  Reactive  Voltage  Intensity  met1  met2  met3\nDateTime                                                                   \n2006-12-16 17:24:00   4.216     0.418   234.84       18.4     0     1    17\n2006-12-16 17:25:00   5.360     0.436   233.63       23.0     0     1    16\n2006-12-16 17:26:00   5.374     0.498   233.29       23.0     0     2    17\n2006-12-16 17:27:00   5.388     0.502   233.74       23.0     0     1    17\n2006-12-16 17:28:00   3.666     0.528   235.68       15.8     0     1    17\n2006-12-16 17:29:00   3.520     0.522   235.02       15.0     0     2    17\n2006-12-16 17:30:00   3.702     0.520   235.09       15.8     0     1    17\n2006-12-16 17:31:00   3.700     0.520   235.22       15.8     0     1    17\n2006-12-16 17:32:00   3.668     0.510   233.99       15.8     0     1    17\n2006-12-16 17:33:00   3.662     0.510   233.86       15.8     0     2    16"
     },
     "metadata": {},
     "execution_count": 11
    }
   ],
   "source": [
    "power.head(10)"
   ]
  },
  {
   "cell_type": "markdown",
   "metadata": {},
   "source": [
    "## Task 1\n",
    "Select all rows where Active > 5 kW"
   ]
  },
  {
   "cell_type": "code",
   "execution_count": 12,
   "metadata": {},
   "outputs": [
    {
     "output_type": "execute_result",
     "data": {
      "text/html": "<div>\n<style scoped>\n    .dataframe tbody tr th:only-of-type {\n        vertical-align: middle;\n    }\n\n    .dataframe tbody tr th {\n        vertical-align: top;\n    }\n\n    .dataframe thead th {\n        text-align: right;\n    }\n</style>\n<table border=\"1\" class=\"dataframe\">\n  <thead>\n    <tr style=\"text-align: right;\">\n      <th></th>\n      <th>Active</th>\n      <th>Reactive</th>\n      <th>Voltage</th>\n      <th>Intensity</th>\n      <th>met1</th>\n      <th>met2</th>\n      <th>met3</th>\n    </tr>\n    <tr>\n      <th>DateTime</th>\n      <th></th>\n      <th></th>\n      <th></th>\n      <th></th>\n      <th></th>\n      <th></th>\n      <th></th>\n    </tr>\n  </thead>\n  <tbody>\n    <tr>\n      <th>2006-12-16 17:25:00</th>\n      <td>5.360</td>\n      <td>0.436</td>\n      <td>233.63</td>\n      <td>23.0</td>\n      <td>0</td>\n      <td>1</td>\n      <td>16</td>\n    </tr>\n    <tr>\n      <th>2006-12-16 17:26:00</th>\n      <td>5.374</td>\n      <td>0.498</td>\n      <td>233.29</td>\n      <td>23.0</td>\n      <td>0</td>\n      <td>2</td>\n      <td>17</td>\n    </tr>\n    <tr>\n      <th>2006-12-16 17:27:00</th>\n      <td>5.388</td>\n      <td>0.502</td>\n      <td>233.74</td>\n      <td>23.0</td>\n      <td>0</td>\n      <td>1</td>\n      <td>17</td>\n    </tr>\n    <tr>\n      <th>2006-12-16 17:35:00</th>\n      <td>5.412</td>\n      <td>0.470</td>\n      <td>232.78</td>\n      <td>23.2</td>\n      <td>0</td>\n      <td>1</td>\n      <td>17</td>\n    </tr>\n    <tr>\n      <th>2006-12-16 17:36:00</th>\n      <td>5.224</td>\n      <td>0.478</td>\n      <td>232.99</td>\n      <td>22.4</td>\n      <td>0</td>\n      <td>1</td>\n      <td>16</td>\n    </tr>\n    <tr>\n      <th>...</th>\n      <td>...</td>\n      <td>...</td>\n      <td>...</td>\n      <td>...</td>\n      <td>...</td>\n      <td>...</td>\n      <td>...</td>\n    </tr>\n    <tr>\n      <th>2010-11-22 18:40:00</th>\n      <td>5.408</td>\n      <td>0.150</td>\n      <td>231.50</td>\n      <td>23.6</td>\n      <td>48</td>\n      <td>0</td>\n      <td>0</td>\n    </tr>\n    <tr>\n      <th>2010-11-22 18:41:00</th>\n      <td>5.528</td>\n      <td>0.144</td>\n      <td>232.48</td>\n      <td>24.6</td>\n      <td>53</td>\n      <td>0</td>\n      <td>0</td>\n    </tr>\n    <tr>\n      <th>2010-11-24 07:50:00</th>\n      <td>5.172</td>\n      <td>0.050</td>\n      <td>235.18</td>\n      <td>22.0</td>\n      <td>0</td>\n      <td>38</td>\n      <td>17</td>\n    </tr>\n    <tr>\n      <th>2010-11-24 07:51:00</th>\n      <td>5.750</td>\n      <td>0.000</td>\n      <td>234.40</td>\n      <td>24.6</td>\n      <td>0</td>\n      <td>39</td>\n      <td>17</td>\n    </tr>\n    <tr>\n      <th>2010-11-25 07:21:00</th>\n      <td>5.074</td>\n      <td>0.240</td>\n      <td>238.55</td>\n      <td>21.4</td>\n      <td>1</td>\n      <td>2</td>\n      <td>18</td>\n    </tr>\n  </tbody>\n</table>\n<p>17547 rows × 7 columns</p>\n</div>",
      "text/plain": "                     Active  Reactive  Voltage  Intensity  met1  met2  met3\nDateTime                                                                   \n2006-12-16 17:25:00   5.360     0.436   233.63       23.0     0     1    16\n2006-12-16 17:26:00   5.374     0.498   233.29       23.0     0     2    17\n2006-12-16 17:27:00   5.388     0.502   233.74       23.0     0     1    17\n2006-12-16 17:35:00   5.412     0.470   232.78       23.2     0     1    17\n2006-12-16 17:36:00   5.224     0.478   232.99       22.4     0     1    16\n...                     ...       ...      ...        ...   ...   ...   ...\n2010-11-22 18:40:00   5.408     0.150   231.50       23.6    48     0     0\n2010-11-22 18:41:00   5.528     0.144   232.48       24.6    53     0     0\n2010-11-24 07:50:00   5.172     0.050   235.18       22.0     0    38    17\n2010-11-24 07:51:00   5.750     0.000   234.40       24.6     0    39    17\n2010-11-25 07:21:00   5.074     0.240   238.55       21.4     1     2    18\n\n[17547 rows x 7 columns]"
     },
     "metadata": {},
     "execution_count": 12
    }
   ],
   "source": [
    "power[power['Active'] > 5]"
   ]
  },
  {
   "cell_type": "markdown",
   "metadata": {},
   "source": [
    "## Task 2\n",
    "Select all rows where Voltage > 235 V"
   ]
  },
  {
   "cell_type": "code",
   "execution_count": 13,
   "metadata": {},
   "outputs": [
    {
     "output_type": "execute_result",
     "data": {
      "text/html": "<div>\n<style scoped>\n    .dataframe tbody tr th:only-of-type {\n        vertical-align: middle;\n    }\n\n    .dataframe tbody tr th {\n        vertical-align: top;\n    }\n\n    .dataframe thead th {\n        text-align: right;\n    }\n</style>\n<table border=\"1\" class=\"dataframe\">\n  <thead>\n    <tr style=\"text-align: right;\">\n      <th></th>\n      <th>Active</th>\n      <th>Reactive</th>\n      <th>Voltage</th>\n      <th>Intensity</th>\n      <th>met1</th>\n      <th>met2</th>\n      <th>met3</th>\n    </tr>\n    <tr>\n      <th>DateTime</th>\n      <th></th>\n      <th></th>\n      <th></th>\n      <th></th>\n      <th></th>\n      <th></th>\n      <th></th>\n    </tr>\n  </thead>\n  <tbody>\n    <tr>\n      <th>2006-12-16 17:28:00</th>\n      <td>3.666</td>\n      <td>0.528</td>\n      <td>235.68</td>\n      <td>15.8</td>\n      <td>0</td>\n      <td>1</td>\n      <td>17</td>\n    </tr>\n    <tr>\n      <th>2006-12-16 17:29:00</th>\n      <td>3.520</td>\n      <td>0.522</td>\n      <td>235.02</td>\n      <td>15.0</td>\n      <td>0</td>\n      <td>2</td>\n      <td>17</td>\n    </tr>\n    <tr>\n      <th>2006-12-16 17:30:00</th>\n      <td>3.702</td>\n      <td>0.520</td>\n      <td>235.09</td>\n      <td>15.8</td>\n      <td>0</td>\n      <td>1</td>\n      <td>17</td>\n    </tr>\n    <tr>\n      <th>2006-12-16 17:31:00</th>\n      <td>3.700</td>\n      <td>0.520</td>\n      <td>235.22</td>\n      <td>15.8</td>\n      <td>0</td>\n      <td>1</td>\n      <td>17</td>\n    </tr>\n    <tr>\n      <th>2006-12-16 17:38:00</th>\n      <td>4.054</td>\n      <td>0.422</td>\n      <td>235.24</td>\n      <td>17.6</td>\n      <td>0</td>\n      <td>1</td>\n      <td>17</td>\n    </tr>\n    <tr>\n      <th>...</th>\n      <td>...</td>\n      <td>...</td>\n      <td>...</td>\n      <td>...</td>\n      <td>...</td>\n      <td>...</td>\n      <td>...</td>\n    </tr>\n    <tr>\n      <th>2010-11-26 20:58:00</th>\n      <td>0.946</td>\n      <td>0.000</td>\n      <td>240.43</td>\n      <td>4.0</td>\n      <td>0</td>\n      <td>0</td>\n      <td>0</td>\n    </tr>\n    <tr>\n      <th>2010-11-26 20:59:00</th>\n      <td>0.944</td>\n      <td>0.000</td>\n      <td>240.00</td>\n      <td>4.0</td>\n      <td>0</td>\n      <td>0</td>\n      <td>0</td>\n    </tr>\n    <tr>\n      <th>2010-11-26 21:00:00</th>\n      <td>0.938</td>\n      <td>0.000</td>\n      <td>239.82</td>\n      <td>3.8</td>\n      <td>0</td>\n      <td>0</td>\n      <td>0</td>\n    </tr>\n    <tr>\n      <th>2010-11-26 21:01:00</th>\n      <td>0.934</td>\n      <td>0.000</td>\n      <td>239.70</td>\n      <td>3.8</td>\n      <td>0</td>\n      <td>0</td>\n      <td>0</td>\n    </tr>\n    <tr>\n      <th>2010-11-26 21:02:00</th>\n      <td>0.932</td>\n      <td>0.000</td>\n      <td>239.55</td>\n      <td>3.8</td>\n      <td>0</td>\n      <td>0</td>\n      <td>0</td>\n    </tr>\n  </tbody>\n</table>\n<p>1952491 rows × 7 columns</p>\n</div>",
      "text/plain": "                     Active  Reactive  Voltage  Intensity  met1  met2  met3\nDateTime                                                                   \n2006-12-16 17:28:00   3.666     0.528   235.68       15.8     0     1    17\n2006-12-16 17:29:00   3.520     0.522   235.02       15.0     0     2    17\n2006-12-16 17:30:00   3.702     0.520   235.09       15.8     0     1    17\n2006-12-16 17:31:00   3.700     0.520   235.22       15.8     0     1    17\n2006-12-16 17:38:00   4.054     0.422   235.24       17.6     0     1    17\n...                     ...       ...      ...        ...   ...   ...   ...\n2010-11-26 20:58:00   0.946     0.000   240.43        4.0     0     0     0\n2010-11-26 20:59:00   0.944     0.000   240.00        4.0     0     0     0\n2010-11-26 21:00:00   0.938     0.000   239.82        3.8     0     0     0\n2010-11-26 21:01:00   0.934     0.000   239.70        3.8     0     0     0\n2010-11-26 21:02:00   0.932     0.000   239.55        3.8     0     0     0\n\n[1952491 rows x 7 columns]"
     },
     "metadata": {},
     "execution_count": 13
    }
   ],
   "source": [
    "power[power['Voltage'] > 235]"
   ]
  },
  {
   "cell_type": "markdown",
   "metadata": {},
   "source": [
    "## Task 3\n",
    "Select all where met2 > met3 from rows where Intensity in \\[19,20\\]"
   ]
  },
  {
   "cell_type": "code",
   "execution_count": 14,
   "metadata": {},
   "outputs": [
    {
     "output_type": "execute_result",
     "data": {
      "text/html": "<div>\n<style scoped>\n    .dataframe tbody tr th:only-of-type {\n        vertical-align: middle;\n    }\n\n    .dataframe tbody tr th {\n        vertical-align: top;\n    }\n\n    .dataframe thead th {\n        text-align: right;\n    }\n</style>\n<table border=\"1\" class=\"dataframe\">\n  <thead>\n    <tr style=\"text-align: right;\">\n      <th></th>\n      <th>Active</th>\n      <th>Reactive</th>\n      <th>Voltage</th>\n      <th>Intensity</th>\n      <th>met1</th>\n      <th>met2</th>\n      <th>met3</th>\n    </tr>\n    <tr>\n      <th>DateTime</th>\n      <th></th>\n      <th></th>\n      <th></th>\n      <th></th>\n      <th></th>\n      <th></th>\n      <th></th>\n    </tr>\n  </thead>\n  <tbody>\n    <tr>\n      <th>2006-12-16 17:34:00</th>\n      <td>4.448</td>\n      <td>0.498</td>\n      <td>232.86</td>\n      <td>19.6</td>\n      <td>0</td>\n      <td>1</td>\n      <td>17</td>\n    </tr>\n    <tr>\n      <th>2006-12-16 17:48:00</th>\n      <td>4.474</td>\n      <td>0.000</td>\n      <td>234.96</td>\n      <td>19.4</td>\n      <td>0</td>\n      <td>0</td>\n      <td>17</td>\n    </tr>\n    <tr>\n      <th>2006-12-16 17:57:00</th>\n      <td>4.512</td>\n      <td>0.000</td>\n      <td>233.62</td>\n      <td>19.2</td>\n      <td>0</td>\n      <td>0</td>\n      <td>17</td>\n    </tr>\n    <tr>\n      <th>2006-12-16 18:09:00</th>\n      <td>4.464</td>\n      <td>0.136</td>\n      <td>234.66</td>\n      <td>19.0</td>\n      <td>0</td>\n      <td>37</td>\n      <td>16</td>\n    </tr>\n    <tr>\n      <th>2006-12-16 18:16:00</th>\n      <td>4.524</td>\n      <td>0.076</td>\n      <td>234.20</td>\n      <td>19.6</td>\n      <td>0</td>\n      <td>9</td>\n      <td>17</td>\n    </tr>\n    <tr>\n      <th>...</th>\n      <td>...</td>\n      <td>...</td>\n      <td>...</td>\n      <td>...</td>\n      <td>...</td>\n      <td>...</td>\n      <td>...</td>\n    </tr>\n    <tr>\n      <th>2010-11-24 07:53:00</th>\n      <td>4.666</td>\n      <td>0.000</td>\n      <td>235.72</td>\n      <td>19.8</td>\n      <td>0</td>\n      <td>39</td>\n      <td>17</td>\n    </tr>\n    <tr>\n      <th>2010-11-24 07:54:00</th>\n      <td>4.694</td>\n      <td>0.000</td>\n      <td>236.78</td>\n      <td>19.8</td>\n      <td>0</td>\n      <td>39</td>\n      <td>18</td>\n    </tr>\n    <tr>\n      <th>2010-11-24 07:55:00</th>\n      <td>4.602</td>\n      <td>0.000</td>\n      <td>237.08</td>\n      <td>19.4</td>\n      <td>0</td>\n      <td>40</td>\n      <td>17</td>\n    </tr>\n    <tr>\n      <th>2010-11-24 07:56:00</th>\n      <td>4.536</td>\n      <td>0.000</td>\n      <td>237.03</td>\n      <td>19.0</td>\n      <td>0</td>\n      <td>39</td>\n      <td>17</td>\n    </tr>\n    <tr>\n      <th>2010-11-24 07:57:00</th>\n      <td>4.626</td>\n      <td>0.000</td>\n      <td>236.78</td>\n      <td>19.4</td>\n      <td>0</td>\n      <td>39</td>\n      <td>17</td>\n    </tr>\n  </tbody>\n</table>\n<p>7021 rows × 7 columns</p>\n</div>",
      "text/plain": "                     Active  Reactive  Voltage  Intensity  met1  met2  met3\nDateTime                                                                   \n2006-12-16 17:34:00   4.448     0.498   232.86       19.6     0     1    17\n2006-12-16 17:48:00   4.474     0.000   234.96       19.4     0     0    17\n2006-12-16 17:57:00   4.512     0.000   233.62       19.2     0     0    17\n2006-12-16 18:09:00   4.464     0.136   234.66       19.0     0    37    16\n2006-12-16 18:16:00   4.524     0.076   234.20       19.6     0     9    17\n...                     ...       ...      ...        ...   ...   ...   ...\n2010-11-24 07:53:00   4.666     0.000   235.72       19.8     0    39    17\n2010-11-24 07:54:00   4.694     0.000   236.78       19.8     0    39    18\n2010-11-24 07:55:00   4.602     0.000   237.08       19.4     0    40    17\n2010-11-24 07:56:00   4.536     0.000   237.03       19.0     0    39    17\n2010-11-24 07:57:00   4.626     0.000   236.78       19.4     0    39    17\n\n[7021 rows x 7 columns]"
     },
     "metadata": {},
     "execution_count": 14
    }
   ],
   "source": [
    "i_condition = (power['Intensity'] >= 19) & (power['Intensity'] <= 20)\n",
    "i_subset = power[i_condition]\n",
    "i_subset"
   ]
  },
  {
   "cell_type": "code",
   "execution_count": 15,
   "metadata": {},
   "outputs": [
    {
     "output_type": "execute_result",
     "data": {
      "text/html": "<div>\n<style scoped>\n    .dataframe tbody tr th:only-of-type {\n        vertical-align: middle;\n    }\n\n    .dataframe tbody tr th {\n        vertical-align: top;\n    }\n\n    .dataframe thead th {\n        text-align: right;\n    }\n</style>\n<table border=\"1\" class=\"dataframe\">\n  <thead>\n    <tr style=\"text-align: right;\">\n      <th></th>\n      <th>Active</th>\n      <th>Reactive</th>\n      <th>Voltage</th>\n      <th>Intensity</th>\n      <th>met1</th>\n      <th>met2</th>\n      <th>met3</th>\n    </tr>\n    <tr>\n      <th>DateTime</th>\n      <th></th>\n      <th></th>\n      <th></th>\n      <th></th>\n      <th></th>\n      <th></th>\n      <th></th>\n    </tr>\n  </thead>\n  <tbody>\n    <tr>\n      <th>2006-12-16 18:09:00</th>\n      <td>4.464</td>\n      <td>0.136</td>\n      <td>234.66</td>\n      <td>19.0</td>\n      <td>0</td>\n      <td>37</td>\n      <td>16</td>\n    </tr>\n    <tr>\n      <th>2006-12-17 01:04:00</th>\n      <td>4.582</td>\n      <td>0.258</td>\n      <td>238.08</td>\n      <td>19.6</td>\n      <td>0</td>\n      <td>13</td>\n      <td>0</td>\n    </tr>\n    <tr>\n      <th>2006-12-17 01:08:00</th>\n      <td>4.618</td>\n      <td>0.104</td>\n      <td>239.61</td>\n      <td>19.6</td>\n      <td>0</td>\n      <td>27</td>\n      <td>0</td>\n    </tr>\n    <tr>\n      <th>2006-12-17 01:19:00</th>\n      <td>4.636</td>\n      <td>0.140</td>\n      <td>237.37</td>\n      <td>19.4</td>\n      <td>0</td>\n      <td>36</td>\n      <td>0</td>\n    </tr>\n    <tr>\n      <th>2006-12-17 01:20:00</th>\n      <td>4.634</td>\n      <td>0.152</td>\n      <td>237.17</td>\n      <td>19.4</td>\n      <td>0</td>\n      <td>35</td>\n      <td>0</td>\n    </tr>\n    <tr>\n      <th>...</th>\n      <td>...</td>\n      <td>...</td>\n      <td>...</td>\n      <td>...</td>\n      <td>...</td>\n      <td>...</td>\n      <td>...</td>\n    </tr>\n    <tr>\n      <th>2010-11-24 07:53:00</th>\n      <td>4.666</td>\n      <td>0.000</td>\n      <td>235.72</td>\n      <td>19.8</td>\n      <td>0</td>\n      <td>39</td>\n      <td>17</td>\n    </tr>\n    <tr>\n      <th>2010-11-24 07:54:00</th>\n      <td>4.694</td>\n      <td>0.000</td>\n      <td>236.78</td>\n      <td>19.8</td>\n      <td>0</td>\n      <td>39</td>\n      <td>18</td>\n    </tr>\n    <tr>\n      <th>2010-11-24 07:55:00</th>\n      <td>4.602</td>\n      <td>0.000</td>\n      <td>237.08</td>\n      <td>19.4</td>\n      <td>0</td>\n      <td>40</td>\n      <td>17</td>\n    </tr>\n    <tr>\n      <th>2010-11-24 07:56:00</th>\n      <td>4.536</td>\n      <td>0.000</td>\n      <td>237.03</td>\n      <td>19.0</td>\n      <td>0</td>\n      <td>39</td>\n      <td>17</td>\n    </tr>\n    <tr>\n      <th>2010-11-24 07:57:00</th>\n      <td>4.626</td>\n      <td>0.000</td>\n      <td>236.78</td>\n      <td>19.4</td>\n      <td>0</td>\n      <td>39</td>\n      <td>17</td>\n    </tr>\n  </tbody>\n</table>\n<p>2509 rows × 7 columns</p>\n</div>",
      "text/plain": "                     Active  Reactive  Voltage  Intensity  met1  met2  met3\nDateTime                                                                   \n2006-12-16 18:09:00   4.464     0.136   234.66       19.0     0    37    16\n2006-12-17 01:04:00   4.582     0.258   238.08       19.6     0    13     0\n2006-12-17 01:08:00   4.618     0.104   239.61       19.6     0    27     0\n2006-12-17 01:19:00   4.636     0.140   237.37       19.4     0    36     0\n2006-12-17 01:20:00   4.634     0.152   237.17       19.4     0    35     0\n...                     ...       ...      ...        ...   ...   ...   ...\n2010-11-24 07:53:00   4.666     0.000   235.72       19.8     0    39    17\n2010-11-24 07:54:00   4.694     0.000   236.78       19.8     0    39    18\n2010-11-24 07:55:00   4.602     0.000   237.08       19.4     0    40    17\n2010-11-24 07:56:00   4.536     0.000   237.03       19.0     0    39    17\n2010-11-24 07:57:00   4.626     0.000   236.78       19.4     0    39    17\n\n[2509 rows x 7 columns]"
     },
     "metadata": {},
     "execution_count": 15
    }
   ],
   "source": [
    "i_subset[i_subset['met2'] > i_subset['met3']]"
   ]
  },
  {
   "cell_type": "code",
   "execution_count": 16,
   "metadata": {},
   "outputs": [],
   "source": [
    "del i_subset"
   ]
  },
  {
   "cell_type": "markdown",
   "metadata": {},
   "source": [
    "## Task 4\n",
    "Select 500000 random unique rows. Calculate mean of all mets."
   ]
  },
  {
   "cell_type": "code",
   "execution_count": 17,
   "metadata": {},
   "outputs": [
    {
     "output_type": "execute_result",
     "data": {
      "text/html": "<div>\n<style scoped>\n    .dataframe tbody tr th:only-of-type {\n        vertical-align: middle;\n    }\n\n    .dataframe tbody tr th {\n        vertical-align: top;\n    }\n\n    .dataframe thead th {\n        text-align: right;\n    }\n</style>\n<table border=\"1\" class=\"dataframe\">\n  <thead>\n    <tr style=\"text-align: right;\">\n      <th></th>\n      <th>Active</th>\n      <th>Reactive</th>\n      <th>Voltage</th>\n      <th>Intensity</th>\n      <th>met1</th>\n      <th>met2</th>\n      <th>met3</th>\n    </tr>\n    <tr>\n      <th>DateTime</th>\n      <th></th>\n      <th></th>\n      <th></th>\n      <th></th>\n      <th></th>\n      <th></th>\n      <th></th>\n    </tr>\n  </thead>\n  <tbody>\n    <tr>\n      <th>2008-04-24 05:18:00</th>\n      <td>0.344</td>\n      <td>0.112</td>\n      <td>240.96</td>\n      <td>1.4</td>\n      <td>0</td>\n      <td>0</td>\n      <td>1</td>\n    </tr>\n    <tr>\n      <th>2010-01-19 18:01:00</th>\n      <td>2.070</td>\n      <td>0.000</td>\n      <td>240.80</td>\n      <td>8.6</td>\n      <td>0</td>\n      <td>0</td>\n      <td>19</td>\n    </tr>\n    <tr>\n      <th>2007-05-11 17:16:00</th>\n      <td>1.214</td>\n      <td>0.088</td>\n      <td>235.39</td>\n      <td>5.0</td>\n      <td>0</td>\n      <td>1</td>\n      <td>17</td>\n    </tr>\n    <tr>\n      <th>2009-10-31 06:34:00</th>\n      <td>0.220</td>\n      <td>0.000</td>\n      <td>241.31</td>\n      <td>0.8</td>\n      <td>0</td>\n      <td>0</td>\n      <td>1</td>\n    </tr>\n    <tr>\n      <th>2009-10-22 00:02:00</th>\n      <td>0.414</td>\n      <td>0.200</td>\n      <td>244.24</td>\n      <td>1.8</td>\n      <td>0</td>\n      <td>0</td>\n      <td>0</td>\n    </tr>\n    <tr>\n      <th>...</th>\n      <td>...</td>\n      <td>...</td>\n      <td>...</td>\n      <td>...</td>\n      <td>...</td>\n      <td>...</td>\n      <td>...</td>\n    </tr>\n    <tr>\n      <th>2008-06-09 13:33:00</th>\n      <td>0.398</td>\n      <td>0.076</td>\n      <td>238.06</td>\n      <td>2.0</td>\n      <td>0</td>\n      <td>0</td>\n      <td>1</td>\n    </tr>\n    <tr>\n      <th>2009-09-04 21:46:00</th>\n      <td>0.668</td>\n      <td>0.242</td>\n      <td>242.01</td>\n      <td>3.0</td>\n      <td>0</td>\n      <td>0</td>\n      <td>1</td>\n    </tr>\n    <tr>\n      <th>2010-02-12 09:01:00</th>\n      <td>2.870</td>\n      <td>0.320</td>\n      <td>238.80</td>\n      <td>12.0</td>\n      <td>1</td>\n      <td>0</td>\n      <td>19</td>\n    </tr>\n    <tr>\n      <th>2007-02-25 16:34:00</th>\n      <td>0.468</td>\n      <td>0.360</td>\n      <td>242.37</td>\n      <td>2.4</td>\n      <td>0</td>\n      <td>1</td>\n      <td>0</td>\n    </tr>\n    <tr>\n      <th>2007-08-20 19:58:00</th>\n      <td>2.538</td>\n      <td>0.180</td>\n      <td>240.42</td>\n      <td>10.4</td>\n      <td>0</td>\n      <td>35</td>\n      <td>0</td>\n    </tr>\n  </tbody>\n</table>\n<p>500000 rows × 7 columns</p>\n</div>",
      "text/plain": "                     Active  Reactive  Voltage  Intensity  met1  met2  met3\nDateTime                                                                   \n2008-04-24 05:18:00   0.344     0.112   240.96        1.4     0     0     1\n2010-01-19 18:01:00   2.070     0.000   240.80        8.6     0     0    19\n2007-05-11 17:16:00   1.214     0.088   235.39        5.0     0     1    17\n2009-10-31 06:34:00   0.220     0.000   241.31        0.8     0     0     1\n2009-10-22 00:02:00   0.414     0.200   244.24        1.8     0     0     0\n...                     ...       ...      ...        ...   ...   ...   ...\n2008-06-09 13:33:00   0.398     0.076   238.06        2.0     0     0     1\n2009-09-04 21:46:00   0.668     0.242   242.01        3.0     0     0     1\n2010-02-12 09:01:00   2.870     0.320   238.80       12.0     1     0    19\n2007-02-25 16:34:00   0.468     0.360   242.37        2.4     0     1     0\n2007-08-20 19:58:00   2.538     0.180   240.42       10.4     0    35     0\n\n[500000 rows x 7 columns]"
     },
     "metadata": {},
     "execution_count": 17
    }
   ],
   "source": [
    "rnd_row_index = np.random.choice(power.index, 500000, replace=False)\n",
    "rnd_subset = power.loc[rnd_row_index]\n",
    "rnd_subset"
   ]
  },
  {
   "cell_type": "code",
   "execution_count": 18,
   "metadata": {},
   "outputs": [
    {
     "output_type": "stream",
     "name": "stdout",
     "text": "Mean of met1: 1.127548\nMean of met2: 1.294614\nMean of met3: 6.454706\n"
    }
   ],
   "source": [
    "def print_mean(df : pd.DataFrame, column : str):\n",
    "    mean = df[column].mean()\n",
    "    print(f\"Mean of {column}: {mean}\")\n",
    "\n",
    "print_mean(rnd_subset, 'met1')\n",
    "print_mean(rnd_subset, 'met2')\n",
    "print_mean(rnd_subset, 'met3')"
   ]
  },
  {
   "cell_type": "code",
   "execution_count": 19,
   "metadata": {},
   "outputs": [],
   "source": [
    "del rnd_subset"
   ]
  },
  {
   "cell_type": "markdown",
   "metadata": {},
   "source": [
    "## Task 5\n",
    "From night(>=18:00) rows select all where minute consumption > 6kW\n",
    "\n",
    "Split this subset by max met and for each select every third from 1 part and every_fourth from 2 part"
   ]
  },
  {
   "cell_type": "code",
   "execution_count": 21,
   "metadata": {},
   "outputs": [
    {
     "output_type": "execute_result",
     "data": {
      "text/html": "<div>\n<style scoped>\n    .dataframe tbody tr th:only-of-type {\n        vertical-align: middle;\n    }\n\n    .dataframe tbody tr th {\n        vertical-align: top;\n    }\n\n    .dataframe thead th {\n        text-align: right;\n    }\n</style>\n<table border=\"1\" class=\"dataframe\">\n  <thead>\n    <tr style=\"text-align: right;\">\n      <th></th>\n      <th>Active</th>\n      <th>Reactive</th>\n      <th>Voltage</th>\n      <th>Intensity</th>\n      <th>met1</th>\n      <th>met2</th>\n      <th>met3</th>\n    </tr>\n    <tr>\n      <th>DateTime</th>\n      <th></th>\n      <th></th>\n      <th></th>\n      <th></th>\n      <th></th>\n      <th></th>\n      <th></th>\n    </tr>\n  </thead>\n  <tbody>\n    <tr>\n      <th>2006-12-16 18:00:00</th>\n      <td>2.790</td>\n      <td>0.180</td>\n      <td>237.52</td>\n      <td>11.8</td>\n      <td>0</td>\n      <td>0</td>\n      <td>18</td>\n    </tr>\n    <tr>\n      <th>2006-12-16 18:01:00</th>\n      <td>2.624</td>\n      <td>0.144</td>\n      <td>238.20</td>\n      <td>11.0</td>\n      <td>0</td>\n      <td>0</td>\n      <td>17</td>\n    </tr>\n    <tr>\n      <th>2006-12-16 18:02:00</th>\n      <td>2.772</td>\n      <td>0.118</td>\n      <td>238.28</td>\n      <td>11.6</td>\n      <td>0</td>\n      <td>0</td>\n      <td>17</td>\n    </tr>\n    <tr>\n      <th>2006-12-16 18:03:00</th>\n      <td>3.740</td>\n      <td>0.108</td>\n      <td>236.93</td>\n      <td>16.4</td>\n      <td>0</td>\n      <td>16</td>\n      <td>18</td>\n    </tr>\n    <tr>\n      <th>2006-12-16 18:04:00</th>\n      <td>4.928</td>\n      <td>0.202</td>\n      <td>235.01</td>\n      <td>21.0</td>\n      <td>0</td>\n      <td>37</td>\n      <td>16</td>\n    </tr>\n    <tr>\n      <th>...</th>\n      <td>...</td>\n      <td>...</td>\n      <td>...</td>\n      <td>...</td>\n      <td>...</td>\n      <td>...</td>\n      <td>...</td>\n    </tr>\n    <tr>\n      <th>2010-11-26 20:58:00</th>\n      <td>0.946</td>\n      <td>0.000</td>\n      <td>240.43</td>\n      <td>4.0</td>\n      <td>0</td>\n      <td>0</td>\n      <td>0</td>\n    </tr>\n    <tr>\n      <th>2010-11-26 20:59:00</th>\n      <td>0.944</td>\n      <td>0.000</td>\n      <td>240.00</td>\n      <td>4.0</td>\n      <td>0</td>\n      <td>0</td>\n      <td>0</td>\n    </tr>\n    <tr>\n      <th>2010-11-26 21:00:00</th>\n      <td>0.938</td>\n      <td>0.000</td>\n      <td>239.82</td>\n      <td>3.8</td>\n      <td>0</td>\n      <td>0</td>\n      <td>0</td>\n    </tr>\n    <tr>\n      <th>2010-11-26 21:01:00</th>\n      <td>0.934</td>\n      <td>0.000</td>\n      <td>239.70</td>\n      <td>3.8</td>\n      <td>0</td>\n      <td>0</td>\n      <td>0</td>\n    </tr>\n    <tr>\n      <th>2010-11-26 21:02:00</th>\n      <td>0.932</td>\n      <td>0.000</td>\n      <td>239.55</td>\n      <td>3.8</td>\n      <td>0</td>\n      <td>0</td>\n      <td>0</td>\n    </tr>\n  </tbody>\n</table>\n<p>513146 rows × 7 columns</p>\n</div>",
      "text/plain": "                     Active  Reactive  Voltage  Intensity  met1  met2  met3\nDateTime                                                                   \n2006-12-16 18:00:00   2.790     0.180   237.52       11.8     0     0    18\n2006-12-16 18:01:00   2.624     0.144   238.20       11.0     0     0    17\n2006-12-16 18:02:00   2.772     0.118   238.28       11.6     0     0    17\n2006-12-16 18:03:00   3.740     0.108   236.93       16.4     0    16    18\n2006-12-16 18:04:00   4.928     0.202   235.01       21.0     0    37    16\n...                     ...       ...      ...        ...   ...   ...   ...\n2010-11-26 20:58:00   0.946     0.000   240.43        4.0     0     0     0\n2010-11-26 20:59:00   0.944     0.000   240.00        4.0     0     0     0\n2010-11-26 21:00:00   0.938     0.000   239.82        3.8     0     0     0\n2010-11-26 21:01:00   0.934     0.000   239.70        3.8     0     0     0\n2010-11-26 21:02:00   0.932     0.000   239.55        3.8     0     0     0\n\n[513146 rows x 7 columns]"
     },
     "metadata": {},
     "execution_count": 21
    }
   ],
   "source": [
    "nigth_subset = power[power.index.hour >= 18]\n",
    "nigth_subset"
   ]
  },
  {
   "cell_type": "code",
   "execution_count": 122,
   "metadata": {},
   "outputs": [
    {
     "output_type": "execute_result",
     "data": {
      "text/plain": "Active       False\nReactive     False\nVoltage      False\nIntensity    False\nmet1         False\nmet2         False\nmet3         False\ndtype: bool"
     },
     "metadata": {},
     "execution_count": 122
    }
   ],
   "source": [
    "night_subset = nigth_subset.resample('Min').sum() #probably several minute is not exists\n",
    "nigth_subset.isna().all()"
   ]
  },
  {
   "cell_type": "code",
   "execution_count": 37,
   "metadata": {},
   "outputs": [
    {
     "output_type": "execute_result",
     "data": {
      "text/html": "<div>\n<style scoped>\n    .dataframe tbody tr th:only-of-type {\n        vertical-align: middle;\n    }\n\n    .dataframe tbody tr th {\n        vertical-align: top;\n    }\n\n    .dataframe thead th {\n        text-align: right;\n    }\n</style>\n<table border=\"1\" class=\"dataframe\">\n  <thead>\n    <tr style=\"text-align: right;\">\n      <th></th>\n      <th>Active</th>\n      <th>Reactive</th>\n      <th>Voltage</th>\n      <th>Intensity</th>\n      <th>met1</th>\n      <th>met2</th>\n      <th>met3</th>\n    </tr>\n    <tr>\n      <th>DateTime</th>\n      <th></th>\n      <th></th>\n      <th></th>\n      <th></th>\n      <th></th>\n      <th></th>\n      <th></th>\n    </tr>\n  </thead>\n  <tbody>\n    <tr>\n      <th>2006-12-16 18:05:00</th>\n      <td>6.052</td>\n      <td>0.192</td>\n      <td>232.93</td>\n      <td>26.2</td>\n      <td>0</td>\n      <td>37</td>\n      <td>17</td>\n    </tr>\n    <tr>\n      <th>2006-12-16 18:06:00</th>\n      <td>6.752</td>\n      <td>0.186</td>\n      <td>232.12</td>\n      <td>29.0</td>\n      <td>0</td>\n      <td>36</td>\n      <td>17</td>\n    </tr>\n    <tr>\n      <th>2006-12-16 18:07:00</th>\n      <td>6.474</td>\n      <td>0.144</td>\n      <td>231.85</td>\n      <td>27.8</td>\n      <td>0</td>\n      <td>37</td>\n      <td>16</td>\n    </tr>\n    <tr>\n      <th>2006-12-16 18:08:00</th>\n      <td>6.308</td>\n      <td>0.116</td>\n      <td>232.25</td>\n      <td>27.0</td>\n      <td>0</td>\n      <td>36</td>\n      <td>17</td>\n    </tr>\n    <tr>\n      <th>2006-12-16 18:35:00</th>\n      <td>6.072</td>\n      <td>0.000</td>\n      <td>232.48</td>\n      <td>26.4</td>\n      <td>0</td>\n      <td>27</td>\n      <td>17</td>\n    </tr>\n    <tr>\n      <th>...</th>\n      <td>...</td>\n      <td>...</td>\n      <td>...</td>\n      <td>...</td>\n      <td>...</td>\n      <td>...</td>\n      <td>...</td>\n    </tr>\n    <tr>\n      <th>2010-11-20 18:44:00</th>\n      <td>6.374</td>\n      <td>0.392</td>\n      <td>228.52</td>\n      <td>28.2</td>\n      <td>15</td>\n      <td>36</td>\n      <td>16</td>\n    </tr>\n    <tr>\n      <th>2010-11-20 18:45:00</th>\n      <td>6.564</td>\n      <td>0.430</td>\n      <td>228.43</td>\n      <td>29.0</td>\n      <td>13</td>\n      <td>40</td>\n      <td>16</td>\n    </tr>\n    <tr>\n      <th>2010-11-20 18:46:00</th>\n      <td>6.438</td>\n      <td>0.308</td>\n      <td>229.26</td>\n      <td>28.4</td>\n      <td>13</td>\n      <td>39</td>\n      <td>16</td>\n    </tr>\n    <tr>\n      <th>2010-11-20 18:49:00</th>\n      <td>6.210</td>\n      <td>0.174</td>\n      <td>228.82</td>\n      <td>27.4</td>\n      <td>21</td>\n      <td>34</td>\n      <td>17</td>\n    </tr>\n    <tr>\n      <th>2010-11-20 18:52:00</th>\n      <td>6.364</td>\n      <td>0.126</td>\n      <td>229.38</td>\n      <td>28.2</td>\n      <td>17</td>\n      <td>34</td>\n      <td>16</td>\n    </tr>\n  </tbody>\n</table>\n<p>2882 rows × 7 columns</p>\n</div>",
      "text/plain": "                     Active  Reactive  Voltage  Intensity  met1  met2  met3\nDateTime                                                                   \n2006-12-16 18:05:00   6.052     0.192   232.93       26.2     0    37    17\n2006-12-16 18:06:00   6.752     0.186   232.12       29.0     0    36    17\n2006-12-16 18:07:00   6.474     0.144   231.85       27.8     0    37    16\n2006-12-16 18:08:00   6.308     0.116   232.25       27.0     0    36    17\n2006-12-16 18:35:00   6.072     0.000   232.48       26.4     0    27    17\n...                     ...       ...      ...        ...   ...   ...   ...\n2010-11-20 18:44:00   6.374     0.392   228.52       28.2    15    36    16\n2010-11-20 18:45:00   6.564     0.430   228.43       29.0    13    40    16\n2010-11-20 18:46:00   6.438     0.308   229.26       28.4    13    39    16\n2010-11-20 18:49:00   6.210     0.174   228.82       27.4    21    34    17\n2010-11-20 18:52:00   6.364     0.126   229.38       28.2    17    34    16\n\n[2882 rows x 7 columns]"
     },
     "metadata": {},
     "execution_count": 37
    }
   ],
   "source": [
    "nigth_gt6_subset = nigth_subset[nigth_subset['Active'] > 6]\n",
    "nigth_gt6_subset"
   ]
  },
  {
   "cell_type": "code",
   "execution_count": 110,
   "metadata": {},
   "outputs": [
    {
     "output_type": "stream",
     "name": "stdout",
     "text": "Count of classes\n"
    },
    {
     "output_type": "execute_result",
     "data": {
      "text/plain": "array([1740, 1062,   80])"
     },
     "metadata": {},
     "execution_count": 110
    }
   ],
   "source": [
    "indexer = lambda row: np.argmax([row['met1'], row['met2'], row['met3']]) + 1\n",
    "classes = nigth_gt6_subset.apply(indexer, axis = 1)\n",
    "\n",
    "print(\"Count of classes\")\n",
    "np.unique(classes, return_counts=True)[1]"
   ]
  },
  {
   "cell_type": "code",
   "execution_count": 114,
   "metadata": {},
   "outputs": [],
   "source": [
    "def get_split_group(df : pd.DataFrame, n: int, classes):\n",
    "    return df.loc[classes[classes == n].index]\n",
    "\n",
    "met1_subset = get_split_group(nigth_gt6_subset, 1, classes)\n",
    "met2_subset = get_split_group(nigth_gt6_subset, 2, classes)\n",
    "met3_subset = get_split_group(nigth_gt6_subset, 3, classes)"
   ]
  },
  {
   "cell_type": "code",
   "execution_count": 208,
   "metadata": {},
   "outputs": [],
   "source": [
    "def nth(df : pd.DataFrame, n : int, start : int, end : int):\n",
    "    indexes = np.arange(start, end, n)      \n",
    "    return df.iloc[indexes]\n",
    "\n",
    "def fourth_from_tail(df : pd.DataFrame):\n",
    "    start = np.floor(len(df) / 2)\n",
    "    end = len(df)\n",
    "    return nth(df, 4, start, end)\n",
    "\n",
    "def third_from_head(df : pd.DataFrame):\n",
    "    start = 0\n",
    "    end = np.ceil(len(df) / 2)\n",
    "    return nth(df, 3, start, end)"
   ]
  },
  {
   "cell_type": "code",
   "execution_count": 205,
   "metadata": {},
   "outputs": [
    {
     "output_type": "execute_result",
     "data": {
      "text/html": "<div>\n<style scoped>\n    .dataframe tbody tr th:only-of-type {\n        vertical-align: middle;\n    }\n\n    .dataframe tbody tr th {\n        vertical-align: top;\n    }\n\n    .dataframe thead th {\n        text-align: right;\n    }\n</style>\n<table border=\"1\" class=\"dataframe\">\n  <thead>\n    <tr style=\"text-align: right;\">\n      <th></th>\n      <th>Active</th>\n      <th>Reactive</th>\n      <th>Voltage</th>\n      <th>Intensity</th>\n      <th>met1</th>\n      <th>met2</th>\n      <th>met3</th>\n    </tr>\n    <tr>\n      <th>DateTime</th>\n      <th></th>\n      <th></th>\n      <th></th>\n      <th></th>\n      <th></th>\n      <th></th>\n      <th></th>\n    </tr>\n  </thead>\n  <tbody>\n    <tr>\n      <th>2006-12-16 18:05:00</th>\n      <td>6.052</td>\n      <td>0.192</td>\n      <td>232.93</td>\n      <td>26.2</td>\n      <td>0</td>\n      <td>37</td>\n      <td>17</td>\n    </tr>\n    <tr>\n      <th>2006-12-16 18:08:00</th>\n      <td>6.308</td>\n      <td>0.116</td>\n      <td>232.25</td>\n      <td>27.0</td>\n      <td>0</td>\n      <td>36</td>\n      <td>17</td>\n    </tr>\n    <tr>\n      <th>2006-12-28 20:58:00</th>\n      <td>6.386</td>\n      <td>0.374</td>\n      <td>236.63</td>\n      <td>27.0</td>\n      <td>1</td>\n      <td>36</td>\n      <td>17</td>\n    </tr>\n    <tr>\n      <th>2006-12-28 21:02:00</th>\n      <td>8.088</td>\n      <td>0.262</td>\n      <td>235.50</td>\n      <td>34.4</td>\n      <td>1</td>\n      <td>72</td>\n      <td>17</td>\n    </tr>\n    <tr>\n      <th>2006-12-28 21:05:00</th>\n      <td>7.230</td>\n      <td>0.152</td>\n      <td>235.22</td>\n      <td>30.6</td>\n      <td>1</td>\n      <td>73</td>\n      <td>17</td>\n    </tr>\n    <tr>\n      <th>...</th>\n      <td>...</td>\n      <td>...</td>\n      <td>...</td>\n      <td>...</td>\n      <td>...</td>\n      <td>...</td>\n      <td>...</td>\n    </tr>\n    <tr>\n      <th>2008-03-23 20:27:00</th>\n      <td>7.222</td>\n      <td>0.208</td>\n      <td>233.36</td>\n      <td>30.8</td>\n      <td>0</td>\n      <td>73</td>\n      <td>16</td>\n    </tr>\n    <tr>\n      <th>2008-03-23 20:30:00</th>\n      <td>6.952</td>\n      <td>0.178</td>\n      <td>234.24</td>\n      <td>29.6</td>\n      <td>0</td>\n      <td>72</td>\n      <td>17</td>\n    </tr>\n    <tr>\n      <th>2008-03-23 20:33:00</th>\n      <td>6.490</td>\n      <td>0.196</td>\n      <td>234.04</td>\n      <td>27.6</td>\n      <td>0</td>\n      <td>72</td>\n      <td>17</td>\n    </tr>\n    <tr>\n      <th>2008-03-23 20:36:00</th>\n      <td>6.708</td>\n      <td>0.180</td>\n      <td>234.10</td>\n      <td>28.6</td>\n      <td>0</td>\n      <td>73</td>\n      <td>16</td>\n    </tr>\n    <tr>\n      <th>2008-04-20 21:00:00</th>\n      <td>8.268</td>\n      <td>0.312</td>\n      <td>232.30</td>\n      <td>35.6</td>\n      <td>1</td>\n      <td>72</td>\n      <td>17</td>\n    </tr>\n  </tbody>\n</table>\n<p>177 rows × 7 columns</p>\n</div>",
      "text/plain": "                     Active  Reactive  Voltage  Intensity  met1  met2  met3\nDateTime                                                                   \n2006-12-16 18:05:00   6.052     0.192   232.93       26.2     0    37    17\n2006-12-16 18:08:00   6.308     0.116   232.25       27.0     0    36    17\n2006-12-28 20:58:00   6.386     0.374   236.63       27.0     1    36    17\n2006-12-28 21:02:00   8.088     0.262   235.50       34.4     1    72    17\n2006-12-28 21:05:00   7.230     0.152   235.22       30.6     1    73    17\n...                     ...       ...      ...        ...   ...   ...   ...\n2008-03-23 20:27:00   7.222     0.208   233.36       30.8     0    73    16\n2008-03-23 20:30:00   6.952     0.178   234.24       29.6     0    72    17\n2008-03-23 20:33:00   6.490     0.196   234.04       27.6     0    72    17\n2008-03-23 20:36:00   6.708     0.180   234.10       28.6     0    73    16\n2008-04-20 21:00:00   8.268     0.312   232.30       35.6     1    72    17\n\n[177 rows x 7 columns]"
     },
     "metadata": {},
     "execution_count": 205
    }
   ],
   "source": [
    "third_from_head(met2_subset)"
   ]
  },
  {
   "cell_type": "code",
   "execution_count": 207,
   "metadata": {},
   "outputs": [
    {
     "output_type": "execute_result",
     "data": {
      "text/html": "<div>\n<style scoped>\n    .dataframe tbody tr th:only-of-type {\n        vertical-align: middle;\n    }\n\n    .dataframe tbody tr th {\n        vertical-align: top;\n    }\n\n    .dataframe thead th {\n        text-align: right;\n    }\n</style>\n<table border=\"1\" class=\"dataframe\">\n  <thead>\n    <tr style=\"text-align: right;\">\n      <th></th>\n      <th>Active</th>\n      <th>Reactive</th>\n      <th>Voltage</th>\n      <th>Intensity</th>\n      <th>met1</th>\n      <th>met2</th>\n      <th>met3</th>\n    </tr>\n    <tr>\n      <th>DateTime</th>\n      <th></th>\n      <th></th>\n      <th></th>\n      <th></th>\n      <th></th>\n      <th></th>\n      <th></th>\n    </tr>\n  </thead>\n  <tbody>\n    <tr>\n      <th>2008-04-20 21:03:00</th>\n      <td>7.798</td>\n      <td>0.328</td>\n      <td>231.76</td>\n      <td>33.6</td>\n      <td>1</td>\n      <td>71</td>\n      <td>17</td>\n    </tr>\n    <tr>\n      <th>2008-04-20 21:07:00</th>\n      <td>7.452</td>\n      <td>0.346</td>\n      <td>232.31</td>\n      <td>32.2</td>\n      <td>1</td>\n      <td>68</td>\n      <td>17</td>\n    </tr>\n    <tr>\n      <th>2008-04-20 21:11:00</th>\n      <td>6.436</td>\n      <td>0.382</td>\n      <td>232.10</td>\n      <td>27.6</td>\n      <td>1</td>\n      <td>37</td>\n      <td>17</td>\n    </tr>\n    <tr>\n      <th>2008-04-20 21:15:00</th>\n      <td>6.200</td>\n      <td>0.216</td>\n      <td>232.51</td>\n      <td>26.6</td>\n      <td>1</td>\n      <td>37</td>\n      <td>17</td>\n    </tr>\n    <tr>\n      <th>2008-05-18 20:30:00</th>\n      <td>6.760</td>\n      <td>0.236</td>\n      <td>234.90</td>\n      <td>29.8</td>\n      <td>2</td>\n      <td>52</td>\n      <td>28</td>\n    </tr>\n    <tr>\n      <th>...</th>\n      <td>...</td>\n      <td>...</td>\n      <td>...</td>\n      <td>...</td>\n      <td>...</td>\n      <td>...</td>\n      <td>...</td>\n    </tr>\n    <tr>\n      <th>2010-11-20 18:30:00</th>\n      <td>6.620</td>\n      <td>0.314</td>\n      <td>229.00</td>\n      <td>29.2</td>\n      <td>18</td>\n      <td>34</td>\n      <td>16</td>\n    </tr>\n    <tr>\n      <th>2010-11-20 18:34:00</th>\n      <td>6.266</td>\n      <td>0.360</td>\n      <td>229.82</td>\n      <td>27.6</td>\n      <td>14</td>\n      <td>35</td>\n      <td>16</td>\n    </tr>\n    <tr>\n      <th>2010-11-20 18:38:00</th>\n      <td>6.302</td>\n      <td>0.376</td>\n      <td>229.65</td>\n      <td>27.8</td>\n      <td>15</td>\n      <td>34</td>\n      <td>17</td>\n    </tr>\n    <tr>\n      <th>2010-11-20 18:42:00</th>\n      <td>6.238</td>\n      <td>0.344</td>\n      <td>229.37</td>\n      <td>27.6</td>\n      <td>14</td>\n      <td>35</td>\n      <td>16</td>\n    </tr>\n    <tr>\n      <th>2010-11-20 18:46:00</th>\n      <td>6.438</td>\n      <td>0.308</td>\n      <td>229.26</td>\n      <td>28.4</td>\n      <td>13</td>\n      <td>39</td>\n      <td>16</td>\n    </tr>\n  </tbody>\n</table>\n<p>133 rows × 7 columns</p>\n</div>",
      "text/plain": "                     Active  Reactive  Voltage  Intensity  met1  met2  met3\nDateTime                                                                   \n2008-04-20 21:03:00   7.798     0.328   231.76       33.6     1    71    17\n2008-04-20 21:07:00   7.452     0.346   232.31       32.2     1    68    17\n2008-04-20 21:11:00   6.436     0.382   232.10       27.6     1    37    17\n2008-04-20 21:15:00   6.200     0.216   232.51       26.6     1    37    17\n2008-05-18 20:30:00   6.760     0.236   234.90       29.8     2    52    28\n...                     ...       ...      ...        ...   ...   ...   ...\n2010-11-20 18:30:00   6.620     0.314   229.00       29.2    18    34    16\n2010-11-20 18:34:00   6.266     0.360   229.82       27.6    14    35    16\n2010-11-20 18:38:00   6.302     0.376   229.65       27.8    15    34    17\n2010-11-20 18:42:00   6.238     0.344   229.37       27.6    14    35    16\n2010-11-20 18:46:00   6.438     0.308   229.26       28.4    13    39    16\n\n[133 rows x 7 columns]"
     },
     "metadata": {},
     "execution_count": 207
    }
   ],
   "source": [
    "fourth_from_tail(met2_subset)"
   ]
  },
  {
   "cell_type": "code",
   "execution_count": 214,
   "metadata": {},
   "outputs": [],
   "source": [
    "del met1_subset\n",
    "del met2_subset\n",
    "del met3_subset\n",
    "del classes\n",
    "del night_gt6_subset\n",
    "del night_subset"
   ]
  },
  {
   "cell_type": "markdown",
   "metadata": {},
   "source": [
    "# Credit Approval Data Set (Part 2) \n",
    "[Data Source](https://archive.ics.uci.edu/ml/datasets/Credit+Approval)"
   ]
  },
  {
   "cell_type": "code",
   "execution_count": 4,
   "metadata": {},
   "outputs": [
    {
     "output_type": "execute_result",
     "data": {
      "text/html": "<div>\n<style scoped>\n    .dataframe tbody tr th:only-of-type {\n        vertical-align: middle;\n    }\n\n    .dataframe tbody tr th {\n        vertical-align: top;\n    }\n\n    .dataframe thead th {\n        text-align: right;\n    }\n</style>\n<table border=\"1\" class=\"dataframe\">\n  <thead>\n    <tr style=\"text-align: right;\">\n      <th></th>\n      <th>0</th>\n      <th>1</th>\n      <th>2</th>\n      <th>3</th>\n      <th>4</th>\n      <th>5</th>\n      <th>6</th>\n      <th>7</th>\n      <th>8</th>\n      <th>9</th>\n      <th>10</th>\n      <th>11</th>\n      <th>12</th>\n      <th>13</th>\n      <th>14</th>\n      <th>15</th>\n    </tr>\n  </thead>\n  <tbody>\n    <tr>\n      <th>0</th>\n      <td>b</td>\n      <td>30.83</td>\n      <td>0.000</td>\n      <td>u</td>\n      <td>g</td>\n      <td>w</td>\n      <td>v</td>\n      <td>1.25</td>\n      <td>t</td>\n      <td>t</td>\n      <td>1</td>\n      <td>f</td>\n      <td>g</td>\n      <td>202.0</td>\n      <td>0</td>\n      <td>+</td>\n    </tr>\n    <tr>\n      <th>1</th>\n      <td>a</td>\n      <td>58.67</td>\n      <td>4.460</td>\n      <td>u</td>\n      <td>g</td>\n      <td>q</td>\n      <td>h</td>\n      <td>3.04</td>\n      <td>t</td>\n      <td>t</td>\n      <td>6</td>\n      <td>f</td>\n      <td>g</td>\n      <td>43.0</td>\n      <td>560</td>\n      <td>+</td>\n    </tr>\n    <tr>\n      <th>2</th>\n      <td>a</td>\n      <td>24.50</td>\n      <td>0.500</td>\n      <td>u</td>\n      <td>g</td>\n      <td>q</td>\n      <td>h</td>\n      <td>1.50</td>\n      <td>t</td>\n      <td>f</td>\n      <td>0</td>\n      <td>f</td>\n      <td>g</td>\n      <td>280.0</td>\n      <td>824</td>\n      <td>+</td>\n    </tr>\n    <tr>\n      <th>3</th>\n      <td>b</td>\n      <td>27.83</td>\n      <td>1.540</td>\n      <td>u</td>\n      <td>g</td>\n      <td>w</td>\n      <td>v</td>\n      <td>3.75</td>\n      <td>t</td>\n      <td>t</td>\n      <td>5</td>\n      <td>t</td>\n      <td>g</td>\n      <td>100.0</td>\n      <td>3</td>\n      <td>+</td>\n    </tr>\n    <tr>\n      <th>4</th>\n      <td>b</td>\n      <td>20.17</td>\n      <td>5.625</td>\n      <td>u</td>\n      <td>g</td>\n      <td>w</td>\n      <td>v</td>\n      <td>1.71</td>\n      <td>t</td>\n      <td>f</td>\n      <td>0</td>\n      <td>f</td>\n      <td>s</td>\n      <td>120.0</td>\n      <td>0</td>\n      <td>+</td>\n    </tr>\n    <tr>\n      <th>...</th>\n      <td>...</td>\n      <td>...</td>\n      <td>...</td>\n      <td>...</td>\n      <td>...</td>\n      <td>...</td>\n      <td>...</td>\n      <td>...</td>\n      <td>...</td>\n      <td>...</td>\n      <td>...</td>\n      <td>...</td>\n      <td>...</td>\n      <td>...</td>\n      <td>...</td>\n      <td>...</td>\n    </tr>\n    <tr>\n      <th>685</th>\n      <td>b</td>\n      <td>21.08</td>\n      <td>10.085</td>\n      <td>y</td>\n      <td>p</td>\n      <td>e</td>\n      <td>h</td>\n      <td>1.25</td>\n      <td>f</td>\n      <td>f</td>\n      <td>0</td>\n      <td>f</td>\n      <td>g</td>\n      <td>260.0</td>\n      <td>0</td>\n      <td>-</td>\n    </tr>\n    <tr>\n      <th>686</th>\n      <td>a</td>\n      <td>22.67</td>\n      <td>0.750</td>\n      <td>u</td>\n      <td>g</td>\n      <td>c</td>\n      <td>v</td>\n      <td>2.00</td>\n      <td>f</td>\n      <td>t</td>\n      <td>2</td>\n      <td>t</td>\n      <td>g</td>\n      <td>200.0</td>\n      <td>394</td>\n      <td>-</td>\n    </tr>\n    <tr>\n      <th>687</th>\n      <td>a</td>\n      <td>25.25</td>\n      <td>13.500</td>\n      <td>y</td>\n      <td>p</td>\n      <td>ff</td>\n      <td>ff</td>\n      <td>2.00</td>\n      <td>f</td>\n      <td>t</td>\n      <td>1</td>\n      <td>t</td>\n      <td>g</td>\n      <td>200.0</td>\n      <td>1</td>\n      <td>-</td>\n    </tr>\n    <tr>\n      <th>688</th>\n      <td>b</td>\n      <td>17.92</td>\n      <td>0.205</td>\n      <td>u</td>\n      <td>g</td>\n      <td>aa</td>\n      <td>v</td>\n      <td>0.04</td>\n      <td>f</td>\n      <td>f</td>\n      <td>0</td>\n      <td>f</td>\n      <td>g</td>\n      <td>280.0</td>\n      <td>750</td>\n      <td>-</td>\n    </tr>\n    <tr>\n      <th>689</th>\n      <td>b</td>\n      <td>35.00</td>\n      <td>3.375</td>\n      <td>u</td>\n      <td>g</td>\n      <td>c</td>\n      <td>h</td>\n      <td>8.29</td>\n      <td>f</td>\n      <td>f</td>\n      <td>0</td>\n      <td>t</td>\n      <td>g</td>\n      <td>0.0</td>\n      <td>0</td>\n      <td>-</td>\n    </tr>\n  </tbody>\n</table>\n<p>690 rows × 16 columns</p>\n</div>",
      "text/plain": "    0      1       2  3  4   5   6     7  8  9   10 11 12     13   14 15\n0    b  30.83   0.000  u  g   w   v  1.25  t  t   1  f  g  202.0    0  +\n1    a  58.67   4.460  u  g   q   h  3.04  t  t   6  f  g   43.0  560  +\n2    a  24.50   0.500  u  g   q   h  1.50  t  f   0  f  g  280.0  824  +\n3    b  27.83   1.540  u  g   w   v  3.75  t  t   5  t  g  100.0    3  +\n4    b  20.17   5.625  u  g   w   v  1.71  t  f   0  f  s  120.0    0  +\n..  ..    ...     ... .. ..  ..  ..   ... .. ..  .. .. ..    ...  ... ..\n685  b  21.08  10.085  y  p   e   h  1.25  f  f   0  f  g  260.0    0  -\n686  a  22.67   0.750  u  g   c   v  2.00  f  t   2  t  g  200.0  394  -\n687  a  25.25  13.500  y  p  ff  ff  2.00  f  t   1  t  g  200.0    1  -\n688  b  17.92   0.205  u  g  aa   v  0.04  f  f   0  f  g  280.0  750  -\n689  b  35.00   3.375  u  g   c   h  8.29  f  f   0  t  g    0.0    0  -\n\n[690 rows x 16 columns]"
     },
     "metadata": {},
     "execution_count": 4
    }
   ],
   "source": [
    "#url = \"https://archive.ics.uci.edu/ml/machine-learning-databases/credit-screening/crx.data\" \n",
    "#credit = pd.read_csv(url, header=None, na_values=['?'])\n",
    "\n",
    "#if you have not data locally, use code before\n",
    "credit = pd.read_csv(\"data/credit-approval.csv\", header=None, na_values=['?'])\n",
    "credit"
   ]
  },
  {
   "cell_type": "code",
   "execution_count": 83,
   "metadata": {},
   "outputs": [
    {
     "output_type": "stream",
     "name": "stdout",
     "text": "<class 'pandas.core.frame.DataFrame'>\nRangeIndex: 690 entries, 0 to 689\nData columns (total 16 columns):\n #   Column  Non-Null Count  Dtype  \n---  ------  --------------  -----  \n 0   0       678 non-null    object \n 1   1       678 non-null    float64\n 2   2       690 non-null    float64\n 3   3       684 non-null    object \n 4   4       684 non-null    object \n 5   5       681 non-null    object \n 6   6       681 non-null    object \n 7   7       690 non-null    float64\n 8   8       690 non-null    object \n 9   9       690 non-null    object \n 10  10      690 non-null    int64  \n 11  11      690 non-null    object \n 12  12      690 non-null    object \n 13  13      677 non-null    float64\n 14  14      690 non-null    int64  \n 15  15      690 non-null    object \ndtypes: float64(4), int64(2), object(10)\nmemory usage: 86.4+ KB\n"
    }
   ],
   "source": [
    "credit.info()"
   ]
  },
  {
   "cell_type": "code",
   "execution_count": 84,
   "metadata": {},
   "outputs": [],
   "source": [
    "bool_mask_ft = { 't' : True, 'f' : False }\n",
    "bool_mask_pm = { '+' : True, '-' : False }\n",
    "\n",
    "credit[8] = credit[8].map(bool_mask_ft).astype('bool')\n",
    "credit[9] = credit[9].map(bool_mask_ft).astype('bool')\n",
    "credit[11] = credit[11].map(bool_mask_ft).astype('bool')\n",
    "credit[15] = credit[15].map(bool_mask_pm).astype('bool')"
   ]
  },
  {
   "cell_type": "code",
   "execution_count": 85,
   "metadata": {},
   "outputs": [
    {
     "output_type": "stream",
     "name": "stdout",
     "text": "['b' 'a' nan]\n['u' 'y' nan 'l']\n['g' 'p' nan 'gg']\n['w' 'q' 'm' 'r' 'cc' 'k' 'c' 'd' 'x' 'i' 'e' 'aa' 'ff' 'j' nan]\n['g' 's' 'p']\n"
    }
   ],
   "source": [
    "print(credit[0].unique())\n",
    "print(credit[3].unique())\n",
    "print(credit[4].unique())\n",
    "print(credit[5].unique())\n",
    "print(credit[12].unique())"
   ]
  },
  {
   "cell_type": "code",
   "execution_count": 86,
   "metadata": {},
   "outputs": [],
   "source": [
    "credit[0] = credit[0].astype('category')\n",
    "credit[3] = credit[3].astype('category')\n",
    "credit[4] = credit[4].astype('category')\n",
    "credit[5] = credit[5].astype('category')\n",
    "credit[12] = credit[12].astype('category')"
   ]
  },
  {
   "cell_type": "code",
   "execution_count": null,
   "metadata": {},
   "outputs": [],
   "source": []
  },
  {
   "cell_type": "code",
   "execution_count": null,
   "metadata": {},
   "outputs": [],
   "source": []
  },
  {
   "cell_type": "code",
   "execution_count": null,
   "metadata": {},
   "outputs": [],
   "source": []
  },
  {
   "cell_type": "code",
   "execution_count": 89,
   "metadata": {},
   "outputs": [
    {
     "output_type": "execute_result",
     "data": {
      "text/html": "<div>\n<style scoped>\n    .dataframe tbody tr th:only-of-type {\n        vertical-align: middle;\n    }\n\n    .dataframe tbody tr th {\n        vertical-align: top;\n    }\n\n    .dataframe thead th {\n        text-align: right;\n    }\n</style>\n<table border=\"1\" class=\"dataframe\">\n  <thead>\n    <tr style=\"text-align: right;\">\n      <th></th>\n      <th>1</th>\n      <th>2</th>\n      <th>7</th>\n      <th>8</th>\n      <th>9</th>\n      <th>10</th>\n      <th>11</th>\n      <th>13</th>\n      <th>14</th>\n      <th>15</th>\n    </tr>\n  </thead>\n  <tbody>\n    <tr>\n      <th>1</th>\n      <td>1.000</td>\n      <td>0.202</td>\n      <td>0.396</td>\n      <td>0.206</td>\n      <td>0.084</td>\n      <td>0.186</td>\n      <td>0.055</td>\n      <td>-0.080</td>\n      <td>0.019</td>\n      <td>0.163</td>\n    </tr>\n    <tr>\n      <th>2</th>\n      <td>0.202</td>\n      <td>1.000</td>\n      <td>0.299</td>\n      <td>0.244</td>\n      <td>0.175</td>\n      <td>0.271</td>\n      <td>-0.013</td>\n      <td>-0.224</td>\n      <td>0.123</td>\n      <td>0.206</td>\n    </tr>\n    <tr>\n      <th>7</th>\n      <td>0.396</td>\n      <td>0.299</td>\n      <td>1.000</td>\n      <td>0.346</td>\n      <td>0.223</td>\n      <td>0.322</td>\n      <td>0.138</td>\n      <td>-0.077</td>\n      <td>0.051</td>\n      <td>0.322</td>\n    </tr>\n    <tr>\n      <th>8</th>\n      <td>0.206</td>\n      <td>0.244</td>\n      <td>0.346</td>\n      <td>1.000</td>\n      <td>0.432</td>\n      <td>0.380</td>\n      <td>0.091</td>\n      <td>-0.068</td>\n      <td>0.090</td>\n      <td>0.720</td>\n    </tr>\n    <tr>\n      <th>9</th>\n      <td>0.084</td>\n      <td>0.175</td>\n      <td>0.223</td>\n      <td>0.432</td>\n      <td>1.000</td>\n      <td>0.571</td>\n      <td>0.017</td>\n      <td>-0.054</td>\n      <td>0.078</td>\n      <td>0.458</td>\n    </tr>\n    <tr>\n      <th>10</th>\n      <td>0.186</td>\n      <td>0.271</td>\n      <td>0.322</td>\n      <td>0.380</td>\n      <td>0.571</td>\n      <td>1.000</td>\n      <td>0.007</td>\n      <td>-0.120</td>\n      <td>0.064</td>\n      <td>0.406</td>\n    </tr>\n    <tr>\n      <th>11</th>\n      <td>0.055</td>\n      <td>-0.013</td>\n      <td>0.138</td>\n      <td>0.091</td>\n      <td>0.017</td>\n      <td>0.007</td>\n      <td>1.000</td>\n      <td>0.145</td>\n      <td>0.019</td>\n      <td>0.032</td>\n    </tr>\n    <tr>\n      <th>13</th>\n      <td>-0.080</td>\n      <td>-0.224</td>\n      <td>-0.077</td>\n      <td>-0.068</td>\n      <td>-0.054</td>\n      <td>-0.120</td>\n      <td>0.145</td>\n      <td>1.000</td>\n      <td>0.067</td>\n      <td>-0.101</td>\n    </tr>\n    <tr>\n      <th>14</th>\n      <td>0.019</td>\n      <td>0.123</td>\n      <td>0.051</td>\n      <td>0.090</td>\n      <td>0.078</td>\n      <td>0.064</td>\n      <td>0.019</td>\n      <td>0.067</td>\n      <td>1.000</td>\n      <td>0.176</td>\n    </tr>\n    <tr>\n      <th>15</th>\n      <td>0.163</td>\n      <td>0.206</td>\n      <td>0.322</td>\n      <td>0.720</td>\n      <td>0.458</td>\n      <td>0.406</td>\n      <td>0.032</td>\n      <td>-0.101</td>\n      <td>0.176</td>\n      <td>1.000</td>\n    </tr>\n  </tbody>\n</table>\n</div>",
      "text/plain": "       1      2      7      8      9      10     11     13     14     15\n1   1.000  0.202  0.396  0.206  0.084  0.186  0.055 -0.080  0.019  0.163\n2   0.202  1.000  0.299  0.244  0.175  0.271 -0.013 -0.224  0.123  0.206\n7   0.396  0.299  1.000  0.346  0.223  0.322  0.138 -0.077  0.051  0.322\n8   0.206  0.244  0.346  1.000  0.432  0.380  0.091 -0.068  0.090  0.720\n9   0.084  0.175  0.223  0.432  1.000  0.571  0.017 -0.054  0.078  0.458\n10  0.186  0.271  0.322  0.380  0.571  1.000  0.007 -0.120  0.064  0.406\n11  0.055 -0.013  0.138  0.091  0.017  0.007  1.000  0.145  0.019  0.032\n13 -0.080 -0.224 -0.077 -0.068 -0.054 -0.120  0.145  1.000  0.067 -0.101\n14  0.019  0.123  0.051  0.090  0.078  0.064  0.019  0.067  1.000  0.176\n15  0.163  0.206  0.322  0.720  0.458  0.406  0.032 -0.101  0.176  1.000"
     },
     "metadata": {},
     "execution_count": 89
    }
   ],
   "source": [
    "correlation = credit.corr()\n",
    "correlation"
   ]
  },
  {
   "cell_type": "code",
   "execution_count": 90,
   "metadata": {},
   "outputs": [
    {
     "output_type": "execute_result",
     "data": {
      "text/plain": "<matplotlib.axes._subplots.AxesSubplot at 0x7f37b7746278>"
     },
     "metadata": {},
     "execution_count": 90
    },
    {
     "output_type": "display_data",
     "data": {
      "image/png": "[encoded data removed]",
      "text/plain": "<Figure size 432x288 with 2 Axes>",
      "image/svg+xml": "<?xml version=\"1.0\" encoding=\"utf-8\" standalone=\"no\"?>\n<!DOCTYPE svg PUBLIC \"-//W3C//DTD SVG 1.1//EN\"\n  \"http://www.w3.org/Graphics/SVG/1.1/DTD/svg11.dtd\">\n<!-- Created with matplotlib (https://matplotlib.org/) -->\n<svg height=\"252.317344pt\" version=\"1.1\" viewBox=\"0 0 357.812937 252.317344\" width=\"357.812937pt\" xmlns=\"http://www.w3.org/2000/svg\" xmlns:xlink=\"http://www.w3.org/1999/xlink\">\n <defs>\n  <style type=\"text/css\">\n*{stroke-linecap:butt;stroke-linejoin:round;}\n  </style>\n </defs>\n <g id=\"figure_1\">\n  <g id=\"patch_1\">\n   <path d=\"M -0 252.317344 \nL 357.812937 252.317344 \nL 357.812937 0 \nL -0 0 \nz\n\" style=\"fill:none;\"/>\n  </g>\n  <g id=\"axes_1\">\n   <g id=\"patch_2\">\n    <path d=\"M 23.878125 228.439219 \nL 291.718125 228.439219 \nL 291.718125 10.999219 \nL 23.878125 10.999219 \nz\n\" style=\"fill:#ffffff;\"/>\n   </g>\n   <g id=\"QuadMesh_1\">\n    <path clip-path=\"url(#p66b72dfd17)\" d=\"M 23.878125 10.999219 \nL 50.662125 10.999219 \nL 50.662125 32.743219 \nL 23.878125 32.743219 \nL 23.878125 10.999219 \n\" style=\"fill:#faebdd;\"/>\n    <path clip-path=\"url(#p66b72dfd17)\" d=\"M 50.662125 10.999219 \nL 77.446125 10.999219 \nL 77.446125 32.743219 \nL 50.662125 32.743219 \nL 50.662125 10.999219 \n\" style=\"fill:#8b1d5b;\"/>\n    <path clip-path=\"url(#p66b72dfd17)\" d=\"M 77.446125 10.999219 \nL 104.230125 10.999219 \nL 104.230125 32.743219 \nL 77.446125 32.743219 \nL 77.446125 10.999219 \n\" style=\"fill:#cd1c4e;\"/>\n    <path clip-path=\"url(#p66b72dfd17)\" d=\"M 104.230125 10.999219 \nL 131.014125 10.999219 \nL 131.014125 32.743219 \nL 104.230125 32.743219 \nL 104.230125 10.999219 \n\" style=\"fill:#8b1d5b;\"/>\n    <path clip-path=\"url(#p66b72dfd17)\" d=\"M 131.014125 10.999219 \nL 157.798125 10.999219 \nL 157.798125 32.743219 \nL 131.014125 32.743219 \nL 131.014125 10.999219 \n\" style=\"fill:#611f53;\"/>\n    <path clip-path=\"url(#p66b72dfd17)\" d=\"M 157.798125 10.999219 \nL 184.582125 10.999219 \nL 184.582125 32.743219 \nL 157.798125 32.743219 \nL 157.798125 10.999219 \n\" style=\"fill:#841e5a;\"/>\n    <path clip-path=\"url(#p66b72dfd17)\" d=\"M 184.582125 10.999219 \nL 211.366125 10.999219 \nL 211.366125 32.743219 \nL 184.582125 32.743219 \nL 184.582125 10.999219 \n\" style=\"fill:#581e4f;\"/>\n    <path clip-path=\"url(#p66b72dfd17)\" d=\"M 211.366125 10.999219 \nL 238.150125 10.999219 \nL 238.150125 32.743219 \nL 211.366125 32.743219 \nL 211.366125 10.999219 \n\" style=\"fill:#2d1738;\"/>\n    <path clip-path=\"url(#p66b72dfd17)\" d=\"M 238.150125 10.999219 \nL 264.934125 10.999219 \nL 264.934125 32.743219 \nL 238.150125 32.743219 \nL 238.150125 10.999219 \n\" style=\"fill:#4b1d4a;\"/>\n    <path clip-path=\"url(#p66b72dfd17)\" d=\"M 264.934125 10.999219 \nL 291.718125 10.999219 \nL 291.718125 32.743219 \nL 264.934125 32.743219 \nL 264.934125 10.999219 \n\" style=\"fill:#7b1f59;\"/>\n    <path clip-path=\"url(#p66b72dfd17)\" d=\"M 23.878125 32.743219 \nL 50.662125 32.743219 \nL 50.662125 54.487219 \nL 23.878125 54.487219 \nL 23.878125 32.743219 \n\" style=\"fill:#8b1d5b;\"/>\n    <path clip-path=\"url(#p66b72dfd17)\" d=\"M 50.662125 32.743219 \nL 77.446125 32.743219 \nL 77.446125 54.487219 \nL 50.662125 54.487219 \nL 50.662125 32.743219 \n\" style=\"fill:#faebdd;\"/>\n    <path clip-path=\"url(#p66b72dfd17)\" d=\"M 77.446125 32.743219 \nL 104.230125 32.743219 \nL 104.230125 54.487219 \nL 77.446125 54.487219 \nL 77.446125 32.743219 \n\" style=\"fill:#ad1759;\"/>\n    <path clip-path=\"url(#p66b72dfd17)\" d=\"M 104.230125 32.743219 \nL 131.014125 32.743219 \nL 131.014125 54.487219 \nL 104.230125 54.487219 \nL 104.230125 32.743219 \n\" style=\"fill:#981b5b;\"/>\n    <path clip-path=\"url(#p66b72dfd17)\" d=\"M 131.014125 32.743219 \nL 157.798125 32.743219 \nL 157.798125 54.487219 \nL 131.014125 54.487219 \nL 131.014125 32.743219 \n\" style=\"fill:#811e5a;\"/>\n    <path clip-path=\"url(#p66b72dfd17)\" d=\"M 157.798125 32.743219 \nL 184.582125 32.743219 \nL 184.582125 54.487219 \nL 157.798125 54.487219 \nL 157.798125 32.743219 \n\" style=\"fill:#a3195b;\"/>\n    <path clip-path=\"url(#p66b72dfd17)\" d=\"M 184.582125 32.743219 \nL 211.366125 32.743219 \nL 211.366125 54.487219 \nL 184.582125 54.487219 \nL 184.582125 32.743219 \n\" style=\"fill:#421b45;\"/>\n    <path clip-path=\"url(#p66b72dfd17)\" d=\"M 211.366125 32.743219 \nL 238.150125 32.743219 \nL 238.150125 54.487219 \nL 211.366125 54.487219 \nL 211.366125 32.743219 \n\" style=\"fill:#03051a;\"/>\n    <path clip-path=\"url(#p66b72dfd17)\" d=\"M 238.150125 32.743219 \nL 264.934125 32.743219 \nL 264.934125 54.487219 \nL 238.150125 54.487219 \nL 238.150125 32.743219 \n\" style=\"fill:#6e1f57;\"/>\n    <path clip-path=\"url(#p66b72dfd17)\" d=\"M 264.934125 32.743219 \nL 291.718125 32.743219 \nL 291.718125 54.487219 \nL 264.934125 54.487219 \nL 264.934125 32.743219 \n\" style=\"fill:#8c1d5b;\"/>\n    <path clip-path=\"url(#p66b72dfd17)\" d=\"M 23.878125 54.487219 \nL 50.662125 54.487219 \nL 50.662125 76.231219 \nL 23.878125 76.231219 \nL 23.878125 54.487219 \n\" style=\"fill:#cd1c4e;\"/>\n    <path clip-path=\"url(#p66b72dfd17)\" d=\"M 50.662125 54.487219 \nL 77.446125 54.487219 \nL 77.446125 76.231219 \nL 50.662125 76.231219 \nL 50.662125 54.487219 \n\" style=\"fill:#ad1759;\"/>\n    <path clip-path=\"url(#p66b72dfd17)\" d=\"M 77.446125 54.487219 \nL 104.230125 54.487219 \nL 104.230125 76.231219 \nL 77.446125 76.231219 \nL 77.446125 54.487219 \n\" style=\"fill:#faebdd;\"/>\n    <path clip-path=\"url(#p66b72dfd17)\" d=\"M 104.230125 54.487219 \nL 131.014125 54.487219 \nL 131.014125 76.231219 \nL 104.230125 76.231219 \nL 104.230125 54.487219 \n\" style=\"fill:#bd1655;\"/>\n    <path clip-path=\"url(#p66b72dfd17)\" d=\"M 131.014125 54.487219 \nL 157.798125 54.487219 \nL 157.798125 76.231219 \nL 131.014125 76.231219 \nL 131.014125 54.487219 \n\" style=\"fill:#921c5b;\"/>\n    <path clip-path=\"url(#p66b72dfd17)\" d=\"M 157.798125 54.487219 \nL 184.582125 54.487219 \nL 184.582125 76.231219 \nL 157.798125 76.231219 \nL 157.798125 54.487219 \n\" style=\"fill:#b51657;\"/>\n    <path clip-path=\"url(#p66b72dfd17)\" d=\"M 184.582125 54.487219 \nL 211.366125 54.487219 \nL 211.366125 76.231219 \nL 184.582125 76.231219 \nL 184.582125 54.487219 \n\" style=\"fill:#731f58;\"/>\n    <path clip-path=\"url(#p66b72dfd17)\" d=\"M 211.366125 54.487219 \nL 238.150125 54.487219 \nL 238.150125 76.231219 \nL 211.366125 76.231219 \nL 211.366125 54.487219 \n\" style=\"fill:#2d1738;\"/>\n    <path clip-path=\"url(#p66b72dfd17)\" d=\"M 238.150125 54.487219 \nL 264.934125 54.487219 \nL 264.934125 76.231219 \nL 238.150125 76.231219 \nL 238.150125 54.487219 \n\" style=\"fill:#561e4f;\"/>\n    <path clip-path=\"url(#p66b72dfd17)\" d=\"M 264.934125 54.487219 \nL 291.718125 54.487219 \nL 291.718125 76.231219 \nL 264.934125 76.231219 \nL 264.934125 54.487219 \n\" style=\"fill:#b51657;\"/>\n    <path clip-path=\"url(#p66b72dfd17)\" d=\"M 23.878125 76.231219 \nL 50.662125 76.231219 \nL 50.662125 97.975219 \nL 23.878125 97.975219 \nL 23.878125 76.231219 \n\" style=\"fill:#8b1d5b;\"/>\n    <path clip-path=\"url(#p66b72dfd17)\" d=\"M 50.662125 76.231219 \nL 77.446125 76.231219 \nL 77.446125 97.975219 \nL 50.662125 97.975219 \nL 50.662125 76.231219 \n\" style=\"fill:#981b5b;\"/>\n    <path clip-path=\"url(#p66b72dfd17)\" d=\"M 77.446125 76.231219 \nL 104.230125 76.231219 \nL 104.230125 97.975219 \nL 77.446125 97.975219 \nL 77.446125 76.231219 \n\" style=\"fill:#bd1655;\"/>\n    <path clip-path=\"url(#p66b72dfd17)\" d=\"M 104.230125 76.231219 \nL 131.014125 76.231219 \nL 131.014125 97.975219 \nL 104.230125 97.975219 \nL 104.230125 76.231219 \n\" style=\"fill:#faebdd;\"/>\n    <path clip-path=\"url(#p66b72dfd17)\" d=\"M 131.014125 76.231219 \nL 157.798125 76.231219 \nL 157.798125 97.975219 \nL 131.014125 97.975219 \nL 131.014125 76.231219 \n\" style=\"fill:#d72549;\"/>\n    <path clip-path=\"url(#p66b72dfd17)\" d=\"M 157.798125 76.231219 \nL 184.582125 76.231219 \nL 184.582125 97.975219 \nL 157.798125 97.975219 \nL 157.798125 76.231219 \n\" style=\"fill:#c81951;\"/>\n    <path clip-path=\"url(#p66b72dfd17)\" d=\"M 184.582125 76.231219 \nL 211.366125 76.231219 \nL 211.366125 97.975219 \nL 184.582125 97.975219 \nL 184.582125 76.231219 \n\" style=\"fill:#631f53;\"/>\n    <path clip-path=\"url(#p66b72dfd17)\" d=\"M 211.366125 76.231219 \nL 238.150125 76.231219 \nL 238.150125 97.975219 \nL 211.366125 97.975219 \nL 211.366125 76.231219 \n\" style=\"fill:#30173a;\"/>\n    <path clip-path=\"url(#p66b72dfd17)\" d=\"M 238.150125 76.231219 \nL 264.934125 76.231219 \nL 264.934125 97.975219 \nL 238.150125 97.975219 \nL 238.150125 76.231219 \n\" style=\"fill:#631f53;\"/>\n    <path clip-path=\"url(#p66b72dfd17)\" d=\"M 264.934125 76.231219 \nL 291.718125 76.231219 \nL 291.718125 97.975219 \nL 264.934125 97.975219 \nL 264.934125 76.231219 \n\" style=\"fill:#f59067;\"/>\n    <path clip-path=\"url(#p66b72dfd17)\" d=\"M 23.878125 97.975219 \nL 50.662125 97.975219 \nL 50.662125 119.719219 \nL 23.878125 119.719219 \nL 23.878125 97.975219 \n\" style=\"fill:#611f53;\"/>\n    <path clip-path=\"url(#p66b72dfd17)\" d=\"M 50.662125 97.975219 \nL 77.446125 97.975219 \nL 77.446125 119.719219 \nL 50.662125 119.719219 \nL 50.662125 97.975219 \n\" style=\"fill:#811e5a;\"/>\n    <path clip-path=\"url(#p66b72dfd17)\" d=\"M 77.446125 97.975219 \nL 104.230125 97.975219 \nL 104.230125 119.719219 \nL 77.446125 119.719219 \nL 77.446125 97.975219 \n\" style=\"fill:#921c5b;\"/>\n    <path clip-path=\"url(#p66b72dfd17)\" d=\"M 104.230125 97.975219 \nL 131.014125 97.975219 \nL 131.014125 119.719219 \nL 104.230125 119.719219 \nL 104.230125 97.975219 \n\" style=\"fill:#d72549;\"/>\n    <path clip-path=\"url(#p66b72dfd17)\" d=\"M 131.014125 97.975219 \nL 157.798125 97.975219 \nL 157.798125 119.719219 \nL 131.014125 119.719219 \nL 131.014125 97.975219 \n\" style=\"fill:#faebdd;\"/>\n    <path clip-path=\"url(#p66b72dfd17)\" d=\"M 157.798125 97.975219 \nL 184.582125 97.975219 \nL 184.582125 119.719219 \nL 157.798125 119.719219 \nL 157.798125 97.975219 \n\" style=\"fill:#ef5840;\"/>\n    <path clip-path=\"url(#p66b72dfd17)\" d=\"M 184.582125 97.975219 \nL 211.366125 97.975219 \nL 211.366125 119.719219 \nL 184.582125 119.719219 \nL 184.582125 97.975219 \n\" style=\"fill:#4b1d4a;\"/>\n    <path clip-path=\"url(#p66b72dfd17)\" d=\"M 211.366125 97.975219 \nL 238.150125 97.975219 \nL 238.150125 119.719219 \nL 211.366125 119.719219 \nL 211.366125 97.975219 \n\" style=\"fill:#34193d;\"/>\n    <path clip-path=\"url(#p66b72dfd17)\" d=\"M 238.150125 97.975219 \nL 264.934125 97.975219 \nL 264.934125 119.719219 \nL 238.150125 119.719219 \nL 238.150125 97.975219 \n\" style=\"fill:#601f52;\"/>\n    <path clip-path=\"url(#p66b72dfd17)\" d=\"M 264.934125 97.975219 \nL 291.718125 97.975219 \nL 291.718125 119.719219 \nL 264.934125 119.719219 \nL 264.934125 97.975219 \n\" style=\"fill:#dd2c45;\"/>\n    <path clip-path=\"url(#p66b72dfd17)\" d=\"M 23.878125 119.719219 \nL 50.662125 119.719219 \nL 50.662125 141.463219 \nL 23.878125 141.463219 \nL 23.878125 119.719219 \n\" style=\"fill:#841e5a;\"/>\n    <path clip-path=\"url(#p66b72dfd17)\" d=\"M 50.662125 119.719219 \nL 77.446125 119.719219 \nL 77.446125 141.463219 \nL 50.662125 141.463219 \nL 50.662125 119.719219 \n\" style=\"fill:#a3195b;\"/>\n    <path clip-path=\"url(#p66b72dfd17)\" d=\"M 77.446125 119.719219 \nL 104.230125 119.719219 \nL 104.230125 141.463219 \nL 77.446125 141.463219 \nL 77.446125 119.719219 \n\" style=\"fill:#b51657;\"/>\n    <path clip-path=\"url(#p66b72dfd17)\" d=\"M 104.230125 119.719219 \nL 131.014125 119.719219 \nL 131.014125 141.463219 \nL 104.230125 141.463219 \nL 104.230125 119.719219 \n\" style=\"fill:#c81951;\"/>\n    <path clip-path=\"url(#p66b72dfd17)\" d=\"M 131.014125 119.719219 \nL 157.798125 119.719219 \nL 157.798125 141.463219 \nL 131.014125 141.463219 \nL 131.014125 119.719219 \n\" style=\"fill:#ef5840;\"/>\n    <path clip-path=\"url(#p66b72dfd17)\" d=\"M 157.798125 119.719219 \nL 184.582125 119.719219 \nL 184.582125 141.463219 \nL 157.798125 141.463219 \nL 157.798125 119.719219 \n\" style=\"fill:#faebdd;\"/>\n    <path clip-path=\"url(#p66b72dfd17)\" d=\"M 184.582125 119.719219 \nL 211.366125 119.719219 \nL 211.366125 141.463219 \nL 184.582125 141.463219 \nL 184.582125 119.719219 \n\" style=\"fill:#481c48;\"/>\n    <path clip-path=\"url(#p66b72dfd17)\" d=\"M 211.366125 119.719219 \nL 238.150125 119.719219 \nL 238.150125 141.463219 \nL 211.366125 141.463219 \nL 211.366125 119.719219 \n\" style=\"fill:#20122e;\"/>\n    <path clip-path=\"url(#p66b72dfd17)\" d=\"M 238.150125 119.719219 \nL 264.934125 119.719219 \nL 264.934125 141.463219 \nL 238.150125 141.463219 \nL 238.150125 119.719219 \n\" style=\"fill:#5b1e51;\"/>\n    <path clip-path=\"url(#p66b72dfd17)\" d=\"M 264.934125 119.719219 \nL 291.718125 119.719219 \nL 291.718125 141.463219 \nL 264.934125 141.463219 \nL 264.934125 119.719219 \n\" style=\"fill:#cf1e4d;\"/>\n    <path clip-path=\"url(#p66b72dfd17)\" d=\"M 23.878125 141.463219 \nL 50.662125 141.463219 \nL 50.662125 163.207219 \nL 23.878125 163.207219 \nL 23.878125 141.463219 \n\" style=\"fill:#581e4f;\"/>\n    <path clip-path=\"url(#p66b72dfd17)\" d=\"M 50.662125 141.463219 \nL 77.446125 141.463219 \nL 77.446125 163.207219 \nL 50.662125 163.207219 \nL 50.662125 141.463219 \n\" style=\"fill:#421b45;\"/>\n    <path clip-path=\"url(#p66b72dfd17)\" d=\"M 77.446125 141.463219 \nL 104.230125 141.463219 \nL 104.230125 163.207219 \nL 77.446125 163.207219 \nL 77.446125 141.463219 \n\" style=\"fill:#731f58;\"/>\n    <path clip-path=\"url(#p66b72dfd17)\" d=\"M 104.230125 141.463219 \nL 131.014125 141.463219 \nL 131.014125 163.207219 \nL 104.230125 163.207219 \nL 104.230125 141.463219 \n\" style=\"fill:#631f53;\"/>\n    <path clip-path=\"url(#p66b72dfd17)\" d=\"M 131.014125 141.463219 \nL 157.798125 141.463219 \nL 157.798125 163.207219 \nL 131.014125 163.207219 \nL 131.014125 141.463219 \n\" style=\"fill:#4b1d4a;\"/>\n    <path clip-path=\"url(#p66b72dfd17)\" d=\"M 157.798125 141.463219 \nL 184.582125 141.463219 \nL 184.582125 163.207219 \nL 157.798125 163.207219 \nL 157.798125 141.463219 \n\" style=\"fill:#481c48;\"/>\n    <path clip-path=\"url(#p66b72dfd17)\" d=\"M 184.582125 141.463219 \nL 211.366125 141.463219 \nL 211.366125 163.207219 \nL 184.582125 163.207219 \nL 184.582125 141.463219 \n\" style=\"fill:#faebdd;\"/>\n    <path clip-path=\"url(#p66b72dfd17)\" d=\"M 211.366125 141.463219 \nL 238.150125 141.463219 \nL 238.150125 163.207219 \nL 211.366125 163.207219 \nL 211.366125 141.463219 \n\" style=\"fill:#761f58;\"/>\n    <path clip-path=\"url(#p66b72dfd17)\" d=\"M 238.150125 141.463219 \nL 264.934125 141.463219 \nL 264.934125 163.207219 \nL 238.150125 163.207219 \nL 238.150125 141.463219 \n\" style=\"fill:#4b1d4a;\"/>\n    <path clip-path=\"url(#p66b72dfd17)\" d=\"M 264.934125 141.463219 \nL 291.718125 141.463219 \nL 291.718125 163.207219 \nL 264.934125 163.207219 \nL 264.934125 141.463219 \n\" style=\"fill:#501d4c;\"/>\n    <path clip-path=\"url(#p66b72dfd17)\" d=\"M 23.878125 163.207219 \nL 50.662125 163.207219 \nL 50.662125 184.951219 \nL 23.878125 184.951219 \nL 23.878125 163.207219 \n\" style=\"fill:#2d1738;\"/>\n    <path clip-path=\"url(#p66b72dfd17)\" d=\"M 50.662125 163.207219 \nL 77.446125 163.207219 \nL 77.446125 184.951219 \nL 50.662125 184.951219 \nL 50.662125 163.207219 \n\" style=\"fill:#03051a;\"/>\n    <path clip-path=\"url(#p66b72dfd17)\" d=\"M 77.446125 163.207219 \nL 104.230125 163.207219 \nL 104.230125 184.951219 \nL 77.446125 184.951219 \nL 77.446125 163.207219 \n\" style=\"fill:#2d1738;\"/>\n    <path clip-path=\"url(#p66b72dfd17)\" d=\"M 104.230125 163.207219 \nL 131.014125 163.207219 \nL 131.014125 184.951219 \nL 104.230125 184.951219 \nL 104.230125 163.207219 \n\" style=\"fill:#30173a;\"/>\n    <path clip-path=\"url(#p66b72dfd17)\" d=\"M 131.014125 163.207219 \nL 157.798125 163.207219 \nL 157.798125 184.951219 \nL 131.014125 184.951219 \nL 131.014125 163.207219 \n\" style=\"fill:#34193d;\"/>\n    <path clip-path=\"url(#p66b72dfd17)\" d=\"M 157.798125 163.207219 \nL 184.582125 163.207219 \nL 184.582125 184.951219 \nL 157.798125 184.951219 \nL 157.798125 163.207219 \n\" style=\"fill:#20122e;\"/>\n    <path clip-path=\"url(#p66b72dfd17)\" d=\"M 184.582125 163.207219 \nL 211.366125 163.207219 \nL 211.366125 184.951219 \nL 184.582125 184.951219 \nL 184.582125 163.207219 \n\" style=\"fill:#761f58;\"/>\n    <path clip-path=\"url(#p66b72dfd17)\" d=\"M 211.366125 163.207219 \nL 238.150125 163.207219 \nL 238.150125 184.951219 \nL 211.366125 184.951219 \nL 211.366125 163.207219 \n\" style=\"fill:#faebdd;\"/>\n    <path clip-path=\"url(#p66b72dfd17)\" d=\"M 238.150125 163.207219 \nL 264.934125 163.207219 \nL 264.934125 184.951219 \nL 238.150125 184.951219 \nL 238.150125 163.207219 \n\" style=\"fill:#5b1e51;\"/>\n    <path clip-path=\"url(#p66b72dfd17)\" d=\"M 264.934125 163.207219 \nL 291.718125 163.207219 \nL 291.718125 184.951219 \nL 264.934125 184.951219 \nL 264.934125 163.207219 \n\" style=\"fill:#251433;\"/>\n    <path clip-path=\"url(#p66b72dfd17)\" d=\"M 23.878125 184.951219 \nL 50.662125 184.951219 \nL 50.662125 206.695219 \nL 23.878125 206.695219 \nL 23.878125 184.951219 \n\" style=\"fill:#4b1d4a;\"/>\n    <path clip-path=\"url(#p66b72dfd17)\" d=\"M 50.662125 184.951219 \nL 77.446125 184.951219 \nL 77.446125 206.695219 \nL 50.662125 206.695219 \nL 50.662125 184.951219 \n\" style=\"fill:#6e1f57;\"/>\n    <path clip-path=\"url(#p66b72dfd17)\" d=\"M 77.446125 184.951219 \nL 104.230125 184.951219 \nL 104.230125 206.695219 \nL 77.446125 206.695219 \nL 77.446125 184.951219 \n\" style=\"fill:#561e4f;\"/>\n    <path clip-path=\"url(#p66b72dfd17)\" d=\"M 104.230125 184.951219 \nL 131.014125 184.951219 \nL 131.014125 206.695219 \nL 104.230125 206.695219 \nL 104.230125 184.951219 \n\" style=\"fill:#631f53;\"/>\n    <path clip-path=\"url(#p66b72dfd17)\" d=\"M 131.014125 184.951219 \nL 157.798125 184.951219 \nL 157.798125 206.695219 \nL 131.014125 206.695219 \nL 131.014125 184.951219 \n\" style=\"fill:#601f52;\"/>\n    <path clip-path=\"url(#p66b72dfd17)\" d=\"M 157.798125 184.951219 \nL 184.582125 184.951219 \nL 184.582125 206.695219 \nL 157.798125 206.695219 \nL 157.798125 184.951219 \n\" style=\"fill:#5b1e51;\"/>\n    <path clip-path=\"url(#p66b72dfd17)\" d=\"M 184.582125 184.951219 \nL 211.366125 184.951219 \nL 211.366125 206.695219 \nL 184.582125 206.695219 \nL 184.582125 184.951219 \n\" style=\"fill:#4b1d4a;\"/>\n    <path clip-path=\"url(#p66b72dfd17)\" d=\"M 211.366125 184.951219 \nL 238.150125 184.951219 \nL 238.150125 206.695219 \nL 211.366125 206.695219 \nL 211.366125 184.951219 \n\" style=\"fill:#5b1e51;\"/>\n    <path clip-path=\"url(#p66b72dfd17)\" d=\"M 238.150125 184.951219 \nL 264.934125 184.951219 \nL 264.934125 206.695219 \nL 238.150125 206.695219 \nL 238.150125 184.951219 \n\" style=\"fill:#faebdd;\"/>\n    <path clip-path=\"url(#p66b72dfd17)\" d=\"M 264.934125 184.951219 \nL 291.718125 184.951219 \nL 291.718125 206.695219 \nL 264.934125 206.695219 \nL 264.934125 184.951219 \n\" style=\"fill:#811e5a;\"/>\n    <path clip-path=\"url(#p66b72dfd17)\" d=\"M 23.878125 206.695219 \nL 50.662125 206.695219 \nL 50.662125 228.439219 \nL 23.878125 228.439219 \nL 23.878125 206.695219 \n\" style=\"fill:#7b1f59;\"/>\n    <path clip-path=\"url(#p66b72dfd17)\" d=\"M 50.662125 206.695219 \nL 77.446125 206.695219 \nL 77.446125 228.439219 \nL 50.662125 228.439219 \nL 50.662125 206.695219 \n\" style=\"fill:#8c1d5b;\"/>\n    <path clip-path=\"url(#p66b72dfd17)\" d=\"M 77.446125 206.695219 \nL 104.230125 206.695219 \nL 104.230125 228.439219 \nL 77.446125 228.439219 \nL 77.446125 206.695219 \n\" style=\"fill:#b51657;\"/>\n    <path clip-path=\"url(#p66b72dfd17)\" d=\"M 104.230125 206.695219 \nL 131.014125 206.695219 \nL 131.014125 228.439219 \nL 104.230125 228.439219 \nL 104.230125 206.695219 \n\" style=\"fill:#f59067;\"/>\n    <path clip-path=\"url(#p66b72dfd17)\" d=\"M 131.014125 206.695219 \nL 157.798125 206.695219 \nL 157.798125 228.439219 \nL 131.014125 228.439219 \nL 131.014125 206.695219 \n\" style=\"fill:#dd2c45;\"/>\n    <path clip-path=\"url(#p66b72dfd17)\" d=\"M 157.798125 206.695219 \nL 184.582125 206.695219 \nL 184.582125 228.439219 \nL 157.798125 228.439219 \nL 157.798125 206.695219 \n\" style=\"fill:#cf1e4d;\"/>\n    <path clip-path=\"url(#p66b72dfd17)\" d=\"M 184.582125 206.695219 \nL 211.366125 206.695219 \nL 211.366125 228.439219 \nL 184.582125 228.439219 \nL 184.582125 206.695219 \n\" style=\"fill:#501d4c;\"/>\n    <path clip-path=\"url(#p66b72dfd17)\" d=\"M 211.366125 206.695219 \nL 238.150125 206.695219 \nL 238.150125 228.439219 \nL 211.366125 228.439219 \nL 211.366125 206.695219 \n\" style=\"fill:#251433;\"/>\n    <path clip-path=\"url(#p66b72dfd17)\" d=\"M 238.150125 206.695219 \nL 264.934125 206.695219 \nL 264.934125 228.439219 \nL 238.150125 228.439219 \nL 238.150125 206.695219 \n\" style=\"fill:#811e5a;\"/>\n    <path clip-path=\"url(#p66b72dfd17)\" d=\"M 264.934125 206.695219 \nL 291.718125 206.695219 \nL 291.718125 228.439219 \nL 264.934125 228.439219 \nL 264.934125 206.695219 \n\" style=\"fill:#faebdd;\"/>\n   </g>\n   <g id=\"matplotlib.axis_1\">\n    <g id=\"xtick_1\">\n     <g id=\"line2d_1\">\n      <defs>\n       <path d=\"M 0 0 \nL 0 3.5 \n\" id=\"m0e3b9e956d\" style=\"stroke:#000000;stroke-width:0.8;\"/>\n      </defs>\n      <g>\n       <use style=\"stroke:#000000;stroke-width:0.8;\" x=\"37.270125\" xlink:href=\"#m0e3b9e956d\" y=\"228.439219\"/>\n      </g>\n     </g>\n     <g id=\"text_1\">\n      <!-- 1 -->\n      <defs>\n       <path d=\"M 12.40625 8.296875 \nL 28.515625 8.296875 \nL 28.515625 63.921875 \nL 10.984375 60.40625 \nL 10.984375 69.390625 \nL 28.421875 72.90625 \nL 38.28125 72.90625 \nL 38.28125 8.296875 \nL 54.390625 8.296875 \nL 54.390625 0 \nL 12.40625 0 \nz\n\" id=\"DejaVuSans-49\"/>\n      </defs>\n      <g transform=\"translate(34.088875 243.037656)scale(0.1 -0.1)\">\n       <use xlink:href=\"#DejaVuSans-49\"/>\n      </g>\n     </g>\n    </g>\n    <g id=\"xtick_2\">\n     <g id=\"line2d_2\">\n      <g>\n       <use style=\"stroke:#000000;stroke-width:0.8;\" x=\"64.054125\" xlink:href=\"#m0e3b9e956d\" y=\"228.439219\"/>\n      </g>\n     </g>\n     <g id=\"text_2\">\n      <!-- 2 -->\n      <defs>\n       <path d=\"M 19.1875 8.296875 \nL 53.609375 8.296875 \nL 53.609375 0 \nL 7.328125 0 \nL 7.328125 8.296875 \nQ 12.9375 14.109375 22.625 23.890625 \nQ 32.328125 33.6875 34.8125 36.53125 \nQ 39.546875 41.84375 41.421875 45.53125 \nQ 43.3125 49.21875 43.3125 52.78125 \nQ 43.3125 58.59375 39.234375 62.25 \nQ 35.15625 65.921875 28.609375 65.921875 \nQ 23.96875 65.921875 18.8125 64.3125 \nQ 13.671875 62.703125 7.8125 59.421875 \nL 7.8125 69.390625 \nQ 13.765625 71.78125 18.9375 73 \nQ 24.125 74.21875 28.421875 74.21875 \nQ 39.75 74.21875 46.484375 68.546875 \nQ 53.21875 62.890625 53.21875 53.421875 \nQ 53.21875 48.921875 51.53125 44.890625 \nQ 49.859375 40.875 45.40625 35.40625 \nQ 44.1875 33.984375 37.640625 27.21875 \nQ 31.109375 20.453125 19.1875 8.296875 \nz\n\" id=\"DejaVuSans-50\"/>\n      </defs>\n      <g transform=\"translate(60.872875 243.037656)scale(0.1 -0.1)\">\n       <use xlink:href=\"#DejaVuSans-50\"/>\n      </g>\n     </g>\n    </g>\n    <g id=\"xtick_3\">\n     <g id=\"line2d_3\">\n      <g>\n       <use style=\"stroke:#000000;stroke-width:0.8;\" x=\"90.838125\" xlink:href=\"#m0e3b9e956d\" y=\"228.439219\"/>\n      </g>\n     </g>\n     <g id=\"text_3\">\n      <!-- 7 -->\n      <defs>\n       <path d=\"M 8.203125 72.90625 \nL 55.078125 72.90625 \nL 55.078125 68.703125 \nL 28.609375 0 \nL 18.3125 0 \nL 43.21875 64.59375 \nL 8.203125 64.59375 \nz\n\" id=\"DejaVuSans-55\"/>\n      </defs>\n      <g transform=\"translate(87.656875 243.037656)scale(0.1 -0.1)\">\n       <use xlink:href=\"#DejaVuSans-55\"/>\n      </g>\n     </g>\n    </g>\n    <g id=\"xtick_4\">\n     <g id=\"line2d_4\">\n      <g>\n       <use style=\"stroke:#000000;stroke-width:0.8;\" x=\"117.622125\" xlink:href=\"#m0e3b9e956d\" y=\"228.439219\"/>\n      </g>\n     </g>\n     <g id=\"text_4\">\n      <!-- 8 -->\n      <defs>\n       <path d=\"M 31.78125 34.625 \nQ 24.75 34.625 20.71875 30.859375 \nQ 16.703125 27.09375 16.703125 20.515625 \nQ 16.703125 13.921875 20.71875 10.15625 \nQ 24.75 6.390625 31.78125 6.390625 \nQ 38.8125 6.390625 42.859375 10.171875 \nQ 46.921875 13.96875 46.921875 20.515625 \nQ 46.921875 27.09375 42.890625 30.859375 \nQ 38.875 34.625 31.78125 34.625 \nz\nM 21.921875 38.8125 \nQ 15.578125 40.375 12.03125 44.71875 \nQ 8.5 49.078125 8.5 55.328125 \nQ 8.5 64.0625 14.71875 69.140625 \nQ 20.953125 74.21875 31.78125 74.21875 \nQ 42.671875 74.21875 48.875 69.140625 \nQ 55.078125 64.0625 55.078125 55.328125 \nQ 55.078125 49.078125 51.53125 44.71875 \nQ 48 40.375 41.703125 38.8125 \nQ 48.828125 37.15625 52.796875 32.3125 \nQ 56.78125 27.484375 56.78125 20.515625 \nQ 56.78125 9.90625 50.3125 4.234375 \nQ 43.84375 -1.421875 31.78125 -1.421875 \nQ 19.734375 -1.421875 13.25 4.234375 \nQ 6.78125 9.90625 6.78125 20.515625 \nQ 6.78125 27.484375 10.78125 32.3125 \nQ 14.796875 37.15625 21.921875 38.8125 \nz\nM 18.3125 54.390625 \nQ 18.3125 48.734375 21.84375 45.5625 \nQ 25.390625 42.390625 31.78125 42.390625 \nQ 38.140625 42.390625 41.71875 45.5625 \nQ 45.3125 48.734375 45.3125 54.390625 \nQ 45.3125 60.0625 41.71875 63.234375 \nQ 38.140625 66.40625 31.78125 66.40625 \nQ 25.390625 66.40625 21.84375 63.234375 \nQ 18.3125 60.0625 18.3125 54.390625 \nz\n\" id=\"DejaVuSans-56\"/>\n      </defs>\n      <g transform=\"translate(114.440875 243.037656)scale(0.1 -0.1)\">\n       <use xlink:href=\"#DejaVuSans-56\"/>\n      </g>\n     </g>\n    </g>\n    <g id=\"xtick_5\">\n     <g id=\"line2d_5\">\n      <g>\n       <use style=\"stroke:#000000;stroke-width:0.8;\" x=\"144.406125\" xlink:href=\"#m0e3b9e956d\" y=\"228.439219\"/>\n      </g>\n     </g>\n     <g id=\"text_5\">\n      <!-- 9 -->\n      <defs>\n       <path d=\"M 10.984375 1.515625 \nL 10.984375 10.5 \nQ 14.703125 8.734375 18.5 7.8125 \nQ 22.3125 6.890625 25.984375 6.890625 \nQ 35.75 6.890625 40.890625 13.453125 \nQ 46.046875 20.015625 46.78125 33.40625 \nQ 43.953125 29.203125 39.59375 26.953125 \nQ 35.25 24.703125 29.984375 24.703125 \nQ 19.046875 24.703125 12.671875 31.3125 \nQ 6.296875 37.9375 6.296875 49.421875 \nQ 6.296875 60.640625 12.9375 67.421875 \nQ 19.578125 74.21875 30.609375 74.21875 \nQ 43.265625 74.21875 49.921875 64.515625 \nQ 56.59375 54.828125 56.59375 36.375 \nQ 56.59375 19.140625 48.40625 8.859375 \nQ 40.234375 -1.421875 26.421875 -1.421875 \nQ 22.703125 -1.421875 18.890625 -0.6875 \nQ 15.09375 0.046875 10.984375 1.515625 \nz\nM 30.609375 32.421875 \nQ 37.25 32.421875 41.125 36.953125 \nQ 45.015625 41.5 45.015625 49.421875 \nQ 45.015625 57.28125 41.125 61.84375 \nQ 37.25 66.40625 30.609375 66.40625 \nQ 23.96875 66.40625 20.09375 61.84375 \nQ 16.21875 57.28125 16.21875 49.421875 \nQ 16.21875 41.5 20.09375 36.953125 \nQ 23.96875 32.421875 30.609375 32.421875 \nz\n\" id=\"DejaVuSans-57\"/>\n      </defs>\n      <g transform=\"translate(141.224875 243.037656)scale(0.1 -0.1)\">\n       <use xlink:href=\"#DejaVuSans-57\"/>\n      </g>\n     </g>\n    </g>\n    <g id=\"xtick_6\">\n     <g id=\"line2d_6\">\n      <g>\n       <use style=\"stroke:#000000;stroke-width:0.8;\" x=\"171.190125\" xlink:href=\"#m0e3b9e956d\" y=\"228.439219\"/>\n      </g>\n     </g>\n     <g id=\"text_6\">\n      <!-- 10 -->\n      <defs>\n       <path d=\"M 31.78125 66.40625 \nQ 24.171875 66.40625 20.328125 58.90625 \nQ 16.5 51.421875 16.5 36.375 \nQ 16.5 21.390625 20.328125 13.890625 \nQ 24.171875 6.390625 31.78125 6.390625 \nQ 39.453125 6.390625 43.28125 13.890625 \nQ 47.125 21.390625 47.125 36.375 \nQ 47.125 51.421875 43.28125 58.90625 \nQ 39.453125 66.40625 31.78125 66.40625 \nz\nM 31.78125 74.21875 \nQ 44.046875 74.21875 50.515625 64.515625 \nQ 56.984375 54.828125 56.984375 36.375 \nQ 56.984375 17.96875 50.515625 8.265625 \nQ 44.046875 -1.421875 31.78125 -1.421875 \nQ 19.53125 -1.421875 13.0625 8.265625 \nQ 6.59375 17.96875 6.59375 36.375 \nQ 6.59375 54.828125 13.0625 64.515625 \nQ 19.53125 74.21875 31.78125 74.21875 \nz\n\" id=\"DejaVuSans-48\"/>\n      </defs>\n      <g transform=\"translate(164.827625 243.037656)scale(0.1 -0.1)\">\n       <use xlink:href=\"#DejaVuSans-49\"/>\n       <use x=\"63.623047\" xlink:href=\"#DejaVuSans-48\"/>\n      </g>\n     </g>\n    </g>\n    <g id=\"xtick_7\">\n     <g id=\"line2d_7\">\n      <g>\n       <use style=\"stroke:#000000;stroke-width:0.8;\" x=\"197.974125\" xlink:href=\"#m0e3b9e956d\" y=\"228.439219\"/>\n      </g>\n     </g>\n     <g id=\"text_7\">\n      <!-- 11 -->\n      <g transform=\"translate(191.611625 243.037656)scale(0.1 -0.1)\">\n       <use xlink:href=\"#DejaVuSans-49\"/>\n       <use x=\"63.623047\" xlink:href=\"#DejaVuSans-49\"/>\n      </g>\n     </g>\n    </g>\n    <g id=\"xtick_8\">\n     <g id=\"line2d_8\">\n      <g>\n       <use style=\"stroke:#000000;stroke-width:0.8;\" x=\"224.758125\" xlink:href=\"#m0e3b9e956d\" y=\"228.439219\"/>\n      </g>\n     </g>\n     <g id=\"text_8\">\n      <!-- 13 -->\n      <defs>\n       <path d=\"M 40.578125 39.3125 \nQ 47.65625 37.796875 51.625 33 \nQ 55.609375 28.21875 55.609375 21.1875 \nQ 55.609375 10.40625 48.1875 4.484375 \nQ 40.765625 -1.421875 27.09375 -1.421875 \nQ 22.515625 -1.421875 17.65625 -0.515625 \nQ 12.796875 0.390625 7.625 2.203125 \nL 7.625 11.71875 \nQ 11.71875 9.328125 16.59375 8.109375 \nQ 21.484375 6.890625 26.8125 6.890625 \nQ 36.078125 6.890625 40.9375 10.546875 \nQ 45.796875 14.203125 45.796875 21.1875 \nQ 45.796875 27.640625 41.28125 31.265625 \nQ 36.765625 34.90625 28.71875 34.90625 \nL 20.21875 34.90625 \nL 20.21875 43.015625 \nL 29.109375 43.015625 \nQ 36.375 43.015625 40.234375 45.921875 \nQ 44.09375 48.828125 44.09375 54.296875 \nQ 44.09375 59.90625 40.109375 62.90625 \nQ 36.140625 65.921875 28.71875 65.921875 \nQ 24.65625 65.921875 20.015625 65.03125 \nQ 15.375 64.15625 9.8125 62.3125 \nL 9.8125 71.09375 \nQ 15.4375 72.65625 20.34375 73.4375 \nQ 25.25 74.21875 29.59375 74.21875 \nQ 40.828125 74.21875 47.359375 69.109375 \nQ 53.90625 64.015625 53.90625 55.328125 \nQ 53.90625 49.265625 50.4375 45.09375 \nQ 46.96875 40.921875 40.578125 39.3125 \nz\n\" id=\"DejaVuSans-51\"/>\n      </defs>\n      <g transform=\"translate(218.395625 243.037656)scale(0.1 -0.1)\">\n       <use xlink:href=\"#DejaVuSans-49\"/>\n       <use x=\"63.623047\" xlink:href=\"#DejaVuSans-51\"/>\n      </g>\n     </g>\n    </g>\n    <g id=\"xtick_9\">\n     <g id=\"line2d_9\">\n      <g>\n       <use style=\"stroke:#000000;stroke-width:0.8;\" x=\"251.542125\" xlink:href=\"#m0e3b9e956d\" y=\"228.439219\"/>\n      </g>\n     </g>\n     <g id=\"text_9\">\n      <!-- 14 -->\n      <defs>\n       <path d=\"M 37.796875 64.3125 \nL 12.890625 25.390625 \nL 37.796875 25.390625 \nz\nM 35.203125 72.90625 \nL 47.609375 72.90625 \nL 47.609375 25.390625 \nL 58.015625 25.390625 \nL 58.015625 17.1875 \nL 47.609375 17.1875 \nL 47.609375 0 \nL 37.796875 0 \nL 37.796875 17.1875 \nL 4.890625 17.1875 \nL 4.890625 26.703125 \nz\n\" id=\"DejaVuSans-52\"/>\n      </defs>\n      <g transform=\"translate(245.179625 243.037656)scale(0.1 -0.1)\">\n       <use xlink:href=\"#DejaVuSans-49\"/>\n       <use x=\"63.623047\" xlink:href=\"#DejaVuSans-52\"/>\n      </g>\n     </g>\n    </g>\n    <g id=\"xtick_10\">\n     <g id=\"line2d_10\">\n      <g>\n       <use style=\"stroke:#000000;stroke-width:0.8;\" x=\"278.326125\" xlink:href=\"#m0e3b9e956d\" y=\"228.439219\"/>\n      </g>\n     </g>\n     <g id=\"text_10\">\n      <!-- 15 -->\n      <defs>\n       <path d=\"M 10.796875 72.90625 \nL 49.515625 72.90625 \nL 49.515625 64.59375 \nL 19.828125 64.59375 \nL 19.828125 46.734375 \nQ 21.96875 47.46875 24.109375 47.828125 \nQ 26.265625 48.1875 28.421875 48.1875 \nQ 40.625 48.1875 47.75 41.5 \nQ 54.890625 34.8125 54.890625 23.390625 \nQ 54.890625 11.625 47.5625 5.09375 \nQ 40.234375 -1.421875 26.90625 -1.421875 \nQ 22.3125 -1.421875 17.546875 -0.640625 \nQ 12.796875 0.140625 7.71875 1.703125 \nL 7.71875 11.625 \nQ 12.109375 9.234375 16.796875 8.0625 \nQ 21.484375 6.890625 26.703125 6.890625 \nQ 35.15625 6.890625 40.078125 11.328125 \nQ 45.015625 15.765625 45.015625 23.390625 \nQ 45.015625 31 40.078125 35.4375 \nQ 35.15625 39.890625 26.703125 39.890625 \nQ 22.75 39.890625 18.8125 39.015625 \nQ 14.890625 38.140625 10.796875 36.28125 \nz\n\" id=\"DejaVuSans-53\"/>\n      </defs>\n      <g transform=\"translate(271.963625 243.037656)scale(0.1 -0.1)\">\n       <use xlink:href=\"#DejaVuSans-49\"/>\n       <use x=\"63.623047\" xlink:href=\"#DejaVuSans-53\"/>\n      </g>\n     </g>\n    </g>\n   </g>\n   <g id=\"matplotlib.axis_2\">\n    <g id=\"ytick_1\">\n     <g id=\"line2d_11\">\n      <defs>\n       <path d=\"M 0 0 \nL -3.5 0 \n\" id=\"m6c392eea71\" style=\"stroke:#000000;stroke-width:0.8;\"/>\n      </defs>\n      <g>\n       <use style=\"stroke:#000000;stroke-width:0.8;\" x=\"23.878125\" xlink:href=\"#m6c392eea71\" y=\"21.871219\"/>\n      </g>\n     </g>\n     <g id=\"text_11\">\n      <!-- 1 -->\n      <g transform=\"translate(14.798438 24.4345)rotate(-90)scale(0.1 -0.1)\">\n       <use xlink:href=\"#DejaVuSans-49\"/>\n      </g>\n     </g>\n    </g>\n    <g id=\"ytick_2\">\n     <g id=\"line2d_12\">\n      <g>\n       <use style=\"stroke:#000000;stroke-width:0.8;\" x=\"23.878125\" xlink:href=\"#m6c392eea71\" y=\"43.615219\"/>\n      </g>\n     </g>\n     <g id=\"text_12\">\n      <!-- 2 -->\n      <g transform=\"translate(14.798438 46.1785)rotate(-90)scale(0.1 -0.1)\">\n       <use xlink:href=\"#DejaVuSans-50\"/>\n      </g>\n     </g>\n    </g>\n    <g id=\"ytick_3\">\n     <g id=\"line2d_13\">\n      <g>\n       <use style=\"stroke:#000000;stroke-width:0.8;\" x=\"23.878125\" xlink:href=\"#m6c392eea71\" y=\"65.359219\"/>\n      </g>\n     </g>\n     <g id=\"text_13\">\n      <!-- 7 -->\n      <g transform=\"translate(14.798438 67.9225)rotate(-90)scale(0.1 -0.1)\">\n       <use xlink:href=\"#DejaVuSans-55\"/>\n      </g>\n     </g>\n    </g>\n    <g id=\"ytick_4\">\n     <g id=\"line2d_14\">\n      <g>\n       <use style=\"stroke:#000000;stroke-width:0.8;\" x=\"23.878125\" xlink:href=\"#m6c392eea71\" y=\"87.103219\"/>\n      </g>\n     </g>\n     <g id=\"text_14\">\n      <!-- 8 -->\n      <g transform=\"translate(14.798438 89.6665)rotate(-90)scale(0.1 -0.1)\">\n       <use xlink:href=\"#DejaVuSans-56\"/>\n      </g>\n     </g>\n    </g>\n    <g id=\"ytick_5\">\n     <g id=\"line2d_15\">\n      <g>\n       <use style=\"stroke:#000000;stroke-width:0.8;\" x=\"23.878125\" xlink:href=\"#m6c392eea71\" y=\"108.847219\"/>\n      </g>\n     </g>\n     <g id=\"text_15\">\n      <!-- 9 -->\n      <g transform=\"translate(14.798438 111.4105)rotate(-90)scale(0.1 -0.1)\">\n       <use xlink:href=\"#DejaVuSans-57\"/>\n      </g>\n     </g>\n    </g>\n    <g id=\"ytick_6\">\n     <g id=\"line2d_16\">\n      <g>\n       <use style=\"stroke:#000000;stroke-width:0.8;\" x=\"23.878125\" xlink:href=\"#m6c392eea71\" y=\"130.591219\"/>\n      </g>\n     </g>\n     <g id=\"text_16\">\n      <!-- 10 -->\n      <g transform=\"translate(14.798438 139.517)rotate(-90)scale(0.1 -0.1)\">\n       <use xlink:href=\"#DejaVuSans-49\"/>\n       <use x=\"63.623047\" xlink:href=\"#DejaVuSans-48\"/>\n      </g>\n     </g>\n    </g>\n    <g id=\"ytick_7\">\n     <g id=\"line2d_17\">\n      <g>\n       <use style=\"stroke:#000000;stroke-width:0.8;\" x=\"23.878125\" xlink:href=\"#m6c392eea71\" y=\"152.335219\"/>\n      </g>\n     </g>\n     <g id=\"text_17\">\n      <!-- 11 -->\n      <g transform=\"translate(14.798438 161.261)rotate(-90)scale(0.1 -0.1)\">\n       <use xlink:href=\"#DejaVuSans-49\"/>\n       <use x=\"63.623047\" xlink:href=\"#DejaVuSans-49\"/>\n      </g>\n     </g>\n    </g>\n    <g id=\"ytick_8\">\n     <g id=\"line2d_18\">\n      <g>\n       <use style=\"stroke:#000000;stroke-width:0.8;\" x=\"23.878125\" xlink:href=\"#m6c392eea71\" y=\"174.079219\"/>\n      </g>\n     </g>\n     <g id=\"text_18\">\n      <!-- 13 -->\n      <g transform=\"translate(14.798438 183.005)rotate(-90)scale(0.1 -0.1)\">\n       <use xlink:href=\"#DejaVuSans-49\"/>\n       <use x=\"63.623047\" xlink:href=\"#DejaVuSans-51\"/>\n      </g>\n     </g>\n    </g>\n    <g id=\"ytick_9\">\n     <g id=\"line2d_19\">\n      <g>\n       <use style=\"stroke:#000000;stroke-width:0.8;\" x=\"23.878125\" xlink:href=\"#m6c392eea71\" y=\"195.823219\"/>\n      </g>\n     </g>\n     <g id=\"text_19\">\n      <!-- 14 -->\n      <g transform=\"translate(14.798438 204.749)rotate(-90)scale(0.1 -0.1)\">\n       <use xlink:href=\"#DejaVuSans-49\"/>\n       <use x=\"63.623047\" xlink:href=\"#DejaVuSans-52\"/>\n      </g>\n     </g>\n    </g>\n    <g id=\"ytick_10\">\n     <g id=\"line2d_20\">\n      <g>\n       <use style=\"stroke:#000000;stroke-width:0.8;\" x=\"23.878125\" xlink:href=\"#m6c392eea71\" y=\"217.567219\"/>\n      </g>\n     </g>\n     <g id=\"text_20\">\n      <!-- 15 -->\n      <g transform=\"translate(14.798438 226.493)rotate(-90)scale(0.1 -0.1)\">\n       <use xlink:href=\"#DejaVuSans-49\"/>\n       <use x=\"63.623047\" xlink:href=\"#DejaVuSans-53\"/>\n      </g>\n     </g>\n    </g>\n   </g>\n  </g>\n  <g id=\"axes_2\">\n   <g id=\"patch_3\">\n    <path clip-path=\"url(#pad8113d5bb)\" d=\"M 308.458125 228.439219 \nL 308.458125 227.589844 \nL 308.458125 11.848594 \nL 308.458125 10.999219 \nL 319.330125 10.999219 \nL 319.330125 11.848594 \nL 319.330125 227.589844 \nL 319.330125 228.439219 \nz\n\" style=\"fill:#ffffff;stroke:#ffffff;stroke-linejoin:miter;stroke-width:0.01;\"/>\n   </g>\n   <image height=\"217\" id=\"imagec77300047c\" transform=\"scale(1 -1)translate(0 -217)\" width=\"11\" x=\"308\" xlink:href=\"data:image/png;base64,\niVBORw0KGgoAAAANSUhEUgAAAAsAAADZCAYAAAD2WsoCAAAABHNCSVQICAgIfAhkiAAAAV9JREFUaIHVmtsNAzEIwHjdEt1/zl5XwB+WaL4RMoakuag5z+eN5ZrM3MbS4ADBXSVlLq3AIhgoM7LhYRzx3OnZODF1qECxKTcym+3WbGgYE2g29sucDa3dEGO/zJOfBI82SMyG125vW61D6fB76qANgCGq05iRjSPMCIPtbpKZFbj+PPhbGySY2PAw5gYGazdhHoRxxIaGMe8+tbgH6wYGspFhMcMCAUYzZhIMRIvqEpwF0yS4SDDCgJnXsTFdXymzWCA47BhzNbABmQEGUifaGG02ELOmrsBVhmGENxteMLj3kMceqo5lBjdzlhncCyYIhsfMMMDPJsxMnixQZhhM3us0G0GeDT0bSWxEt4SBmuJ5ztEKFNtNMqM9CD55VRukgx4GssHOOtRBSx3c3RqGVyDK3Gj4bzCzdqN51jZs3pg60QYp8MbwZz9SZnP4iWfSbvQviysFsnZrZ51V4A9keCojHT7iJgAAAABJRU5ErkJggg==\" y=\"-11\"/>\n   <g id=\"matplotlib.axis_3\"/>\n   <g id=\"matplotlib.axis_4\">\n    <g id=\"ytick_11\">\n     <g id=\"line2d_21\">\n      <defs>\n       <path d=\"M 0 0 \nL 3.5 0 \n\" id=\"mf16cba88ca\" style=\"stroke:#000000;stroke-width:0.8;\"/>\n      </defs>\n      <g>\n       <use style=\"stroke:#000000;stroke-width:0.8;\" x=\"319.330125\" xlink:href=\"#mf16cba88ca\" y=\"224.133596\"/>\n      </g>\n     </g>\n     <g id=\"text_21\">\n      <!-- −0.2 -->\n      <defs>\n       <path d=\"M 10.59375 35.5 \nL 73.1875 35.5 \nL 73.1875 27.203125 \nL 10.59375 27.203125 \nz\n\" id=\"DejaVuSans-8722\"/>\n       <path d=\"M 10.6875 12.40625 \nL 21 12.40625 \nL 21 0 \nL 10.6875 0 \nz\n\" id=\"DejaVuSans-46\"/>\n      </defs>\n      <g transform=\"translate(326.330125 227.932815)scale(0.1 -0.1)\">\n       <use xlink:href=\"#DejaVuSans-8722\"/>\n       <use x=\"83.789062\" xlink:href=\"#DejaVuSans-48\"/>\n       <use x=\"147.412109\" xlink:href=\"#DejaVuSans-46\"/>\n       <use x=\"179.199219\" xlink:href=\"#DejaVuSans-50\"/>\n      </g>\n     </g>\n    </g>\n    <g id=\"ytick_12\">\n     <g id=\"line2d_22\">\n      <g>\n       <use style=\"stroke:#000000;stroke-width:0.8;\" x=\"319.330125\" xlink:href=\"#mf16cba88ca\" y=\"188.6112\"/>\n      </g>\n     </g>\n     <g id=\"text_22\">\n      <!-- 0.0 -->\n      <g transform=\"translate(326.330125 192.410419)scale(0.1 -0.1)\">\n       <use xlink:href=\"#DejaVuSans-48\"/>\n       <use x=\"63.623047\" xlink:href=\"#DejaVuSans-46\"/>\n       <use x=\"95.410156\" xlink:href=\"#DejaVuSans-48\"/>\n      </g>\n     </g>\n    </g>\n    <g id=\"ytick_13\">\n     <g id=\"line2d_23\">\n      <g>\n       <use style=\"stroke:#000000;stroke-width:0.8;\" x=\"319.330125\" xlink:href=\"#mf16cba88ca\" y=\"153.088804\"/>\n      </g>\n     </g>\n     <g id=\"text_23\">\n      <!-- 0.2 -->\n      <g transform=\"translate(326.330125 156.888023)scale(0.1 -0.1)\">\n       <use xlink:href=\"#DejaVuSans-48\"/>\n       <use x=\"63.623047\" xlink:href=\"#DejaVuSans-46\"/>\n       <use x=\"95.410156\" xlink:href=\"#DejaVuSans-50\"/>\n      </g>\n     </g>\n    </g>\n    <g id=\"ytick_14\">\n     <g id=\"line2d_24\">\n      <g>\n       <use style=\"stroke:#000000;stroke-width:0.8;\" x=\"319.330125\" xlink:href=\"#mf16cba88ca\" y=\"117.566408\"/>\n      </g>\n     </g>\n     <g id=\"text_24\">\n      <!-- 0.4 -->\n      <g transform=\"translate(326.330125 121.365626)scale(0.1 -0.1)\">\n       <use xlink:href=\"#DejaVuSans-48\"/>\n       <use x=\"63.623047\" xlink:href=\"#DejaVuSans-46\"/>\n       <use x=\"95.410156\" xlink:href=\"#DejaVuSans-52\"/>\n      </g>\n     </g>\n    </g>\n    <g id=\"ytick_15\">\n     <g id=\"line2d_25\">\n      <g>\n       <use style=\"stroke:#000000;stroke-width:0.8;\" x=\"319.330125\" xlink:href=\"#mf16cba88ca\" y=\"82.044011\"/>\n      </g>\n     </g>\n     <g id=\"text_25\">\n      <!-- 0.6 -->\n      <defs>\n       <path d=\"M 33.015625 40.375 \nQ 26.375 40.375 22.484375 35.828125 \nQ 18.609375 31.296875 18.609375 23.390625 \nQ 18.609375 15.53125 22.484375 10.953125 \nQ 26.375 6.390625 33.015625 6.390625 \nQ 39.65625 6.390625 43.53125 10.953125 \nQ 47.40625 15.53125 47.40625 23.390625 \nQ 47.40625 31.296875 43.53125 35.828125 \nQ 39.65625 40.375 33.015625 40.375 \nz\nM 52.59375 71.296875 \nL 52.59375 62.3125 \nQ 48.875 64.0625 45.09375 64.984375 \nQ 41.3125 65.921875 37.59375 65.921875 \nQ 27.828125 65.921875 22.671875 59.328125 \nQ 17.53125 52.734375 16.796875 39.40625 \nQ 19.671875 43.65625 24.015625 45.921875 \nQ 28.375 48.1875 33.59375 48.1875 \nQ 44.578125 48.1875 50.953125 41.515625 \nQ 57.328125 34.859375 57.328125 23.390625 \nQ 57.328125 12.15625 50.6875 5.359375 \nQ 44.046875 -1.421875 33.015625 -1.421875 \nQ 20.359375 -1.421875 13.671875 8.265625 \nQ 6.984375 17.96875 6.984375 36.375 \nQ 6.984375 53.65625 15.1875 63.9375 \nQ 23.390625 74.21875 37.203125 74.21875 \nQ 40.921875 74.21875 44.703125 73.484375 \nQ 48.484375 72.75 52.59375 71.296875 \nz\n\" id=\"DejaVuSans-54\"/>\n      </defs>\n      <g transform=\"translate(326.330125 85.84323)scale(0.1 -0.1)\">\n       <use xlink:href=\"#DejaVuSans-48\"/>\n       <use x=\"63.623047\" xlink:href=\"#DejaVuSans-46\"/>\n       <use x=\"95.410156\" xlink:href=\"#DejaVuSans-54\"/>\n      </g>\n     </g>\n    </g>\n    <g id=\"ytick_16\">\n     <g id=\"line2d_26\">\n      <g>\n       <use style=\"stroke:#000000;stroke-width:0.8;\" x=\"319.330125\" xlink:href=\"#mf16cba88ca\" y=\"46.521615\"/>\n      </g>\n     </g>\n     <g id=\"text_26\">\n      <!-- 0.8 -->\n      <g transform=\"translate(326.330125 50.320834)scale(0.1 -0.1)\">\n       <use xlink:href=\"#DejaVuSans-48\"/>\n       <use x=\"63.623047\" xlink:href=\"#DejaVuSans-46\"/>\n       <use x=\"95.410156\" xlink:href=\"#DejaVuSans-56\"/>\n      </g>\n     </g>\n    </g>\n    <g id=\"ytick_17\">\n     <g id=\"line2d_27\">\n      <g>\n       <use style=\"stroke:#000000;stroke-width:0.8;\" x=\"319.330125\" xlink:href=\"#mf16cba88ca\" y=\"10.999219\"/>\n      </g>\n     </g>\n     <g id=\"text_27\">\n      <!-- 1.0 -->\n      <g transform=\"translate(326.330125 14.798438)scale(0.1 -0.1)\">\n       <use xlink:href=\"#DejaVuSans-49\"/>\n       <use x=\"63.623047\" xlink:href=\"#DejaVuSans-46\"/>\n       <use x=\"95.410156\" xlink:href=\"#DejaVuSans-48\"/>\n      </g>\n     </g>\n    </g>\n   </g>\n   <g id=\"patch_4\">\n    <path d=\"M 308.458125 228.439219 \nL 308.458125 227.589844 \nL 308.458125 11.848594 \nL 308.458125 10.999219 \nL 319.330125 10.999219 \nL 319.330125 11.848594 \nL 319.330125 227.589844 \nL 319.330125 228.439219 \nz\n\" style=\"fill:none;\"/>\n   </g>\n  </g>\n </g>\n <defs>\n  <clipPath id=\"p66b72dfd17\">\n   <rect height=\"217.44\" width=\"267.84\" x=\"23.878125\" y=\"10.999219\"/>\n  </clipPath>\n  <clipPath id=\"pad8113d5bb\">\n   <rect height=\"217.44\" width=\"10.872\" x=\"308.458125\" y=\"10.999219\"/>\n  </clipPath>\n </defs>\n</svg>\n"
     },
     "metadata": {
      "needs_background": "light"
     }
    }
   ],
   "source": [
    "sns.heatmap(correlation)"
   ]
  }
 ]
}