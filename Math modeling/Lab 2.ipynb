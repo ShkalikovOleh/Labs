{
 "cells": [
  {
   "cell_type": "markdown",
   "metadata": {},
   "source": [
    "# Linear time-invariant system"
   ]
  },
  {
   "cell_type": "code",
   "execution_count": 1,
   "metadata": {},
   "outputs": [],
   "source": [
    "import numpy as np\n",
    "from matplotlib import pyplot as plt\n",
    "import scipy.signal as sig\n",
    "\n",
    "%matplotlib inline"
   ]
  },
  {
   "cell_type": "code",
   "execution_count": 2,
   "metadata": {},
   "outputs": [],
   "source": [
    "def plot(x, y):\n",
    "    plt.plot(x,y)\n",
    "    plt.grid()\n",
    "    plt.axhline(0, c='black')\n",
    "    plt.axvline(0, c='black')"
   ]
  },
  {
   "cell_type": "markdown",
   "metadata": {},
   "source": [
    "## Transfer function representation"
   ]
  },
  {
   "cell_type": "markdown",
   "metadata": {},
   "source": [
    "$$ A_n(\\frac{d}{dt})x = B_m(\\frac{d}{dt})y $$\n",
    "\n",
    "$$ \\mathcal{L}[f(t)] = \\int\\limits_0^{\\infty} f(t) e^{-st} dt $$\n",
    "\n",
    "$$ \\mathcal{L}[A_n(\\frac{d}{dt})x] = \\mathcal{L}[B_m(\\frac{d}{dt})y] $$\n",
    "\n",
    "$$ A_n(s)X = B_m(s)Y $$\n",
    "\n",
    "$$ H(s) = \\frac{A_n(s)}{B_m(s)} \\Rightarrow Y = HX $$"
   ]
  },
  {
   "cell_type": "code",
   "execution_count": 3,
   "metadata": {},
   "outputs": [],
   "source": [
    "numerator = np.array([1,-1,1,-1])\n",
    "denominator = np.array([1,0,1,4])"
   ]
  },
  {
   "cell_type": "code",
   "execution_count": 4,
   "metadata": {},
   "outputs": [
    {
     "name": "stdout",
     "output_type": "stream",
     "text": [
      "Physically implementable:  False\n"
     ]
    }
   ],
   "source": [
    "print(f\"Physically implementable:  {numerator.shape[0] < denominator.shape[0]}\")"
   ]
  },
  {
   "cell_type": "markdown",
   "metadata": {},
   "source": [
    "## ZPK representation"
   ]
  },
  {
   "cell_type": "markdown",
   "metadata": {},
   "source": [
    "$$ A_n(z_i) = 0 \\;\\;\\; B_m(p_i) = 0 $$\n",
    "\n",
    "$$ H(s) = k \\frac{\\prod\\limits_{i=1}^{n}(s-z_i)}{\\prod\\limits_{j=1}^{m}(s-p_j)} $$"
   ]
  },
  {
   "cell_type": "code",
   "execution_count": 5,
   "metadata": {},
   "outputs": [],
   "source": [
    "z,p,k = sig.tf2zpk(numerator, denominator)"
   ]
  },
  {
   "cell_type": "code",
   "execution_count": 6,
   "metadata": {},
   "outputs": [
    {
     "name": "stdout",
     "output_type": "stream",
     "text": [
      "Zeros: [1.00000000e+00+0.j 7.77156117e-16+1.j 7.77156117e-16-1.j]\n",
      "Poles: [ 0.68939835+1.55750129j  0.68939835-1.55750129j -1.3787967 +0.j        ]\n",
      "Koeff: 1.0\n",
      "System stability: False\n"
     ]
    }
   ],
   "source": [
    "print(f\"Zeros: {z}\")\n",
    "print(f\"Poles: {p}\")\n",
    "print(f\"Koeff: {k}\")\n",
    "\n",
    "print(f\"System stability: {~np.any(p.real >= 0)}\")"
   ]
  },
  {
   "cell_type": "code",
   "execution_count": 7,
   "metadata": {},
   "outputs": [
    {
     "data": {
      "image/png": "[encoded data removed]",
      "text/plain": [
       "<Figure size 432x288 with 1 Axes>"
      ]
     },
     "metadata": {
      "needs_background": "light"
     },
     "output_type": "display_data"
    }
   ],
   "source": [
    "w, nyquist = sig.freqresp((z, p, k))\n",
    "\n",
    "plot(nyquist.real, nyquist.imag)"
   ]
  },
  {
   "cell_type": "markdown",
   "metadata": {},
   "source": [
    "## Space-state representation"
   ]
  },
  {
   "cell_type": "markdown",
   "metadata": {},
   "source": [
    "$q$ - state variables\n",
    "\n",
    "$$\n",
    "\\begin{cases}\n",
    "    \\dfrac{dq}{dt} &= \\textbf{A}q + \\textbf{B}x \\\\\n",
    "    y &= \\textbf{C}q + \\textbf{D}x\n",
    "\\end{cases}\n",
    "$$"
   ]
  },
  {
   "cell_type": "code",
   "execution_count": 8,
   "metadata": {},
   "outputs": [],
   "source": [
    "A,B,C,D = sig.zpk2ss(z, p, k)"
   ]
  },
  {
   "cell_type": "code",
   "execution_count": 9,
   "metadata": {},
   "outputs": [],
   "source": [
    "def observable(A,B,C,D):    \n",
    "    T = np.empty_like(A) #Tinv\n",
    "    for i in range(A.shape[0]):\n",
    "        T[i, :] = (np.linalg.matrix_power(A, i).T @ C.T).reshape(A.shape[0])    \n",
    "    \n",
    "    An = T @ A @ np.linalg.inv(T)\n",
    "    Bn = T @ B\n",
    "    Cn = C @ np.linalg.inv(T)    \n",
    "    return An, Bn, Cn, D\n",
    "\n",
    "def controlable(A,B, C, D):\n",
    "    T = np.empty_like(A)\n",
    "    for i in range(A.shape[0]):\n",
    "        T[:, i] = (np.linalg.matrix_power(A, i) @ B).reshape(A.shape[0])    \n",
    "        \n",
    "    An = np.linalg.inv(T) @ A @ T\n",
    "    Bn = np.linalg.inv(T) @ B\n",
    "    Cn = C @ T\n",
    "    return An, Bn, Cn, D"
   ]
  },
  {
   "cell_type": "code",
   "execution_count": 10,
   "metadata": {},
   "outputs": [
    {
     "name": "stdout",
     "output_type": "stream",
     "text": [
      "Observable canonical form\n",
      "[[ 0.  1. -0.]\n",
      " [ 0. -0.  1.]\n",
      " [-4. -1.  0.]]\n"
     ]
    }
   ],
   "source": [
    "print(\"Observable canonical form\")\n",
    "print(np.round(observable(A, B, C, D)[0], 3))"
   ]
  },
  {
   "cell_type": "code",
   "execution_count": 11,
   "metadata": {},
   "outputs": [
    {
     "name": "stdout",
     "output_type": "stream",
     "text": [
      "Controlable canonical form\n"
     ]
    },
    {
     "data": {
      "text/plain": [
       "array([[ 0.,  0., -4.],\n",
       "       [ 1.,  0., -1.],\n",
       "       [ 0.,  1.,  0.]])"
      ]
     },
     "execution_count": 11,
     "metadata": {},
     "output_type": "execute_result"
    }
   ],
   "source": [
    "print(\"Controlable canonical form\")\n",
    "np.round(controlable(A, B, C, D)[0], 3)"
   ]
  },
  {
   "cell_type": "code",
   "execution_count": 12,
   "metadata": {},
   "outputs": [
    {
     "data": {
      "image/png": "[encoded data removed]",
      "text/plain": [
       "<Figure size 432x288 with 1 Axes>"
      ]
     },
     "metadata": {
      "needs_background": "light"
     },
     "output_type": "display_data"
    }
   ],
   "source": [
    "t,y = sig.impulse((A, B, C, D))\n",
    "\n",
    "plot(t, y)"
   ]
  },
  {
   "cell_type": "code",
   "execution_count": 13,
   "metadata": {},
   "outputs": [
    {
     "data": {
      "image/png": "[encoded data removed]",
      "text/plain": [
       "<Figure size 432x288 with 1 Axes>"
      ]
     },
     "metadata": {
      "needs_background": "light"
     },
     "output_type": "display_data"
    }
   ],
   "source": [
    "t, y = sig.step((A, B, C, D))\n",
    "\n",
    "plot(t,y)"
   ]
  }
 ],
 "metadata": {
  "kernelspec": {
   "display_name": "Python 3",
   "language": "python",
   "name": "python3"
  },
  "language_info": {
   "codemirror_mode": {
    "name": "ipython",
    "version": 3
   },
   "file_extension": ".py",
   "mimetype": "text/x-python",
   "name": "python",
   "nbconvert_exporter": "python",
   "pygments_lexer": "ipython3",
   "version": "3.8.2"
  }
 },
 "nbformat": 4,
 "nbformat_minor": 4
}
